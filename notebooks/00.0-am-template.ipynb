{
 "cells": [
  {
   "cell_type": "markdown",
   "metadata": {},
   "source": [
    "# Starter Template\n",
    "\n",
    "**Author:** Andrew L. Mackey\n",
    "\n",
    "**Description:**  This is a starter Jupyter Notebook template.  Feel free to copy and paste."
   ]
  },
  {
   "cell_type": "markdown",
   "metadata": {},
   "source": [
    "### Libraries and Initial Settings"
   ]
  },
  {
   "cell_type": "code",
   "execution_count": null,
   "metadata": {},
   "outputs": [],
   "source": [
    "import os\n",
    "\n",
    "while os.getcwd() != \"/\" and \"pyproject.toml\" not in os.listdir(os.getcwd()):\n",
    "\tos.chdir(\"..\")\n",
    "\tif os.getcwd() == \"/\":\n",
    "\t\tprint(\"COULD NOT FIND pyproject.toml.  Invalid project base file.\")\n",
    "\n",
    "\n",
    "print(\"Current Working Directory:  \", os.getcwd())"
   ]
  },
  {
   "cell_type": "code",
   "execution_count": null,
   "metadata": {},
   "outputs": [],
   "source": [
    "# Lab Imports Section\n",
    "\n",
    "# UAFS other project imports\n",
    "# pip install git+https://dev.cs.uafs.edu/almackey/uafscs-lab-aiconsole.git\n",
    "#from uafsailab.utils.uafslog import *\n",
    "\n",
    "# UAFS project code\n",
    "# Note:  if these fail, run:  \"pip install -e .\" from the project's root directory\n",
    "#        to install the current project to simplify imports.\n",
    "#from uafscs.configs import defaults as config\n",
    "import uafscs.utils.batch_utils\t    as butils\n",
    "import uafscs.utils.console_utils\tas cutils\n",
    "import uafscs.utils.data_utils\t\tas dutils\n",
    "import uafscs.utils.model_utils\t\tas mutils\n",
    "import uafscs.utils.train_utils\t\tas tutils\n",
    "\n",
    "# All Other Imports\n",
    "\n",
    "import pandas as pd\n",
    "import torch\n",
    "from torch.optim import AdamW"
   ]
  },
  {
   "cell_type": "markdown",
   "metadata": {},
   "source": [
    "### Code"
   ]
  },
  {
   "cell_type": "code",
   "execution_count": null,
   "metadata": {},
   "outputs": [],
   "source": [
    "filepath = \"data/processed/folder/val.csv\"\n",
    "df = pd.read_csv(filepath)"
   ]
  }
 ],
 "metadata": {
  "kernelspec": {
   "display_name": ".venv",
   "language": "python",
   "name": "python3"
  },
  "language_info": {
   "codemirror_mode": {
    "name": "ipython",
    "version": 3
   },
   "file_extension": ".py",
   "mimetype": "text/x-python",
   "name": "python",
   "nbconvert_exporter": "python",
   "pygments_lexer": "ipython3",
   "version": "3.11.9"
  }
 },
 "nbformat": 4,
 "nbformat_minor": 2
}
