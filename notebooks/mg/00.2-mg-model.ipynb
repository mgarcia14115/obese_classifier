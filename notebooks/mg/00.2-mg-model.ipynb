{
 "cells": [
  {
   "cell_type": "code",
   "execution_count": 1,
   "metadata": {},
   "outputs": [],
   "source": [
    "import torch \n",
    "import pandas as pd\n",
    "from sklearn.preprocessing import OneHotEncoder as ohe\n",
    "import numpy as np\n",
    "from sklearn.preprocessing import StandardScaler\n",
    "from sklearn.model_selection import train_test_split\n",
    "from sklearn.metrics import classification_report\n",
    "from tqdm import tqdm\n"
   ]
  },
  {
   "cell_type": "code",
   "execution_count": 2,
   "metadata": {},
   "outputs": [],
   "source": [
    "df = pd.read_csv(\"../../data/raw/obesity_prediction.csv\")"
   ]
  },
  {
   "cell_type": "code",
   "execution_count": 3,
   "metadata": {},
   "outputs": [
    {
     "data": {
      "text/html": [
       "<div>\n",
       "<style scoped>\n",
       "    .dataframe tbody tr th:only-of-type {\n",
       "        vertical-align: middle;\n",
       "    }\n",
       "\n",
       "    .dataframe tbody tr th {\n",
       "        vertical-align: top;\n",
       "    }\n",
       "\n",
       "    .dataframe thead th {\n",
       "        text-align: right;\n",
       "    }\n",
       "</style>\n",
       "<table border=\"1\" class=\"dataframe\">\n",
       "  <thead>\n",
       "    <tr style=\"text-align: right;\">\n",
       "      <th></th>\n",
       "      <th>Gender</th>\n",
       "      <th>Age</th>\n",
       "      <th>Height</th>\n",
       "      <th>Weight</th>\n",
       "      <th>family_history</th>\n",
       "      <th>FAVC</th>\n",
       "      <th>FCVC</th>\n",
       "      <th>NCP</th>\n",
       "      <th>CAEC</th>\n",
       "      <th>SMOKE</th>\n",
       "      <th>CH2O</th>\n",
       "      <th>SCC</th>\n",
       "      <th>FAF</th>\n",
       "      <th>TUE</th>\n",
       "      <th>CALC</th>\n",
       "      <th>MTRANS</th>\n",
       "      <th>Obesity</th>\n",
       "    </tr>\n",
       "  </thead>\n",
       "  <tbody>\n",
       "    <tr>\n",
       "      <th>0</th>\n",
       "      <td>Female</td>\n",
       "      <td>21.0</td>\n",
       "      <td>1.62</td>\n",
       "      <td>64.0</td>\n",
       "      <td>yes</td>\n",
       "      <td>no</td>\n",
       "      <td>2.0</td>\n",
       "      <td>3.0</td>\n",
       "      <td>Sometimes</td>\n",
       "      <td>no</td>\n",
       "      <td>2.0</td>\n",
       "      <td>no</td>\n",
       "      <td>0.0</td>\n",
       "      <td>1.0</td>\n",
       "      <td>no</td>\n",
       "      <td>Public_Transportation</td>\n",
       "      <td>Normal_Weight</td>\n",
       "    </tr>\n",
       "    <tr>\n",
       "      <th>1</th>\n",
       "      <td>Female</td>\n",
       "      <td>21.0</td>\n",
       "      <td>1.52</td>\n",
       "      <td>56.0</td>\n",
       "      <td>yes</td>\n",
       "      <td>no</td>\n",
       "      <td>3.0</td>\n",
       "      <td>3.0</td>\n",
       "      <td>Sometimes</td>\n",
       "      <td>yes</td>\n",
       "      <td>3.0</td>\n",
       "      <td>yes</td>\n",
       "      <td>3.0</td>\n",
       "      <td>0.0</td>\n",
       "      <td>Sometimes</td>\n",
       "      <td>Public_Transportation</td>\n",
       "      <td>Normal_Weight</td>\n",
       "    </tr>\n",
       "    <tr>\n",
       "      <th>2</th>\n",
       "      <td>Male</td>\n",
       "      <td>23.0</td>\n",
       "      <td>1.80</td>\n",
       "      <td>77.0</td>\n",
       "      <td>yes</td>\n",
       "      <td>no</td>\n",
       "      <td>2.0</td>\n",
       "      <td>3.0</td>\n",
       "      <td>Sometimes</td>\n",
       "      <td>no</td>\n",
       "      <td>2.0</td>\n",
       "      <td>no</td>\n",
       "      <td>2.0</td>\n",
       "      <td>1.0</td>\n",
       "      <td>Frequently</td>\n",
       "      <td>Public_Transportation</td>\n",
       "      <td>Normal_Weight</td>\n",
       "    </tr>\n",
       "  </tbody>\n",
       "</table>\n",
       "</div>"
      ],
      "text/plain": [
       "   Gender   Age  Height  Weight family_history FAVC  FCVC  NCP       CAEC  \\\n",
       "0  Female  21.0    1.62    64.0            yes   no   2.0  3.0  Sometimes   \n",
       "1  Female  21.0    1.52    56.0            yes   no   3.0  3.0  Sometimes   \n",
       "2    Male  23.0    1.80    77.0            yes   no   2.0  3.0  Sometimes   \n",
       "\n",
       "  SMOKE  CH2O  SCC  FAF  TUE        CALC                 MTRANS        Obesity  \n",
       "0    no   2.0   no  0.0  1.0          no  Public_Transportation  Normal_Weight  \n",
       "1   yes   3.0  yes  3.0  0.0   Sometimes  Public_Transportation  Normal_Weight  \n",
       "2    no   2.0   no  2.0  1.0  Frequently  Public_Transportation  Normal_Weight  "
      ]
     },
     "execution_count": 3,
     "metadata": {},
     "output_type": "execute_result"
    }
   ],
   "source": [
    "df.head(3)"
   ]
  },
  {
   "cell_type": "code",
   "execution_count": 4,
   "metadata": {},
   "outputs": [],
   "source": [
    "enc = ohe(handle_unknown=\"warn\",sparse_output=False).set_output(transform=\"pandas\")"
   ]
  },
  {
   "cell_type": "code",
   "execution_count": 5,
   "metadata": {},
   "outputs": [
    {
     "data": {
      "text/html": [
       "<style>#sk-container-id-1 {\n",
       "  /* Definition of color scheme common for light and dark mode */\n",
       "  --sklearn-color-text: #000;\n",
       "  --sklearn-color-text-muted: #666;\n",
       "  --sklearn-color-line: gray;\n",
       "  /* Definition of color scheme for unfitted estimators */\n",
       "  --sklearn-color-unfitted-level-0: #fff5e6;\n",
       "  --sklearn-color-unfitted-level-1: #f6e4d2;\n",
       "  --sklearn-color-unfitted-level-2: #ffe0b3;\n",
       "  --sklearn-color-unfitted-level-3: chocolate;\n",
       "  /* Definition of color scheme for fitted estimators */\n",
       "  --sklearn-color-fitted-level-0: #f0f8ff;\n",
       "  --sklearn-color-fitted-level-1: #d4ebff;\n",
       "  --sklearn-color-fitted-level-2: #b3dbfd;\n",
       "  --sklearn-color-fitted-level-3: cornflowerblue;\n",
       "\n",
       "  /* Specific color for light theme */\n",
       "  --sklearn-color-text-on-default-background: var(--sg-text-color, var(--theme-code-foreground, var(--jp-content-font-color1, black)));\n",
       "  --sklearn-color-background: var(--sg-background-color, var(--theme-background, var(--jp-layout-color0, white)));\n",
       "  --sklearn-color-border-box: var(--sg-text-color, var(--theme-code-foreground, var(--jp-content-font-color1, black)));\n",
       "  --sklearn-color-icon: #696969;\n",
       "\n",
       "  @media (prefers-color-scheme: dark) {\n",
       "    /* Redefinition of color scheme for dark theme */\n",
       "    --sklearn-color-text-on-default-background: var(--sg-text-color, var(--theme-code-foreground, var(--jp-content-font-color1, white)));\n",
       "    --sklearn-color-background: var(--sg-background-color, var(--theme-background, var(--jp-layout-color0, #111)));\n",
       "    --sklearn-color-border-box: var(--sg-text-color, var(--theme-code-foreground, var(--jp-content-font-color1, white)));\n",
       "    --sklearn-color-icon: #878787;\n",
       "  }\n",
       "}\n",
       "\n",
       "#sk-container-id-1 {\n",
       "  color: var(--sklearn-color-text);\n",
       "}\n",
       "\n",
       "#sk-container-id-1 pre {\n",
       "  padding: 0;\n",
       "}\n",
       "\n",
       "#sk-container-id-1 input.sk-hidden--visually {\n",
       "  border: 0;\n",
       "  clip: rect(1px 1px 1px 1px);\n",
       "  clip: rect(1px, 1px, 1px, 1px);\n",
       "  height: 1px;\n",
       "  margin: -1px;\n",
       "  overflow: hidden;\n",
       "  padding: 0;\n",
       "  position: absolute;\n",
       "  width: 1px;\n",
       "}\n",
       "\n",
       "#sk-container-id-1 div.sk-dashed-wrapped {\n",
       "  border: 1px dashed var(--sklearn-color-line);\n",
       "  margin: 0 0.4em 0.5em 0.4em;\n",
       "  box-sizing: border-box;\n",
       "  padding-bottom: 0.4em;\n",
       "  background-color: var(--sklearn-color-background);\n",
       "}\n",
       "\n",
       "#sk-container-id-1 div.sk-container {\n",
       "  /* jupyter's `normalize.less` sets `[hidden] { display: none; }`\n",
       "     but bootstrap.min.css set `[hidden] { display: none !important; }`\n",
       "     so we also need the `!important` here to be able to override the\n",
       "     default hidden behavior on the sphinx rendered scikit-learn.org.\n",
       "     See: https://github.com/scikit-learn/scikit-learn/issues/21755 */\n",
       "  display: inline-block !important;\n",
       "  position: relative;\n",
       "}\n",
       "\n",
       "#sk-container-id-1 div.sk-text-repr-fallback {\n",
       "  display: none;\n",
       "}\n",
       "\n",
       "div.sk-parallel-item,\n",
       "div.sk-serial,\n",
       "div.sk-item {\n",
       "  /* draw centered vertical line to link estimators */\n",
       "  background-image: linear-gradient(var(--sklearn-color-text-on-default-background), var(--sklearn-color-text-on-default-background));\n",
       "  background-size: 2px 100%;\n",
       "  background-repeat: no-repeat;\n",
       "  background-position: center center;\n",
       "}\n",
       "\n",
       "/* Parallel-specific style estimator block */\n",
       "\n",
       "#sk-container-id-1 div.sk-parallel-item::after {\n",
       "  content: \"\";\n",
       "  width: 100%;\n",
       "  border-bottom: 2px solid var(--sklearn-color-text-on-default-background);\n",
       "  flex-grow: 1;\n",
       "}\n",
       "\n",
       "#sk-container-id-1 div.sk-parallel {\n",
       "  display: flex;\n",
       "  align-items: stretch;\n",
       "  justify-content: center;\n",
       "  background-color: var(--sklearn-color-background);\n",
       "  position: relative;\n",
       "}\n",
       "\n",
       "#sk-container-id-1 div.sk-parallel-item {\n",
       "  display: flex;\n",
       "  flex-direction: column;\n",
       "}\n",
       "\n",
       "#sk-container-id-1 div.sk-parallel-item:first-child::after {\n",
       "  align-self: flex-end;\n",
       "  width: 50%;\n",
       "}\n",
       "\n",
       "#sk-container-id-1 div.sk-parallel-item:last-child::after {\n",
       "  align-self: flex-start;\n",
       "  width: 50%;\n",
       "}\n",
       "\n",
       "#sk-container-id-1 div.sk-parallel-item:only-child::after {\n",
       "  width: 0;\n",
       "}\n",
       "\n",
       "/* Serial-specific style estimator block */\n",
       "\n",
       "#sk-container-id-1 div.sk-serial {\n",
       "  display: flex;\n",
       "  flex-direction: column;\n",
       "  align-items: center;\n",
       "  background-color: var(--sklearn-color-background);\n",
       "  padding-right: 1em;\n",
       "  padding-left: 1em;\n",
       "}\n",
       "\n",
       "\n",
       "/* Toggleable style: style used for estimator/Pipeline/ColumnTransformer box that is\n",
       "clickable and can be expanded/collapsed.\n",
       "- Pipeline and ColumnTransformer use this feature and define the default style\n",
       "- Estimators will overwrite some part of the style using the `sk-estimator` class\n",
       "*/\n",
       "\n",
       "/* Pipeline and ColumnTransformer style (default) */\n",
       "\n",
       "#sk-container-id-1 div.sk-toggleable {\n",
       "  /* Default theme specific background. It is overwritten whether we have a\n",
       "  specific estimator or a Pipeline/ColumnTransformer */\n",
       "  background-color: var(--sklearn-color-background);\n",
       "}\n",
       "\n",
       "/* Toggleable label */\n",
       "#sk-container-id-1 label.sk-toggleable__label {\n",
       "  cursor: pointer;\n",
       "  display: flex;\n",
       "  width: 100%;\n",
       "  margin-bottom: 0;\n",
       "  padding: 0.5em;\n",
       "  box-sizing: border-box;\n",
       "  text-align: center;\n",
       "  align-items: start;\n",
       "  justify-content: space-between;\n",
       "  gap: 0.5em;\n",
       "}\n",
       "\n",
       "#sk-container-id-1 label.sk-toggleable__label .caption {\n",
       "  font-size: 0.6rem;\n",
       "  font-weight: lighter;\n",
       "  color: var(--sklearn-color-text-muted);\n",
       "}\n",
       "\n",
       "#sk-container-id-1 label.sk-toggleable__label-arrow:before {\n",
       "  /* Arrow on the left of the label */\n",
       "  content: \"▸\";\n",
       "  float: left;\n",
       "  margin-right: 0.25em;\n",
       "  color: var(--sklearn-color-icon);\n",
       "}\n",
       "\n",
       "#sk-container-id-1 label.sk-toggleable__label-arrow:hover:before {\n",
       "  color: var(--sklearn-color-text);\n",
       "}\n",
       "\n",
       "/* Toggleable content - dropdown */\n",
       "\n",
       "#sk-container-id-1 div.sk-toggleable__content {\n",
       "  max-height: 0;\n",
       "  max-width: 0;\n",
       "  overflow: hidden;\n",
       "  text-align: left;\n",
       "  /* unfitted */\n",
       "  background-color: var(--sklearn-color-unfitted-level-0);\n",
       "}\n",
       "\n",
       "#sk-container-id-1 div.sk-toggleable__content.fitted {\n",
       "  /* fitted */\n",
       "  background-color: var(--sklearn-color-fitted-level-0);\n",
       "}\n",
       "\n",
       "#sk-container-id-1 div.sk-toggleable__content pre {\n",
       "  margin: 0.2em;\n",
       "  border-radius: 0.25em;\n",
       "  color: var(--sklearn-color-text);\n",
       "  /* unfitted */\n",
       "  background-color: var(--sklearn-color-unfitted-level-0);\n",
       "}\n",
       "\n",
       "#sk-container-id-1 div.sk-toggleable__content.fitted pre {\n",
       "  /* unfitted */\n",
       "  background-color: var(--sklearn-color-fitted-level-0);\n",
       "}\n",
       "\n",
       "#sk-container-id-1 input.sk-toggleable__control:checked~div.sk-toggleable__content {\n",
       "  /* Expand drop-down */\n",
       "  max-height: 200px;\n",
       "  max-width: 100%;\n",
       "  overflow: auto;\n",
       "}\n",
       "\n",
       "#sk-container-id-1 input.sk-toggleable__control:checked~label.sk-toggleable__label-arrow:before {\n",
       "  content: \"▾\";\n",
       "}\n",
       "\n",
       "/* Pipeline/ColumnTransformer-specific style */\n",
       "\n",
       "#sk-container-id-1 div.sk-label input.sk-toggleable__control:checked~label.sk-toggleable__label {\n",
       "  color: var(--sklearn-color-text);\n",
       "  background-color: var(--sklearn-color-unfitted-level-2);\n",
       "}\n",
       "\n",
       "#sk-container-id-1 div.sk-label.fitted input.sk-toggleable__control:checked~label.sk-toggleable__label {\n",
       "  background-color: var(--sklearn-color-fitted-level-2);\n",
       "}\n",
       "\n",
       "/* Estimator-specific style */\n",
       "\n",
       "/* Colorize estimator box */\n",
       "#sk-container-id-1 div.sk-estimator input.sk-toggleable__control:checked~label.sk-toggleable__label {\n",
       "  /* unfitted */\n",
       "  background-color: var(--sklearn-color-unfitted-level-2);\n",
       "}\n",
       "\n",
       "#sk-container-id-1 div.sk-estimator.fitted input.sk-toggleable__control:checked~label.sk-toggleable__label {\n",
       "  /* fitted */\n",
       "  background-color: var(--sklearn-color-fitted-level-2);\n",
       "}\n",
       "\n",
       "#sk-container-id-1 div.sk-label label.sk-toggleable__label,\n",
       "#sk-container-id-1 div.sk-label label {\n",
       "  /* The background is the default theme color */\n",
       "  color: var(--sklearn-color-text-on-default-background);\n",
       "}\n",
       "\n",
       "/* On hover, darken the color of the background */\n",
       "#sk-container-id-1 div.sk-label:hover label.sk-toggleable__label {\n",
       "  color: var(--sklearn-color-text);\n",
       "  background-color: var(--sklearn-color-unfitted-level-2);\n",
       "}\n",
       "\n",
       "/* Label box, darken color on hover, fitted */\n",
       "#sk-container-id-1 div.sk-label.fitted:hover label.sk-toggleable__label.fitted {\n",
       "  color: var(--sklearn-color-text);\n",
       "  background-color: var(--sklearn-color-fitted-level-2);\n",
       "}\n",
       "\n",
       "/* Estimator label */\n",
       "\n",
       "#sk-container-id-1 div.sk-label label {\n",
       "  font-family: monospace;\n",
       "  font-weight: bold;\n",
       "  display: inline-block;\n",
       "  line-height: 1.2em;\n",
       "}\n",
       "\n",
       "#sk-container-id-1 div.sk-label-container {\n",
       "  text-align: center;\n",
       "}\n",
       "\n",
       "/* Estimator-specific */\n",
       "#sk-container-id-1 div.sk-estimator {\n",
       "  font-family: monospace;\n",
       "  border: 1px dotted var(--sklearn-color-border-box);\n",
       "  border-radius: 0.25em;\n",
       "  box-sizing: border-box;\n",
       "  margin-bottom: 0.5em;\n",
       "  /* unfitted */\n",
       "  background-color: var(--sklearn-color-unfitted-level-0);\n",
       "}\n",
       "\n",
       "#sk-container-id-1 div.sk-estimator.fitted {\n",
       "  /* fitted */\n",
       "  background-color: var(--sklearn-color-fitted-level-0);\n",
       "}\n",
       "\n",
       "/* on hover */\n",
       "#sk-container-id-1 div.sk-estimator:hover {\n",
       "  /* unfitted */\n",
       "  background-color: var(--sklearn-color-unfitted-level-2);\n",
       "}\n",
       "\n",
       "#sk-container-id-1 div.sk-estimator.fitted:hover {\n",
       "  /* fitted */\n",
       "  background-color: var(--sklearn-color-fitted-level-2);\n",
       "}\n",
       "\n",
       "/* Specification for estimator info (e.g. \"i\" and \"?\") */\n",
       "\n",
       "/* Common style for \"i\" and \"?\" */\n",
       "\n",
       ".sk-estimator-doc-link,\n",
       "a:link.sk-estimator-doc-link,\n",
       "a:visited.sk-estimator-doc-link {\n",
       "  float: right;\n",
       "  font-size: smaller;\n",
       "  line-height: 1em;\n",
       "  font-family: monospace;\n",
       "  background-color: var(--sklearn-color-background);\n",
       "  border-radius: 1em;\n",
       "  height: 1em;\n",
       "  width: 1em;\n",
       "  text-decoration: none !important;\n",
       "  margin-left: 0.5em;\n",
       "  text-align: center;\n",
       "  /* unfitted */\n",
       "  border: var(--sklearn-color-unfitted-level-1) 1pt solid;\n",
       "  color: var(--sklearn-color-unfitted-level-1);\n",
       "}\n",
       "\n",
       ".sk-estimator-doc-link.fitted,\n",
       "a:link.sk-estimator-doc-link.fitted,\n",
       "a:visited.sk-estimator-doc-link.fitted {\n",
       "  /* fitted */\n",
       "  border: var(--sklearn-color-fitted-level-1) 1pt solid;\n",
       "  color: var(--sklearn-color-fitted-level-1);\n",
       "}\n",
       "\n",
       "/* On hover */\n",
       "div.sk-estimator:hover .sk-estimator-doc-link:hover,\n",
       ".sk-estimator-doc-link:hover,\n",
       "div.sk-label-container:hover .sk-estimator-doc-link:hover,\n",
       ".sk-estimator-doc-link:hover {\n",
       "  /* unfitted */\n",
       "  background-color: var(--sklearn-color-unfitted-level-3);\n",
       "  color: var(--sklearn-color-background);\n",
       "  text-decoration: none;\n",
       "}\n",
       "\n",
       "div.sk-estimator.fitted:hover .sk-estimator-doc-link.fitted:hover,\n",
       ".sk-estimator-doc-link.fitted:hover,\n",
       "div.sk-label-container:hover .sk-estimator-doc-link.fitted:hover,\n",
       ".sk-estimator-doc-link.fitted:hover {\n",
       "  /* fitted */\n",
       "  background-color: var(--sklearn-color-fitted-level-3);\n",
       "  color: var(--sklearn-color-background);\n",
       "  text-decoration: none;\n",
       "}\n",
       "\n",
       "/* Span, style for the box shown on hovering the info icon */\n",
       ".sk-estimator-doc-link span {\n",
       "  display: none;\n",
       "  z-index: 9999;\n",
       "  position: relative;\n",
       "  font-weight: normal;\n",
       "  right: .2ex;\n",
       "  padding: .5ex;\n",
       "  margin: .5ex;\n",
       "  width: min-content;\n",
       "  min-width: 20ex;\n",
       "  max-width: 50ex;\n",
       "  color: var(--sklearn-color-text);\n",
       "  box-shadow: 2pt 2pt 4pt #999;\n",
       "  /* unfitted */\n",
       "  background: var(--sklearn-color-unfitted-level-0);\n",
       "  border: .5pt solid var(--sklearn-color-unfitted-level-3);\n",
       "}\n",
       "\n",
       ".sk-estimator-doc-link.fitted span {\n",
       "  /* fitted */\n",
       "  background: var(--sklearn-color-fitted-level-0);\n",
       "  border: var(--sklearn-color-fitted-level-3);\n",
       "}\n",
       "\n",
       ".sk-estimator-doc-link:hover span {\n",
       "  display: block;\n",
       "}\n",
       "\n",
       "/* \"?\"-specific style due to the `<a>` HTML tag */\n",
       "\n",
       "#sk-container-id-1 a.estimator_doc_link {\n",
       "  float: right;\n",
       "  font-size: 1rem;\n",
       "  line-height: 1em;\n",
       "  font-family: monospace;\n",
       "  background-color: var(--sklearn-color-background);\n",
       "  border-radius: 1rem;\n",
       "  height: 1rem;\n",
       "  width: 1rem;\n",
       "  text-decoration: none;\n",
       "  /* unfitted */\n",
       "  color: var(--sklearn-color-unfitted-level-1);\n",
       "  border: var(--sklearn-color-unfitted-level-1) 1pt solid;\n",
       "}\n",
       "\n",
       "#sk-container-id-1 a.estimator_doc_link.fitted {\n",
       "  /* fitted */\n",
       "  border: var(--sklearn-color-fitted-level-1) 1pt solid;\n",
       "  color: var(--sklearn-color-fitted-level-1);\n",
       "}\n",
       "\n",
       "/* On hover */\n",
       "#sk-container-id-1 a.estimator_doc_link:hover {\n",
       "  /* unfitted */\n",
       "  background-color: var(--sklearn-color-unfitted-level-3);\n",
       "  color: var(--sklearn-color-background);\n",
       "  text-decoration: none;\n",
       "}\n",
       "\n",
       "#sk-container-id-1 a.estimator_doc_link.fitted:hover {\n",
       "  /* fitted */\n",
       "  background-color: var(--sklearn-color-fitted-level-3);\n",
       "}\n",
       "</style><div id=\"sk-container-id-1\" class=\"sk-top-container\"><div class=\"sk-text-repr-fallback\"><pre>OneHotEncoder(handle_unknown=&#x27;warn&#x27;, sparse_output=False)</pre><b>In a Jupyter environment, please rerun this cell to show the HTML representation or trust the notebook. <br />On GitHub, the HTML representation is unable to render, please try loading this page with nbviewer.org.</b></div><div class=\"sk-container\" hidden><div class=\"sk-item\"><div class=\"sk-estimator fitted sk-toggleable\"><input class=\"sk-toggleable__control sk-hidden--visually\" id=\"sk-estimator-id-1\" type=\"checkbox\" checked><label for=\"sk-estimator-id-1\" class=\"sk-toggleable__label fitted sk-toggleable__label-arrow\"><div><div>OneHotEncoder</div></div><div><a class=\"sk-estimator-doc-link fitted\" rel=\"noreferrer\" target=\"_blank\" href=\"https://scikit-learn.org/1.6/modules/generated/sklearn.preprocessing.OneHotEncoder.html\">?<span>Documentation for OneHotEncoder</span></a><span class=\"sk-estimator-doc-link fitted\">i<span>Fitted</span></span></div></label><div class=\"sk-toggleable__content fitted\"><pre>OneHotEncoder(handle_unknown=&#x27;warn&#x27;, sparse_output=False)</pre></div> </div></div></div></div>"
      ],
      "text/plain": [
       "OneHotEncoder(handle_unknown='warn', sparse_output=False)"
      ]
     },
     "execution_count": 5,
     "metadata": {},
     "output_type": "execute_result"
    }
   ],
   "source": [
    "enc.fit(np.asarray(df[\"Gender\"]).reshape(-1,1))"
   ]
  },
  {
   "cell_type": "code",
   "execution_count": 6,
   "metadata": {},
   "outputs": [
    {
     "data": {
      "text/plain": [
       "[array(['Female', 'Male'], dtype=object)]"
      ]
     },
     "execution_count": 6,
     "metadata": {},
     "output_type": "execute_result"
    }
   ],
   "source": [
    "enc.categories_"
   ]
  },
  {
   "cell_type": "code",
   "execution_count": 7,
   "metadata": {},
   "outputs": [],
   "source": [
    "gender_enc_df = enc.transform(np.asarray(df[\"Gender\"]).reshape(-1,1))"
   ]
  },
  {
   "cell_type": "code",
   "execution_count": 8,
   "metadata": {},
   "outputs": [
    {
     "data": {
      "text/html": [
       "<div>\n",
       "<style scoped>\n",
       "    .dataframe tbody tr th:only-of-type {\n",
       "        vertical-align: middle;\n",
       "    }\n",
       "\n",
       "    .dataframe tbody tr th {\n",
       "        vertical-align: top;\n",
       "    }\n",
       "\n",
       "    .dataframe thead th {\n",
       "        text-align: right;\n",
       "    }\n",
       "</style>\n",
       "<table border=\"1\" class=\"dataframe\">\n",
       "  <thead>\n",
       "    <tr style=\"text-align: right;\">\n",
       "      <th></th>\n",
       "      <th>x0_Female</th>\n",
       "      <th>x0_Male</th>\n",
       "    </tr>\n",
       "  </thead>\n",
       "  <tbody>\n",
       "    <tr>\n",
       "      <th>0</th>\n",
       "      <td>1.0</td>\n",
       "      <td>0.0</td>\n",
       "    </tr>\n",
       "    <tr>\n",
       "      <th>1</th>\n",
       "      <td>1.0</td>\n",
       "      <td>0.0</td>\n",
       "    </tr>\n",
       "    <tr>\n",
       "      <th>2</th>\n",
       "      <td>0.0</td>\n",
       "      <td>1.0</td>\n",
       "    </tr>\n",
       "    <tr>\n",
       "      <th>3</th>\n",
       "      <td>0.0</td>\n",
       "      <td>1.0</td>\n",
       "    </tr>\n",
       "    <tr>\n",
       "      <th>4</th>\n",
       "      <td>0.0</td>\n",
       "      <td>1.0</td>\n",
       "    </tr>\n",
       "    <tr>\n",
       "      <th>...</th>\n",
       "      <td>...</td>\n",
       "      <td>...</td>\n",
       "    </tr>\n",
       "    <tr>\n",
       "      <th>2106</th>\n",
       "      <td>1.0</td>\n",
       "      <td>0.0</td>\n",
       "    </tr>\n",
       "    <tr>\n",
       "      <th>2107</th>\n",
       "      <td>1.0</td>\n",
       "      <td>0.0</td>\n",
       "    </tr>\n",
       "    <tr>\n",
       "      <th>2108</th>\n",
       "      <td>1.0</td>\n",
       "      <td>0.0</td>\n",
       "    </tr>\n",
       "    <tr>\n",
       "      <th>2109</th>\n",
       "      <td>1.0</td>\n",
       "      <td>0.0</td>\n",
       "    </tr>\n",
       "    <tr>\n",
       "      <th>2110</th>\n",
       "      <td>1.0</td>\n",
       "      <td>0.0</td>\n",
       "    </tr>\n",
       "  </tbody>\n",
       "</table>\n",
       "<p>2111 rows × 2 columns</p>\n",
       "</div>"
      ],
      "text/plain": [
       "      x0_Female  x0_Male\n",
       "0           1.0      0.0\n",
       "1           1.0      0.0\n",
       "2           0.0      1.0\n",
       "3           0.0      1.0\n",
       "4           0.0      1.0\n",
       "...         ...      ...\n",
       "2106        1.0      0.0\n",
       "2107        1.0      0.0\n",
       "2108        1.0      0.0\n",
       "2109        1.0      0.0\n",
       "2110        1.0      0.0\n",
       "\n",
       "[2111 rows x 2 columns]"
      ]
     },
     "execution_count": 8,
     "metadata": {},
     "output_type": "execute_result"
    }
   ],
   "source": [
    "gender_enc_df"
   ]
  },
  {
   "cell_type": "code",
   "execution_count": 9,
   "metadata": {},
   "outputs": [],
   "source": [
    "gender_enc_df.columns =[\"female\",\"male\"]"
   ]
  },
  {
   "cell_type": "code",
   "execution_count": 10,
   "metadata": {},
   "outputs": [
    {
     "data": {
      "text/html": [
       "<div>\n",
       "<style scoped>\n",
       "    .dataframe tbody tr th:only-of-type {\n",
       "        vertical-align: middle;\n",
       "    }\n",
       "\n",
       "    .dataframe tbody tr th {\n",
       "        vertical-align: top;\n",
       "    }\n",
       "\n",
       "    .dataframe thead th {\n",
       "        text-align: right;\n",
       "    }\n",
       "</style>\n",
       "<table border=\"1\" class=\"dataframe\">\n",
       "  <thead>\n",
       "    <tr style=\"text-align: right;\">\n",
       "      <th></th>\n",
       "      <th>female</th>\n",
       "      <th>male</th>\n",
       "    </tr>\n",
       "  </thead>\n",
       "  <tbody>\n",
       "    <tr>\n",
       "      <th>0</th>\n",
       "      <td>1.0</td>\n",
       "      <td>0.0</td>\n",
       "    </tr>\n",
       "    <tr>\n",
       "      <th>1</th>\n",
       "      <td>1.0</td>\n",
       "      <td>0.0</td>\n",
       "    </tr>\n",
       "    <tr>\n",
       "      <th>2</th>\n",
       "      <td>0.0</td>\n",
       "      <td>1.0</td>\n",
       "    </tr>\n",
       "    <tr>\n",
       "      <th>3</th>\n",
       "      <td>0.0</td>\n",
       "      <td>1.0</td>\n",
       "    </tr>\n",
       "    <tr>\n",
       "      <th>4</th>\n",
       "      <td>0.0</td>\n",
       "      <td>1.0</td>\n",
       "    </tr>\n",
       "  </tbody>\n",
       "</table>\n",
       "</div>"
      ],
      "text/plain": [
       "   female  male\n",
       "0     1.0   0.0\n",
       "1     1.0   0.0\n",
       "2     0.0   1.0\n",
       "3     0.0   1.0\n",
       "4     0.0   1.0"
      ]
     },
     "execution_count": 10,
     "metadata": {},
     "output_type": "execute_result"
    }
   ],
   "source": [
    "gender_enc_df.head()"
   ]
  },
  {
   "cell_type": "code",
   "execution_count": 11,
   "metadata": {},
   "outputs": [],
   "source": [
    "enc2 = ohe(sparse_output=False,handle_unknown=\"ignore\").set_output(transform=\"pandas\")"
   ]
  },
  {
   "cell_type": "code",
   "execution_count": 12,
   "metadata": {},
   "outputs": [],
   "source": [
    "df_mtran = enc2.fit_transform(np.asarray(df[\"MTRANS\"]).reshape(-1,1))"
   ]
  },
  {
   "cell_type": "code",
   "execution_count": 13,
   "metadata": {},
   "outputs": [
    {
     "data": {
      "text/html": [
       "<div>\n",
       "<style scoped>\n",
       "    .dataframe tbody tr th:only-of-type {\n",
       "        vertical-align: middle;\n",
       "    }\n",
       "\n",
       "    .dataframe tbody tr th {\n",
       "        vertical-align: top;\n",
       "    }\n",
       "\n",
       "    .dataframe thead th {\n",
       "        text-align: right;\n",
       "    }\n",
       "</style>\n",
       "<table border=\"1\" class=\"dataframe\">\n",
       "  <thead>\n",
       "    <tr style=\"text-align: right;\">\n",
       "      <th></th>\n",
       "      <th>x0_Automobile</th>\n",
       "      <th>x0_Bike</th>\n",
       "      <th>x0_Motorbike</th>\n",
       "      <th>x0_Public_Transportation</th>\n",
       "      <th>x0_Walking</th>\n",
       "    </tr>\n",
       "  </thead>\n",
       "  <tbody>\n",
       "    <tr>\n",
       "      <th>0</th>\n",
       "      <td>0.0</td>\n",
       "      <td>0.0</td>\n",
       "      <td>0.0</td>\n",
       "      <td>1.0</td>\n",
       "      <td>0.0</td>\n",
       "    </tr>\n",
       "    <tr>\n",
       "      <th>1</th>\n",
       "      <td>0.0</td>\n",
       "      <td>0.0</td>\n",
       "      <td>0.0</td>\n",
       "      <td>1.0</td>\n",
       "      <td>0.0</td>\n",
       "    </tr>\n",
       "    <tr>\n",
       "      <th>2</th>\n",
       "      <td>0.0</td>\n",
       "      <td>0.0</td>\n",
       "      <td>0.0</td>\n",
       "      <td>1.0</td>\n",
       "      <td>0.0</td>\n",
       "    </tr>\n",
       "    <tr>\n",
       "      <th>3</th>\n",
       "      <td>0.0</td>\n",
       "      <td>0.0</td>\n",
       "      <td>0.0</td>\n",
       "      <td>0.0</td>\n",
       "      <td>1.0</td>\n",
       "    </tr>\n",
       "    <tr>\n",
       "      <th>4</th>\n",
       "      <td>0.0</td>\n",
       "      <td>0.0</td>\n",
       "      <td>0.0</td>\n",
       "      <td>1.0</td>\n",
       "      <td>0.0</td>\n",
       "    </tr>\n",
       "  </tbody>\n",
       "</table>\n",
       "</div>"
      ],
      "text/plain": [
       "   x0_Automobile  x0_Bike  x0_Motorbike  x0_Public_Transportation  x0_Walking\n",
       "0            0.0      0.0           0.0                       1.0         0.0\n",
       "1            0.0      0.0           0.0                       1.0         0.0\n",
       "2            0.0      0.0           0.0                       1.0         0.0\n",
       "3            0.0      0.0           0.0                       0.0         1.0\n",
       "4            0.0      0.0           0.0                       1.0         0.0"
      ]
     },
     "execution_count": 13,
     "metadata": {},
     "output_type": "execute_result"
    }
   ],
   "source": [
    "df_mtran.head()"
   ]
  },
  {
   "cell_type": "code",
   "execution_count": 14,
   "metadata": {},
   "outputs": [
    {
     "data": {
      "text/plain": [
       "[array(['Automobile', 'Bike', 'Motorbike', 'Public_Transportation',\n",
       "        'Walking'], dtype=object)]"
      ]
     },
     "execution_count": 14,
     "metadata": {},
     "output_type": "execute_result"
    }
   ],
   "source": [
    "enc2.categories_"
   ]
  },
  {
   "cell_type": "code",
   "execution_count": 15,
   "metadata": {},
   "outputs": [],
   "source": [
    "df_mtran.columns = [\"automobile\",\"bike\",\"motorbike\",\"public_transportation\",\"walking\"]"
   ]
  },
  {
   "cell_type": "code",
   "execution_count": 16,
   "metadata": {},
   "outputs": [
    {
     "data": {
      "text/html": [
       "<div>\n",
       "<style scoped>\n",
       "    .dataframe tbody tr th:only-of-type {\n",
       "        vertical-align: middle;\n",
       "    }\n",
       "\n",
       "    .dataframe tbody tr th {\n",
       "        vertical-align: top;\n",
       "    }\n",
       "\n",
       "    .dataframe thead th {\n",
       "        text-align: right;\n",
       "    }\n",
       "</style>\n",
       "<table border=\"1\" class=\"dataframe\">\n",
       "  <thead>\n",
       "    <tr style=\"text-align: right;\">\n",
       "      <th></th>\n",
       "      <th>automobile</th>\n",
       "      <th>bike</th>\n",
       "      <th>motorbike</th>\n",
       "      <th>public_transportation</th>\n",
       "      <th>walking</th>\n",
       "    </tr>\n",
       "  </thead>\n",
       "  <tbody>\n",
       "    <tr>\n",
       "      <th>0</th>\n",
       "      <td>0.0</td>\n",
       "      <td>0.0</td>\n",
       "      <td>0.0</td>\n",
       "      <td>1.0</td>\n",
       "      <td>0.0</td>\n",
       "    </tr>\n",
       "    <tr>\n",
       "      <th>1</th>\n",
       "      <td>0.0</td>\n",
       "      <td>0.0</td>\n",
       "      <td>0.0</td>\n",
       "      <td>1.0</td>\n",
       "      <td>0.0</td>\n",
       "    </tr>\n",
       "    <tr>\n",
       "      <th>2</th>\n",
       "      <td>0.0</td>\n",
       "      <td>0.0</td>\n",
       "      <td>0.0</td>\n",
       "      <td>1.0</td>\n",
       "      <td>0.0</td>\n",
       "    </tr>\n",
       "  </tbody>\n",
       "</table>\n",
       "</div>"
      ],
      "text/plain": [
       "   automobile  bike  motorbike  public_transportation  walking\n",
       "0         0.0   0.0        0.0                    1.0      0.0\n",
       "1         0.0   0.0        0.0                    1.0      0.0\n",
       "2         0.0   0.0        0.0                    1.0      0.0"
      ]
     },
     "execution_count": 16,
     "metadata": {},
     "output_type": "execute_result"
    }
   ],
   "source": [
    "df_mtran.head(3)"
   ]
  },
  {
   "cell_type": "code",
   "execution_count": 17,
   "metadata": {},
   "outputs": [
    {
     "data": {
      "text/html": [
       "<div>\n",
       "<style scoped>\n",
       "    .dataframe tbody tr th:only-of-type {\n",
       "        vertical-align: middle;\n",
       "    }\n",
       "\n",
       "    .dataframe tbody tr th {\n",
       "        vertical-align: top;\n",
       "    }\n",
       "\n",
       "    .dataframe thead th {\n",
       "        text-align: right;\n",
       "    }\n",
       "</style>\n",
       "<table border=\"1\" class=\"dataframe\">\n",
       "  <thead>\n",
       "    <tr style=\"text-align: right;\">\n",
       "      <th></th>\n",
       "      <th>automobile</th>\n",
       "      <th>bike</th>\n",
       "      <th>motorbike</th>\n",
       "      <th>public_transportation</th>\n",
       "      <th>walking</th>\n",
       "    </tr>\n",
       "  </thead>\n",
       "  <tbody>\n",
       "    <tr>\n",
       "      <th>0</th>\n",
       "      <td>0.0</td>\n",
       "      <td>0.0</td>\n",
       "      <td>0.0</td>\n",
       "      <td>1.0</td>\n",
       "      <td>0.0</td>\n",
       "    </tr>\n",
       "    <tr>\n",
       "      <th>1</th>\n",
       "      <td>0.0</td>\n",
       "      <td>0.0</td>\n",
       "      <td>0.0</td>\n",
       "      <td>1.0</td>\n",
       "      <td>0.0</td>\n",
       "    </tr>\n",
       "    <tr>\n",
       "      <th>2</th>\n",
       "      <td>0.0</td>\n",
       "      <td>0.0</td>\n",
       "      <td>0.0</td>\n",
       "      <td>1.0</td>\n",
       "      <td>0.0</td>\n",
       "    </tr>\n",
       "    <tr>\n",
       "      <th>3</th>\n",
       "      <td>0.0</td>\n",
       "      <td>0.0</td>\n",
       "      <td>0.0</td>\n",
       "      <td>0.0</td>\n",
       "      <td>1.0</td>\n",
       "    </tr>\n",
       "    <tr>\n",
       "      <th>4</th>\n",
       "      <td>0.0</td>\n",
       "      <td>0.0</td>\n",
       "      <td>0.0</td>\n",
       "      <td>1.0</td>\n",
       "      <td>0.0</td>\n",
       "    </tr>\n",
       "  </tbody>\n",
       "</table>\n",
       "</div>"
      ],
      "text/plain": [
       "   automobile  bike  motorbike  public_transportation  walking\n",
       "0         0.0   0.0        0.0                    1.0      0.0\n",
       "1         0.0   0.0        0.0                    1.0      0.0\n",
       "2         0.0   0.0        0.0                    1.0      0.0\n",
       "3         0.0   0.0        0.0                    0.0      1.0\n",
       "4         0.0   0.0        0.0                    1.0      0.0"
      ]
     },
     "execution_count": 17,
     "metadata": {},
     "output_type": "execute_result"
    }
   ],
   "source": [
    "df_mtran.head()"
   ]
  },
  {
   "cell_type": "code",
   "execution_count": 18,
   "metadata": {},
   "outputs": [
    {
     "data": {
      "text/html": [
       "<div>\n",
       "<style scoped>\n",
       "    .dataframe tbody tr th:only-of-type {\n",
       "        vertical-align: middle;\n",
       "    }\n",
       "\n",
       "    .dataframe tbody tr th {\n",
       "        vertical-align: top;\n",
       "    }\n",
       "\n",
       "    .dataframe thead th {\n",
       "        text-align: right;\n",
       "    }\n",
       "</style>\n",
       "<table border=\"1\" class=\"dataframe\">\n",
       "  <thead>\n",
       "    <tr style=\"text-align: right;\">\n",
       "      <th></th>\n",
       "      <th>female</th>\n",
       "      <th>male</th>\n",
       "    </tr>\n",
       "  </thead>\n",
       "  <tbody>\n",
       "    <tr>\n",
       "      <th>0</th>\n",
       "      <td>1.0</td>\n",
       "      <td>0.0</td>\n",
       "    </tr>\n",
       "    <tr>\n",
       "      <th>1</th>\n",
       "      <td>1.0</td>\n",
       "      <td>0.0</td>\n",
       "    </tr>\n",
       "    <tr>\n",
       "      <th>2</th>\n",
       "      <td>0.0</td>\n",
       "      <td>1.0</td>\n",
       "    </tr>\n",
       "    <tr>\n",
       "      <th>3</th>\n",
       "      <td>0.0</td>\n",
       "      <td>1.0</td>\n",
       "    </tr>\n",
       "    <tr>\n",
       "      <th>4</th>\n",
       "      <td>0.0</td>\n",
       "      <td>1.0</td>\n",
       "    </tr>\n",
       "  </tbody>\n",
       "</table>\n",
       "</div>"
      ],
      "text/plain": [
       "   female  male\n",
       "0     1.0   0.0\n",
       "1     1.0   0.0\n",
       "2     0.0   1.0\n",
       "3     0.0   1.0\n",
       "4     0.0   1.0"
      ]
     },
     "execution_count": 18,
     "metadata": {},
     "output_type": "execute_result"
    }
   ],
   "source": [
    "gender_enc_df.head()"
   ]
  },
  {
   "cell_type": "code",
   "execution_count": 19,
   "metadata": {},
   "outputs": [],
   "source": [
    "df_x = pd.concat(objs=[gender_enc_df,df_mtran,df[\"Age\"],df[\"Height\"]],axis=1)"
   ]
  },
  {
   "cell_type": "code",
   "execution_count": 20,
   "metadata": {},
   "outputs": [
    {
     "data": {
      "text/html": [
       "<div>\n",
       "<style scoped>\n",
       "    .dataframe tbody tr th:only-of-type {\n",
       "        vertical-align: middle;\n",
       "    }\n",
       "\n",
       "    .dataframe tbody tr th {\n",
       "        vertical-align: top;\n",
       "    }\n",
       "\n",
       "    .dataframe thead th {\n",
       "        text-align: right;\n",
       "    }\n",
       "</style>\n",
       "<table border=\"1\" class=\"dataframe\">\n",
       "  <thead>\n",
       "    <tr style=\"text-align: right;\">\n",
       "      <th></th>\n",
       "      <th>female</th>\n",
       "      <th>male</th>\n",
       "      <th>automobile</th>\n",
       "      <th>bike</th>\n",
       "      <th>motorbike</th>\n",
       "      <th>public_transportation</th>\n",
       "      <th>walking</th>\n",
       "      <th>Age</th>\n",
       "      <th>Height</th>\n",
       "    </tr>\n",
       "  </thead>\n",
       "  <tbody>\n",
       "    <tr>\n",
       "      <th>0</th>\n",
       "      <td>1.0</td>\n",
       "      <td>0.0</td>\n",
       "      <td>0.0</td>\n",
       "      <td>0.0</td>\n",
       "      <td>0.0</td>\n",
       "      <td>1.0</td>\n",
       "      <td>0.0</td>\n",
       "      <td>21.000000</td>\n",
       "      <td>1.620000</td>\n",
       "    </tr>\n",
       "    <tr>\n",
       "      <th>1</th>\n",
       "      <td>1.0</td>\n",
       "      <td>0.0</td>\n",
       "      <td>0.0</td>\n",
       "      <td>0.0</td>\n",
       "      <td>0.0</td>\n",
       "      <td>1.0</td>\n",
       "      <td>0.0</td>\n",
       "      <td>21.000000</td>\n",
       "      <td>1.520000</td>\n",
       "    </tr>\n",
       "    <tr>\n",
       "      <th>2</th>\n",
       "      <td>0.0</td>\n",
       "      <td>1.0</td>\n",
       "      <td>0.0</td>\n",
       "      <td>0.0</td>\n",
       "      <td>0.0</td>\n",
       "      <td>1.0</td>\n",
       "      <td>0.0</td>\n",
       "      <td>23.000000</td>\n",
       "      <td>1.800000</td>\n",
       "    </tr>\n",
       "    <tr>\n",
       "      <th>3</th>\n",
       "      <td>0.0</td>\n",
       "      <td>1.0</td>\n",
       "      <td>0.0</td>\n",
       "      <td>0.0</td>\n",
       "      <td>0.0</td>\n",
       "      <td>0.0</td>\n",
       "      <td>1.0</td>\n",
       "      <td>27.000000</td>\n",
       "      <td>1.800000</td>\n",
       "    </tr>\n",
       "    <tr>\n",
       "      <th>4</th>\n",
       "      <td>0.0</td>\n",
       "      <td>1.0</td>\n",
       "      <td>0.0</td>\n",
       "      <td>0.0</td>\n",
       "      <td>0.0</td>\n",
       "      <td>1.0</td>\n",
       "      <td>0.0</td>\n",
       "      <td>22.000000</td>\n",
       "      <td>1.780000</td>\n",
       "    </tr>\n",
       "    <tr>\n",
       "      <th>...</th>\n",
       "      <td>...</td>\n",
       "      <td>...</td>\n",
       "      <td>...</td>\n",
       "      <td>...</td>\n",
       "      <td>...</td>\n",
       "      <td>...</td>\n",
       "      <td>...</td>\n",
       "      <td>...</td>\n",
       "      <td>...</td>\n",
       "    </tr>\n",
       "    <tr>\n",
       "      <th>2106</th>\n",
       "      <td>1.0</td>\n",
       "      <td>0.0</td>\n",
       "      <td>0.0</td>\n",
       "      <td>0.0</td>\n",
       "      <td>0.0</td>\n",
       "      <td>1.0</td>\n",
       "      <td>0.0</td>\n",
       "      <td>20.976842</td>\n",
       "      <td>1.710730</td>\n",
       "    </tr>\n",
       "    <tr>\n",
       "      <th>2107</th>\n",
       "      <td>1.0</td>\n",
       "      <td>0.0</td>\n",
       "      <td>0.0</td>\n",
       "      <td>0.0</td>\n",
       "      <td>0.0</td>\n",
       "      <td>1.0</td>\n",
       "      <td>0.0</td>\n",
       "      <td>21.982942</td>\n",
       "      <td>1.748584</td>\n",
       "    </tr>\n",
       "    <tr>\n",
       "      <th>2108</th>\n",
       "      <td>1.0</td>\n",
       "      <td>0.0</td>\n",
       "      <td>0.0</td>\n",
       "      <td>0.0</td>\n",
       "      <td>0.0</td>\n",
       "      <td>1.0</td>\n",
       "      <td>0.0</td>\n",
       "      <td>22.524036</td>\n",
       "      <td>1.752206</td>\n",
       "    </tr>\n",
       "    <tr>\n",
       "      <th>2109</th>\n",
       "      <td>1.0</td>\n",
       "      <td>0.0</td>\n",
       "      <td>0.0</td>\n",
       "      <td>0.0</td>\n",
       "      <td>0.0</td>\n",
       "      <td>1.0</td>\n",
       "      <td>0.0</td>\n",
       "      <td>24.361936</td>\n",
       "      <td>1.739450</td>\n",
       "    </tr>\n",
       "    <tr>\n",
       "      <th>2110</th>\n",
       "      <td>1.0</td>\n",
       "      <td>0.0</td>\n",
       "      <td>0.0</td>\n",
       "      <td>0.0</td>\n",
       "      <td>0.0</td>\n",
       "      <td>1.0</td>\n",
       "      <td>0.0</td>\n",
       "      <td>23.664709</td>\n",
       "      <td>1.738836</td>\n",
       "    </tr>\n",
       "  </tbody>\n",
       "</table>\n",
       "<p>2111 rows × 9 columns</p>\n",
       "</div>"
      ],
      "text/plain": [
       "      female  male  automobile  bike  motorbike  public_transportation  \\\n",
       "0        1.0   0.0         0.0   0.0        0.0                    1.0   \n",
       "1        1.0   0.0         0.0   0.0        0.0                    1.0   \n",
       "2        0.0   1.0         0.0   0.0        0.0                    1.0   \n",
       "3        0.0   1.0         0.0   0.0        0.0                    0.0   \n",
       "4        0.0   1.0         0.0   0.0        0.0                    1.0   \n",
       "...      ...   ...         ...   ...        ...                    ...   \n",
       "2106     1.0   0.0         0.0   0.0        0.0                    1.0   \n",
       "2107     1.0   0.0         0.0   0.0        0.0                    1.0   \n",
       "2108     1.0   0.0         0.0   0.0        0.0                    1.0   \n",
       "2109     1.0   0.0         0.0   0.0        0.0                    1.0   \n",
       "2110     1.0   0.0         0.0   0.0        0.0                    1.0   \n",
       "\n",
       "      walking        Age    Height  \n",
       "0         0.0  21.000000  1.620000  \n",
       "1         0.0  21.000000  1.520000  \n",
       "2         0.0  23.000000  1.800000  \n",
       "3         1.0  27.000000  1.800000  \n",
       "4         0.0  22.000000  1.780000  \n",
       "...       ...        ...       ...  \n",
       "2106      0.0  20.976842  1.710730  \n",
       "2107      0.0  21.982942  1.748584  \n",
       "2108      0.0  22.524036  1.752206  \n",
       "2109      0.0  24.361936  1.739450  \n",
       "2110      0.0  23.664709  1.738836  \n",
       "\n",
       "[2111 rows x 9 columns]"
      ]
     },
     "execution_count": 20,
     "metadata": {},
     "output_type": "execute_result"
    }
   ],
   "source": [
    "df_x"
   ]
  },
  {
   "cell_type": "code",
   "execution_count": 21,
   "metadata": {},
   "outputs": [],
   "source": [
    "from sklearn.preprocessing import LabelEncoder"
   ]
  },
  {
   "cell_type": "code",
   "execution_count": 22,
   "metadata": {},
   "outputs": [],
   "source": [
    "le = LabelEncoder()"
   ]
  },
  {
   "cell_type": "code",
   "execution_count": 23,
   "metadata": {},
   "outputs": [],
   "source": [
    "y_enc = le.fit_transform(df[\"Obesity\"])"
   ]
  },
  {
   "cell_type": "code",
   "execution_count": 24,
   "metadata": {},
   "outputs": [
    {
     "data": {
      "text/plain": [
       "array([1, 1, 1, ..., 4, 4, 4], shape=(2111,))"
      ]
     },
     "execution_count": 24,
     "metadata": {},
     "output_type": "execute_result"
    }
   ],
   "source": [
    "y_enc"
   ]
  },
  {
   "cell_type": "code",
   "execution_count": 25,
   "metadata": {},
   "outputs": [
    {
     "data": {
      "text/plain": [
       "array(['Insufficient_Weight', 'Normal_Weight', 'Obesity_Type_I',\n",
       "       'Obesity_Type_II', 'Obesity_Type_III', 'Overweight_Level_I',\n",
       "       'Overweight_Level_II'], dtype=object)"
      ]
     },
     "execution_count": 25,
     "metadata": {},
     "output_type": "execute_result"
    }
   ],
   "source": [
    "le.classes_"
   ]
  },
  {
   "cell_type": "code",
   "execution_count": 26,
   "metadata": {},
   "outputs": [],
   "source": [
    "Y = torch.tensor(y_enc)"
   ]
  },
  {
   "cell_type": "code",
   "execution_count": 27,
   "metadata": {},
   "outputs": [
    {
     "data": {
      "text/plain": [
       "torch.Size([2111])"
      ]
     },
     "execution_count": 27,
     "metadata": {},
     "output_type": "execute_result"
    }
   ],
   "source": [
    "Y.shape"
   ]
  },
  {
   "cell_type": "code",
   "execution_count": 28,
   "metadata": {},
   "outputs": [],
   "source": [
    "scaler = StandardScaler().set_output(transform=\"pandas\")"
   ]
  },
  {
   "cell_type": "code",
   "execution_count": 29,
   "metadata": {},
   "outputs": [],
   "source": [
    "df_age_scaled = scaler.fit_transform(np.asarray(df[\"Age\"]).reshape(-1,1))\n",
    "df_height_scaled = scaler.fit_transform(np.asarray(df[\"Height\"]).reshape(-1,1))"
   ]
  },
  {
   "cell_type": "code",
   "execution_count": 30,
   "metadata": {},
   "outputs": [],
   "source": [
    "df_height_scaled.columns =[\"height\"]\n",
    "df_age_scaled.columns = [\"age\"]"
   ]
  },
  {
   "cell_type": "code",
   "execution_count": 31,
   "metadata": {},
   "outputs": [
    {
     "data": {
      "text/html": [
       "<div>\n",
       "<style scoped>\n",
       "    .dataframe tbody tr th:only-of-type {\n",
       "        vertical-align: middle;\n",
       "    }\n",
       "\n",
       "    .dataframe tbody tr th {\n",
       "        vertical-align: top;\n",
       "    }\n",
       "\n",
       "    .dataframe thead th {\n",
       "        text-align: right;\n",
       "    }\n",
       "</style>\n",
       "<table border=\"1\" class=\"dataframe\">\n",
       "  <thead>\n",
       "    <tr style=\"text-align: right;\">\n",
       "      <th></th>\n",
       "      <th>height</th>\n",
       "    </tr>\n",
       "  </thead>\n",
       "  <tbody>\n",
       "    <tr>\n",
       "      <th>0</th>\n",
       "      <td>-0.875589</td>\n",
       "    </tr>\n",
       "    <tr>\n",
       "      <th>1</th>\n",
       "      <td>-1.947599</td>\n",
       "    </tr>\n",
       "    <tr>\n",
       "      <th>2</th>\n",
       "      <td>1.054029</td>\n",
       "    </tr>\n",
       "    <tr>\n",
       "      <th>3</th>\n",
       "      <td>1.054029</td>\n",
       "    </tr>\n",
       "    <tr>\n",
       "      <th>4</th>\n",
       "      <td>0.839627</td>\n",
       "    </tr>\n",
       "    <tr>\n",
       "      <th>...</th>\n",
       "      <td>...</td>\n",
       "    </tr>\n",
       "    <tr>\n",
       "      <th>2106</th>\n",
       "      <td>0.097045</td>\n",
       "    </tr>\n",
       "    <tr>\n",
       "      <th>2107</th>\n",
       "      <td>0.502844</td>\n",
       "    </tr>\n",
       "    <tr>\n",
       "      <th>2108</th>\n",
       "      <td>0.541672</td>\n",
       "    </tr>\n",
       "    <tr>\n",
       "      <th>2109</th>\n",
       "      <td>0.404927</td>\n",
       "    </tr>\n",
       "    <tr>\n",
       "      <th>2110</th>\n",
       "      <td>0.398344</td>\n",
       "    </tr>\n",
       "  </tbody>\n",
       "</table>\n",
       "<p>2111 rows × 1 columns</p>\n",
       "</div>"
      ],
      "text/plain": [
       "        height\n",
       "0    -0.875589\n",
       "1    -1.947599\n",
       "2     1.054029\n",
       "3     1.054029\n",
       "4     0.839627\n",
       "...        ...\n",
       "2106  0.097045\n",
       "2107  0.502844\n",
       "2108  0.541672\n",
       "2109  0.404927\n",
       "2110  0.398344\n",
       "\n",
       "[2111 rows x 1 columns]"
      ]
     },
     "execution_count": 31,
     "metadata": {},
     "output_type": "execute_result"
    }
   ],
   "source": [
    "df_height_scaled"
   ]
  },
  {
   "cell_type": "code",
   "execution_count": 32,
   "metadata": {},
   "outputs": [
    {
     "data": {
      "text/html": [
       "<div>\n",
       "<style scoped>\n",
       "    .dataframe tbody tr th:only-of-type {\n",
       "        vertical-align: middle;\n",
       "    }\n",
       "\n",
       "    .dataframe tbody tr th {\n",
       "        vertical-align: top;\n",
       "    }\n",
       "\n",
       "    .dataframe thead th {\n",
       "        text-align: right;\n",
       "    }\n",
       "</style>\n",
       "<table border=\"1\" class=\"dataframe\">\n",
       "  <thead>\n",
       "    <tr style=\"text-align: right;\">\n",
       "      <th></th>\n",
       "      <th>female</th>\n",
       "      <th>male</th>\n",
       "      <th>automobile</th>\n",
       "      <th>bike</th>\n",
       "      <th>motorbike</th>\n",
       "      <th>public_transportation</th>\n",
       "      <th>walking</th>\n",
       "    </tr>\n",
       "  </thead>\n",
       "  <tbody>\n",
       "    <tr>\n",
       "      <th>0</th>\n",
       "      <td>1.0</td>\n",
       "      <td>0.0</td>\n",
       "      <td>0.0</td>\n",
       "      <td>0.0</td>\n",
       "      <td>0.0</td>\n",
       "      <td>1.0</td>\n",
       "      <td>0.0</td>\n",
       "    </tr>\n",
       "    <tr>\n",
       "      <th>1</th>\n",
       "      <td>1.0</td>\n",
       "      <td>0.0</td>\n",
       "      <td>0.0</td>\n",
       "      <td>0.0</td>\n",
       "      <td>0.0</td>\n",
       "      <td>1.0</td>\n",
       "      <td>0.0</td>\n",
       "    </tr>\n",
       "    <tr>\n",
       "      <th>2</th>\n",
       "      <td>0.0</td>\n",
       "      <td>1.0</td>\n",
       "      <td>0.0</td>\n",
       "      <td>0.0</td>\n",
       "      <td>0.0</td>\n",
       "      <td>1.0</td>\n",
       "      <td>0.0</td>\n",
       "    </tr>\n",
       "    <tr>\n",
       "      <th>3</th>\n",
       "      <td>0.0</td>\n",
       "      <td>1.0</td>\n",
       "      <td>0.0</td>\n",
       "      <td>0.0</td>\n",
       "      <td>0.0</td>\n",
       "      <td>0.0</td>\n",
       "      <td>1.0</td>\n",
       "    </tr>\n",
       "    <tr>\n",
       "      <th>4</th>\n",
       "      <td>0.0</td>\n",
       "      <td>1.0</td>\n",
       "      <td>0.0</td>\n",
       "      <td>0.0</td>\n",
       "      <td>0.0</td>\n",
       "      <td>1.0</td>\n",
       "      <td>0.0</td>\n",
       "    </tr>\n",
       "  </tbody>\n",
       "</table>\n",
       "</div>"
      ],
      "text/plain": [
       "   female  male  automobile  bike  motorbike  public_transportation  walking\n",
       "0     1.0   0.0         0.0   0.0        0.0                    1.0      0.0\n",
       "1     1.0   0.0         0.0   0.0        0.0                    1.0      0.0\n",
       "2     0.0   1.0         0.0   0.0        0.0                    1.0      0.0\n",
       "3     0.0   1.0         0.0   0.0        0.0                    0.0      1.0\n",
       "4     0.0   1.0         0.0   0.0        0.0                    1.0      0.0"
      ]
     },
     "execution_count": 32,
     "metadata": {},
     "output_type": "execute_result"
    }
   ],
   "source": [
    "df_x = df_x.drop(labels=[\"Age\",\"Height\"],axis=1)\n",
    "df_x.head()"
   ]
  },
  {
   "cell_type": "code",
   "execution_count": 33,
   "metadata": {},
   "outputs": [],
   "source": [
    "df_x = pd.concat(axis=1,objs=[df_x,df_age_scaled,df_height_scaled])"
   ]
  },
  {
   "cell_type": "code",
   "execution_count": 34,
   "metadata": {},
   "outputs": [
    {
     "data": {
      "text/html": [
       "<div>\n",
       "<style scoped>\n",
       "    .dataframe tbody tr th:only-of-type {\n",
       "        vertical-align: middle;\n",
       "    }\n",
       "\n",
       "    .dataframe tbody tr th {\n",
       "        vertical-align: top;\n",
       "    }\n",
       "\n",
       "    .dataframe thead th {\n",
       "        text-align: right;\n",
       "    }\n",
       "</style>\n",
       "<table border=\"1\" class=\"dataframe\">\n",
       "  <thead>\n",
       "    <tr style=\"text-align: right;\">\n",
       "      <th></th>\n",
       "      <th>female</th>\n",
       "      <th>male</th>\n",
       "      <th>automobile</th>\n",
       "      <th>bike</th>\n",
       "      <th>motorbike</th>\n",
       "      <th>public_transportation</th>\n",
       "      <th>walking</th>\n",
       "      <th>age</th>\n",
       "      <th>height</th>\n",
       "    </tr>\n",
       "  </thead>\n",
       "  <tbody>\n",
       "    <tr>\n",
       "      <th>0</th>\n",
       "      <td>1.0</td>\n",
       "      <td>0.0</td>\n",
       "      <td>0.0</td>\n",
       "      <td>0.0</td>\n",
       "      <td>0.0</td>\n",
       "      <td>1.0</td>\n",
       "      <td>0.0</td>\n",
       "      <td>-0.522124</td>\n",
       "      <td>-0.875589</td>\n",
       "    </tr>\n",
       "    <tr>\n",
       "      <th>1</th>\n",
       "      <td>1.0</td>\n",
       "      <td>0.0</td>\n",
       "      <td>0.0</td>\n",
       "      <td>0.0</td>\n",
       "      <td>0.0</td>\n",
       "      <td>1.0</td>\n",
       "      <td>0.0</td>\n",
       "      <td>-0.522124</td>\n",
       "      <td>-1.947599</td>\n",
       "    </tr>\n",
       "    <tr>\n",
       "      <th>2</th>\n",
       "      <td>0.0</td>\n",
       "      <td>1.0</td>\n",
       "      <td>0.0</td>\n",
       "      <td>0.0</td>\n",
       "      <td>0.0</td>\n",
       "      <td>1.0</td>\n",
       "      <td>0.0</td>\n",
       "      <td>-0.206889</td>\n",
       "      <td>1.054029</td>\n",
       "    </tr>\n",
       "    <tr>\n",
       "      <th>3</th>\n",
       "      <td>0.0</td>\n",
       "      <td>1.0</td>\n",
       "      <td>0.0</td>\n",
       "      <td>0.0</td>\n",
       "      <td>0.0</td>\n",
       "      <td>0.0</td>\n",
       "      <td>1.0</td>\n",
       "      <td>0.423582</td>\n",
       "      <td>1.054029</td>\n",
       "    </tr>\n",
       "    <tr>\n",
       "      <th>4</th>\n",
       "      <td>0.0</td>\n",
       "      <td>1.0</td>\n",
       "      <td>0.0</td>\n",
       "      <td>0.0</td>\n",
       "      <td>0.0</td>\n",
       "      <td>1.0</td>\n",
       "      <td>0.0</td>\n",
       "      <td>-0.364507</td>\n",
       "      <td>0.839627</td>\n",
       "    </tr>\n",
       "  </tbody>\n",
       "</table>\n",
       "</div>"
      ],
      "text/plain": [
       "   female  male  automobile  bike  motorbike  public_transportation  walking  \\\n",
       "0     1.0   0.0         0.0   0.0        0.0                    1.0      0.0   \n",
       "1     1.0   0.0         0.0   0.0        0.0                    1.0      0.0   \n",
       "2     0.0   1.0         0.0   0.0        0.0                    1.0      0.0   \n",
       "3     0.0   1.0         0.0   0.0        0.0                    0.0      1.0   \n",
       "4     0.0   1.0         0.0   0.0        0.0                    1.0      0.0   \n",
       "\n",
       "        age    height  \n",
       "0 -0.522124 -0.875589  \n",
       "1 -0.522124 -1.947599  \n",
       "2 -0.206889  1.054029  \n",
       "3  0.423582  1.054029  \n",
       "4 -0.364507  0.839627  "
      ]
     },
     "execution_count": 34,
     "metadata": {},
     "output_type": "execute_result"
    }
   ],
   "source": [
    "df_x.head()"
   ]
  },
  {
   "cell_type": "code",
   "execution_count": null,
   "metadata": {},
   "outputs": [],
   "source": []
  },
  {
   "cell_type": "code",
   "execution_count": 35,
   "metadata": {},
   "outputs": [],
   "source": [
    "class ffn(torch.nn.Module):\n",
    "    \n",
    "    def __init__(self,input_dims):\n",
    "        super(ffn,self).__init__()    \n",
    "        \n",
    "        self.relu    = torch.nn.ReLU()\n",
    "        self.sigmoid = torch.nn.Sigmoid()\n",
    "        self.tanh    = torch.nn.Tanh()\n",
    "        self.layer1  = torch.nn.Linear(input_dims,70)\n",
    "        self.layer2  = torch.nn.Linear(70,70)\n",
    "        self.layer3  = torch.nn.Linear(70,30)\n",
    "        self.layer4  = torch.nn.Linear(30,7)\n",
    "    def forward(self,input):\n",
    "        \n",
    "        out = self.tanh(self.layer1(input))\n",
    "        out = self.tanh(self.layer2(out))\n",
    "        out = self.tanh(self.layer3(out))\n",
    "        out = self.layer4(out)\n",
    "        return out"
   ]
  },
  {
   "cell_type": "code",
   "execution_count": 36,
   "metadata": {},
   "outputs": [
    {
     "data": {
      "text/plain": [
       "tensor([1, 1, 1,  ..., 4, 4, 4])"
      ]
     },
     "execution_count": 36,
     "metadata": {},
     "output_type": "execute_result"
    }
   ],
   "source": [
    "Y"
   ]
  },
  {
   "cell_type": "code",
   "execution_count": 37,
   "metadata": {},
   "outputs": [],
   "source": [
    "X = torch.tensor(np.asarray(df_x))"
   ]
  },
  {
   "cell_type": "code",
   "execution_count": 38,
   "metadata": {},
   "outputs": [
    {
     "data": {
      "text/plain": [
       "torch.Size([2111, 9])"
      ]
     },
     "execution_count": 38,
     "metadata": {},
     "output_type": "execute_result"
    }
   ],
   "source": [
    "X.shape"
   ]
  },
  {
   "cell_type": "code",
   "execution_count": 39,
   "metadata": {},
   "outputs": [
    {
     "data": {
      "text/html": [
       "<div>\n",
       "<style scoped>\n",
       "    .dataframe tbody tr th:only-of-type {\n",
       "        vertical-align: middle;\n",
       "    }\n",
       "\n",
       "    .dataframe tbody tr th {\n",
       "        vertical-align: top;\n",
       "    }\n",
       "\n",
       "    .dataframe thead th {\n",
       "        text-align: right;\n",
       "    }\n",
       "</style>\n",
       "<table border=\"1\" class=\"dataframe\">\n",
       "  <thead>\n",
       "    <tr style=\"text-align: right;\">\n",
       "      <th></th>\n",
       "      <th>female</th>\n",
       "      <th>male</th>\n",
       "      <th>automobile</th>\n",
       "      <th>bike</th>\n",
       "      <th>motorbike</th>\n",
       "      <th>public_transportation</th>\n",
       "      <th>walking</th>\n",
       "      <th>age</th>\n",
       "      <th>height</th>\n",
       "    </tr>\n",
       "  </thead>\n",
       "  <tbody>\n",
       "    <tr>\n",
       "      <th>0</th>\n",
       "      <td>1.0</td>\n",
       "      <td>0.0</td>\n",
       "      <td>0.0</td>\n",
       "      <td>0.0</td>\n",
       "      <td>0.0</td>\n",
       "      <td>1.0</td>\n",
       "      <td>0.0</td>\n",
       "      <td>-0.522124</td>\n",
       "      <td>-0.875589</td>\n",
       "    </tr>\n",
       "    <tr>\n",
       "      <th>1</th>\n",
       "      <td>1.0</td>\n",
       "      <td>0.0</td>\n",
       "      <td>0.0</td>\n",
       "      <td>0.0</td>\n",
       "      <td>0.0</td>\n",
       "      <td>1.0</td>\n",
       "      <td>0.0</td>\n",
       "      <td>-0.522124</td>\n",
       "      <td>-1.947599</td>\n",
       "    </tr>\n",
       "    <tr>\n",
       "      <th>2</th>\n",
       "      <td>0.0</td>\n",
       "      <td>1.0</td>\n",
       "      <td>0.0</td>\n",
       "      <td>0.0</td>\n",
       "      <td>0.0</td>\n",
       "      <td>1.0</td>\n",
       "      <td>0.0</td>\n",
       "      <td>-0.206889</td>\n",
       "      <td>1.054029</td>\n",
       "    </tr>\n",
       "    <tr>\n",
       "      <th>3</th>\n",
       "      <td>0.0</td>\n",
       "      <td>1.0</td>\n",
       "      <td>0.0</td>\n",
       "      <td>0.0</td>\n",
       "      <td>0.0</td>\n",
       "      <td>0.0</td>\n",
       "      <td>1.0</td>\n",
       "      <td>0.423582</td>\n",
       "      <td>1.054029</td>\n",
       "    </tr>\n",
       "    <tr>\n",
       "      <th>4</th>\n",
       "      <td>0.0</td>\n",
       "      <td>1.0</td>\n",
       "      <td>0.0</td>\n",
       "      <td>0.0</td>\n",
       "      <td>0.0</td>\n",
       "      <td>1.0</td>\n",
       "      <td>0.0</td>\n",
       "      <td>-0.364507</td>\n",
       "      <td>0.839627</td>\n",
       "    </tr>\n",
       "  </tbody>\n",
       "</table>\n",
       "</div>"
      ],
      "text/plain": [
       "   female  male  automobile  bike  motorbike  public_transportation  walking  \\\n",
       "0     1.0   0.0         0.0   0.0        0.0                    1.0      0.0   \n",
       "1     1.0   0.0         0.0   0.0        0.0                    1.0      0.0   \n",
       "2     0.0   1.0         0.0   0.0        0.0                    1.0      0.0   \n",
       "3     0.0   1.0         0.0   0.0        0.0                    0.0      1.0   \n",
       "4     0.0   1.0         0.0   0.0        0.0                    1.0      0.0   \n",
       "\n",
       "        age    height  \n",
       "0 -0.522124 -0.875589  \n",
       "1 -0.522124 -1.947599  \n",
       "2 -0.206889  1.054029  \n",
       "3  0.423582  1.054029  \n",
       "4 -0.364507  0.839627  "
      ]
     },
     "execution_count": 39,
     "metadata": {},
     "output_type": "execute_result"
    }
   ],
   "source": [
    "df_x.head()"
   ]
  },
  {
   "cell_type": "code",
   "execution_count": 40,
   "metadata": {},
   "outputs": [],
   "source": [
    "X_train, X_test, y_train, y_test = train_test_split(X, Y, test_size=0.33, random_state=42)"
   ]
  },
  {
   "cell_type": "code",
   "execution_count": 41,
   "metadata": {},
   "outputs": [],
   "source": [
    "class data(torch.utils.data.Dataset):\n",
    "\n",
    "    def __init__(self, X,y):\n",
    "        self.x = X\n",
    "        self.y = y\n",
    "    def __len__(self):\n",
    "        return len(self.x)\n",
    "    \n",
    "    def __getitem__(self, index):\n",
    "        record = self.x[index]\n",
    "        label = self.y[index]\n",
    "        return record,label"
   ]
  },
  {
   "cell_type": "code",
   "execution_count": 42,
   "metadata": {},
   "outputs": [
    {
     "data": {
      "text/plain": [
       "9"
      ]
     },
     "execution_count": 42,
     "metadata": {},
     "output_type": "execute_result"
    }
   ],
   "source": [
    "len(X_train[0])"
   ]
  },
  {
   "cell_type": "code",
   "execution_count": 43,
   "metadata": {},
   "outputs": [],
   "source": [
    "model = ffn(9)"
   ]
  },
  {
   "cell_type": "code",
   "execution_count": null,
   "metadata": {},
   "outputs": [],
   "source": []
  },
  {
   "cell_type": "code",
   "execution_count": 44,
   "metadata": {},
   "outputs": [],
   "source": [
    "train_dataset = data(X_train,y_train)\n",
    "test_dataset = data(X_test,y_test)\n",
    "\n",
    "train_loader = torch.utils.data.DataLoader(train_dataset,batch_size=32,shuffle=True)\n",
    "test_loader = torch.utils.data.DataLoader(test_dataset,batch_size=32,shuffle=True)"
   ]
  },
  {
   "cell_type": "code",
   "execution_count": 45,
   "metadata": {},
   "outputs": [
    {
     "name": "stderr",
     "output_type": "stream",
     "text": [
      "100%|██████████| 45/45 [00:00<00:00, 835.36it/s]\n"
     ]
    },
    {
     "name": "stdout",
     "output_type": "stream",
     "text": [
      "Epoch: 1   Loss: 1.8614563941955566\n",
      "              precision    recall  f1-score   support\n",
      "\n",
      "           0       0.15      0.10      0.12       182\n",
      "           1       0.21      0.03      0.06       184\n",
      "           2       0.00      0.00      0.00       237\n",
      "           3       0.31      0.91      0.46       203\n",
      "           4       0.32      0.91      0.48       209\n",
      "           5       0.06      0.01      0.02       196\n",
      "           6       0.21      0.03      0.06       203\n",
      "\n",
      "    accuracy                           0.29      1414\n",
      "   macro avg       0.18      0.29      0.17      1414\n",
      "weighted avg       0.18      0.29      0.17      1414\n",
      "\n"
     ]
    },
    {
     "name": "stderr",
     "output_type": "stream",
     "text": [
      "100%|██████████| 45/45 [00:00<00:00, 910.60it/s]\n"
     ]
    },
    {
     "name": "stdout",
     "output_type": "stream",
     "text": [
      "Epoch: 2   Loss: 1.623302936553955\n",
      "              precision    recall  f1-score   support\n",
      "\n",
      "           0       0.25      0.15      0.19       364\n",
      "           1       0.21      0.07      0.10       368\n",
      "           2       0.43      0.03      0.06       474\n",
      "           3       0.33      0.94      0.49       406\n",
      "           4       0.36      0.96      0.53       418\n",
      "           5       0.24      0.08      0.12       392\n",
      "           6       0.29      0.07      0.11       406\n",
      "\n",
      "    accuracy                           0.33      2828\n",
      "   macro avg       0.30      0.33      0.23      2828\n",
      "weighted avg       0.31      0.33      0.23      2828\n",
      "\n"
     ]
    },
    {
     "name": "stderr",
     "output_type": "stream",
     "text": [
      "100%|██████████| 45/45 [00:00<00:00, 888.93it/s]\n"
     ]
    },
    {
     "name": "stdout",
     "output_type": "stream",
     "text": [
      "Epoch: 3   Loss: 1.266662359237671\n",
      "              precision    recall  f1-score   support\n",
      "\n",
      "           0       0.28      0.22      0.25       546\n",
      "           1       0.24      0.14      0.18       552\n",
      "           2       0.31      0.07      0.11       711\n",
      "           3       0.37      0.92      0.52       609\n",
      "           4       0.41      0.96      0.58       627\n",
      "           5       0.26      0.06      0.09       588\n",
      "           6       0.28      0.08      0.13       609\n",
      "\n",
      "    accuracy                           0.35      4242\n",
      "   macro avg       0.31      0.35      0.27      4242\n",
      "weighted avg       0.31      0.35      0.27      4242\n",
      "\n"
     ]
    },
    {
     "name": "stderr",
     "output_type": "stream",
     "text": [
      "100%|██████████| 45/45 [00:00<00:00, 868.55it/s]\n"
     ]
    },
    {
     "name": "stdout",
     "output_type": "stream",
     "text": [
      "Epoch: 4   Loss: 1.5668576955795288\n",
      "              precision    recall  f1-score   support\n",
      "\n",
      "           0       0.31      0.32      0.32       728\n",
      "           1       0.25      0.14      0.18       736\n",
      "           2       0.28      0.11      0.16       948\n",
      "           3       0.39      0.91      0.55       812\n",
      "           4       0.44      0.96      0.61       836\n",
      "           5       0.26      0.05      0.09       784\n",
      "           6       0.28      0.09      0.14       812\n",
      "\n",
      "    accuracy                           0.37      5656\n",
      "   macro avg       0.32      0.37      0.29      5656\n",
      "weighted avg       0.32      0.37      0.29      5656\n",
      "\n"
     ]
    },
    {
     "name": "stderr",
     "output_type": "stream",
     "text": [
      "100%|██████████| 45/45 [00:00<00:00, 924.65it/s]\n"
     ]
    },
    {
     "name": "stdout",
     "output_type": "stream",
     "text": [
      "Epoch: 5   Loss: 1.5390506982803345\n",
      "              precision    recall  f1-score   support\n",
      "\n",
      "           0       0.31      0.33      0.32       910\n",
      "           1       0.25      0.18      0.21       920\n",
      "           2       0.30      0.14      0.19      1185\n",
      "           3       0.41      0.90      0.56      1015\n",
      "           4       0.47      0.96      0.63      1045\n",
      "           5       0.26      0.06      0.09       980\n",
      "           6       0.27      0.07      0.12      1015\n",
      "\n",
      "    accuracy                           0.38      7070\n",
      "   macro avg       0.32      0.38      0.30      7070\n",
      "weighted avg       0.33      0.38      0.30      7070\n",
      "\n"
     ]
    },
    {
     "name": "stderr",
     "output_type": "stream",
     "text": [
      "100%|██████████| 45/45 [00:00<00:00, 908.01it/s]\n"
     ]
    },
    {
     "name": "stdout",
     "output_type": "stream",
     "text": [
      "Epoch: 6   Loss: 1.4979556798934937\n",
      "              precision    recall  f1-score   support\n",
      "\n",
      "           0       0.31      0.35      0.33      1092\n",
      "           1       0.26      0.19      0.22      1104\n",
      "           2       0.29      0.17      0.21      1422\n",
      "           3       0.42      0.90      0.58      1218\n",
      "           4       0.49      0.95      0.65      1254\n",
      "           5       0.26      0.05      0.09      1176\n",
      "           6       0.29      0.08      0.13      1218\n",
      "\n",
      "    accuracy                           0.39      8484\n",
      "   macro avg       0.33      0.39      0.32      8484\n",
      "weighted avg       0.33      0.39      0.32      8484\n",
      "\n"
     ]
    },
    {
     "name": "stderr",
     "output_type": "stream",
     "text": [
      "100%|██████████| 45/45 [00:00<00:00, 772.72it/s]\n"
     ]
    },
    {
     "name": "stdout",
     "output_type": "stream",
     "text": [
      "Epoch: 7   Loss: 1.3149775266647339\n",
      "              precision    recall  f1-score   support\n",
      "\n",
      "           0       0.32      0.39      0.35      1274\n",
      "           1       0.26      0.18      0.22      1288\n",
      "           2       0.31      0.19      0.23      1659\n",
      "           3       0.44      0.90      0.59      1421\n",
      "           4       0.51      0.95      0.66      1463\n",
      "           5       0.28      0.07      0.11      1372\n",
      "           6       0.32      0.09      0.14      1421\n",
      "\n",
      "    accuracy                           0.40      9898\n",
      "   macro avg       0.35      0.40      0.33      9898\n",
      "weighted avg       0.35      0.40      0.33      9898\n",
      "\n"
     ]
    },
    {
     "name": "stderr",
     "output_type": "stream",
     "text": [
      "100%|██████████| 45/45 [00:00<00:00, 867.78it/s]\n"
     ]
    },
    {
     "name": "stdout",
     "output_type": "stream",
     "text": [
      "Epoch: 8   Loss: 1.6655575037002563\n",
      "              precision    recall  f1-score   support\n",
      "\n",
      "           0       0.32      0.39      0.35      1456\n",
      "           1       0.27      0.20      0.23      1472\n",
      "           2       0.32      0.21      0.25      1896\n",
      "           3       0.45      0.90      0.60      1624\n",
      "           4       0.53      0.95      0.68      1672\n",
      "           5       0.29      0.08      0.12      1568\n",
      "           6       0.33      0.09      0.14      1624\n",
      "\n",
      "    accuracy                           0.40     11312\n",
      "   macro avg       0.36      0.40      0.34     11312\n",
      "weighted avg       0.36      0.40      0.34     11312\n",
      "\n"
     ]
    },
    {
     "name": "stderr",
     "output_type": "stream",
     "text": [
      "100%|██████████| 45/45 [00:00<00:00, 964.54it/s]\n"
     ]
    },
    {
     "name": "stdout",
     "output_type": "stream",
     "text": [
      "Epoch: 9   Loss: 1.7500959634780884\n",
      "              precision    recall  f1-score   support\n",
      "\n",
      "           0       0.32      0.41      0.36      1638\n",
      "           1       0.27      0.20      0.23      1656\n",
      "           2       0.33      0.23      0.27      2133\n",
      "           3       0.46      0.90      0.61      1827\n",
      "           4       0.54      0.94      0.69      1881\n",
      "           5       0.31      0.09      0.14      1764\n",
      "           6       0.34      0.09      0.14      1827\n",
      "\n",
      "    accuracy                           0.41     12726\n",
      "   macro avg       0.37      0.41      0.35     12726\n",
      "weighted avg       0.37      0.41      0.35     12726\n",
      "\n"
     ]
    },
    {
     "name": "stderr",
     "output_type": "stream",
     "text": [
      "100%|██████████| 45/45 [00:00<00:00, 947.14it/s]\n"
     ]
    },
    {
     "name": "stdout",
     "output_type": "stream",
     "text": [
      "Epoch: 10   Loss: 1.1770628690719604\n",
      "              precision    recall  f1-score   support\n",
      "\n",
      "           0       0.32      0.42      0.37      1820\n",
      "           1       0.27      0.21      0.23      1840\n",
      "           2       0.34      0.25      0.29      2370\n",
      "           3       0.46      0.90      0.61      2030\n",
      "           4       0.55      0.94      0.70      2090\n",
      "           5       0.33      0.10      0.15      1960\n",
      "           6       0.35      0.09      0.14      2030\n",
      "\n",
      "    accuracy                           0.42     14140\n",
      "   macro avg       0.38      0.42      0.36     14140\n",
      "weighted avg       0.38      0.42      0.36     14140\n",
      "\n"
     ]
    },
    {
     "name": "stderr",
     "output_type": "stream",
     "text": [
      "100%|██████████| 45/45 [00:00<00:00, 952.99it/s]\n"
     ]
    },
    {
     "name": "stdout",
     "output_type": "stream",
     "text": [
      "Epoch: 11   Loss: 0.9894636273384094\n",
      "              precision    recall  f1-score   support\n",
      "\n",
      "           0       0.32      0.42      0.37      2002\n",
      "           1       0.28      0.21      0.24      2024\n",
      "           2       0.35      0.27      0.30      2607\n",
      "           3       0.47      0.90      0.62      2233\n",
      "           4       0.56      0.94      0.70      2299\n",
      "           5       0.34      0.11      0.16      2156\n",
      "           6       0.37      0.09      0.15      2233\n",
      "\n",
      "    accuracy                           0.42     15554\n",
      "   macro avg       0.38      0.42      0.36     15554\n",
      "weighted avg       0.39      0.42      0.37     15554\n",
      "\n"
     ]
    },
    {
     "name": "stderr",
     "output_type": "stream",
     "text": [
      "100%|██████████| 45/45 [00:00<00:00, 922.64it/s]\n"
     ]
    },
    {
     "name": "stdout",
     "output_type": "stream",
     "text": [
      "Epoch: 12   Loss: 1.6875182390213013\n",
      "              precision    recall  f1-score   support\n",
      "\n",
      "           0       0.33      0.42      0.37      2184\n",
      "           1       0.28      0.22      0.25      2208\n",
      "           2       0.35      0.28      0.31      2844\n",
      "           3       0.48      0.90      0.62      2436\n",
      "           4       0.57      0.94      0.71      2508\n",
      "           5       0.34      0.12      0.18      2352\n",
      "           6       0.38      0.09      0.15      2436\n",
      "\n",
      "    accuracy                           0.43     16968\n",
      "   macro avg       0.39      0.42      0.37     16968\n",
      "weighted avg       0.39      0.43      0.37     16968\n",
      "\n"
     ]
    },
    {
     "name": "stderr",
     "output_type": "stream",
     "text": [
      "100%|██████████| 45/45 [00:00<00:00, 927.12it/s]\n"
     ]
    },
    {
     "name": "stdout",
     "output_type": "stream",
     "text": [
      "Epoch: 13   Loss: 1.1976442337036133\n",
      "              precision    recall  f1-score   support\n",
      "\n",
      "           0       0.33      0.43      0.37      2366\n",
      "           1       0.28      0.22      0.25      2392\n",
      "           2       0.36      0.29      0.32      3081\n",
      "           3       0.48      0.90      0.62      2639\n",
      "           4       0.58      0.94      0.72      2717\n",
      "           5       0.35      0.13      0.19      2548\n",
      "           6       0.38      0.09      0.15      2639\n",
      "\n",
      "    accuracy                           0.43     18382\n",
      "   macro avg       0.39      0.43      0.37     18382\n",
      "weighted avg       0.40      0.43      0.38     18382\n",
      "\n"
     ]
    },
    {
     "name": "stderr",
     "output_type": "stream",
     "text": [
      "100%|██████████| 45/45 [00:00<00:00, 921.86it/s]\n"
     ]
    },
    {
     "name": "stdout",
     "output_type": "stream",
     "text": [
      "Epoch: 14   Loss: 0.9030752778053284\n",
      "              precision    recall  f1-score   support\n",
      "\n",
      "           0       0.33      0.44      0.38      2548\n",
      "           1       0.29      0.22      0.25      2576\n",
      "           2       0.37      0.30      0.33      3318\n",
      "           3       0.48      0.90      0.63      2842\n",
      "           4       0.59      0.94      0.72      2926\n",
      "           5       0.34      0.13      0.19      2744\n",
      "           6       0.39      0.10      0.16      2842\n",
      "\n",
      "    accuracy                           0.44     19796\n",
      "   macro avg       0.40      0.43      0.38     19796\n",
      "weighted avg       0.40      0.44      0.38     19796\n",
      "\n"
     ]
    },
    {
     "name": "stderr",
     "output_type": "stream",
     "text": [
      "100%|██████████| 45/45 [00:00<00:00, 902.48it/s]\n"
     ]
    },
    {
     "name": "stdout",
     "output_type": "stream",
     "text": [
      "Epoch: 15   Loss: 1.2335830926895142\n",
      "              precision    recall  f1-score   support\n",
      "\n",
      "           0       0.34      0.44      0.38      2730\n",
      "           1       0.29      0.23      0.26      2760\n",
      "           2       0.37      0.32      0.34      3555\n",
      "           3       0.49      0.90      0.63      3045\n",
      "           4       0.59      0.94      0.73      3135\n",
      "           5       0.35      0.14      0.20      2940\n",
      "           6       0.40      0.10      0.16      3045\n",
      "\n",
      "    accuracy                           0.44     21210\n",
      "   macro avg       0.40      0.44      0.38     21210\n",
      "weighted avg       0.41      0.44      0.39     21210\n",
      "\n"
     ]
    },
    {
     "name": "stderr",
     "output_type": "stream",
     "text": [
      "100%|██████████| 45/45 [00:00<00:00, 926.21it/s]\n"
     ]
    },
    {
     "name": "stdout",
     "output_type": "stream",
     "text": [
      "Epoch: 16   Loss: 1.2462068796157837\n",
      "              precision    recall  f1-score   support\n",
      "\n",
      "           0       0.34      0.44      0.39      2912\n",
      "           1       0.30      0.23      0.26      2944\n",
      "           2       0.37      0.33      0.35      3792\n",
      "           3       0.49      0.90      0.64      3248\n",
      "           4       0.60      0.94      0.73      3344\n",
      "           5       0.35      0.14      0.20      3136\n",
      "           6       0.41      0.10      0.17      3248\n",
      "\n",
      "    accuracy                           0.44     22624\n",
      "   macro avg       0.41      0.44      0.39     22624\n",
      "weighted avg       0.41      0.44      0.39     22624\n",
      "\n"
     ]
    },
    {
     "name": "stderr",
     "output_type": "stream",
     "text": [
      "100%|██████████| 45/45 [00:00<00:00, 941.25it/s]\n"
     ]
    },
    {
     "name": "stdout",
     "output_type": "stream",
     "text": [
      "Epoch: 17   Loss: 1.3190218210220337\n",
      "              precision    recall  f1-score   support\n",
      "\n",
      "           0       0.34      0.44      0.39      3094\n",
      "           1       0.30      0.24      0.27      3128\n",
      "           2       0.37      0.34      0.35      4029\n",
      "           3       0.50      0.89      0.64      3451\n",
      "           4       0.60      0.94      0.74      3553\n",
      "           5       0.36      0.14      0.20      3332\n",
      "           6       0.41      0.11      0.17      3451\n",
      "\n",
      "    accuracy                           0.45     24038\n",
      "   macro avg       0.41      0.44      0.39     24038\n",
      "weighted avg       0.42      0.45      0.40     24038\n",
      "\n"
     ]
    },
    {
     "name": "stderr",
     "output_type": "stream",
     "text": [
      "100%|██████████| 45/45 [00:00<00:00, 932.62it/s]\n"
     ]
    },
    {
     "name": "stdout",
     "output_type": "stream",
     "text": [
      "Epoch: 18   Loss: 1.2230547666549683\n",
      "              precision    recall  f1-score   support\n",
      "\n",
      "           0       0.35      0.44      0.39      3276\n",
      "           1       0.31      0.25      0.27      3312\n",
      "           2       0.38      0.34      0.36      4266\n",
      "           3       0.50      0.89      0.64      3654\n",
      "           4       0.61      0.94      0.74      3762\n",
      "           5       0.36      0.15      0.21      3528\n",
      "           6       0.42      0.11      0.17      3654\n",
      "\n",
      "    accuracy                           0.45     25452\n",
      "   macro avg       0.42      0.45      0.40     25452\n",
      "weighted avg       0.42      0.45      0.40     25452\n",
      "\n"
     ]
    },
    {
     "name": "stderr",
     "output_type": "stream",
     "text": [
      "100%|██████████| 45/45 [00:00<00:00, 902.39it/s]\n"
     ]
    },
    {
     "name": "stdout",
     "output_type": "stream",
     "text": [
      "Epoch: 19   Loss: 1.1949557065963745\n",
      "              precision    recall  f1-score   support\n",
      "\n",
      "           0       0.35      0.45      0.39      3458\n",
      "           1       0.31      0.25      0.28      3496\n",
      "           2       0.38      0.35      0.37      4503\n",
      "           3       0.50      0.89      0.64      3857\n",
      "           4       0.61      0.95      0.74      3971\n",
      "           5       0.36      0.15      0.21      3724\n",
      "           6       0.42      0.11      0.18      3857\n",
      "\n",
      "    accuracy                           0.45     26866\n",
      "   macro avg       0.42      0.45      0.40     26866\n",
      "weighted avg       0.42      0.45      0.40     26866\n",
      "\n"
     ]
    },
    {
     "name": "stderr",
     "output_type": "stream",
     "text": [
      "100%|██████████| 45/45 [00:00<00:00, 908.07it/s]\n"
     ]
    },
    {
     "name": "stdout",
     "output_type": "stream",
     "text": [
      "Epoch: 20   Loss: 0.8492720127105713\n",
      "              precision    recall  f1-score   support\n",
      "\n",
      "           0       0.35      0.46      0.40      3640\n",
      "           1       0.31      0.25      0.28      3680\n",
      "           2       0.38      0.36      0.37      4740\n",
      "           3       0.51      0.89      0.65      4060\n",
      "           4       0.62      0.95      0.75      4180\n",
      "           5       0.36      0.15      0.22      3920\n",
      "           6       0.43      0.12      0.18      4060\n",
      "\n",
      "    accuracy                           0.46     28280\n",
      "   macro avg       0.42      0.45      0.41     28280\n",
      "weighted avg       0.43      0.46      0.41     28280\n",
      "\n"
     ]
    },
    {
     "name": "stderr",
     "output_type": "stream",
     "text": [
      "100%|██████████| 45/45 [00:00<00:00, 936.09it/s]\n"
     ]
    },
    {
     "name": "stdout",
     "output_type": "stream",
     "text": [
      "Epoch: 21   Loss: 1.253104329109192\n",
      "              precision    recall  f1-score   support\n",
      "\n",
      "           0       0.36      0.46      0.40      3822\n",
      "           1       0.32      0.25      0.28      3864\n",
      "           2       0.39      0.37      0.38      4977\n",
      "           3       0.51      0.89      0.65      4263\n",
      "           4       0.62      0.95      0.75      4389\n",
      "           5       0.37      0.16      0.22      4116\n",
      "           6       0.44      0.12      0.19      4263\n",
      "\n",
      "    accuracy                           0.46     29694\n",
      "   macro avg       0.43      0.45      0.41     29694\n",
      "weighted avg       0.43      0.46      0.41     29694\n",
      "\n"
     ]
    },
    {
     "name": "stderr",
     "output_type": "stream",
     "text": [
      "100%|██████████| 45/45 [00:00<00:00, 928.93it/s]\n"
     ]
    },
    {
     "name": "stdout",
     "output_type": "stream",
     "text": [
      "Epoch: 22   Loss: 2.296712875366211\n",
      "              precision    recall  f1-score   support\n",
      "\n",
      "           0       0.36      0.47      0.41      4004\n",
      "           1       0.32      0.25      0.28      4048\n",
      "           2       0.39      0.37      0.38      5214\n",
      "           3       0.51      0.89      0.65      4466\n",
      "           4       0.63      0.95      0.75      4598\n",
      "           5       0.37      0.16      0.23      4312\n",
      "           6       0.44      0.12      0.19      4466\n",
      "\n",
      "    accuracy                           0.46     31108\n",
      "   macro avg       0.43      0.46      0.41     31108\n",
      "weighted avg       0.43      0.46      0.42     31108\n",
      "\n"
     ]
    },
    {
     "name": "stderr",
     "output_type": "stream",
     "text": [
      "100%|██████████| 45/45 [00:00<00:00, 834.74it/s]"
     ]
    },
    {
     "name": "stdout",
     "output_type": "stream",
     "text": [
      "Epoch: 23   Loss: 1.215070128440857\n"
     ]
    },
    {
     "name": "stderr",
     "output_type": "stream",
     "text": [
      "\n"
     ]
    },
    {
     "name": "stdout",
     "output_type": "stream",
     "text": [
      "              precision    recall  f1-score   support\n",
      "\n",
      "           0       0.36      0.47      0.41      4186\n",
      "           1       0.32      0.25      0.28      4232\n",
      "           2       0.39      0.38      0.38      5451\n",
      "           3       0.52      0.89      0.65      4669\n",
      "           4       0.63      0.95      0.76      4807\n",
      "           5       0.37      0.17      0.23      4508\n",
      "           6       0.45      0.13      0.20      4669\n",
      "\n",
      "    accuracy                           0.46     32522\n",
      "   macro avg       0.44      0.46      0.42     32522\n",
      "weighted avg       0.44      0.46      0.42     32522\n",
      "\n"
     ]
    },
    {
     "name": "stderr",
     "output_type": "stream",
     "text": [
      "100%|██████████| 45/45 [00:00<00:00, 922.46it/s]"
     ]
    },
    {
     "name": "stdout",
     "output_type": "stream",
     "text": [
      "Epoch: 24   Loss: 1.2044519186019897\n"
     ]
    },
    {
     "name": "stderr",
     "output_type": "stream",
     "text": [
      "\n"
     ]
    },
    {
     "name": "stdout",
     "output_type": "stream",
     "text": [
      "              precision    recall  f1-score   support\n",
      "\n",
      "           0       0.37      0.48      0.41      4368\n",
      "           1       0.33      0.25      0.28      4416\n",
      "           2       0.39      0.38      0.39      5688\n",
      "           3       0.52      0.89      0.66      4872\n",
      "           4       0.63      0.95      0.76      5016\n",
      "           5       0.37      0.17      0.23      4704\n",
      "           6       0.46      0.13      0.20      4872\n",
      "\n",
      "    accuracy                           0.47     33936\n",
      "   macro avg       0.44      0.46      0.42     33936\n",
      "weighted avg       0.44      0.47      0.42     33936\n",
      "\n"
     ]
    },
    {
     "name": "stderr",
     "output_type": "stream",
     "text": [
      "100%|██████████| 45/45 [00:00<00:00, 949.17it/s]"
     ]
    },
    {
     "name": "stdout",
     "output_type": "stream",
     "text": [
      "Epoch: 25   Loss: 1.0727533102035522\n"
     ]
    },
    {
     "name": "stderr",
     "output_type": "stream",
     "text": [
      "\n"
     ]
    },
    {
     "name": "stdout",
     "output_type": "stream",
     "text": [
      "              precision    recall  f1-score   support\n",
      "\n",
      "           0       0.37      0.48      0.42      4550\n",
      "           1       0.33      0.25      0.28      4600\n",
      "           2       0.39      0.39      0.39      5925\n",
      "           3       0.52      0.89      0.66      5075\n",
      "           4       0.63      0.95      0.76      5225\n",
      "           5       0.38      0.17      0.24      4900\n",
      "           6       0.46      0.13      0.21      5075\n",
      "\n",
      "    accuracy                           0.47     35350\n",
      "   macro avg       0.44      0.47      0.42     35350\n",
      "weighted avg       0.44      0.47      0.43     35350\n",
      "\n"
     ]
    },
    {
     "name": "stderr",
     "output_type": "stream",
     "text": [
      "100%|██████████| 45/45 [00:00<00:00, 932.69it/s]"
     ]
    },
    {
     "name": "stdout",
     "output_type": "stream",
     "text": [
      "Epoch: 26   Loss: 0.9047073721885681\n"
     ]
    },
    {
     "name": "stderr",
     "output_type": "stream",
     "text": [
      "\n"
     ]
    },
    {
     "name": "stdout",
     "output_type": "stream",
     "text": [
      "              precision    recall  f1-score   support\n",
      "\n",
      "           0       0.37      0.49      0.42      4732\n",
      "           1       0.34      0.25      0.29      4784\n",
      "           2       0.39      0.40      0.39      6162\n",
      "           3       0.53      0.89      0.66      5278\n",
      "           4       0.64      0.95      0.76      5434\n",
      "           5       0.38      0.17      0.24      5096\n",
      "           6       0.46      0.14      0.21      5278\n",
      "\n",
      "    accuracy                           0.47     36764\n",
      "   macro avg       0.44      0.47      0.43     36764\n",
      "weighted avg       0.45      0.47      0.43     36764\n",
      "\n"
     ]
    },
    {
     "name": "stderr",
     "output_type": "stream",
     "text": [
      "100%|██████████| 45/45 [00:00<00:00, 922.59it/s]"
     ]
    },
    {
     "name": "stdout",
     "output_type": "stream",
     "text": [
      "Epoch: 27   Loss: 1.3368762731552124\n"
     ]
    },
    {
     "name": "stderr",
     "output_type": "stream",
     "text": [
      "\n"
     ]
    },
    {
     "name": "stdout",
     "output_type": "stream",
     "text": [
      "              precision    recall  f1-score   support\n",
      "\n",
      "           0       0.38      0.49      0.43      4914\n",
      "           1       0.34      0.25      0.29      4968\n",
      "           2       0.39      0.40      0.40      6399\n",
      "           3       0.53      0.89      0.66      5481\n",
      "           4       0.64      0.95      0.76      5643\n",
      "           5       0.38      0.18      0.24      5292\n",
      "           6       0.47      0.14      0.22      5481\n",
      "\n",
      "    accuracy                           0.47     38178\n",
      "   macro avg       0.45      0.47      0.43     38178\n",
      "weighted avg       0.45      0.47      0.43     38178\n",
      "\n"
     ]
    },
    {
     "name": "stderr",
     "output_type": "stream",
     "text": [
      "100%|██████████| 45/45 [00:00<00:00, 899.16it/s]"
     ]
    },
    {
     "name": "stdout",
     "output_type": "stream",
     "text": [
      "Epoch: 28   Loss: 0.8291678428649902\n"
     ]
    },
    {
     "name": "stderr",
     "output_type": "stream",
     "text": [
      "\n"
     ]
    },
    {
     "name": "stdout",
     "output_type": "stream",
     "text": [
      "              precision    recall  f1-score   support\n",
      "\n",
      "           0       0.38      0.49      0.43      5096\n",
      "           1       0.34      0.25      0.29      5152\n",
      "           2       0.39      0.41      0.40      6636\n",
      "           3       0.53      0.89      0.67      5684\n",
      "           4       0.64      0.95      0.77      5852\n",
      "           5       0.38      0.18      0.24      5488\n",
      "           6       0.47      0.15      0.22      5684\n",
      "\n",
      "    accuracy                           0.48     39592\n",
      "   macro avg       0.45      0.47      0.43     39592\n",
      "weighted avg       0.45      0.48      0.43     39592\n",
      "\n"
     ]
    },
    {
     "name": "stderr",
     "output_type": "stream",
     "text": [
      "100%|██████████| 45/45 [00:00<00:00, 924.95it/s]"
     ]
    },
    {
     "name": "stdout",
     "output_type": "stream",
     "text": [
      "Epoch: 29   Loss: 1.0653862953186035\n"
     ]
    },
    {
     "name": "stderr",
     "output_type": "stream",
     "text": [
      "\n"
     ]
    },
    {
     "name": "stdout",
     "output_type": "stream",
     "text": [
      "              precision    recall  f1-score   support\n",
      "\n",
      "           0       0.38      0.50      0.43      5278\n",
      "           1       0.34      0.25      0.29      5336\n",
      "           2       0.40      0.41      0.40      6873\n",
      "           3       0.54      0.89      0.67      5887\n",
      "           4       0.64      0.95      0.77      6061\n",
      "           5       0.39      0.18      0.25      5684\n",
      "           6       0.48      0.15      0.23      5887\n",
      "\n",
      "    accuracy                           0.48     41006\n",
      "   macro avg       0.45      0.47      0.43     41006\n",
      "weighted avg       0.45      0.48      0.44     41006\n",
      "\n"
     ]
    },
    {
     "name": "stderr",
     "output_type": "stream",
     "text": [
      "100%|██████████| 45/45 [00:00<00:00, 847.49it/s]\n"
     ]
    },
    {
     "name": "stdout",
     "output_type": "stream",
     "text": [
      "Epoch: 30   Loss: 0.7581424117088318\n",
      "              precision    recall  f1-score   support\n",
      "\n",
      "           0       0.39      0.50      0.44      5460\n",
      "           1       0.35      0.25      0.29      5520\n",
      "           2       0.40      0.42      0.41      7110\n",
      "           3       0.54      0.89      0.67      6090\n",
      "           4       0.65      0.95      0.77      6270\n",
      "           5       0.39      0.18      0.25      5880\n",
      "           6       0.48      0.16      0.24      6090\n",
      "\n",
      "    accuracy                           0.48     42420\n",
      "   macro avg       0.46      0.48      0.44     42420\n",
      "weighted avg       0.46      0.48      0.44     42420\n",
      "\n"
     ]
    },
    {
     "name": "stderr",
     "output_type": "stream",
     "text": [
      "100%|██████████| 45/45 [00:00<00:00, 900.71it/s]"
     ]
    },
    {
     "name": "stdout",
     "output_type": "stream",
     "text": [
      "Epoch: 31   Loss: 1.0447169542312622\n"
     ]
    },
    {
     "name": "stderr",
     "output_type": "stream",
     "text": [
      "\n"
     ]
    },
    {
     "name": "stdout",
     "output_type": "stream",
     "text": [
      "              precision    recall  f1-score   support\n",
      "\n",
      "           0       0.39      0.51      0.44      5642\n",
      "           1       0.35      0.25      0.29      5704\n",
      "           2       0.40      0.42      0.41      7347\n",
      "           3       0.54      0.89      0.67      6293\n",
      "           4       0.65      0.95      0.77      6479\n",
      "           5       0.39      0.18      0.25      6076\n",
      "           6       0.48      0.16      0.24      6293\n",
      "\n",
      "    accuracy                           0.48     43834\n",
      "   macro avg       0.46      0.48      0.44     43834\n",
      "weighted avg       0.46      0.48      0.44     43834\n",
      "\n"
     ]
    },
    {
     "name": "stderr",
     "output_type": "stream",
     "text": [
      "100%|██████████| 45/45 [00:00<00:00, 923.67it/s]\n"
     ]
    },
    {
     "name": "stdout",
     "output_type": "stream",
     "text": [
      "Epoch: 32   Loss: 1.4436378479003906\n",
      "              precision    recall  f1-score   support\n",
      "\n",
      "           0       0.39      0.51      0.44      5824\n",
      "           1       0.35      0.25      0.29      5888\n",
      "           2       0.40      0.43      0.41      7584\n",
      "           3       0.54      0.89      0.67      6496\n",
      "           4       0.65      0.95      0.77      6688\n",
      "           5       0.39      0.19      0.25      6272\n",
      "           6       0.49      0.17      0.25      6496\n",
      "\n",
      "    accuracy                           0.49     45248\n",
      "   macro avg       0.46      0.48      0.44     45248\n",
      "weighted avg       0.46      0.49      0.45     45248\n",
      "\n"
     ]
    },
    {
     "name": "stderr",
     "output_type": "stream",
     "text": [
      "100%|██████████| 45/45 [00:00<00:00, 950.33it/s]\n"
     ]
    },
    {
     "name": "stdout",
     "output_type": "stream",
     "text": [
      "Epoch: 33   Loss: 1.1078969240188599\n",
      "              precision    recall  f1-score   support\n",
      "\n",
      "           0       0.40      0.51      0.45      6006\n",
      "           1       0.36      0.24      0.29      6072\n",
      "           2       0.40      0.43      0.42      7821\n",
      "           3       0.55      0.89      0.68      6699\n",
      "           4       0.65      0.95      0.77      6897\n",
      "           5       0.40      0.19      0.26      6468\n",
      "           6       0.49      0.17      0.25      6699\n",
      "\n",
      "    accuracy                           0.49     46662\n",
      "   macro avg       0.46      0.48      0.44     46662\n",
      "weighted avg       0.46      0.49      0.45     46662\n",
      "\n"
     ]
    },
    {
     "name": "stderr",
     "output_type": "stream",
     "text": [
      "100%|██████████| 45/45 [00:00<00:00, 934.35it/s]"
     ]
    },
    {
     "name": "stdout",
     "output_type": "stream",
     "text": [
      "Epoch: 34   Loss: 1.8664861917495728\n"
     ]
    },
    {
     "name": "stderr",
     "output_type": "stream",
     "text": [
      "\n"
     ]
    },
    {
     "name": "stdout",
     "output_type": "stream",
     "text": [
      "              precision    recall  f1-score   support\n",
      "\n",
      "           0       0.40      0.52      0.45      6188\n",
      "           1       0.36      0.25      0.29      6256\n",
      "           2       0.40      0.43      0.42      8058\n",
      "           3       0.55      0.89      0.68      6902\n",
      "           4       0.65      0.95      0.77      7106\n",
      "           5       0.40      0.19      0.26      6664\n",
      "           6       0.49      0.17      0.26      6902\n",
      "\n",
      "    accuracy                           0.49     48076\n",
      "   macro avg       0.47      0.49      0.45     48076\n",
      "weighted avg       0.47      0.49      0.45     48076\n",
      "\n"
     ]
    },
    {
     "name": "stderr",
     "output_type": "stream",
     "text": [
      "100%|██████████| 45/45 [00:00<00:00, 822.96it/s]\n"
     ]
    },
    {
     "name": "stdout",
     "output_type": "stream",
     "text": [
      "Epoch: 35   Loss: 1.1984518766403198\n",
      "              precision    recall  f1-score   support\n",
      "\n",
      "           0       0.40      0.52      0.45      6370\n",
      "           1       0.36      0.24      0.29      6440\n",
      "           2       0.41      0.44      0.42      8295\n",
      "           3       0.55      0.89      0.68      7105\n",
      "           4       0.66      0.95      0.78      7315\n",
      "           5       0.40      0.20      0.26      6860\n",
      "           6       0.50      0.18      0.26      7105\n",
      "\n",
      "    accuracy                           0.49     49490\n",
      "   macro avg       0.47      0.49      0.45     49490\n",
      "weighted avg       0.47      0.49      0.45     49490\n",
      "\n"
     ]
    },
    {
     "name": "stderr",
     "output_type": "stream",
     "text": [
      "100%|██████████| 45/45 [00:00<00:00, 830.98it/s]\n"
     ]
    },
    {
     "name": "stdout",
     "output_type": "stream",
     "text": [
      "Epoch: 36   Loss: 1.3389616012573242\n",
      "              precision    recall  f1-score   support\n",
      "\n",
      "           0       0.40      0.52      0.46      6552\n",
      "           1       0.36      0.25      0.29      6624\n",
      "           2       0.41      0.44      0.42      8532\n",
      "           3       0.55      0.89      0.68      7308\n",
      "           4       0.66      0.95      0.78      7524\n",
      "           5       0.41      0.20      0.27      7056\n",
      "           6       0.50      0.18      0.27      7308\n",
      "\n",
      "    accuracy                           0.49     50904\n",
      "   macro avg       0.47      0.49      0.45     50904\n",
      "weighted avg       0.47      0.49      0.46     50904\n",
      "\n"
     ]
    },
    {
     "name": "stderr",
     "output_type": "stream",
     "text": [
      "100%|██████████| 45/45 [00:00<00:00, 855.23it/s]\n"
     ]
    },
    {
     "name": "stdout",
     "output_type": "stream",
     "text": [
      "Epoch: 37   Loss: 0.8276956677436829\n",
      "              precision    recall  f1-score   support\n",
      "\n",
      "           0       0.41      0.53      0.46      6734\n",
      "           1       0.36      0.25      0.29      6808\n",
      "           2       0.41      0.45      0.43      8769\n",
      "           3       0.56      0.89      0.68      7511\n",
      "           4       0.66      0.95      0.78      7733\n",
      "           5       0.41      0.20      0.27      7252\n",
      "           6       0.50      0.19      0.27      7511\n",
      "\n",
      "    accuracy                           0.50     52318\n",
      "   macro avg       0.47      0.49      0.46     52318\n",
      "weighted avg       0.47      0.50      0.46     52318\n",
      "\n"
     ]
    },
    {
     "name": "stderr",
     "output_type": "stream",
     "text": [
      "100%|██████████| 45/45 [00:00<00:00, 925.04it/s]\n"
     ]
    },
    {
     "name": "stdout",
     "output_type": "stream",
     "text": [
      "Epoch: 38   Loss: 0.9497860074043274\n",
      "              precision    recall  f1-score   support\n",
      "\n",
      "           0       0.41      0.53      0.46      6916\n",
      "           1       0.36      0.25      0.29      6992\n",
      "           2       0.41      0.45      0.43      9006\n",
      "           3       0.56      0.89      0.69      7714\n",
      "           4       0.66      0.95      0.78      7942\n",
      "           5       0.41      0.21      0.27      7448\n",
      "           6       0.50      0.19      0.28      7714\n",
      "\n",
      "    accuracy                           0.50     53732\n",
      "   macro avg       0.47      0.49      0.46     53732\n",
      "weighted avg       0.48      0.50      0.46     53732\n",
      "\n"
     ]
    },
    {
     "name": "stderr",
     "output_type": "stream",
     "text": [
      "100%|██████████| 45/45 [00:00<00:00, 888.05it/s]\n"
     ]
    },
    {
     "name": "stdout",
     "output_type": "stream",
     "text": [
      "Epoch: 39   Loss: 1.4071217775344849\n",
      "              precision    recall  f1-score   support\n",
      "\n",
      "           0       0.41      0.53      0.46      7098\n",
      "           1       0.37      0.25      0.29      7176\n",
      "           2       0.41      0.45      0.43      9243\n",
      "           3       0.56      0.89      0.69      7917\n",
      "           4       0.66      0.95      0.78      8151\n",
      "           5       0.41      0.21      0.28      7644\n",
      "           6       0.51      0.20      0.28      7917\n",
      "\n",
      "    accuracy                           0.50     55146\n",
      "   macro avg       0.48      0.50      0.46     55146\n",
      "weighted avg       0.48      0.50      0.46     55146\n",
      "\n"
     ]
    },
    {
     "name": "stderr",
     "output_type": "stream",
     "text": [
      "100%|██████████| 45/45 [00:00<00:00, 894.86it/s]\n"
     ]
    },
    {
     "name": "stdout",
     "output_type": "stream",
     "text": [
      "Epoch: 40   Loss: 0.8933799266815186\n",
      "              precision    recall  f1-score   support\n",
      "\n",
      "           0       0.41      0.53      0.47      7280\n",
      "           1       0.37      0.25      0.30      7360\n",
      "           2       0.42      0.46      0.44      9480\n",
      "           3       0.56      0.89      0.69      8120\n",
      "           4       0.66      0.95      0.78      8360\n",
      "           5       0.42      0.21      0.28      7840\n",
      "           6       0.51      0.20      0.29      8120\n",
      "\n",
      "    accuracy                           0.50     56560\n",
      "   macro avg       0.48      0.50      0.46     56560\n",
      "weighted avg       0.48      0.50      0.47     56560\n",
      "\n"
     ]
    },
    {
     "name": "stderr",
     "output_type": "stream",
     "text": [
      "100%|██████████| 45/45 [00:00<00:00, 913.06it/s]\n"
     ]
    },
    {
     "name": "stdout",
     "output_type": "stream",
     "text": [
      "Epoch: 41   Loss: 1.0440033674240112\n",
      "              precision    recall  f1-score   support\n",
      "\n",
      "           0       0.42      0.53      0.47      7462\n",
      "           1       0.37      0.25      0.30      7544\n",
      "           2       0.42      0.46      0.44      9717\n",
      "           3       0.57      0.89      0.69      8323\n",
      "           4       0.66      0.95      0.78      8569\n",
      "           5       0.42      0.21      0.28      8036\n",
      "           6       0.51      0.21      0.29      8323\n",
      "\n",
      "    accuracy                           0.50     57974\n",
      "   macro avg       0.48      0.50      0.46     57974\n",
      "weighted avg       0.48      0.50      0.47     57974\n",
      "\n"
     ]
    },
    {
     "name": "stderr",
     "output_type": "stream",
     "text": [
      "100%|██████████| 45/45 [00:00<00:00, 915.85it/s]\n"
     ]
    },
    {
     "name": "stdout",
     "output_type": "stream",
     "text": [
      "Epoch: 42   Loss: 1.3651947975158691\n",
      "              precision    recall  f1-score   support\n",
      "\n",
      "           0       0.42      0.54      0.47      7644\n",
      "           1       0.37      0.25      0.30      7728\n",
      "           2       0.42      0.46      0.44      9954\n",
      "           3       0.57      0.89      0.69      8526\n",
      "           4       0.67      0.95      0.78      8778\n",
      "           5       0.42      0.21      0.28      8232\n",
      "           6       0.51      0.21      0.30      8526\n",
      "\n",
      "    accuracy                           0.51     59388\n",
      "   macro avg       0.48      0.50      0.47     59388\n",
      "weighted avg       0.49      0.51      0.47     59388\n",
      "\n"
     ]
    },
    {
     "name": "stderr",
     "output_type": "stream",
     "text": [
      "100%|██████████| 45/45 [00:00<00:00, 826.46it/s]\n"
     ]
    },
    {
     "name": "stdout",
     "output_type": "stream",
     "text": [
      "Epoch: 43   Loss: 1.313491702079773\n",
      "              precision    recall  f1-score   support\n",
      "\n",
      "           0       0.42      0.54      0.47      7826\n",
      "           1       0.38      0.25      0.30      7912\n",
      "           2       0.42      0.47      0.44     10191\n",
      "           3       0.57      0.89      0.69      8729\n",
      "           4       0.67      0.95      0.78      8987\n",
      "           5       0.43      0.22      0.29      8428\n",
      "           6       0.51      0.22      0.30      8729\n",
      "\n",
      "    accuracy                           0.51     60802\n",
      "   macro avg       0.48      0.50      0.47     60802\n",
      "weighted avg       0.49      0.51      0.47     60802\n",
      "\n"
     ]
    },
    {
     "name": "stderr",
     "output_type": "stream",
     "text": [
      "100%|██████████| 45/45 [00:00<00:00, 856.65it/s]\n"
     ]
    },
    {
     "name": "stdout",
     "output_type": "stream",
     "text": [
      "Epoch: 44   Loss: 0.8423108458518982\n",
      "              precision    recall  f1-score   support\n",
      "\n",
      "           0       0.42      0.54      0.47      8008\n",
      "           1       0.38      0.25      0.30      8096\n",
      "           2       0.42      0.47      0.45     10428\n",
      "           3       0.57      0.89      0.70      8932\n",
      "           4       0.67      0.95      0.78      9196\n",
      "           5       0.43      0.22      0.29      8624\n",
      "           6       0.51      0.22      0.31      8932\n",
      "\n",
      "    accuracy                           0.51     62216\n",
      "   macro avg       0.49      0.50      0.47     62216\n",
      "weighted avg       0.49      0.51      0.47     62216\n",
      "\n"
     ]
    },
    {
     "name": "stderr",
     "output_type": "stream",
     "text": [
      "100%|██████████| 45/45 [00:00<00:00, 730.58it/s]\n"
     ]
    },
    {
     "name": "stdout",
     "output_type": "stream",
     "text": [
      "Epoch: 45   Loss: 0.9127450585365295\n",
      "              precision    recall  f1-score   support\n",
      "\n",
      "           0       0.42      0.54      0.48      8190\n",
      "           1       0.38      0.25      0.30      8280\n",
      "           2       0.43      0.47      0.45     10665\n",
      "           3       0.57      0.89      0.70      9135\n",
      "           4       0.67      0.95      0.78      9405\n",
      "           5       0.43      0.22      0.29      8820\n",
      "           6       0.51      0.22      0.31      9135\n",
      "\n",
      "    accuracy                           0.51     63630\n",
      "   macro avg       0.49      0.51      0.47     63630\n",
      "weighted avg       0.49      0.51      0.48     63630\n",
      "\n"
     ]
    },
    {
     "name": "stderr",
     "output_type": "stream",
     "text": [
      "100%|██████████| 45/45 [00:00<00:00, 793.95it/s]\n"
     ]
    },
    {
     "name": "stdout",
     "output_type": "stream",
     "text": [
      "Epoch: 46   Loss: 1.272988200187683\n",
      "              precision    recall  f1-score   support\n",
      "\n",
      "           0       0.43      0.54      0.48      8372\n",
      "           1       0.38      0.25      0.30      8464\n",
      "           2       0.43      0.48      0.45     10902\n",
      "           3       0.58      0.89      0.70      9338\n",
      "           4       0.67      0.95      0.78      9614\n",
      "           5       0.43      0.22      0.29      9016\n",
      "           6       0.52      0.23      0.32      9338\n",
      "\n",
      "    accuracy                           0.51     65044\n",
      "   macro avg       0.49      0.51      0.47     65044\n",
      "weighted avg       0.49      0.51      0.48     65044\n",
      "\n"
     ]
    },
    {
     "name": "stderr",
     "output_type": "stream",
     "text": [
      "100%|██████████| 45/45 [00:00<00:00, 702.19it/s]\n"
     ]
    },
    {
     "name": "stdout",
     "output_type": "stream",
     "text": [
      "Epoch: 47   Loss: 0.8693779110908508\n",
      "              precision    recall  f1-score   support\n",
      "\n",
      "           0       0.43      0.54      0.48      8554\n",
      "           1       0.38      0.25      0.30      8648\n",
      "           2       0.43      0.48      0.45     11139\n",
      "           3       0.58      0.89      0.70      9541\n",
      "           4       0.67      0.95      0.79      9823\n",
      "           5       0.43      0.23      0.30      9212\n",
      "           6       0.52      0.23      0.32      9541\n",
      "\n",
      "    accuracy                           0.51     66458\n",
      "   macro avg       0.49      0.51      0.48     66458\n",
      "weighted avg       0.49      0.51      0.48     66458\n",
      "\n"
     ]
    },
    {
     "name": "stderr",
     "output_type": "stream",
     "text": [
      "100%|██████████| 45/45 [00:00<00:00, 842.59it/s]\n"
     ]
    },
    {
     "name": "stdout",
     "output_type": "stream",
     "text": [
      "Epoch: 48   Loss: 1.0642203092575073\n",
      "              precision    recall  f1-score   support\n",
      "\n",
      "           0       0.43      0.55      0.48      8736\n",
      "           1       0.39      0.25      0.30      8832\n",
      "           2       0.43      0.48      0.45     11376\n",
      "           3       0.58      0.89      0.70      9744\n",
      "           4       0.67      0.95      0.79     10032\n",
      "           5       0.44      0.23      0.30      9408\n",
      "           6       0.52      0.24      0.32      9744\n",
      "\n",
      "    accuracy                           0.52     67872\n",
      "   macro avg       0.49      0.51      0.48     67872\n",
      "weighted avg       0.50      0.52      0.48     67872\n",
      "\n"
     ]
    },
    {
     "name": "stderr",
     "output_type": "stream",
     "text": [
      "100%|██████████| 45/45 [00:00<00:00, 827.84it/s]\n"
     ]
    },
    {
     "name": "stdout",
     "output_type": "stream",
     "text": [
      "Epoch: 49   Loss: 1.1938503980636597\n",
      "              precision    recall  f1-score   support\n",
      "\n",
      "           0       0.43      0.55      0.48      8918\n",
      "           1       0.39      0.25      0.30      9016\n",
      "           2       0.43      0.48      0.46     11613\n",
      "           3       0.58      0.89      0.70      9947\n",
      "           4       0.67      0.95      0.79     10241\n",
      "           5       0.44      0.23      0.30      9604\n",
      "           6       0.52      0.24      0.33      9947\n",
      "\n",
      "    accuracy                           0.52     69286\n",
      "   macro avg       0.49      0.51      0.48     69286\n",
      "weighted avg       0.50      0.52      0.48     69286\n",
      "\n"
     ]
    },
    {
     "name": "stderr",
     "output_type": "stream",
     "text": [
      "100%|██████████| 45/45 [00:00<00:00, 833.95it/s]\n"
     ]
    },
    {
     "name": "stdout",
     "output_type": "stream",
     "text": [
      "Epoch: 50   Loss: 1.1686253547668457\n",
      "              precision    recall  f1-score   support\n",
      "\n",
      "           0       0.43      0.55      0.48      9100\n",
      "           1       0.39      0.25      0.30      9200\n",
      "           2       0.43      0.49      0.46     11850\n",
      "           3       0.58      0.89      0.71     10150\n",
      "           4       0.67      0.95      0.79     10450\n",
      "           5       0.44      0.23      0.30      9800\n",
      "           6       0.52      0.24      0.33     10150\n",
      "\n",
      "    accuracy                           0.52     70700\n",
      "   macro avg       0.50      0.51      0.48     70700\n",
      "weighted avg       0.50      0.52      0.49     70700\n",
      "\n"
     ]
    },
    {
     "name": "stderr",
     "output_type": "stream",
     "text": [
      "100%|██████████| 45/45 [00:00<00:00, 817.28it/s]\n"
     ]
    },
    {
     "name": "stdout",
     "output_type": "stream",
     "text": [
      "Epoch: 51   Loss: 0.869282066822052\n",
      "              precision    recall  f1-score   support\n",
      "\n",
      "           0       0.44      0.55      0.49      9282\n",
      "           1       0.39      0.25      0.30      9384\n",
      "           2       0.44      0.49      0.46     12087\n",
      "           3       0.59      0.89      0.71     10353\n",
      "           4       0.67      0.95      0.79     10659\n",
      "           5       0.44      0.23      0.31      9996\n",
      "           6       0.52      0.25      0.34     10353\n",
      "\n",
      "    accuracy                           0.52     72114\n",
      "   macro avg       0.50      0.51      0.48     72114\n",
      "weighted avg       0.50      0.52      0.49     72114\n",
      "\n"
     ]
    },
    {
     "name": "stderr",
     "output_type": "stream",
     "text": [
      "100%|██████████| 45/45 [00:00<00:00, 832.73it/s]\n"
     ]
    },
    {
     "name": "stdout",
     "output_type": "stream",
     "text": [
      "Epoch: 52   Loss: 0.6043893694877625\n",
      "              precision    recall  f1-score   support\n",
      "\n",
      "           0       0.44      0.55      0.49      9464\n",
      "           1       0.39      0.25      0.30      9568\n",
      "           2       0.44      0.49      0.46     12324\n",
      "           3       0.59      0.89      0.71     10556\n",
      "           4       0.68      0.95      0.79     10868\n",
      "           5       0.44      0.24      0.31     10192\n",
      "           6       0.53      0.25      0.34     10556\n",
      "\n",
      "    accuracy                           0.52     73528\n",
      "   macro avg       0.50      0.52      0.49     73528\n",
      "weighted avg       0.50      0.52      0.49     73528\n",
      "\n"
     ]
    },
    {
     "name": "stderr",
     "output_type": "stream",
     "text": [
      "100%|██████████| 45/45 [00:00<00:00, 824.56it/s]\n"
     ]
    },
    {
     "name": "stdout",
     "output_type": "stream",
     "text": [
      "Epoch: 53   Loss: 0.7779634594917297\n",
      "              precision    recall  f1-score   support\n",
      "\n",
      "           0       0.44      0.55      0.49      9646\n",
      "           1       0.39      0.25      0.30      9752\n",
      "           2       0.44      0.49      0.46     12561\n",
      "           3       0.59      0.89      0.71     10759\n",
      "           4       0.68      0.95      0.79     11077\n",
      "           5       0.44      0.24      0.31     10388\n",
      "           6       0.53      0.25      0.34     10759\n",
      "\n",
      "    accuracy                           0.52     74942\n",
      "   macro avg       0.50      0.52      0.49     74942\n",
      "weighted avg       0.50      0.52      0.49     74942\n",
      "\n"
     ]
    },
    {
     "name": "stderr",
     "output_type": "stream",
     "text": [
      "100%|██████████| 45/45 [00:00<00:00, 842.00it/s]\n"
     ]
    },
    {
     "name": "stdout",
     "output_type": "stream",
     "text": [
      "Epoch: 54   Loss: 1.4113150835037231\n",
      "              precision    recall  f1-score   support\n",
      "\n",
      "           0       0.44      0.55      0.49      9828\n",
      "           1       0.40      0.25      0.30      9936\n",
      "           2       0.44      0.50      0.47     12798\n",
      "           3       0.59      0.89      0.71     10962\n",
      "           4       0.68      0.95      0.79     11286\n",
      "           5       0.44      0.24      0.31     10584\n",
      "           6       0.53      0.26      0.34     10962\n",
      "\n",
      "    accuracy                           0.52     76356\n",
      "   macro avg       0.50      0.52      0.49     76356\n",
      "weighted avg       0.50      0.52      0.49     76356\n",
      "\n"
     ]
    },
    {
     "name": "stderr",
     "output_type": "stream",
     "text": [
      "100%|██████████| 45/45 [00:00<00:00, 708.38it/s]\n"
     ]
    },
    {
     "name": "stdout",
     "output_type": "stream",
     "text": [
      "Epoch: 55   Loss: 1.0807658433914185\n",
      "              precision    recall  f1-score   support\n",
      "\n",
      "           0       0.44      0.56      0.49     10010\n",
      "           1       0.40      0.25      0.31     10120\n",
      "           2       0.44      0.50      0.47     13035\n",
      "           3       0.59      0.89      0.71     11165\n",
      "           4       0.68      0.95      0.79     11495\n",
      "           5       0.45      0.24      0.31     10780\n",
      "           6       0.53      0.26      0.35     11165\n",
      "\n",
      "    accuracy                           0.53     77770\n",
      "   macro avg       0.50      0.52      0.49     77770\n",
      "weighted avg       0.51      0.53      0.49     77770\n",
      "\n"
     ]
    },
    {
     "name": "stderr",
     "output_type": "stream",
     "text": [
      "100%|██████████| 45/45 [00:00<00:00, 887.37it/s]\n"
     ]
    },
    {
     "name": "stdout",
     "output_type": "stream",
     "text": [
      "Epoch: 56   Loss: 1.59158194065094\n",
      "              precision    recall  f1-score   support\n",
      "\n",
      "           0       0.44      0.56      0.49     10192\n",
      "           1       0.40      0.25      0.31     10304\n",
      "           2       0.44      0.50      0.47     13272\n",
      "           3       0.59      0.89      0.71     11368\n",
      "           4       0.68      0.95      0.79     11704\n",
      "           5       0.45      0.24      0.31     10976\n",
      "           6       0.53      0.26      0.35     11368\n",
      "\n",
      "    accuracy                           0.53     79184\n",
      "   macro avg       0.50      0.52      0.49     79184\n",
      "weighted avg       0.51      0.53      0.50     79184\n",
      "\n"
     ]
    },
    {
     "name": "stderr",
     "output_type": "stream",
     "text": [
      "100%|██████████| 45/45 [00:00<00:00, 941.17it/s]\n"
     ]
    },
    {
     "name": "stdout",
     "output_type": "stream",
     "text": [
      "Epoch: 57   Loss: 1.8212766647338867\n",
      "              precision    recall  f1-score   support\n",
      "\n",
      "           0       0.44      0.56      0.49     10374\n",
      "           1       0.40      0.25      0.31     10488\n",
      "           2       0.44      0.50      0.47     13509\n",
      "           3       0.60      0.89      0.71     11571\n",
      "           4       0.68      0.95      0.79     11913\n",
      "           5       0.45      0.24      0.32     11172\n",
      "           6       0.53      0.27      0.35     11571\n",
      "\n",
      "    accuracy                           0.53     80598\n",
      "   macro avg       0.51      0.52      0.49     80598\n",
      "weighted avg       0.51      0.53      0.50     80598\n",
      "\n"
     ]
    },
    {
     "name": "stderr",
     "output_type": "stream",
     "text": [
      "100%|██████████| 45/45 [00:00<00:00, 851.97it/s]\n"
     ]
    },
    {
     "name": "stdout",
     "output_type": "stream",
     "text": [
      "Epoch: 58   Loss: 1.0207337141036987\n",
      "              precision    recall  f1-score   support\n",
      "\n",
      "           0       0.45      0.56      0.50     10556\n",
      "           1       0.40      0.25      0.31     10672\n",
      "           2       0.45      0.50      0.47     13746\n",
      "           3       0.60      0.89      0.71     11774\n",
      "           4       0.68      0.95      0.79     12122\n",
      "           5       0.45      0.25      0.32     11368\n",
      "           6       0.53      0.27      0.36     11774\n",
      "\n",
      "    accuracy                           0.53     82012\n",
      "   macro avg       0.51      0.52      0.49     82012\n",
      "weighted avg       0.51      0.53      0.50     82012\n",
      "\n"
     ]
    },
    {
     "name": "stderr",
     "output_type": "stream",
     "text": [
      "100%|██████████| 45/45 [00:00<00:00, 914.37it/s]\n"
     ]
    },
    {
     "name": "stdout",
     "output_type": "stream",
     "text": [
      "Epoch: 59   Loss: 1.791035771369934\n",
      "              precision    recall  f1-score   support\n",
      "\n",
      "           0       0.45      0.56      0.50     10738\n",
      "           1       0.40      0.25      0.31     10856\n",
      "           2       0.45      0.51      0.47     13983\n",
      "           3       0.60      0.89      0.72     11977\n",
      "           4       0.68      0.95      0.79     12331\n",
      "           5       0.45      0.25      0.32     11564\n",
      "           6       0.53      0.27      0.36     11977\n",
      "\n",
      "    accuracy                           0.53     83426\n",
      "   macro avg       0.51      0.52      0.50     83426\n",
      "weighted avg       0.51      0.53      0.50     83426\n",
      "\n"
     ]
    },
    {
     "name": "stderr",
     "output_type": "stream",
     "text": [
      "100%|██████████| 45/45 [00:00<00:00, 899.32it/s]\n"
     ]
    },
    {
     "name": "stdout",
     "output_type": "stream",
     "text": [
      "Epoch: 60   Loss: 0.5345341563224792\n",
      "              precision    recall  f1-score   support\n",
      "\n",
      "           0       0.45      0.56      0.50     10920\n",
      "           1       0.41      0.25      0.31     11040\n",
      "           2       0.45      0.51      0.48     14220\n",
      "           3       0.60      0.89      0.72     12180\n",
      "           4       0.68      0.95      0.79     12540\n",
      "           5       0.45      0.25      0.32     11760\n",
      "           6       0.53      0.27      0.36     12180\n",
      "\n",
      "    accuracy                           0.53     84840\n",
      "   macro avg       0.51      0.53      0.50     84840\n",
      "weighted avg       0.51      0.53      0.50     84840\n",
      "\n"
     ]
    },
    {
     "name": "stderr",
     "output_type": "stream",
     "text": [
      "100%|██████████| 45/45 [00:00<00:00, 898.58it/s]\n"
     ]
    },
    {
     "name": "stdout",
     "output_type": "stream",
     "text": [
      "Epoch: 61   Loss: 1.2909270524978638\n",
      "              precision    recall  f1-score   support\n",
      "\n",
      "           0       0.45      0.56      0.50     11102\n",
      "           1       0.41      0.25      0.31     11224\n",
      "           2       0.45      0.51      0.48     14457\n",
      "           3       0.60      0.89      0.72     12383\n",
      "           4       0.68      0.95      0.79     12749\n",
      "           5       0.46      0.25      0.32     11956\n",
      "           6       0.53      0.28      0.36     12383\n",
      "\n",
      "    accuracy                           0.53     86254\n",
      "   macro avg       0.51      0.53      0.50     86254\n",
      "weighted avg       0.51      0.53      0.50     86254\n",
      "\n"
     ]
    },
    {
     "name": "stderr",
     "output_type": "stream",
     "text": [
      "100%|██████████| 45/45 [00:00<00:00, 902.53it/s]\n"
     ]
    },
    {
     "name": "stdout",
     "output_type": "stream",
     "text": [
      "Epoch: 62   Loss: 0.8944869637489319\n",
      "              precision    recall  f1-score   support\n",
      "\n",
      "           0       0.45      0.57      0.50     11284\n",
      "           1       0.41      0.25      0.31     11408\n",
      "           2       0.45      0.51      0.48     14694\n",
      "           3       0.60      0.89      0.72     12586\n",
      "           4       0.68      0.95      0.79     12958\n",
      "           5       0.46      0.25      0.33     12152\n",
      "           6       0.53      0.28      0.37     12586\n",
      "\n",
      "    accuracy                           0.53     87668\n",
      "   macro avg       0.51      0.53      0.50     87668\n",
      "weighted avg       0.51      0.53      0.50     87668\n",
      "\n"
     ]
    },
    {
     "name": "stderr",
     "output_type": "stream",
     "text": [
      "100%|██████████| 45/45 [00:00<00:00, 914.27it/s]\n"
     ]
    },
    {
     "name": "stdout",
     "output_type": "stream",
     "text": [
      "Epoch: 63   Loss: 1.2212309837341309\n",
      "              precision    recall  f1-score   support\n",
      "\n",
      "           0       0.45      0.57      0.50     11466\n",
      "           1       0.41      0.25      0.31     11592\n",
      "           2       0.45      0.52      0.48     14931\n",
      "           3       0.60      0.89      0.72     12789\n",
      "           4       0.69      0.95      0.79     13167\n",
      "           5       0.46      0.26      0.33     12348\n",
      "           6       0.53      0.28      0.37     12789\n",
      "\n",
      "    accuracy                           0.54     89082\n",
      "   macro avg       0.51      0.53      0.50     89082\n",
      "weighted avg       0.52      0.54      0.51     89082\n",
      "\n"
     ]
    },
    {
     "name": "stderr",
     "output_type": "stream",
     "text": [
      "100%|██████████| 45/45 [00:00<00:00, 871.38it/s]\n"
     ]
    },
    {
     "name": "stdout",
     "output_type": "stream",
     "text": [
      "Epoch: 64   Loss: 1.1032487154006958\n",
      "              precision    recall  f1-score   support\n",
      "\n",
      "           0       0.45      0.57      0.50     11648\n",
      "           1       0.41      0.25      0.31     11776\n",
      "           2       0.45      0.52      0.48     15168\n",
      "           3       0.61      0.89      0.72     12992\n",
      "           4       0.69      0.94      0.80     13376\n",
      "           5       0.46      0.26      0.33     12544\n",
      "           6       0.53      0.28      0.37     12992\n",
      "\n",
      "    accuracy                           0.54     90496\n",
      "   macro avg       0.52      0.53      0.50     90496\n",
      "weighted avg       0.52      0.54      0.51     90496\n",
      "\n"
     ]
    },
    {
     "name": "stderr",
     "output_type": "stream",
     "text": [
      "100%|██████████| 45/45 [00:00<00:00, 860.44it/s]\n"
     ]
    },
    {
     "name": "stdout",
     "output_type": "stream",
     "text": [
      "Epoch: 65   Loss: 1.0797157287597656\n",
      "              precision    recall  f1-score   support\n",
      "\n",
      "           0       0.45      0.57      0.51     11830\n",
      "           1       0.41      0.25      0.31     11960\n",
      "           2       0.46      0.52      0.48     15405\n",
      "           3       0.61      0.89      0.72     13195\n",
      "           4       0.69      0.95      0.80     13585\n",
      "           5       0.46      0.26      0.33     12740\n",
      "           6       0.54      0.29      0.37     13195\n",
      "\n",
      "    accuracy                           0.54     91910\n",
      "   macro avg       0.52      0.53      0.50     91910\n",
      "weighted avg       0.52      0.54      0.51     91910\n",
      "\n"
     ]
    },
    {
     "name": "stderr",
     "output_type": "stream",
     "text": [
      "100%|██████████| 45/45 [00:00<00:00, 942.70it/s]\n"
     ]
    },
    {
     "name": "stdout",
     "output_type": "stream",
     "text": [
      "Epoch: 66   Loss: 1.1208699941635132\n",
      "              precision    recall  f1-score   support\n",
      "\n",
      "           0       0.46      0.57      0.51     12012\n",
      "           1       0.41      0.25      0.31     12144\n",
      "           2       0.46      0.52      0.49     15642\n",
      "           3       0.61      0.89      0.72     13398\n",
      "           4       0.69      0.94      0.80     13794\n",
      "           5       0.46      0.26      0.33     12936\n",
      "           6       0.54      0.29      0.38     13398\n",
      "\n",
      "    accuracy                           0.54     93324\n",
      "   macro avg       0.52      0.53      0.51     93324\n",
      "weighted avg       0.52      0.54      0.51     93324\n",
      "\n"
     ]
    },
    {
     "name": "stderr",
     "output_type": "stream",
     "text": [
      "100%|██████████| 45/45 [00:00<00:00, 804.79it/s]\n"
     ]
    },
    {
     "name": "stdout",
     "output_type": "stream",
     "text": [
      "Epoch: 67   Loss: 0.8666824698448181\n",
      "              precision    recall  f1-score   support\n",
      "\n",
      "           0       0.46      0.57      0.51     12194\n",
      "           1       0.42      0.25      0.31     12328\n",
      "           2       0.46      0.52      0.49     15879\n",
      "           3       0.61      0.89      0.72     13601\n",
      "           4       0.69      0.94      0.80     14003\n",
      "           5       0.46      0.26      0.34     13132\n",
      "           6       0.54      0.29      0.38     13601\n",
      "\n",
      "    accuracy                           0.54     94738\n",
      "   macro avg       0.52      0.53      0.51     94738\n",
      "weighted avg       0.52      0.54      0.51     94738\n",
      "\n"
     ]
    },
    {
     "name": "stderr",
     "output_type": "stream",
     "text": [
      "100%|██████████| 45/45 [00:00<00:00, 879.99it/s]\n"
     ]
    },
    {
     "name": "stdout",
     "output_type": "stream",
     "text": [
      "Epoch: 68   Loss: 1.0323553085327148\n",
      "              precision    recall  f1-score   support\n",
      "\n",
      "           0       0.46      0.57      0.51     12376\n",
      "           1       0.42      0.25      0.31     12512\n",
      "           2       0.46      0.52      0.49     16116\n",
      "           3       0.61      0.89      0.73     13804\n",
      "           4       0.69      0.94      0.80     14212\n",
      "           5       0.46      0.27      0.34     13328\n",
      "           6       0.54      0.30      0.38     13804\n",
      "\n",
      "    accuracy                           0.54     96152\n",
      "   macro avg       0.52      0.53      0.51     96152\n",
      "weighted avg       0.52      0.54      0.51     96152\n",
      "\n"
     ]
    },
    {
     "name": "stderr",
     "output_type": "stream",
     "text": [
      "100%|██████████| 45/45 [00:00<00:00, 921.52it/s]\n"
     ]
    },
    {
     "name": "stdout",
     "output_type": "stream",
     "text": [
      "Epoch: 69   Loss: 0.8878304958343506\n",
      "              precision    recall  f1-score   support\n",
      "\n",
      "           0       0.46      0.57      0.51     12558\n",
      "           1       0.42      0.25      0.32     12696\n",
      "           2       0.46      0.53      0.49     16353\n",
      "           3       0.61      0.89      0.73     14007\n",
      "           4       0.69      0.94      0.80     14421\n",
      "           5       0.47      0.27      0.34     13524\n",
      "           6       0.54      0.30      0.38     14007\n",
      "\n",
      "    accuracy                           0.54     97566\n",
      "   macro avg       0.52      0.54      0.51     97566\n",
      "weighted avg       0.52      0.54      0.51     97566\n",
      "\n"
     ]
    },
    {
     "name": "stderr",
     "output_type": "stream",
     "text": [
      "100%|██████████| 45/45 [00:00<00:00, 958.74it/s]\n"
     ]
    },
    {
     "name": "stdout",
     "output_type": "stream",
     "text": [
      "Epoch: 70   Loss: 1.7719389200210571\n",
      "              precision    recall  f1-score   support\n",
      "\n",
      "           0       0.46      0.57      0.51     12740\n",
      "           1       0.42      0.25      0.32     12880\n",
      "           2       0.46      0.53      0.49     16590\n",
      "           3       0.61      0.89      0.73     14210\n",
      "           4       0.69      0.94      0.80     14630\n",
      "           5       0.47      0.27      0.34     13720\n",
      "           6       0.54      0.30      0.39     14210\n",
      "\n",
      "    accuracy                           0.54     98980\n",
      "   macro avg       0.52      0.54      0.51     98980\n",
      "weighted avg       0.52      0.54      0.51     98980\n",
      "\n"
     ]
    },
    {
     "name": "stderr",
     "output_type": "stream",
     "text": [
      "100%|██████████| 45/45 [00:00<00:00, 946.38it/s]\n"
     ]
    },
    {
     "name": "stdout",
     "output_type": "stream",
     "text": [
      "Epoch: 71   Loss: 1.180607795715332\n",
      "              precision    recall  f1-score   support\n",
      "\n",
      "           0       0.46      0.57      0.51     12922\n",
      "           1       0.42      0.25      0.32     13064\n",
      "           2       0.46      0.53      0.49     16827\n",
      "           3       0.62      0.89      0.73     14413\n",
      "           4       0.69      0.94      0.80     14839\n",
      "           5       0.47      0.27      0.34     13916\n",
      "           6       0.54      0.30      0.39     14413\n",
      "\n",
      "    accuracy                           0.54    100394\n",
      "   macro avg       0.52      0.54      0.51    100394\n",
      "weighted avg       0.52      0.54      0.52    100394\n",
      "\n"
     ]
    },
    {
     "name": "stderr",
     "output_type": "stream",
     "text": [
      "100%|██████████| 45/45 [00:00<00:00, 957.91it/s]\n"
     ]
    },
    {
     "name": "stdout",
     "output_type": "stream",
     "text": [
      "Epoch: 72   Loss: 1.0502880811691284\n",
      "              precision    recall  f1-score   support\n",
      "\n",
      "           0       0.46      0.58      0.51     13104\n",
      "           1       0.42      0.25      0.32     13248\n",
      "           2       0.46      0.53      0.50     17064\n",
      "           3       0.62      0.89      0.73     14616\n",
      "           4       0.69      0.94      0.80     15048\n",
      "           5       0.47      0.27      0.34     14112\n",
      "           6       0.54      0.30      0.39     14616\n",
      "\n",
      "    accuracy                           0.55    101808\n",
      "   macro avg       0.52      0.54      0.51    101808\n",
      "weighted avg       0.53      0.55      0.52    101808\n",
      "\n"
     ]
    },
    {
     "name": "stderr",
     "output_type": "stream",
     "text": [
      "100%|██████████| 45/45 [00:00<00:00, 928.90it/s]\n"
     ]
    },
    {
     "name": "stdout",
     "output_type": "stream",
     "text": [
      "Epoch: 73   Loss: 0.9038485884666443\n",
      "              precision    recall  f1-score   support\n",
      "\n",
      "           0       0.46      0.58      0.51     13286\n",
      "           1       0.42      0.25      0.32     13432\n",
      "           2       0.47      0.53      0.50     17301\n",
      "           3       0.62      0.89      0.73     14819\n",
      "           4       0.69      0.94      0.80     15257\n",
      "           5       0.47      0.27      0.35     14308\n",
      "           6       0.54      0.31      0.39     14819\n",
      "\n",
      "    accuracy                           0.55    103222\n",
      "   macro avg       0.53      0.54      0.51    103222\n",
      "weighted avg       0.53      0.55      0.52    103222\n",
      "\n"
     ]
    },
    {
     "name": "stderr",
     "output_type": "stream",
     "text": [
      "100%|██████████| 45/45 [00:00<00:00, 897.24it/s]\n"
     ]
    },
    {
     "name": "stdout",
     "output_type": "stream",
     "text": [
      "Epoch: 74   Loss: 1.262494683265686\n",
      "              precision    recall  f1-score   support\n",
      "\n",
      "           0       0.46      0.58      0.51     13468\n",
      "           1       0.43      0.25      0.32     13616\n",
      "           2       0.47      0.53      0.50     17538\n",
      "           3       0.62      0.89      0.73     15022\n",
      "           4       0.69      0.94      0.80     15466\n",
      "           5       0.47      0.28      0.35     14504\n",
      "           6       0.54      0.31      0.39     15022\n",
      "\n",
      "    accuracy                           0.55    104636\n",
      "   macro avg       0.53      0.54      0.52    104636\n",
      "weighted avg       0.53      0.55      0.52    104636\n",
      "\n"
     ]
    },
    {
     "name": "stderr",
     "output_type": "stream",
     "text": [
      "100%|██████████| 45/45 [00:00<00:00, 879.61it/s]\n"
     ]
    },
    {
     "name": "stdout",
     "output_type": "stream",
     "text": [
      "Epoch: 75   Loss: 1.041077733039856\n",
      "              precision    recall  f1-score   support\n",
      "\n",
      "           0       0.47      0.58      0.52     13650\n",
      "           1       0.43      0.26      0.32     13800\n",
      "           2       0.47      0.54      0.50     17775\n",
      "           3       0.62      0.89      0.73     15225\n",
      "           4       0.69      0.94      0.80     15675\n",
      "           5       0.47      0.28      0.35     14700\n",
      "           6       0.55      0.31      0.40     15225\n",
      "\n",
      "    accuracy                           0.55    106050\n",
      "   macro avg       0.53      0.54      0.52    106050\n",
      "weighted avg       0.53      0.55      0.52    106050\n",
      "\n"
     ]
    },
    {
     "name": "stderr",
     "output_type": "stream",
     "text": [
      "100%|██████████| 45/45 [00:00<00:00, 849.73it/s]\n"
     ]
    },
    {
     "name": "stdout",
     "output_type": "stream",
     "text": [
      "Epoch: 76   Loss: 0.7534326910972595\n",
      "              precision    recall  f1-score   support\n",
      "\n",
      "           0       0.47      0.58      0.52     13832\n",
      "           1       0.43      0.26      0.32     13984\n",
      "           2       0.47      0.54      0.50     18012\n",
      "           3       0.62      0.89      0.73     15428\n",
      "           4       0.70      0.94      0.80     15884\n",
      "           5       0.47      0.28      0.35     14896\n",
      "           6       0.55      0.31      0.40     15428\n",
      "\n",
      "    accuracy                           0.55    107464\n",
      "   macro avg       0.53      0.54      0.52    107464\n",
      "weighted avg       0.53      0.55      0.52    107464\n",
      "\n"
     ]
    },
    {
     "name": "stderr",
     "output_type": "stream",
     "text": [
      "100%|██████████| 45/45 [00:00<00:00, 923.26it/s]\n"
     ]
    },
    {
     "name": "stdout",
     "output_type": "stream",
     "text": [
      "Epoch: 77   Loss: 0.7801971435546875\n",
      "              precision    recall  f1-score   support\n",
      "\n",
      "           0       0.47      0.58      0.52     14014\n",
      "           1       0.43      0.26      0.32     14168\n",
      "           2       0.47      0.54      0.50     18249\n",
      "           3       0.62      0.89      0.73     15631\n",
      "           4       0.70      0.94      0.80     16093\n",
      "           5       0.47      0.28      0.36     15092\n",
      "           6       0.55      0.32      0.40     15631\n",
      "\n",
      "    accuracy                           0.55    108878\n",
      "   macro avg       0.53      0.54      0.52    108878\n",
      "weighted avg       0.53      0.55      0.52    108878\n",
      "\n"
     ]
    },
    {
     "name": "stderr",
     "output_type": "stream",
     "text": [
      "100%|██████████| 45/45 [00:00<00:00, 886.83it/s]\n"
     ]
    },
    {
     "name": "stdout",
     "output_type": "stream",
     "text": [
      "Epoch: 78   Loss: 1.3037383556365967\n",
      "              precision    recall  f1-score   support\n",
      "\n",
      "           0       0.47      0.58      0.52     14196\n",
      "           1       0.43      0.26      0.32     14352\n",
      "           2       0.47      0.54      0.50     18486\n",
      "           3       0.62      0.89      0.73     15834\n",
      "           4       0.70      0.94      0.80     16302\n",
      "           5       0.48      0.29      0.36     15288\n",
      "           6       0.55      0.32      0.40     15834\n",
      "\n",
      "    accuracy                           0.55    110292\n",
      "   macro avg       0.53      0.54      0.52    110292\n",
      "weighted avg       0.53      0.55      0.52    110292\n",
      "\n"
     ]
    },
    {
     "name": "stderr",
     "output_type": "stream",
     "text": [
      "100%|██████████| 45/45 [00:00<00:00, 855.08it/s]\n"
     ]
    },
    {
     "name": "stdout",
     "output_type": "stream",
     "text": [
      "Epoch: 79   Loss: 0.8781967759132385\n",
      "              precision    recall  f1-score   support\n",
      "\n",
      "           0       0.47      0.58      0.52     14378\n",
      "           1       0.43      0.26      0.32     14536\n",
      "           2       0.47      0.54      0.50     18723\n",
      "           3       0.63      0.89      0.74     16037\n",
      "           4       0.70      0.94      0.80     16511\n",
      "           5       0.48      0.29      0.36     15484\n",
      "           6       0.55      0.32      0.40     16037\n",
      "\n",
      "    accuracy                           0.55    111706\n",
      "   macro avg       0.53      0.55      0.52    111706\n",
      "weighted avg       0.53      0.55      0.53    111706\n",
      "\n"
     ]
    },
    {
     "name": "stderr",
     "output_type": "stream",
     "text": [
      "100%|██████████| 45/45 [00:00<00:00, 929.68it/s]\n"
     ]
    },
    {
     "name": "stdout",
     "output_type": "stream",
     "text": [
      "Epoch: 80   Loss: 1.4822840690612793\n",
      "              precision    recall  f1-score   support\n",
      "\n",
      "           0       0.47      0.58      0.52     14560\n",
      "           1       0.43      0.26      0.32     14720\n",
      "           2       0.47      0.54      0.51     18960\n",
      "           3       0.63      0.89      0.74     16240\n",
      "           4       0.70      0.94      0.80     16720\n",
      "           5       0.48      0.29      0.36     15680\n",
      "           6       0.55      0.32      0.41     16240\n",
      "\n",
      "    accuracy                           0.55    113120\n",
      "   macro avg       0.53      0.55      0.52    113120\n",
      "weighted avg       0.53      0.55      0.53    113120\n",
      "\n"
     ]
    },
    {
     "name": "stderr",
     "output_type": "stream",
     "text": [
      "100%|██████████| 45/45 [00:00<00:00, 982.45it/s]\n"
     ]
    },
    {
     "name": "stdout",
     "output_type": "stream",
     "text": [
      "Epoch: 81   Loss: 0.4962955415248871\n",
      "              precision    recall  f1-score   support\n",
      "\n",
      "           0       0.47      0.58      0.52     14742\n",
      "           1       0.43      0.26      0.32     14904\n",
      "           2       0.48      0.54      0.51     19197\n",
      "           3       0.63      0.89      0.74     16443\n",
      "           4       0.70      0.94      0.80     16929\n",
      "           5       0.48      0.29      0.36     15876\n",
      "           6       0.55      0.32      0.41     16443\n",
      "\n",
      "    accuracy                           0.55    114534\n",
      "   macro avg       0.53      0.55      0.52    114534\n",
      "weighted avg       0.54      0.55      0.53    114534\n",
      "\n"
     ]
    },
    {
     "name": "stderr",
     "output_type": "stream",
     "text": [
      "100%|██████████| 45/45 [00:00<00:00, 949.83it/s]\n"
     ]
    },
    {
     "name": "stdout",
     "output_type": "stream",
     "text": [
      "Epoch: 82   Loss: 1.3823604583740234\n",
      "              precision    recall  f1-score   support\n",
      "\n",
      "           0       0.47      0.58      0.52     14924\n",
      "           1       0.43      0.26      0.32     15088\n",
      "           2       0.48      0.55      0.51     19434\n",
      "           3       0.63      0.89      0.74     16646\n",
      "           4       0.70      0.94      0.80     17138\n",
      "           5       0.48      0.29      0.36     16072\n",
      "           6       0.55      0.33      0.41     16646\n",
      "\n",
      "    accuracy                           0.55    115948\n",
      "   macro avg       0.53      0.55      0.52    115948\n",
      "weighted avg       0.54      0.55      0.53    115948\n",
      "\n"
     ]
    },
    {
     "name": "stderr",
     "output_type": "stream",
     "text": [
      "100%|██████████| 45/45 [00:00<00:00, 962.30it/s]\n"
     ]
    },
    {
     "name": "stdout",
     "output_type": "stream",
     "text": [
      "Epoch: 83   Loss: 0.862788200378418\n",
      "              precision    recall  f1-score   support\n",
      "\n",
      "           0       0.47      0.58      0.52     15106\n",
      "           1       0.44      0.26      0.32     15272\n",
      "           2       0.48      0.55      0.51     19671\n",
      "           3       0.63      0.89      0.74     16849\n",
      "           4       0.70      0.94      0.80     17347\n",
      "           5       0.48      0.30      0.37     16268\n",
      "           6       0.55      0.33      0.41     16849\n",
      "\n",
      "    accuracy                           0.56    117362\n",
      "   macro avg       0.54      0.55      0.53    117362\n",
      "weighted avg       0.54      0.56      0.53    117362\n",
      "\n"
     ]
    },
    {
     "name": "stderr",
     "output_type": "stream",
     "text": [
      "100%|██████████| 45/45 [00:00<00:00, 951.33it/s]\n"
     ]
    },
    {
     "name": "stdout",
     "output_type": "stream",
     "text": [
      "Epoch: 84   Loss: 0.9748236536979675\n",
      "              precision    recall  f1-score   support\n",
      "\n",
      "           0       0.47      0.58      0.52     15288\n",
      "           1       0.44      0.26      0.32     15456\n",
      "           2       0.48      0.55      0.51     19908\n",
      "           3       0.63      0.89      0.74     17052\n",
      "           4       0.70      0.94      0.80     17556\n",
      "           5       0.48      0.30      0.37     16464\n",
      "           6       0.55      0.33      0.41     17052\n",
      "\n",
      "    accuracy                           0.56    118776\n",
      "   macro avg       0.54      0.55      0.53    118776\n",
      "weighted avg       0.54      0.56      0.53    118776\n",
      "\n"
     ]
    },
    {
     "name": "stderr",
     "output_type": "stream",
     "text": [
      "100%|██████████| 45/45 [00:00<00:00, 963.08it/s]\n"
     ]
    },
    {
     "name": "stdout",
     "output_type": "stream",
     "text": [
      "Epoch: 85   Loss: 0.7051019668579102\n",
      "              precision    recall  f1-score   support\n",
      "\n",
      "           0       0.47      0.58      0.52     15470\n",
      "           1       0.44      0.26      0.32     15640\n",
      "           2       0.48      0.55      0.51     20145\n",
      "           3       0.63      0.89      0.74     17255\n",
      "           4       0.70      0.94      0.80     17765\n",
      "           5       0.48      0.30      0.37     16660\n",
      "           6       0.55      0.33      0.41     17255\n",
      "\n",
      "    accuracy                           0.56    120190\n",
      "   macro avg       0.54      0.55      0.53    120190\n",
      "weighted avg       0.54      0.56      0.53    120190\n",
      "\n"
     ]
    },
    {
     "name": "stderr",
     "output_type": "stream",
     "text": [
      "100%|██████████| 45/45 [00:00<00:00, 886.74it/s]\n"
     ]
    },
    {
     "name": "stdout",
     "output_type": "stream",
     "text": [
      "Epoch: 86   Loss: 1.4061304330825806\n",
      "              precision    recall  f1-score   support\n",
      "\n",
      "           0       0.47      0.59      0.52     15652\n",
      "           1       0.44      0.26      0.32     15824\n",
      "           2       0.48      0.55      0.51     20382\n",
      "           3       0.63      0.89      0.74     17458\n",
      "           4       0.70      0.94      0.81     17974\n",
      "           5       0.48      0.30      0.37     16856\n",
      "           6       0.55      0.33      0.42     17458\n",
      "\n",
      "    accuracy                           0.56    121604\n",
      "   macro avg       0.54      0.55      0.53    121604\n",
      "weighted avg       0.54      0.56      0.53    121604\n",
      "\n"
     ]
    },
    {
     "name": "stderr",
     "output_type": "stream",
     "text": [
      "100%|██████████| 45/45 [00:00<00:00, 763.13it/s]"
     ]
    },
    {
     "name": "stdout",
     "output_type": "stream",
     "text": [
      "Epoch: 87   Loss: 1.1283718347549438\n"
     ]
    },
    {
     "name": "stderr",
     "output_type": "stream",
     "text": [
      "\n"
     ]
    },
    {
     "name": "stdout",
     "output_type": "stream",
     "text": [
      "              precision    recall  f1-score   support\n",
      "\n",
      "           0       0.48      0.59      0.52     15834\n",
      "           1       0.44      0.26      0.32     16008\n",
      "           2       0.48      0.55      0.51     20619\n",
      "           3       0.63      0.89      0.74     17661\n",
      "           4       0.70      0.94      0.81     18183\n",
      "           5       0.48      0.30      0.37     17052\n",
      "           6       0.55      0.33      0.42     17661\n",
      "\n",
      "    accuracy                           0.56    123018\n",
      "   macro avg       0.54      0.55      0.53    123018\n",
      "weighted avg       0.54      0.56      0.53    123018\n",
      "\n"
     ]
    },
    {
     "name": "stderr",
     "output_type": "stream",
     "text": [
      "100%|██████████| 45/45 [00:00<00:00, 746.44it/s]"
     ]
    },
    {
     "name": "stdout",
     "output_type": "stream",
     "text": [
      "Epoch: 88   Loss: 1.8112338781356812\n"
     ]
    },
    {
     "name": "stderr",
     "output_type": "stream",
     "text": [
      "\n"
     ]
    },
    {
     "name": "stdout",
     "output_type": "stream",
     "text": [
      "              precision    recall  f1-score   support\n",
      "\n",
      "           0       0.48      0.59      0.53     16016\n",
      "           1       0.44      0.26      0.32     16192\n",
      "           2       0.48      0.55      0.52     20856\n",
      "           3       0.64      0.89      0.74     17864\n",
      "           4       0.70      0.94      0.81     18392\n",
      "           5       0.49      0.31      0.38     17248\n",
      "           6       0.55      0.34      0.42     17864\n",
      "\n",
      "    accuracy                           0.56    124432\n",
      "   macro avg       0.54      0.55      0.53    124432\n",
      "weighted avg       0.54      0.56      0.53    124432\n",
      "\n"
     ]
    },
    {
     "name": "stderr",
     "output_type": "stream",
     "text": [
      "100%|██████████| 45/45 [00:00<00:00, 949.11it/s]"
     ]
    },
    {
     "name": "stdout",
     "output_type": "stream",
     "text": [
      "Epoch: 89   Loss: 0.7993523478507996\n"
     ]
    },
    {
     "name": "stderr",
     "output_type": "stream",
     "text": [
      "\n"
     ]
    },
    {
     "name": "stdout",
     "output_type": "stream",
     "text": [
      "              precision    recall  f1-score   support\n",
      "\n",
      "           0       0.48      0.59      0.53     16198\n",
      "           1       0.44      0.26      0.33     16376\n",
      "           2       0.49      0.55      0.52     21093\n",
      "           3       0.64      0.89      0.74     18067\n",
      "           4       0.70      0.94      0.81     18601\n",
      "           5       0.49      0.31      0.38     17444\n",
      "           6       0.56      0.34      0.42     18067\n",
      "\n",
      "    accuracy                           0.56    125846\n",
      "   macro avg       0.54      0.55      0.53    125846\n",
      "weighted avg       0.54      0.56      0.54    125846\n",
      "\n"
     ]
    },
    {
     "name": "stderr",
     "output_type": "stream",
     "text": [
      "100%|██████████| 45/45 [00:00<00:00, 868.53it/s]"
     ]
    },
    {
     "name": "stdout",
     "output_type": "stream",
     "text": [
      "Epoch: 90   Loss: 1.314038634300232\n"
     ]
    },
    {
     "name": "stderr",
     "output_type": "stream",
     "text": [
      "\n"
     ]
    },
    {
     "name": "stdout",
     "output_type": "stream",
     "text": [
      "              precision    recall  f1-score   support\n",
      "\n",
      "           0       0.48      0.59      0.53     16380\n",
      "           1       0.44      0.26      0.33     16560\n",
      "           2       0.49      0.56      0.52     21330\n",
      "           3       0.64      0.89      0.74     18270\n",
      "           4       0.71      0.94      0.81     18810\n",
      "           5       0.49      0.31      0.38     17640\n",
      "           6       0.56      0.34      0.42     18270\n",
      "\n",
      "    accuracy                           0.56    127260\n",
      "   macro avg       0.54      0.56      0.53    127260\n",
      "weighted avg       0.54      0.56      0.54    127260\n",
      "\n"
     ]
    },
    {
     "name": "stderr",
     "output_type": "stream",
     "text": [
      "100%|██████████| 45/45 [00:00<00:00, 891.39it/s]"
     ]
    },
    {
     "name": "stdout",
     "output_type": "stream",
     "text": [
      "Epoch: 91   Loss: 0.9586488604545593\n"
     ]
    },
    {
     "name": "stderr",
     "output_type": "stream",
     "text": [
      "\n"
     ]
    },
    {
     "name": "stdout",
     "output_type": "stream",
     "text": [
      "              precision    recall  f1-score   support\n",
      "\n",
      "           0       0.48      0.59      0.53     16562\n",
      "           1       0.44      0.26      0.33     16744\n",
      "           2       0.49      0.56      0.52     21567\n",
      "           3       0.64      0.89      0.74     18473\n",
      "           4       0.71      0.94      0.81     19019\n",
      "           5       0.49      0.31      0.38     17836\n",
      "           6       0.56      0.34      0.42     18473\n",
      "\n",
      "    accuracy                           0.56    128674\n",
      "   macro avg       0.54      0.56      0.53    128674\n",
      "weighted avg       0.54      0.56      0.54    128674\n",
      "\n"
     ]
    },
    {
     "name": "stderr",
     "output_type": "stream",
     "text": [
      "100%|██████████| 45/45 [00:00<00:00, 857.72it/s]"
     ]
    },
    {
     "name": "stdout",
     "output_type": "stream",
     "text": [
      "Epoch: 92   Loss: 0.927520751953125\n"
     ]
    },
    {
     "name": "stderr",
     "output_type": "stream",
     "text": [
      "\n"
     ]
    },
    {
     "name": "stdout",
     "output_type": "stream",
     "text": [
      "              precision    recall  f1-score   support\n",
      "\n",
      "           0       0.48      0.59      0.53     16744\n",
      "           1       0.44      0.26      0.33     16928\n",
      "           2       0.49      0.56      0.52     21804\n",
      "           3       0.64      0.89      0.74     18676\n",
      "           4       0.71      0.94      0.81     19228\n",
      "           5       0.49      0.31      0.38     18032\n",
      "           6       0.56      0.34      0.43     18676\n",
      "\n",
      "    accuracy                           0.56    130088\n",
      "   macro avg       0.54      0.56      0.53    130088\n",
      "weighted avg       0.55      0.56      0.54    130088\n",
      "\n"
     ]
    },
    {
     "name": "stderr",
     "output_type": "stream",
     "text": [
      "100%|██████████| 45/45 [00:00<00:00, 798.94it/s]"
     ]
    },
    {
     "name": "stdout",
     "output_type": "stream",
     "text": [
      "Epoch: 93   Loss: 1.5367637872695923\n"
     ]
    },
    {
     "name": "stderr",
     "output_type": "stream",
     "text": [
      "\n"
     ]
    },
    {
     "name": "stdout",
     "output_type": "stream",
     "text": [
      "              precision    recall  f1-score   support\n",
      "\n",
      "           0       0.48      0.59      0.53     16926\n",
      "           1       0.45      0.26      0.33     17112\n",
      "           2       0.49      0.56      0.52     22041\n",
      "           3       0.64      0.89      0.75     18879\n",
      "           4       0.71      0.94      0.81     19437\n",
      "           5       0.49      0.32      0.38     18228\n",
      "           6       0.56      0.35      0.43     18879\n",
      "\n",
      "    accuracy                           0.56    131502\n",
      "   macro avg       0.54      0.56      0.53    131502\n",
      "weighted avg       0.55      0.56      0.54    131502\n",
      "\n"
     ]
    },
    {
     "name": "stderr",
     "output_type": "stream",
     "text": [
      "100%|██████████| 45/45 [00:00<00:00, 870.25it/s]"
     ]
    },
    {
     "name": "stdout",
     "output_type": "stream",
     "text": [
      "Epoch: 94   Loss: 1.5534082651138306\n"
     ]
    },
    {
     "name": "stderr",
     "output_type": "stream",
     "text": [
      "\n"
     ]
    },
    {
     "name": "stdout",
     "output_type": "stream",
     "text": [
      "              precision    recall  f1-score   support\n",
      "\n",
      "           0       0.48      0.59      0.53     17108\n",
      "           1       0.45      0.26      0.33     17296\n",
      "           2       0.49      0.56      0.52     22278\n",
      "           3       0.64      0.89      0.75     19082\n",
      "           4       0.71      0.94      0.81     19646\n",
      "           5       0.49      0.32      0.39     18424\n",
      "           6       0.56      0.35      0.43     19082\n",
      "\n",
      "    accuracy                           0.56    132916\n",
      "   macro avg       0.55      0.56      0.54    132916\n",
      "weighted avg       0.55      0.56      0.54    132916\n",
      "\n"
     ]
    },
    {
     "name": "stderr",
     "output_type": "stream",
     "text": [
      "100%|██████████| 45/45 [00:00<00:00, 974.48it/s]"
     ]
    },
    {
     "name": "stdout",
     "output_type": "stream",
     "text": [
      "Epoch: 95   Loss: 1.2759349346160889\n"
     ]
    },
    {
     "name": "stderr",
     "output_type": "stream",
     "text": [
      "\n"
     ]
    },
    {
     "name": "stdout",
     "output_type": "stream",
     "text": [
      "              precision    recall  f1-score   support\n",
      "\n",
      "           0       0.48      0.59      0.53     17290\n",
      "           1       0.45      0.26      0.33     17480\n",
      "           2       0.49      0.56      0.52     22515\n",
      "           3       0.64      0.89      0.75     19285\n",
      "           4       0.71      0.94      0.81     19855\n",
      "           5       0.49      0.32      0.39     18620\n",
      "           6       0.56      0.35      0.43     19285\n",
      "\n",
      "    accuracy                           0.57    134330\n",
      "   macro avg       0.55      0.56      0.54    134330\n",
      "weighted avg       0.55      0.57      0.54    134330\n",
      "\n"
     ]
    },
    {
     "name": "stderr",
     "output_type": "stream",
     "text": [
      "100%|██████████| 45/45 [00:00<00:00, 856.12it/s]"
     ]
    },
    {
     "name": "stdout",
     "output_type": "stream",
     "text": [
      "Epoch: 96   Loss: 1.3248370885849\n"
     ]
    },
    {
     "name": "stderr",
     "output_type": "stream",
     "text": [
      "\n"
     ]
    },
    {
     "name": "stdout",
     "output_type": "stream",
     "text": [
      "              precision    recall  f1-score   support\n",
      "\n",
      "           0       0.48      0.59      0.53     17472\n",
      "           1       0.45      0.26      0.33     17664\n",
      "           2       0.49      0.56      0.53     22752\n",
      "           3       0.64      0.89      0.75     19488\n",
      "           4       0.71      0.94      0.81     20064\n",
      "           5       0.49      0.32      0.39     18816\n",
      "           6       0.56      0.35      0.43     19488\n",
      "\n",
      "    accuracy                           0.57    135744\n",
      "   macro avg       0.55      0.56      0.54    135744\n",
      "weighted avg       0.55      0.57      0.54    135744\n",
      "\n"
     ]
    },
    {
     "name": "stderr",
     "output_type": "stream",
     "text": [
      "100%|██████████| 45/45 [00:00<00:00, 915.56it/s]"
     ]
    },
    {
     "name": "stdout",
     "output_type": "stream",
     "text": [
      "Epoch: 97   Loss: 1.1492139101028442\n"
     ]
    },
    {
     "name": "stderr",
     "output_type": "stream",
     "text": [
      "\n"
     ]
    },
    {
     "name": "stdout",
     "output_type": "stream",
     "text": [
      "              precision    recall  f1-score   support\n",
      "\n",
      "           0       0.48      0.59      0.53     17654\n",
      "           1       0.45      0.26      0.33     17848\n",
      "           2       0.49      0.56      0.53     22989\n",
      "           3       0.64      0.89      0.75     19691\n",
      "           4       0.71      0.94      0.81     20273\n",
      "           5       0.50      0.32      0.39     19012\n",
      "           6       0.56      0.35      0.43     19691\n",
      "\n",
      "    accuracy                           0.57    137158\n",
      "   macro avg       0.55      0.56      0.54    137158\n",
      "weighted avg       0.55      0.57      0.54    137158\n",
      "\n"
     ]
    },
    {
     "name": "stderr",
     "output_type": "stream",
     "text": [
      "100%|██████████| 45/45 [00:00<00:00, 890.08it/s]"
     ]
    },
    {
     "name": "stdout",
     "output_type": "stream",
     "text": [
      "Epoch: 98   Loss: 0.9143529534339905\n"
     ]
    },
    {
     "name": "stderr",
     "output_type": "stream",
     "text": [
      "\n"
     ]
    },
    {
     "name": "stdout",
     "output_type": "stream",
     "text": [
      "              precision    recall  f1-score   support\n",
      "\n",
      "           0       0.48      0.59      0.53     17836\n",
      "           1       0.45      0.26      0.33     18032\n",
      "           2       0.49      0.56      0.53     23226\n",
      "           3       0.64      0.89      0.75     19894\n",
      "           4       0.71      0.94      0.81     20482\n",
      "           5       0.50      0.32      0.39     19208\n",
      "           6       0.56      0.35      0.43     19894\n",
      "\n",
      "    accuracy                           0.57    138572\n",
      "   macro avg       0.55      0.56      0.54    138572\n",
      "weighted avg       0.55      0.57      0.54    138572\n",
      "\n"
     ]
    },
    {
     "name": "stderr",
     "output_type": "stream",
     "text": [
      "100%|██████████| 45/45 [00:00<00:00, 850.27it/s]"
     ]
    },
    {
     "name": "stdout",
     "output_type": "stream",
     "text": [
      "Epoch: 99   Loss: 1.3134280443191528\n"
     ]
    },
    {
     "name": "stderr",
     "output_type": "stream",
     "text": [
      "\n"
     ]
    },
    {
     "name": "stdout",
     "output_type": "stream",
     "text": [
      "              precision    recall  f1-score   support\n",
      "\n",
      "           0       0.48      0.59      0.53     18018\n",
      "           1       0.45      0.26      0.33     18216\n",
      "           2       0.50      0.57      0.53     23463\n",
      "           3       0.65      0.89      0.75     20097\n",
      "           4       0.71      0.94      0.81     20691\n",
      "           5       0.50      0.33      0.39     19404\n",
      "           6       0.56      0.35      0.43     20097\n",
      "\n",
      "    accuracy                           0.57    139986\n",
      "   macro avg       0.55      0.56      0.54    139986\n",
      "weighted avg       0.55      0.57      0.54    139986\n",
      "\n"
     ]
    },
    {
     "name": "stderr",
     "output_type": "stream",
     "text": [
      "100%|██████████| 45/45 [00:00<00:00, 812.89it/s]"
     ]
    },
    {
     "name": "stdout",
     "output_type": "stream",
     "text": [
      "Epoch: 100   Loss: 0.4367610216140747\n"
     ]
    },
    {
     "name": "stderr",
     "output_type": "stream",
     "text": [
      "\n"
     ]
    },
    {
     "name": "stdout",
     "output_type": "stream",
     "text": [
      "              precision    recall  f1-score   support\n",
      "\n",
      "           0       0.48      0.59      0.53     18200\n",
      "           1       0.45      0.26      0.33     18400\n",
      "           2       0.50      0.57      0.53     23700\n",
      "           3       0.65      0.89      0.75     20300\n",
      "           4       0.71      0.94      0.81     20900\n",
      "           5       0.50      0.33      0.40     19600\n",
      "           6       0.56      0.36      0.44     20300\n",
      "\n",
      "    accuracy                           0.57    141400\n",
      "   macro avg       0.55      0.56      0.54    141400\n",
      "weighted avg       0.55      0.57      0.55    141400\n",
      "\n"
     ]
    },
    {
     "name": "stderr",
     "output_type": "stream",
     "text": [
      "100%|██████████| 45/45 [00:00<00:00, 837.94it/s]"
     ]
    },
    {
     "name": "stdout",
     "output_type": "stream",
     "text": [
      "Epoch: 101   Loss: 1.1436642408370972\n"
     ]
    },
    {
     "name": "stderr",
     "output_type": "stream",
     "text": [
      "\n"
     ]
    },
    {
     "name": "stdout",
     "output_type": "stream",
     "text": [
      "              precision    recall  f1-score   support\n",
      "\n",
      "           0       0.48      0.59      0.53     18382\n",
      "           1       0.45      0.26      0.33     18584\n",
      "           2       0.50      0.57      0.53     23937\n",
      "           3       0.65      0.89      0.75     20503\n",
      "           4       0.71      0.94      0.81     21109\n",
      "           5       0.50      0.33      0.40     19796\n",
      "           6       0.56      0.36      0.44     20503\n",
      "\n",
      "    accuracy                           0.57    142814\n",
      "   macro avg       0.55      0.56      0.54    142814\n",
      "weighted avg       0.55      0.57      0.55    142814\n",
      "\n"
     ]
    },
    {
     "name": "stderr",
     "output_type": "stream",
     "text": [
      "100%|██████████| 45/45 [00:00<00:00, 871.44it/s]"
     ]
    },
    {
     "name": "stdout",
     "output_type": "stream",
     "text": [
      "Epoch: 102   Loss: 1.1240277290344238\n"
     ]
    },
    {
     "name": "stderr",
     "output_type": "stream",
     "text": [
      "\n"
     ]
    },
    {
     "name": "stdout",
     "output_type": "stream",
     "text": [
      "              precision    recall  f1-score   support\n",
      "\n",
      "           0       0.48      0.59      0.53     18564\n",
      "           1       0.45      0.26      0.33     18768\n",
      "           2       0.50      0.57      0.53     24174\n",
      "           3       0.65      0.89      0.75     20706\n",
      "           4       0.71      0.94      0.81     21318\n",
      "           5       0.50      0.33      0.40     19992\n",
      "           6       0.56      0.36      0.44     20706\n",
      "\n",
      "    accuracy                           0.57    144228\n",
      "   macro avg       0.55      0.56      0.54    144228\n",
      "weighted avg       0.55      0.57      0.55    144228\n",
      "\n"
     ]
    },
    {
     "name": "stderr",
     "output_type": "stream",
     "text": [
      "100%|██████████| 45/45 [00:00<00:00, 938.49it/s]"
     ]
    },
    {
     "name": "stdout",
     "output_type": "stream",
     "text": [
      "Epoch: 103   Loss: 0.9504313468933105\n"
     ]
    },
    {
     "name": "stderr",
     "output_type": "stream",
     "text": [
      "\n"
     ]
    },
    {
     "name": "stdout",
     "output_type": "stream",
     "text": [
      "              precision    recall  f1-score   support\n",
      "\n",
      "           0       0.49      0.59      0.53     18746\n",
      "           1       0.45      0.26      0.33     18952\n",
      "           2       0.50      0.57      0.53     24411\n",
      "           3       0.65      0.89      0.75     20909\n",
      "           4       0.71      0.94      0.81     21527\n",
      "           5       0.50      0.33      0.40     20188\n",
      "           6       0.56      0.36      0.44     20909\n",
      "\n",
      "    accuracy                           0.57    145642\n",
      "   macro avg       0.55      0.56      0.54    145642\n",
      "weighted avg       0.55      0.57      0.55    145642\n",
      "\n"
     ]
    },
    {
     "name": "stderr",
     "output_type": "stream",
     "text": [
      "100%|██████████| 45/45 [00:00<00:00, 895.81it/s]"
     ]
    },
    {
     "name": "stdout",
     "output_type": "stream",
     "text": [
      "Epoch: 104   Loss: 0.9997121691703796\n"
     ]
    },
    {
     "name": "stderr",
     "output_type": "stream",
     "text": [
      "\n"
     ]
    },
    {
     "name": "stdout",
     "output_type": "stream",
     "text": [
      "              precision    recall  f1-score   support\n",
      "\n",
      "           0       0.49      0.59      0.53     18928\n",
      "           1       0.46      0.26      0.33     19136\n",
      "           2       0.50      0.57      0.53     24648\n",
      "           3       0.65      0.89      0.75     21112\n",
      "           4       0.71      0.94      0.81     21736\n",
      "           5       0.50      0.33      0.40     20384\n",
      "           6       0.56      0.36      0.44     21112\n",
      "\n",
      "    accuracy                           0.57    147056\n",
      "   macro avg       0.55      0.57      0.54    147056\n",
      "weighted avg       0.56      0.57      0.55    147056\n",
      "\n"
     ]
    },
    {
     "name": "stderr",
     "output_type": "stream",
     "text": [
      "100%|██████████| 45/45 [00:00<00:00, 688.74it/s]"
     ]
    },
    {
     "name": "stdout",
     "output_type": "stream",
     "text": [
      "Epoch: 105   Loss: 1.3480172157287598\n"
     ]
    },
    {
     "name": "stderr",
     "output_type": "stream",
     "text": [
      "\n"
     ]
    },
    {
     "name": "stdout",
     "output_type": "stream",
     "text": [
      "              precision    recall  f1-score   support\n",
      "\n",
      "           0       0.49      0.59      0.53     19110\n",
      "           1       0.46      0.26      0.33     19320\n",
      "           2       0.50      0.57      0.53     24885\n",
      "           3       0.65      0.89      0.75     21315\n",
      "           4       0.71      0.94      0.81     21945\n",
      "           5       0.50      0.34      0.40     20580\n",
      "           6       0.56      0.36      0.44     21315\n",
      "\n",
      "    accuracy                           0.57    148470\n",
      "   macro avg       0.55      0.57      0.54    148470\n",
      "weighted avg       0.56      0.57      0.55    148470\n",
      "\n"
     ]
    },
    {
     "name": "stderr",
     "output_type": "stream",
     "text": [
      "100%|██████████| 45/45 [00:00<00:00, 833.22it/s]"
     ]
    },
    {
     "name": "stdout",
     "output_type": "stream",
     "text": [
      "Epoch: 106   Loss: 0.9926962852478027\n"
     ]
    },
    {
     "name": "stderr",
     "output_type": "stream",
     "text": [
      "\n"
     ]
    },
    {
     "name": "stdout",
     "output_type": "stream",
     "text": [
      "              precision    recall  f1-score   support\n",
      "\n",
      "           0       0.49      0.59      0.54     19292\n",
      "           1       0.46      0.26      0.33     19504\n",
      "           2       0.50      0.57      0.54     25122\n",
      "           3       0.65      0.89      0.75     21518\n",
      "           4       0.71      0.94      0.81     22154\n",
      "           5       0.50      0.34      0.40     20776\n",
      "           6       0.57      0.36      0.44     21518\n",
      "\n",
      "    accuracy                           0.57    149884\n",
      "   macro avg       0.55      0.57      0.55    149884\n",
      "weighted avg       0.56      0.57      0.55    149884\n",
      "\n"
     ]
    },
    {
     "name": "stderr",
     "output_type": "stream",
     "text": [
      "100%|██████████| 45/45 [00:00<00:00, 835.26it/s]"
     ]
    },
    {
     "name": "stdout",
     "output_type": "stream",
     "text": [
      "Epoch: 107   Loss: 0.4304380416870117\n"
     ]
    },
    {
     "name": "stderr",
     "output_type": "stream",
     "text": [
      "\n"
     ]
    },
    {
     "name": "stdout",
     "output_type": "stream",
     "text": [
      "              precision    recall  f1-score   support\n",
      "\n",
      "           0       0.49      0.59      0.54     19474\n",
      "           1       0.46      0.26      0.34     19688\n",
      "           2       0.50      0.57      0.54     25359\n",
      "           3       0.65      0.89      0.75     21721\n",
      "           4       0.71      0.94      0.81     22363\n",
      "           5       0.50      0.34      0.41     20972\n",
      "           6       0.57      0.37      0.44     21721\n",
      "\n",
      "    accuracy                           0.57    151298\n",
      "   macro avg       0.56      0.57      0.55    151298\n",
      "weighted avg       0.56      0.57      0.55    151298\n",
      "\n"
     ]
    },
    {
     "name": "stderr",
     "output_type": "stream",
     "text": [
      "100%|██████████| 45/45 [00:00<00:00, 695.75it/s]\n"
     ]
    },
    {
     "name": "stdout",
     "output_type": "stream",
     "text": [
      "Epoch: 108   Loss: 0.7323768734931946\n",
      "              precision    recall  f1-score   support\n",
      "\n",
      "           0       0.49      0.60      0.54     19656\n",
      "           1       0.46      0.26      0.34     19872\n",
      "           2       0.50      0.57      0.54     25596\n",
      "           3       0.65      0.89      0.75     21924\n",
      "           4       0.72      0.94      0.81     22572\n",
      "           5       0.51      0.34      0.41     21168\n",
      "           6       0.57      0.37      0.45     21924\n",
      "\n",
      "    accuracy                           0.57    152712\n",
      "   macro avg       0.56      0.57      0.55    152712\n",
      "weighted avg       0.56      0.57      0.55    152712\n",
      "\n"
     ]
    },
    {
     "name": "stderr",
     "output_type": "stream",
     "text": [
      "100%|██████████| 45/45 [00:00<00:00, 711.77it/s]\n"
     ]
    },
    {
     "name": "stdout",
     "output_type": "stream",
     "text": [
      "Epoch: 109   Loss: 1.3007770776748657\n",
      "              precision    recall  f1-score   support\n",
      "\n",
      "           0       0.49      0.60      0.54     19838\n",
      "           1       0.46      0.27      0.34     20056\n",
      "           2       0.51      0.58      0.54     25833\n",
      "           3       0.65      0.89      0.76     22127\n",
      "           4       0.72      0.94      0.81     22781\n",
      "           5       0.51      0.34      0.41     21364\n",
      "           6       0.57      0.37      0.45     22127\n",
      "\n",
      "    accuracy                           0.58    154126\n",
      "   macro avg       0.56      0.57      0.55    154126\n",
      "weighted avg       0.56      0.58      0.55    154126\n",
      "\n"
     ]
    },
    {
     "name": "stderr",
     "output_type": "stream",
     "text": [
      "100%|██████████| 45/45 [00:00<00:00, 869.81it/s]"
     ]
    },
    {
     "name": "stdout",
     "output_type": "stream",
     "text": [
      "Epoch: 110   Loss: 0.5071542859077454\n"
     ]
    },
    {
     "name": "stderr",
     "output_type": "stream",
     "text": [
      "\n"
     ]
    },
    {
     "name": "stdout",
     "output_type": "stream",
     "text": [
      "              precision    recall  f1-score   support\n",
      "\n",
      "           0       0.49      0.60      0.54     20020\n",
      "           1       0.46      0.27      0.34     20240\n",
      "           2       0.51      0.58      0.54     26070\n",
      "           3       0.66      0.89      0.76     22330\n",
      "           4       0.72      0.94      0.81     22990\n",
      "           5       0.51      0.34      0.41     21560\n",
      "           6       0.57      0.37      0.45     22330\n",
      "\n",
      "    accuracy                           0.58    155540\n",
      "   macro avg       0.56      0.57      0.55    155540\n",
      "weighted avg       0.56      0.58      0.55    155540\n",
      "\n"
     ]
    },
    {
     "name": "stderr",
     "output_type": "stream",
     "text": [
      "100%|██████████| 45/45 [00:00<00:00, 905.32it/s]\n"
     ]
    },
    {
     "name": "stdout",
     "output_type": "stream",
     "text": [
      "Epoch: 111   Loss: 1.1400632858276367\n",
      "              precision    recall  f1-score   support\n",
      "\n",
      "           0       0.49      0.60      0.54     20202\n",
      "           1       0.46      0.27      0.34     20424\n",
      "           2       0.51      0.58      0.54     26307\n",
      "           3       0.66      0.89      0.76     22533\n",
      "           4       0.72      0.94      0.81     23199\n",
      "           5       0.51      0.34      0.41     21756\n",
      "           6       0.57      0.37      0.45     22533\n",
      "\n",
      "    accuracy                           0.58    156954\n",
      "   macro avg       0.56      0.57      0.55    156954\n",
      "weighted avg       0.56      0.58      0.55    156954\n",
      "\n"
     ]
    },
    {
     "name": "stderr",
     "output_type": "stream",
     "text": [
      "100%|██████████| 45/45 [00:00<00:00, 761.45it/s]"
     ]
    },
    {
     "name": "stdout",
     "output_type": "stream",
     "text": [
      "Epoch: 112   Loss: 1.3962148427963257\n"
     ]
    },
    {
     "name": "stderr",
     "output_type": "stream",
     "text": [
      "\n"
     ]
    },
    {
     "name": "stdout",
     "output_type": "stream",
     "text": [
      "              precision    recall  f1-score   support\n",
      "\n",
      "           0       0.49      0.60      0.54     20384\n",
      "           1       0.46      0.27      0.34     20608\n",
      "           2       0.51      0.58      0.54     26544\n",
      "           3       0.66      0.89      0.76     22736\n",
      "           4       0.72      0.94      0.81     23408\n",
      "           5       0.51      0.35      0.41     21952\n",
      "           6       0.57      0.37      0.45     22736\n",
      "\n",
      "    accuracy                           0.58    158368\n",
      "   macro avg       0.56      0.57      0.55    158368\n",
      "weighted avg       0.56      0.58      0.55    158368\n",
      "\n"
     ]
    },
    {
     "name": "stderr",
     "output_type": "stream",
     "text": [
      "100%|██████████| 45/45 [00:00<00:00, 700.07it/s]\n"
     ]
    },
    {
     "name": "stdout",
     "output_type": "stream",
     "text": [
      "Epoch: 113   Loss: 1.2326830625534058\n",
      "              precision    recall  f1-score   support\n",
      "\n",
      "           0       0.49      0.60      0.54     20566\n",
      "           1       0.46      0.27      0.34     20792\n",
      "           2       0.51      0.58      0.54     26781\n",
      "           3       0.66      0.89      0.76     22939\n",
      "           4       0.72      0.94      0.82     23617\n",
      "           5       0.51      0.35      0.41     22148\n",
      "           6       0.57      0.38      0.45     22939\n",
      "\n",
      "    accuracy                           0.58    159782\n",
      "   macro avg       0.56      0.57      0.55    159782\n",
      "weighted avg       0.56      0.58      0.56    159782\n",
      "\n"
     ]
    },
    {
     "name": "stderr",
     "output_type": "stream",
     "text": [
      "100%|██████████| 45/45 [00:00<00:00, 787.74it/s]\n"
     ]
    },
    {
     "name": "stdout",
     "output_type": "stream",
     "text": [
      "Epoch: 114   Loss: 0.3033076822757721\n",
      "              precision    recall  f1-score   support\n",
      "\n",
      "           0       0.49      0.60      0.54     20748\n",
      "           1       0.46      0.27      0.34     20976\n",
      "           2       0.51      0.58      0.54     27018\n",
      "           3       0.66      0.89      0.76     23142\n",
      "           4       0.72      0.94      0.82     23826\n",
      "           5       0.51      0.35      0.41     22344\n",
      "           6       0.57      0.38      0.45     23142\n",
      "\n",
      "    accuracy                           0.58    161196\n",
      "   macro avg       0.56      0.57      0.55    161196\n",
      "weighted avg       0.56      0.58      0.56    161196\n",
      "\n"
     ]
    },
    {
     "name": "stderr",
     "output_type": "stream",
     "text": [
      "100%|██████████| 45/45 [00:00<00:00, 798.25it/s]"
     ]
    },
    {
     "name": "stdout",
     "output_type": "stream",
     "text": [
      "Epoch: 115   Loss: 1.033315658569336\n"
     ]
    },
    {
     "name": "stderr",
     "output_type": "stream",
     "text": [
      "\n"
     ]
    },
    {
     "name": "stdout",
     "output_type": "stream",
     "text": [
      "              precision    recall  f1-score   support\n",
      "\n",
      "           0       0.49      0.60      0.54     20930\n",
      "           1       0.46      0.27      0.34     21160\n",
      "           2       0.51      0.58      0.54     27255\n",
      "           3       0.66      0.89      0.76     23345\n",
      "           4       0.72      0.94      0.82     24035\n",
      "           5       0.51      0.35      0.42     22540\n",
      "           6       0.57      0.38      0.45     23345\n",
      "\n",
      "    accuracy                           0.58    162610\n",
      "   macro avg       0.56      0.57      0.55    162610\n",
      "weighted avg       0.56      0.58      0.56    162610\n",
      "\n"
     ]
    },
    {
     "name": "stderr",
     "output_type": "stream",
     "text": [
      "100%|██████████| 45/45 [00:00<00:00, 831.63it/s]\n"
     ]
    },
    {
     "name": "stdout",
     "output_type": "stream",
     "text": [
      "Epoch: 116   Loss: 0.5377900004386902\n",
      "              precision    recall  f1-score   support\n",
      "\n",
      "           0       0.49      0.60      0.54     21112\n",
      "           1       0.47      0.27      0.34     21344\n",
      "           2       0.51      0.58      0.54     27492\n",
      "           3       0.66      0.89      0.76     23548\n",
      "           4       0.72      0.94      0.82     24244\n",
      "           5       0.51      0.35      0.42     22736\n",
      "           6       0.57      0.38      0.46     23548\n",
      "\n",
      "    accuracy                           0.58    164024\n",
      "   macro avg       0.56      0.57      0.55    164024\n",
      "weighted avg       0.56      0.58      0.56    164024\n",
      "\n"
     ]
    },
    {
     "name": "stderr",
     "output_type": "stream",
     "text": [
      "100%|██████████| 45/45 [00:00<00:00, 844.70it/s]"
     ]
    },
    {
     "name": "stdout",
     "output_type": "stream",
     "text": [
      "Epoch: 117   Loss: 1.3953609466552734\n"
     ]
    },
    {
     "name": "stderr",
     "output_type": "stream",
     "text": [
      "\n"
     ]
    },
    {
     "name": "stdout",
     "output_type": "stream",
     "text": [
      "              precision    recall  f1-score   support\n",
      "\n",
      "           0       0.49      0.60      0.54     21294\n",
      "           1       0.47      0.27      0.34     21528\n",
      "           2       0.51      0.58      0.54     27729\n",
      "           3       0.66      0.89      0.76     23751\n",
      "           4       0.72      0.94      0.82     24453\n",
      "           5       0.51      0.35      0.42     22932\n",
      "           6       0.57      0.38      0.46     23751\n",
      "\n",
      "    accuracy                           0.58    165438\n",
      "   macro avg       0.56      0.57      0.55    165438\n",
      "weighted avg       0.56      0.58      0.56    165438\n",
      "\n"
     ]
    },
    {
     "name": "stderr",
     "output_type": "stream",
     "text": [
      "100%|██████████| 45/45 [00:00<00:00, 872.25it/s]\n"
     ]
    },
    {
     "name": "stdout",
     "output_type": "stream",
     "text": [
      "Epoch: 118   Loss: 1.436590313911438\n",
      "              precision    recall  f1-score   support\n",
      "\n",
      "           0       0.49      0.60      0.54     21476\n",
      "           1       0.47      0.27      0.34     21712\n",
      "           2       0.51      0.58      0.55     27966\n",
      "           3       0.66      0.89      0.76     23954\n",
      "           4       0.72      0.94      0.82     24662\n",
      "           5       0.51      0.35      0.42     23128\n",
      "           6       0.57      0.38      0.46     23954\n",
      "\n",
      "    accuracy                           0.58    166852\n",
      "   macro avg       0.56      0.57      0.55    166852\n",
      "weighted avg       0.56      0.58      0.56    166852\n",
      "\n"
     ]
    },
    {
     "name": "stderr",
     "output_type": "stream",
     "text": [
      "100%|██████████| 45/45 [00:00<00:00, 868.06it/s]"
     ]
    },
    {
     "name": "stdout",
     "output_type": "stream",
     "text": [
      "Epoch: 119   Loss: 0.6975728869438171\n"
     ]
    },
    {
     "name": "stderr",
     "output_type": "stream",
     "text": [
      "\n"
     ]
    },
    {
     "name": "stdout",
     "output_type": "stream",
     "text": [
      "              precision    recall  f1-score   support\n",
      "\n",
      "           0       0.49      0.60      0.54     21658\n",
      "           1       0.47      0.27      0.34     21896\n",
      "           2       0.51      0.58      0.55     28203\n",
      "           3       0.66      0.89      0.76     24157\n",
      "           4       0.72      0.94      0.82     24871\n",
      "           5       0.51      0.36      0.42     23324\n",
      "           6       0.57      0.38      0.46     24157\n",
      "\n",
      "    accuracy                           0.58    168266\n",
      "   macro avg       0.56      0.58      0.56    168266\n",
      "weighted avg       0.57      0.58      0.56    168266\n",
      "\n"
     ]
    },
    {
     "name": "stderr",
     "output_type": "stream",
     "text": [
      "100%|██████████| 45/45 [00:00<00:00, 910.75it/s]\n"
     ]
    },
    {
     "name": "stdout",
     "output_type": "stream",
     "text": [
      "Epoch: 120   Loss: 1.535840392112732\n",
      "              precision    recall  f1-score   support\n",
      "\n",
      "           0       0.50      0.60      0.54     21840\n",
      "           1       0.47      0.27      0.34     22080\n",
      "           2       0.52      0.58      0.55     28440\n",
      "           3       0.66      0.89      0.76     24360\n",
      "           4       0.72      0.94      0.82     25080\n",
      "           5       0.51      0.36      0.42     23520\n",
      "           6       0.57      0.39      0.46     24360\n",
      "\n",
      "    accuracy                           0.58    169680\n",
      "   macro avg       0.56      0.58      0.56    169680\n",
      "weighted avg       0.57      0.58      0.56    169680\n",
      "\n"
     ]
    },
    {
     "name": "stderr",
     "output_type": "stream",
     "text": [
      "100%|██████████| 45/45 [00:00<00:00, 908.01it/s]"
     ]
    },
    {
     "name": "stdout",
     "output_type": "stream",
     "text": [
      "Epoch: 121   Loss: 1.4127789735794067\n"
     ]
    },
    {
     "name": "stderr",
     "output_type": "stream",
     "text": [
      "\n"
     ]
    },
    {
     "name": "stdout",
     "output_type": "stream",
     "text": [
      "              precision    recall  f1-score   support\n",
      "\n",
      "           0       0.50      0.60      0.54     22022\n",
      "           1       0.47      0.27      0.34     22264\n",
      "           2       0.52      0.58      0.55     28677\n",
      "           3       0.66      0.89      0.76     24563\n",
      "           4       0.72      0.94      0.82     25289\n",
      "           5       0.51      0.36      0.42     23716\n",
      "           6       0.57      0.39      0.46     24563\n",
      "\n",
      "    accuracy                           0.58    171094\n",
      "   macro avg       0.57      0.58      0.56    171094\n",
      "weighted avg       0.57      0.58      0.56    171094\n",
      "\n"
     ]
    },
    {
     "name": "stderr",
     "output_type": "stream",
     "text": [
      "100%|██████████| 45/45 [00:00<00:00, 862.95it/s]\n"
     ]
    },
    {
     "name": "stdout",
     "output_type": "stream",
     "text": [
      "Epoch: 122   Loss: 0.5285611152648926\n",
      "              precision    recall  f1-score   support\n",
      "\n",
      "           0       0.50      0.60      0.54     22204\n",
      "           1       0.47      0.27      0.34     22448\n",
      "           2       0.52      0.59      0.55     28914\n",
      "           3       0.67      0.89      0.76     24766\n",
      "           4       0.72      0.94      0.82     25498\n",
      "           5       0.51      0.36      0.42     23912\n",
      "           6       0.57      0.39      0.46     24766\n",
      "\n",
      "    accuracy                           0.58    172508\n",
      "   macro avg       0.57      0.58      0.56    172508\n",
      "weighted avg       0.57      0.58      0.56    172508\n",
      "\n"
     ]
    },
    {
     "name": "stderr",
     "output_type": "stream",
     "text": [
      "100%|██████████| 45/45 [00:00<00:00, 862.01it/s]"
     ]
    },
    {
     "name": "stdout",
     "output_type": "stream",
     "text": [
      "Epoch: 123   Loss: 1.6592267751693726\n"
     ]
    },
    {
     "name": "stderr",
     "output_type": "stream",
     "text": [
      "\n"
     ]
    },
    {
     "name": "stdout",
     "output_type": "stream",
     "text": [
      "              precision    recall  f1-score   support\n",
      "\n",
      "           0       0.50      0.60      0.54     22386\n",
      "           1       0.47      0.27      0.34     22632\n",
      "           2       0.52      0.59      0.55     29151\n",
      "           3       0.67      0.89      0.76     24969\n",
      "           4       0.72      0.94      0.82     25707\n",
      "           5       0.52      0.36      0.43     24108\n",
      "           6       0.57      0.39      0.46     24969\n",
      "\n",
      "    accuracy                           0.58    173922\n",
      "   macro avg       0.57      0.58      0.56    173922\n",
      "weighted avg       0.57      0.58      0.56    173922\n",
      "\n"
     ]
    },
    {
     "name": "stderr",
     "output_type": "stream",
     "text": [
      "100%|██████████| 45/45 [00:00<00:00, 796.98it/s]\n"
     ]
    },
    {
     "name": "stdout",
     "output_type": "stream",
     "text": [
      "Epoch: 124   Loss: 0.9158165454864502\n",
      "              precision    recall  f1-score   support\n",
      "\n",
      "           0       0.50      0.60      0.55     22568\n",
      "           1       0.47      0.27      0.34     22816\n",
      "           2       0.52      0.59      0.55     29388\n",
      "           3       0.67      0.89      0.76     25172\n",
      "           4       0.72      0.94      0.82     25916\n",
      "           5       0.52      0.36      0.43     24304\n",
      "           6       0.58      0.39      0.47     25172\n",
      "\n",
      "    accuracy                           0.59    175336\n",
      "   macro avg       0.57      0.58      0.56    175336\n",
      "weighted avg       0.57      0.59      0.56    175336\n",
      "\n"
     ]
    },
    {
     "name": "stderr",
     "output_type": "stream",
     "text": [
      "100%|██████████| 45/45 [00:00<00:00, 869.77it/s]"
     ]
    },
    {
     "name": "stdout",
     "output_type": "stream",
     "text": [
      "Epoch: 125   Loss: 0.4273160994052887\n"
     ]
    },
    {
     "name": "stderr",
     "output_type": "stream",
     "text": [
      "\n"
     ]
    },
    {
     "name": "stdout",
     "output_type": "stream",
     "text": [
      "              precision    recall  f1-score   support\n",
      "\n",
      "           0       0.50      0.60      0.55     22750\n",
      "           1       0.47      0.27      0.34     23000\n",
      "           2       0.52      0.59      0.55     29625\n",
      "           3       0.67      0.89      0.76     25375\n",
      "           4       0.72      0.94      0.82     26125\n",
      "           5       0.52      0.37      0.43     24500\n",
      "           6       0.58      0.39      0.47     25375\n",
      "\n",
      "    accuracy                           0.59    176750\n",
      "   macro avg       0.57      0.58      0.56    176750\n",
      "weighted avg       0.57      0.59      0.56    176750\n",
      "\n"
     ]
    },
    {
     "name": "stderr",
     "output_type": "stream",
     "text": [
      "100%|██████████| 45/45 [00:00<00:00, 870.85it/s]"
     ]
    },
    {
     "name": "stdout",
     "output_type": "stream",
     "text": [
      "Epoch: 126   Loss: 0.8006021976470947\n"
     ]
    },
    {
     "name": "stderr",
     "output_type": "stream",
     "text": [
      "\n"
     ]
    },
    {
     "name": "stdout",
     "output_type": "stream",
     "text": [
      "              precision    recall  f1-score   support\n",
      "\n",
      "           0       0.50      0.60      0.55     22932\n",
      "           1       0.47      0.27      0.35     23184\n",
      "           2       0.52      0.59      0.55     29862\n",
      "           3       0.67      0.89      0.76     25578\n",
      "           4       0.72      0.94      0.82     26334\n",
      "           5       0.52      0.37      0.43     24696\n",
      "           6       0.58      0.39      0.47     25578\n",
      "\n",
      "    accuracy                           0.59    178164\n",
      "   macro avg       0.57      0.58      0.56    178164\n",
      "weighted avg       0.57      0.59      0.57    178164\n",
      "\n"
     ]
    },
    {
     "name": "stderr",
     "output_type": "stream",
     "text": [
      "100%|██████████| 45/45 [00:00<00:00, 938.93it/s]"
     ]
    },
    {
     "name": "stdout",
     "output_type": "stream",
     "text": [
      "Epoch: 127   Loss: 1.8334288597106934\n"
     ]
    },
    {
     "name": "stderr",
     "output_type": "stream",
     "text": [
      "\n"
     ]
    },
    {
     "name": "stdout",
     "output_type": "stream",
     "text": [
      "              precision    recall  f1-score   support\n",
      "\n",
      "           0       0.50      0.60      0.55     23114\n",
      "           1       0.47      0.27      0.35     23368\n",
      "           2       0.52      0.59      0.55     30099\n",
      "           3       0.67      0.89      0.76     25781\n",
      "           4       0.72      0.94      0.82     26543\n",
      "           5       0.52      0.37      0.43     24892\n",
      "           6       0.58      0.39      0.47     25781\n",
      "\n",
      "    accuracy                           0.59    179578\n",
      "   macro avg       0.57      0.58      0.56    179578\n",
      "weighted avg       0.57      0.59      0.57    179578\n",
      "\n"
     ]
    },
    {
     "name": "stderr",
     "output_type": "stream",
     "text": [
      "100%|██████████| 45/45 [00:00<00:00, 886.02it/s]"
     ]
    },
    {
     "name": "stdout",
     "output_type": "stream",
     "text": [
      "Epoch: 128   Loss: 0.6367365121841431\n"
     ]
    },
    {
     "name": "stderr",
     "output_type": "stream",
     "text": [
      "\n"
     ]
    },
    {
     "name": "stdout",
     "output_type": "stream",
     "text": [
      "              precision    recall  f1-score   support\n",
      "\n",
      "           0       0.50      0.60      0.55     23296\n",
      "           1       0.48      0.27      0.35     23552\n",
      "           2       0.52      0.59      0.55     30336\n",
      "           3       0.67      0.89      0.77     25984\n",
      "           4       0.72      0.94      0.82     26752\n",
      "           5       0.52      0.37      0.43     25088\n",
      "           6       0.58      0.40      0.47     25984\n",
      "\n",
      "    accuracy                           0.59    180992\n",
      "   macro avg       0.57      0.58      0.56    180992\n",
      "weighted avg       0.57      0.59      0.57    180992\n",
      "\n"
     ]
    },
    {
     "name": "stderr",
     "output_type": "stream",
     "text": [
      "100%|██████████| 45/45 [00:00<00:00, 864.45it/s]"
     ]
    },
    {
     "name": "stdout",
     "output_type": "stream",
     "text": [
      "Epoch: 129   Loss: 0.5533189177513123\n"
     ]
    },
    {
     "name": "stderr",
     "output_type": "stream",
     "text": [
      "\n"
     ]
    },
    {
     "name": "stdout",
     "output_type": "stream",
     "text": [
      "              precision    recall  f1-score   support\n",
      "\n",
      "           0       0.50      0.61      0.55     23478\n",
      "           1       0.48      0.27      0.35     23736\n",
      "           2       0.52      0.59      0.55     30573\n",
      "           3       0.67      0.89      0.77     26187\n",
      "           4       0.73      0.94      0.82     26961\n",
      "           5       0.52      0.37      0.43     25284\n",
      "           6       0.58      0.40      0.47     26187\n",
      "\n",
      "    accuracy                           0.59    182406\n",
      "   macro avg       0.57      0.58      0.56    182406\n",
      "weighted avg       0.57      0.59      0.57    182406\n",
      "\n"
     ]
    },
    {
     "name": "stderr",
     "output_type": "stream",
     "text": [
      "100%|██████████| 45/45 [00:00<00:00, 836.61it/s]"
     ]
    },
    {
     "name": "stdout",
     "output_type": "stream",
     "text": [
      "Epoch: 130   Loss: 0.3886173665523529\n"
     ]
    },
    {
     "name": "stderr",
     "output_type": "stream",
     "text": [
      "\n"
     ]
    },
    {
     "name": "stdout",
     "output_type": "stream",
     "text": [
      "              precision    recall  f1-score   support\n",
      "\n",
      "           0       0.50      0.61      0.55     23660\n",
      "           1       0.48      0.27      0.35     23920\n",
      "           2       0.52      0.59      0.56     30810\n",
      "           3       0.67      0.89      0.77     26390\n",
      "           4       0.73      0.94      0.82     27170\n",
      "           5       0.52      0.37      0.43     25480\n",
      "           6       0.58      0.40      0.47     26390\n",
      "\n",
      "    accuracy                           0.59    183820\n",
      "   macro avg       0.57      0.58      0.56    183820\n",
      "weighted avg       0.57      0.59      0.57    183820\n",
      "\n"
     ]
    },
    {
     "name": "stderr",
     "output_type": "stream",
     "text": [
      "100%|██████████| 45/45 [00:00<00:00, 967.75it/s]"
     ]
    },
    {
     "name": "stdout",
     "output_type": "stream",
     "text": [
      "Epoch: 131   Loss: 0.8096508979797363\n"
     ]
    },
    {
     "name": "stderr",
     "output_type": "stream",
     "text": [
      "\n"
     ]
    },
    {
     "name": "stdout",
     "output_type": "stream",
     "text": [
      "              precision    recall  f1-score   support\n",
      "\n",
      "           0       0.50      0.61      0.55     23842\n",
      "           1       0.48      0.27      0.35     24104\n",
      "           2       0.52      0.59      0.56     31047\n",
      "           3       0.67      0.89      0.77     26593\n",
      "           4       0.73      0.94      0.82     27379\n",
      "           5       0.52      0.37      0.43     25676\n",
      "           6       0.58      0.40      0.47     26593\n",
      "\n",
      "    accuracy                           0.59    185234\n",
      "   macro avg       0.57      0.58      0.56    185234\n",
      "weighted avg       0.57      0.59      0.57    185234\n",
      "\n"
     ]
    },
    {
     "name": "stderr",
     "output_type": "stream",
     "text": [
      "100%|██████████| 45/45 [00:00<00:00, 937.31it/s]"
     ]
    },
    {
     "name": "stdout",
     "output_type": "stream",
     "text": [
      "Epoch: 132   Loss: 0.5813587307929993\n"
     ]
    },
    {
     "name": "stderr",
     "output_type": "stream",
     "text": [
      "\n"
     ]
    },
    {
     "name": "stdout",
     "output_type": "stream",
     "text": [
      "              precision    recall  f1-score   support\n",
      "\n",
      "           0       0.50      0.61      0.55     24024\n",
      "           1       0.48      0.27      0.35     24288\n",
      "           2       0.52      0.59      0.56     31284\n",
      "           3       0.67      0.89      0.77     26796\n",
      "           4       0.73      0.94      0.82     27588\n",
      "           5       0.52      0.37      0.44     25872\n",
      "           6       0.58      0.40      0.47     26796\n",
      "\n",
      "    accuracy                           0.59    186648\n",
      "   macro avg       0.57      0.58      0.56    186648\n",
      "weighted avg       0.57      0.59      0.57    186648\n",
      "\n"
     ]
    },
    {
     "name": "stderr",
     "output_type": "stream",
     "text": [
      "100%|██████████| 45/45 [00:00<00:00, 936.24it/s]"
     ]
    },
    {
     "name": "stdout",
     "output_type": "stream",
     "text": [
      "Epoch: 133   Loss: 0.20265339314937592\n"
     ]
    },
    {
     "name": "stderr",
     "output_type": "stream",
     "text": [
      "\n"
     ]
    },
    {
     "name": "stdout",
     "output_type": "stream",
     "text": [
      "              precision    recall  f1-score   support\n",
      "\n",
      "           0       0.50      0.61      0.55     24206\n",
      "           1       0.48      0.27      0.35     24472\n",
      "           2       0.53      0.59      0.56     31521\n",
      "           3       0.67      0.89      0.77     26999\n",
      "           4       0.73      0.94      0.82     27797\n",
      "           5       0.52      0.38      0.44     26068\n",
      "           6       0.58      0.40      0.47     26999\n",
      "\n",
      "    accuracy                           0.59    188062\n",
      "   macro avg       0.57      0.58      0.57    188062\n",
      "weighted avg       0.57      0.59      0.57    188062\n",
      "\n"
     ]
    },
    {
     "name": "stderr",
     "output_type": "stream",
     "text": [
      "100%|██████████| 45/45 [00:00<00:00, 912.54it/s]"
     ]
    },
    {
     "name": "stdout",
     "output_type": "stream",
     "text": [
      "Epoch: 134   Loss: 0.7393207550048828\n"
     ]
    },
    {
     "name": "stderr",
     "output_type": "stream",
     "text": [
      "\n"
     ]
    },
    {
     "name": "stdout",
     "output_type": "stream",
     "text": [
      "              precision    recall  f1-score   support\n",
      "\n",
      "           0       0.50      0.61      0.55     24388\n",
      "           1       0.48      0.28      0.35     24656\n",
      "           2       0.53      0.59      0.56     31758\n",
      "           3       0.67      0.89      0.77     27202\n",
      "           4       0.73      0.94      0.82     28006\n",
      "           5       0.52      0.38      0.44     26264\n",
      "           6       0.58      0.40      0.48     27202\n",
      "\n",
      "    accuracy                           0.59    189476\n",
      "   macro avg       0.57      0.58      0.57    189476\n",
      "weighted avg       0.58      0.59      0.57    189476\n",
      "\n"
     ]
    },
    {
     "name": "stderr",
     "output_type": "stream",
     "text": [
      "100%|██████████| 45/45 [00:00<00:00, 849.48it/s]"
     ]
    },
    {
     "name": "stdout",
     "output_type": "stream",
     "text": [
      "Epoch: 135   Loss: 0.5434619188308716\n"
     ]
    },
    {
     "name": "stderr",
     "output_type": "stream",
     "text": [
      "\n"
     ]
    },
    {
     "name": "stdout",
     "output_type": "stream",
     "text": [
      "              precision    recall  f1-score   support\n",
      "\n",
      "           0       0.50      0.61      0.55     24570\n",
      "           1       0.48      0.28      0.35     24840\n",
      "           2       0.53      0.59      0.56     31995\n",
      "           3       0.67      0.89      0.77     27405\n",
      "           4       0.73      0.94      0.82     28215\n",
      "           5       0.52      0.38      0.44     26460\n",
      "           6       0.58      0.40      0.48     27405\n",
      "\n",
      "    accuracy                           0.59    190890\n",
      "   macro avg       0.57      0.58      0.57    190890\n",
      "weighted avg       0.58      0.59      0.57    190890\n",
      "\n"
     ]
    },
    {
     "name": "stderr",
     "output_type": "stream",
     "text": [
      "100%|██████████| 45/45 [00:00<00:00, 921.45it/s]"
     ]
    },
    {
     "name": "stdout",
     "output_type": "stream",
     "text": [
      "Epoch: 136   Loss: 0.351247638463974\n"
     ]
    },
    {
     "name": "stderr",
     "output_type": "stream",
     "text": [
      "\n"
     ]
    },
    {
     "name": "stdout",
     "output_type": "stream",
     "text": [
      "              precision    recall  f1-score   support\n",
      "\n",
      "           0       0.50      0.61      0.55     24752\n",
      "           1       0.48      0.28      0.35     25024\n",
      "           2       0.53      0.59      0.56     32232\n",
      "           3       0.68      0.89      0.77     27608\n",
      "           4       0.73      0.94      0.82     28424\n",
      "           5       0.52      0.38      0.44     26656\n",
      "           6       0.58      0.41      0.48     27608\n",
      "\n",
      "    accuracy                           0.59    192304\n",
      "   macro avg       0.57      0.59      0.57    192304\n",
      "weighted avg       0.58      0.59      0.57    192304\n",
      "\n"
     ]
    },
    {
     "name": "stderr",
     "output_type": "stream",
     "text": [
      "100%|██████████| 45/45 [00:00<00:00, 874.95it/s]"
     ]
    },
    {
     "name": "stdout",
     "output_type": "stream",
     "text": [
      "Epoch: 137   Loss: 0.8106572031974792\n"
     ]
    },
    {
     "name": "stderr",
     "output_type": "stream",
     "text": [
      "\n"
     ]
    },
    {
     "name": "stdout",
     "output_type": "stream",
     "text": [
      "              precision    recall  f1-score   support\n",
      "\n",
      "           0       0.51      0.61      0.55     24934\n",
      "           1       0.48      0.28      0.35     25208\n",
      "           2       0.53      0.59      0.56     32469\n",
      "           3       0.68      0.89      0.77     27811\n",
      "           4       0.73      0.94      0.82     28633\n",
      "           5       0.52      0.38      0.44     26852\n",
      "           6       0.58      0.41      0.48     27811\n",
      "\n",
      "    accuracy                           0.59    193718\n",
      "   macro avg       0.58      0.59      0.57    193718\n",
      "weighted avg       0.58      0.59      0.57    193718\n",
      "\n"
     ]
    },
    {
     "name": "stderr",
     "output_type": "stream",
     "text": [
      "100%|██████████| 45/45 [00:00<00:00, 871.33it/s]"
     ]
    },
    {
     "name": "stdout",
     "output_type": "stream",
     "text": [
      "Epoch: 138   Loss: 1.0974431037902832\n"
     ]
    },
    {
     "name": "stderr",
     "output_type": "stream",
     "text": [
      "\n"
     ]
    },
    {
     "name": "stdout",
     "output_type": "stream",
     "text": [
      "              precision    recall  f1-score   support\n",
      "\n",
      "           0       0.51      0.61      0.55     25116\n",
      "           1       0.48      0.28      0.35     25392\n",
      "           2       0.53      0.60      0.56     32706\n",
      "           3       0.68      0.89      0.77     28014\n",
      "           4       0.73      0.94      0.82     28842\n",
      "           5       0.52      0.38      0.44     27048\n",
      "           6       0.58      0.41      0.48     28014\n",
      "\n",
      "    accuracy                           0.59    195132\n",
      "   macro avg       0.58      0.59      0.57    195132\n",
      "weighted avg       0.58      0.59      0.57    195132\n",
      "\n"
     ]
    },
    {
     "name": "stderr",
     "output_type": "stream",
     "text": [
      "100%|██████████| 45/45 [00:00<00:00, 875.66it/s]"
     ]
    },
    {
     "name": "stdout",
     "output_type": "stream",
     "text": [
      "Epoch: 139   Loss: 0.7075875401496887\n"
     ]
    },
    {
     "name": "stderr",
     "output_type": "stream",
     "text": [
      "\n"
     ]
    },
    {
     "name": "stdout",
     "output_type": "stream",
     "text": [
      "              precision    recall  f1-score   support\n",
      "\n",
      "           0       0.51      0.61      0.55     25298\n",
      "           1       0.48      0.28      0.35     25576\n",
      "           2       0.53      0.60      0.56     32943\n",
      "           3       0.68      0.89      0.77     28217\n",
      "           4       0.73      0.94      0.82     29051\n",
      "           5       0.52      0.38      0.44     27244\n",
      "           6       0.58      0.41      0.48     28217\n",
      "\n",
      "    accuracy                           0.59    196546\n",
      "   macro avg       0.58      0.59      0.57    196546\n",
      "weighted avg       0.58      0.59      0.57    196546\n",
      "\n"
     ]
    },
    {
     "name": "stderr",
     "output_type": "stream",
     "text": [
      "100%|██████████| 45/45 [00:00<00:00, 896.93it/s]"
     ]
    },
    {
     "name": "stdout",
     "output_type": "stream",
     "text": [
      "Epoch: 140   Loss: 1.6599388122558594\n"
     ]
    },
    {
     "name": "stderr",
     "output_type": "stream",
     "text": [
      "\n"
     ]
    },
    {
     "name": "stdout",
     "output_type": "stream",
     "text": [
      "              precision    recall  f1-score   support\n",
      "\n",
      "           0       0.51      0.61      0.55     25480\n",
      "           1       0.49      0.28      0.35     25760\n",
      "           2       0.53      0.60      0.56     33180\n",
      "           3       0.68      0.89      0.77     28420\n",
      "           4       0.73      0.94      0.82     29260\n",
      "           5       0.53      0.38      0.44     27440\n",
      "           6       0.58      0.41      0.48     28420\n",
      "\n",
      "    accuracy                           0.59    197960\n",
      "   macro avg       0.58      0.59      0.57    197960\n",
      "weighted avg       0.58      0.59      0.57    197960\n",
      "\n"
     ]
    },
    {
     "name": "stderr",
     "output_type": "stream",
     "text": [
      "100%|██████████| 45/45 [00:00<00:00, 888.17it/s]"
     ]
    },
    {
     "name": "stdout",
     "output_type": "stream",
     "text": [
      "Epoch: 141   Loss: 0.9881361126899719\n"
     ]
    },
    {
     "name": "stderr",
     "output_type": "stream",
     "text": [
      "\n"
     ]
    },
    {
     "name": "stdout",
     "output_type": "stream",
     "text": [
      "              precision    recall  f1-score   support\n",
      "\n",
      "           0       0.51      0.61      0.55     25662\n",
      "           1       0.49      0.28      0.35     25944\n",
      "           2       0.53      0.60      0.56     33417\n",
      "           3       0.68      0.89      0.77     28623\n",
      "           4       0.73      0.94      0.82     29469\n",
      "           5       0.53      0.38      0.44     27636\n",
      "           6       0.58      0.41      0.48     28623\n",
      "\n",
      "    accuracy                           0.59    199374\n",
      "   macro avg       0.58      0.59      0.57    199374\n",
      "weighted avg       0.58      0.59      0.58    199374\n",
      "\n"
     ]
    },
    {
     "name": "stderr",
     "output_type": "stream",
     "text": [
      "100%|██████████| 45/45 [00:00<00:00, 826.36it/s]"
     ]
    },
    {
     "name": "stdout",
     "output_type": "stream",
     "text": [
      "Epoch: 142   Loss: 0.7869731783866882\n"
     ]
    },
    {
     "name": "stderr",
     "output_type": "stream",
     "text": [
      "\n"
     ]
    },
    {
     "name": "stdout",
     "output_type": "stream",
     "text": [
      "              precision    recall  f1-score   support\n",
      "\n",
      "           0       0.51      0.61      0.55     25844\n",
      "           1       0.49      0.28      0.36     26128\n",
      "           2       0.53      0.60      0.56     33654\n",
      "           3       0.68      0.89      0.77     28826\n",
      "           4       0.73      0.94      0.82     29678\n",
      "           5       0.53      0.39      0.44     27832\n",
      "           6       0.59      0.41      0.48     28826\n",
      "\n",
      "    accuracy                           0.60    200788\n",
      "   macro avg       0.58      0.59      0.57    200788\n",
      "weighted avg       0.58      0.60      0.58    200788\n",
      "\n"
     ]
    },
    {
     "name": "stderr",
     "output_type": "stream",
     "text": [
      "100%|██████████| 45/45 [00:00<00:00, 826.40it/s]\n"
     ]
    },
    {
     "name": "stdout",
     "output_type": "stream",
     "text": [
      "Epoch: 143   Loss: 0.8268873691558838\n",
      "              precision    recall  f1-score   support\n",
      "\n",
      "           0       0.51      0.61      0.56     26026\n",
      "           1       0.49      0.28      0.36     26312\n",
      "           2       0.53      0.60      0.56     33891\n",
      "           3       0.68      0.89      0.77     29029\n",
      "           4       0.73      0.94      0.82     29887\n",
      "           5       0.53      0.39      0.45     28028\n",
      "           6       0.59      0.41      0.49     29029\n",
      "\n",
      "    accuracy                           0.60    202202\n",
      "   macro avg       0.58      0.59      0.57    202202\n",
      "weighted avg       0.58      0.60      0.58    202202\n",
      "\n"
     ]
    },
    {
     "name": "stderr",
     "output_type": "stream",
     "text": [
      "100%|██████████| 45/45 [00:00<00:00, 895.88it/s]\n"
     ]
    },
    {
     "name": "stdout",
     "output_type": "stream",
     "text": [
      "Epoch: 144   Loss: 1.1837477684020996\n",
      "              precision    recall  f1-score   support\n",
      "\n",
      "           0       0.51      0.61      0.56     26208\n",
      "           1       0.49      0.28      0.36     26496\n",
      "           2       0.53      0.60      0.56     34128\n",
      "           3       0.68      0.89      0.77     29232\n",
      "           4       0.73      0.94      0.82     30096\n",
      "           5       0.53      0.39      0.45     28224\n",
      "           6       0.59      0.42      0.49     29232\n",
      "\n",
      "    accuracy                           0.60    203616\n",
      "   macro avg       0.58      0.59      0.57    203616\n",
      "weighted avg       0.58      0.60      0.58    203616\n",
      "\n"
     ]
    },
    {
     "name": "stderr",
     "output_type": "stream",
     "text": [
      "100%|██████████| 45/45 [00:00<00:00, 868.77it/s]\n"
     ]
    },
    {
     "name": "stdout",
     "output_type": "stream",
     "text": [
      "Epoch: 145   Loss: 0.897402822971344\n",
      "              precision    recall  f1-score   support\n",
      "\n",
      "           0       0.51      0.61      0.56     26390\n",
      "           1       0.49      0.28      0.36     26680\n",
      "           2       0.53      0.60      0.56     34365\n",
      "           3       0.68      0.89      0.77     29435\n",
      "           4       0.73      0.94      0.82     30305\n",
      "           5       0.53      0.39      0.45     28420\n",
      "           6       0.59      0.42      0.49     29435\n",
      "\n",
      "    accuracy                           0.60    205030\n",
      "   macro avg       0.58      0.59      0.57    205030\n",
      "weighted avg       0.58      0.60      0.58    205030\n",
      "\n"
     ]
    },
    {
     "name": "stderr",
     "output_type": "stream",
     "text": [
      "100%|██████████| 45/45 [00:00<00:00, 613.97it/s]\n"
     ]
    },
    {
     "name": "stdout",
     "output_type": "stream",
     "text": [
      "Epoch: 146   Loss: 0.5026941299438477\n",
      "              precision    recall  f1-score   support\n",
      "\n",
      "           0       0.51      0.61      0.56     26572\n",
      "           1       0.49      0.28      0.36     26864\n",
      "           2       0.54      0.60      0.57     34602\n",
      "           3       0.68      0.89      0.77     29638\n",
      "           4       0.73      0.94      0.82     30514\n",
      "           5       0.53      0.39      0.45     28616\n",
      "           6       0.59      0.42      0.49     29638\n",
      "\n",
      "    accuracy                           0.60    206444\n",
      "   macro avg       0.58      0.59      0.57    206444\n",
      "weighted avg       0.58      0.60      0.58    206444\n",
      "\n"
     ]
    },
    {
     "name": "stderr",
     "output_type": "stream",
     "text": [
      "100%|██████████| 45/45 [00:00<00:00, 903.07it/s]\n"
     ]
    },
    {
     "name": "stdout",
     "output_type": "stream",
     "text": [
      "Epoch: 147   Loss: 0.5607985258102417\n",
      "              precision    recall  f1-score   support\n",
      "\n",
      "           0       0.51      0.61      0.56     26754\n",
      "           1       0.49      0.28      0.36     27048\n",
      "           2       0.54      0.60      0.57     34839\n",
      "           3       0.68      0.89      0.77     29841\n",
      "           4       0.73      0.94      0.82     30723\n",
      "           5       0.53      0.39      0.45     28812\n",
      "           6       0.59      0.42      0.49     29841\n",
      "\n",
      "    accuracy                           0.60    207858\n",
      "   macro avg       0.58      0.59      0.57    207858\n",
      "weighted avg       0.58      0.60      0.58    207858\n",
      "\n"
     ]
    },
    {
     "name": "stderr",
     "output_type": "stream",
     "text": [
      "100%|██████████| 45/45 [00:00<00:00, 851.50it/s]"
     ]
    },
    {
     "name": "stdout",
     "output_type": "stream",
     "text": [
      "Epoch: 148   Loss: 0.5297662615776062\n"
     ]
    },
    {
     "name": "stderr",
     "output_type": "stream",
     "text": [
      "\n"
     ]
    },
    {
     "name": "stdout",
     "output_type": "stream",
     "text": [
      "              precision    recall  f1-score   support\n",
      "\n",
      "           0       0.51      0.62      0.56     26936\n",
      "           1       0.49      0.28      0.36     27232\n",
      "           2       0.54      0.60      0.57     35076\n",
      "           3       0.68      0.89      0.77     30044\n",
      "           4       0.73      0.94      0.83     30932\n",
      "           5       0.53      0.39      0.45     29008\n",
      "           6       0.59      0.42      0.49     30044\n",
      "\n",
      "    accuracy                           0.60    209272\n",
      "   macro avg       0.58      0.59      0.57    209272\n",
      "weighted avg       0.58      0.60      0.58    209272\n",
      "\n"
     ]
    },
    {
     "name": "stderr",
     "output_type": "stream",
     "text": [
      "100%|██████████| 45/45 [00:00<00:00, 917.69it/s]"
     ]
    },
    {
     "name": "stdout",
     "output_type": "stream",
     "text": [
      "Epoch: 149   Loss: 1.2405431270599365\n"
     ]
    },
    {
     "name": "stderr",
     "output_type": "stream",
     "text": [
      "\n"
     ]
    },
    {
     "name": "stdout",
     "output_type": "stream",
     "text": [
      "              precision    recall  f1-score   support\n",
      "\n",
      "           0       0.51      0.62      0.56     27118\n",
      "           1       0.49      0.28      0.36     27416\n",
      "           2       0.54      0.60      0.57     35313\n",
      "           3       0.68      0.89      0.77     30247\n",
      "           4       0.73      0.94      0.83     31141\n",
      "           5       0.53      0.39      0.45     29204\n",
      "           6       0.59      0.42      0.49     30247\n",
      "\n",
      "    accuracy                           0.60    210686\n",
      "   macro avg       0.58      0.59      0.58    210686\n",
      "weighted avg       0.58      0.60      0.58    210686\n",
      "\n"
     ]
    },
    {
     "name": "stderr",
     "output_type": "stream",
     "text": [
      "100%|██████████| 45/45 [00:00<00:00, 856.87it/s]"
     ]
    },
    {
     "name": "stdout",
     "output_type": "stream",
     "text": [
      "Epoch: 150   Loss: 0.885312557220459\n"
     ]
    },
    {
     "name": "stderr",
     "output_type": "stream",
     "text": [
      "\n"
     ]
    },
    {
     "name": "stdout",
     "output_type": "stream",
     "text": [
      "              precision    recall  f1-score   support\n",
      "\n",
      "           0       0.51      0.62      0.56     27300\n",
      "           1       0.49      0.28      0.36     27600\n",
      "           2       0.54      0.60      0.57     35550\n",
      "           3       0.68      0.89      0.77     30450\n",
      "           4       0.73      0.94      0.83     31350\n",
      "           5       0.53      0.39      0.45     29400\n",
      "           6       0.59      0.42      0.49     30450\n",
      "\n",
      "    accuracy                           0.60    212100\n",
      "   macro avg       0.58      0.59      0.58    212100\n",
      "weighted avg       0.59      0.60      0.58    212100\n",
      "\n"
     ]
    },
    {
     "name": "stderr",
     "output_type": "stream",
     "text": [
      "100%|██████████| 45/45 [00:00<00:00, 945.09it/s]"
     ]
    },
    {
     "name": "stdout",
     "output_type": "stream",
     "text": [
      "Epoch: 151   Loss: 0.9954611659049988\n"
     ]
    },
    {
     "name": "stderr",
     "output_type": "stream",
     "text": [
      "\n"
     ]
    },
    {
     "name": "stdout",
     "output_type": "stream",
     "text": [
      "              precision    recall  f1-score   support\n",
      "\n",
      "           0       0.51      0.62      0.56     27482\n",
      "           1       0.49      0.29      0.36     27784\n",
      "           2       0.54      0.60      0.57     35787\n",
      "           3       0.68      0.89      0.77     30653\n",
      "           4       0.74      0.94      0.83     31559\n",
      "           5       0.53      0.40      0.45     29596\n",
      "           6       0.59      0.42      0.49     30653\n",
      "\n",
      "    accuracy                           0.60    213514\n",
      "   macro avg       0.58      0.59      0.58    213514\n",
      "weighted avg       0.59      0.60      0.58    213514\n",
      "\n"
     ]
    },
    {
     "name": "stderr",
     "output_type": "stream",
     "text": [
      "100%|██████████| 45/45 [00:00<00:00, 962.44it/s]"
     ]
    },
    {
     "name": "stdout",
     "output_type": "stream",
     "text": [
      "Epoch: 152   Loss: 0.7899066805839539\n"
     ]
    },
    {
     "name": "stderr",
     "output_type": "stream",
     "text": [
      "\n"
     ]
    },
    {
     "name": "stdout",
     "output_type": "stream",
     "text": [
      "              precision    recall  f1-score   support\n",
      "\n",
      "           0       0.51      0.62      0.56     27664\n",
      "           1       0.49      0.29      0.36     27968\n",
      "           2       0.54      0.60      0.57     36024\n",
      "           3       0.68      0.89      0.78     30856\n",
      "           4       0.74      0.94      0.83     31768\n",
      "           5       0.53      0.40      0.45     29792\n",
      "           6       0.59      0.42      0.49     30856\n",
      "\n",
      "    accuracy                           0.60    214928\n",
      "   macro avg       0.58      0.59      0.58    214928\n",
      "weighted avg       0.59      0.60      0.58    214928\n",
      "\n"
     ]
    },
    {
     "name": "stderr",
     "output_type": "stream",
     "text": [
      "100%|██████████| 45/45 [00:00<00:00, 907.85it/s]"
     ]
    },
    {
     "name": "stdout",
     "output_type": "stream",
     "text": [
      "Epoch: 153   Loss: 0.9942407608032227\n"
     ]
    },
    {
     "name": "stderr",
     "output_type": "stream",
     "text": [
      "\n"
     ]
    },
    {
     "name": "stdout",
     "output_type": "stream",
     "text": [
      "              precision    recall  f1-score   support\n",
      "\n",
      "           0       0.51      0.62      0.56     27846\n",
      "           1       0.50      0.29      0.36     28152\n",
      "           2       0.54      0.60      0.57     36261\n",
      "           3       0.69      0.89      0.78     31059\n",
      "           4       0.74      0.94      0.83     31977\n",
      "           5       0.53      0.40      0.46     29988\n",
      "           6       0.59      0.42      0.50     31059\n",
      "\n",
      "    accuracy                           0.60    216342\n",
      "   macro avg       0.59      0.60      0.58    216342\n",
      "weighted avg       0.59      0.60      0.58    216342\n",
      "\n"
     ]
    },
    {
     "name": "stderr",
     "output_type": "stream",
     "text": [
      "100%|██████████| 45/45 [00:00<00:00, 928.87it/s]"
     ]
    },
    {
     "name": "stdout",
     "output_type": "stream",
     "text": [
      "Epoch: 154   Loss: 0.5721623301506042\n"
     ]
    },
    {
     "name": "stderr",
     "output_type": "stream",
     "text": [
      "\n"
     ]
    },
    {
     "name": "stdout",
     "output_type": "stream",
     "text": [
      "              precision    recall  f1-score   support\n",
      "\n",
      "           0       0.51      0.62      0.56     28028\n",
      "           1       0.50      0.29      0.36     28336\n",
      "           2       0.54      0.60      0.57     36498\n",
      "           3       0.69      0.89      0.78     31262\n",
      "           4       0.74      0.94      0.83     32186\n",
      "           5       0.53      0.40      0.46     30184\n",
      "           6       0.59      0.43      0.50     31262\n",
      "\n",
      "    accuracy                           0.60    217756\n",
      "   macro avg       0.59      0.60      0.58    217756\n",
      "weighted avg       0.59      0.60      0.58    217756\n",
      "\n"
     ]
    },
    {
     "name": "stderr",
     "output_type": "stream",
     "text": [
      "100%|██████████| 45/45 [00:00<00:00, 885.38it/s]\n"
     ]
    },
    {
     "name": "stdout",
     "output_type": "stream",
     "text": [
      "Epoch: 155   Loss: 0.6483390927314758\n",
      "              precision    recall  f1-score   support\n",
      "\n",
      "           0       0.51      0.62      0.56     28210\n",
      "           1       0.50      0.29      0.36     28520\n",
      "           2       0.54      0.60      0.57     36735\n",
      "           3       0.69      0.89      0.78     31465\n",
      "           4       0.74      0.94      0.83     32395\n",
      "           5       0.53      0.40      0.46     30380\n",
      "           6       0.59      0.43      0.50     31465\n",
      "\n",
      "    accuracy                           0.60    219170\n",
      "   macro avg       0.59      0.60      0.58    219170\n",
      "weighted avg       0.59      0.60      0.58    219170\n",
      "\n"
     ]
    },
    {
     "name": "stderr",
     "output_type": "stream",
     "text": [
      "100%|██████████| 45/45 [00:00<00:00, 938.96it/s]"
     ]
    },
    {
     "name": "stdout",
     "output_type": "stream",
     "text": [
      "Epoch: 156   Loss: 1.1743046045303345\n"
     ]
    },
    {
     "name": "stderr",
     "output_type": "stream",
     "text": [
      "\n"
     ]
    },
    {
     "name": "stdout",
     "output_type": "stream",
     "text": [
      "              precision    recall  f1-score   support\n",
      "\n",
      "           0       0.51      0.62      0.56     28392\n",
      "           1       0.50      0.29      0.37     28704\n",
      "           2       0.54      0.60      0.57     36972\n",
      "           3       0.69      0.89      0.78     31668\n",
      "           4       0.74      0.94      0.83     32604\n",
      "           5       0.53      0.40      0.46     30576\n",
      "           6       0.59      0.43      0.50     31668\n",
      "\n",
      "    accuracy                           0.60    220584\n",
      "   macro avg       0.59      0.60      0.58    220584\n",
      "weighted avg       0.59      0.60      0.58    220584\n",
      "\n"
     ]
    },
    {
     "name": "stderr",
     "output_type": "stream",
     "text": [
      "100%|██████████| 45/45 [00:00<00:00, 894.39it/s]\n"
     ]
    },
    {
     "name": "stdout",
     "output_type": "stream",
     "text": [
      "Epoch: 157   Loss: 0.5098823308944702\n",
      "              precision    recall  f1-score   support\n",
      "\n",
      "           0       0.52      0.62      0.56     28574\n",
      "           1       0.50      0.29      0.37     28888\n",
      "           2       0.54      0.60      0.57     37209\n",
      "           3       0.69      0.89      0.78     31871\n",
      "           4       0.74      0.94      0.83     32813\n",
      "           5       0.54      0.40      0.46     30772\n",
      "           6       0.60      0.43      0.50     31871\n",
      "\n",
      "    accuracy                           0.60    221998\n",
      "   macro avg       0.59      0.60      0.58    221998\n",
      "weighted avg       0.59      0.60      0.59    221998\n",
      "\n"
     ]
    },
    {
     "name": "stderr",
     "output_type": "stream",
     "text": [
      "100%|██████████| 45/45 [00:00<00:00, 849.97it/s]\n"
     ]
    },
    {
     "name": "stdout",
     "output_type": "stream",
     "text": [
      "Epoch: 158   Loss: 0.5349535346031189\n",
      "              precision    recall  f1-score   support\n",
      "\n",
      "           0       0.52      0.62      0.56     28756\n",
      "           1       0.50      0.29      0.37     29072\n",
      "           2       0.54      0.61      0.57     37446\n",
      "           3       0.69      0.89      0.78     32074\n",
      "           4       0.74      0.94      0.83     33022\n",
      "           5       0.54      0.40      0.46     30968\n",
      "           6       0.60      0.43      0.50     32074\n",
      "\n",
      "    accuracy                           0.60    223412\n",
      "   macro avg       0.59      0.60      0.58    223412\n",
      "weighted avg       0.59      0.60      0.59    223412\n",
      "\n"
     ]
    },
    {
     "name": "stderr",
     "output_type": "stream",
     "text": [
      "100%|██████████| 45/45 [00:00<00:00, 980.02it/s]\n"
     ]
    },
    {
     "name": "stdout",
     "output_type": "stream",
     "text": [
      "Epoch: 159   Loss: 1.319968581199646\n",
      "              precision    recall  f1-score   support\n",
      "\n",
      "           0       0.52      0.62      0.56     28938\n",
      "           1       0.50      0.29      0.37     29256\n",
      "           2       0.54      0.61      0.57     37683\n",
      "           3       0.69      0.89      0.78     32277\n",
      "           4       0.74      0.94      0.83     33231\n",
      "           5       0.54      0.40      0.46     31164\n",
      "           6       0.60      0.43      0.50     32277\n",
      "\n",
      "    accuracy                           0.60    224826\n",
      "   macro avg       0.59      0.60      0.58    224826\n",
      "weighted avg       0.59      0.60      0.59    224826\n",
      "\n"
     ]
    },
    {
     "name": "stderr",
     "output_type": "stream",
     "text": [
      "100%|██████████| 45/45 [00:00<00:00, 984.36it/s]"
     ]
    },
    {
     "name": "stdout",
     "output_type": "stream",
     "text": [
      "Epoch: 160   Loss: 1.2049344778060913\n"
     ]
    },
    {
     "name": "stderr",
     "output_type": "stream",
     "text": [
      "\n"
     ]
    },
    {
     "name": "stdout",
     "output_type": "stream",
     "text": [
      "              precision    recall  f1-score   support\n",
      "\n",
      "           0       0.52      0.62      0.56     29120\n",
      "           1       0.50      0.29      0.37     29440\n",
      "           2       0.54      0.61      0.57     37920\n",
      "           3       0.69      0.89      0.78     32480\n",
      "           4       0.74      0.94      0.83     33440\n",
      "           5       0.54      0.40      0.46     31360\n",
      "           6       0.60      0.43      0.50     32480\n",
      "\n",
      "    accuracy                           0.61    226240\n",
      "   macro avg       0.59      0.60      0.58    226240\n",
      "weighted avg       0.59      0.61      0.59    226240\n",
      "\n"
     ]
    },
    {
     "name": "stderr",
     "output_type": "stream",
     "text": [
      "100%|██████████| 45/45 [00:00<00:00, 863.32it/s]\n"
     ]
    },
    {
     "name": "stdout",
     "output_type": "stream",
     "text": [
      "Epoch: 161   Loss: 0.63889080286026\n",
      "              precision    recall  f1-score   support\n",
      "\n",
      "           0       0.52      0.62      0.57     29302\n",
      "           1       0.50      0.29      0.37     29624\n",
      "           2       0.55      0.61      0.57     38157\n",
      "           3       0.69      0.89      0.78     32683\n",
      "           4       0.74      0.94      0.83     33649\n",
      "           5       0.54      0.41      0.46     31556\n",
      "           6       0.60      0.43      0.50     32683\n",
      "\n",
      "    accuracy                           0.61    227654\n",
      "   macro avg       0.59      0.60      0.58    227654\n",
      "weighted avg       0.59      0.61      0.59    227654\n",
      "\n"
     ]
    },
    {
     "name": "stderr",
     "output_type": "stream",
     "text": [
      "100%|██████████| 45/45 [00:00<00:00, 851.24it/s]\n"
     ]
    },
    {
     "name": "stdout",
     "output_type": "stream",
     "text": [
      "Epoch: 162   Loss: 1.2981078624725342\n",
      "              precision    recall  f1-score   support\n",
      "\n",
      "           0       0.52      0.62      0.57     29484\n",
      "           1       0.50      0.29      0.37     29808\n",
      "           2       0.55      0.61      0.57     38394\n",
      "           3       0.69      0.89      0.78     32886\n",
      "           4       0.74      0.94      0.83     33858\n",
      "           5       0.54      0.41      0.46     31752\n",
      "           6       0.60      0.43      0.50     32886\n",
      "\n",
      "    accuracy                           0.61    229068\n",
      "   macro avg       0.59      0.60      0.58    229068\n",
      "weighted avg       0.59      0.61      0.59    229068\n",
      "\n"
     ]
    },
    {
     "name": "stderr",
     "output_type": "stream",
     "text": [
      "100%|██████████| 45/45 [00:00<00:00, 828.22it/s]\n"
     ]
    },
    {
     "name": "stdout",
     "output_type": "stream",
     "text": [
      "Epoch: 163   Loss: 0.633448600769043\n",
      "              precision    recall  f1-score   support\n",
      "\n",
      "           0       0.52      0.62      0.57     29666\n",
      "           1       0.50      0.29      0.37     29992\n",
      "           2       0.55      0.61      0.58     38631\n",
      "           3       0.69      0.89      0.78     33089\n",
      "           4       0.74      0.94      0.83     34067\n",
      "           5       0.54      0.41      0.46     31948\n",
      "           6       0.60      0.44      0.50     33089\n",
      "\n",
      "    accuracy                           0.61    230482\n",
      "   macro avg       0.59      0.60      0.58    230482\n",
      "weighted avg       0.59      0.61      0.59    230482\n",
      "\n"
     ]
    },
    {
     "name": "stderr",
     "output_type": "stream",
     "text": [
      "100%|██████████| 45/45 [00:00<00:00, 856.49it/s]\n"
     ]
    },
    {
     "name": "stdout",
     "output_type": "stream",
     "text": [
      "Epoch: 164   Loss: 0.3239516615867615\n",
      "              precision    recall  f1-score   support\n",
      "\n",
      "           0       0.52      0.62      0.57     29848\n",
      "           1       0.50      0.29      0.37     30176\n",
      "           2       0.55      0.61      0.58     38868\n",
      "           3       0.69      0.89      0.78     33292\n",
      "           4       0.74      0.94      0.83     34276\n",
      "           5       0.54      0.41      0.46     32144\n",
      "           6       0.60      0.44      0.51     33292\n",
      "\n",
      "    accuracy                           0.61    231896\n",
      "   macro avg       0.59      0.60      0.58    231896\n",
      "weighted avg       0.59      0.61      0.59    231896\n",
      "\n"
     ]
    },
    {
     "name": "stderr",
     "output_type": "stream",
     "text": [
      "100%|██████████| 45/45 [00:00<00:00, 858.36it/s]\n"
     ]
    },
    {
     "name": "stdout",
     "output_type": "stream",
     "text": [
      "Epoch: 165   Loss: 1.2084155082702637\n",
      "              precision    recall  f1-score   support\n",
      "\n",
      "           0       0.52      0.62      0.57     30030\n",
      "           1       0.50      0.29      0.37     30360\n",
      "           2       0.55      0.61      0.58     39105\n",
      "           3       0.69      0.89      0.78     33495\n",
      "           4       0.74      0.94      0.83     34485\n",
      "           5       0.54      0.41      0.47     32340\n",
      "           6       0.60      0.44      0.51     33495\n",
      "\n",
      "    accuracy                           0.61    233310\n",
      "   macro avg       0.59      0.60      0.59    233310\n",
      "weighted avg       0.59      0.61      0.59    233310\n",
      "\n"
     ]
    },
    {
     "name": "stderr",
     "output_type": "stream",
     "text": [
      "100%|██████████| 45/45 [00:00<00:00, 819.92it/s]\n"
     ]
    },
    {
     "name": "stdout",
     "output_type": "stream",
     "text": [
      "Epoch: 166   Loss: 1.583443284034729\n",
      "              precision    recall  f1-score   support\n",
      "\n",
      "           0       0.52      0.63      0.57     30212\n",
      "           1       0.50      0.30      0.37     30544\n",
      "           2       0.55      0.61      0.58     39342\n",
      "           3       0.69      0.89      0.78     33698\n",
      "           4       0.74      0.94      0.83     34694\n",
      "           5       0.54      0.41      0.47     32536\n",
      "           6       0.60      0.44      0.51     33698\n",
      "\n",
      "    accuracy                           0.61    234724\n",
      "   macro avg       0.59      0.60      0.59    234724\n",
      "weighted avg       0.59      0.61      0.59    234724\n",
      "\n"
     ]
    },
    {
     "name": "stderr",
     "output_type": "stream",
     "text": [
      "100%|██████████| 45/45 [00:00<00:00, 911.10it/s]\n"
     ]
    },
    {
     "name": "stdout",
     "output_type": "stream",
     "text": [
      "Epoch: 167   Loss: 1.7076395750045776\n",
      "              precision    recall  f1-score   support\n",
      "\n",
      "           0       0.52      0.63      0.57     30394\n",
      "           1       0.51      0.30      0.37     30728\n",
      "           2       0.55      0.61      0.58     39579\n",
      "           3       0.69      0.89      0.78     33901\n",
      "           4       0.74      0.94      0.83     34903\n",
      "           5       0.54      0.41      0.47     32732\n",
      "           6       0.60      0.44      0.51     33901\n",
      "\n",
      "    accuracy                           0.61    236138\n",
      "   macro avg       0.59      0.60      0.59    236138\n",
      "weighted avg       0.60      0.61      0.59    236138\n",
      "\n"
     ]
    },
    {
     "name": "stderr",
     "output_type": "stream",
     "text": [
      "100%|██████████| 45/45 [00:00<00:00, 919.00it/s]\n"
     ]
    },
    {
     "name": "stdout",
     "output_type": "stream",
     "text": [
      "Epoch: 168   Loss: 0.5317082405090332\n",
      "              precision    recall  f1-score   support\n",
      "\n",
      "           0       0.52      0.63      0.57     30576\n",
      "           1       0.51      0.30      0.37     30912\n",
      "           2       0.55      0.61      0.58     39816\n",
      "           3       0.69      0.89      0.78     34104\n",
      "           4       0.74      0.94      0.83     35112\n",
      "           5       0.54      0.41      0.47     32928\n",
      "           6       0.60      0.44      0.51     34104\n",
      "\n",
      "    accuracy                           0.61    237552\n",
      "   macro avg       0.59      0.60      0.59    237552\n",
      "weighted avg       0.60      0.61      0.59    237552\n",
      "\n"
     ]
    },
    {
     "name": "stderr",
     "output_type": "stream",
     "text": [
      "100%|██████████| 45/45 [00:00<00:00, 919.52it/s]\n"
     ]
    },
    {
     "name": "stdout",
     "output_type": "stream",
     "text": [
      "Epoch: 169   Loss: 0.3634868860244751\n",
      "              precision    recall  f1-score   support\n",
      "\n",
      "           0       0.52      0.63      0.57     30758\n",
      "           1       0.51      0.30      0.37     31096\n",
      "           2       0.55      0.61      0.58     40053\n",
      "           3       0.69      0.89      0.78     34307\n",
      "           4       0.74      0.94      0.83     35321\n",
      "           5       0.54      0.41      0.47     33124\n",
      "           6       0.60      0.44      0.51     34307\n",
      "\n",
      "    accuracy                           0.61    238966\n",
      "   macro avg       0.59      0.60      0.59    238966\n",
      "weighted avg       0.60      0.61      0.59    238966\n",
      "\n"
     ]
    },
    {
     "name": "stderr",
     "output_type": "stream",
     "text": [
      "100%|██████████| 45/45 [00:00<00:00, 851.22it/s]\n"
     ]
    },
    {
     "name": "stdout",
     "output_type": "stream",
     "text": [
      "Epoch: 170   Loss: 0.9728915095329285\n",
      "              precision    recall  f1-score   support\n",
      "\n",
      "           0       0.52      0.63      0.57     30940\n",
      "           1       0.51      0.30      0.38     31280\n",
      "           2       0.55      0.61      0.58     40290\n",
      "           3       0.69      0.89      0.78     34510\n",
      "           4       0.74      0.94      0.83     35530\n",
      "           5       0.54      0.41      0.47     33320\n",
      "           6       0.60      0.44      0.51     34510\n",
      "\n",
      "    accuracy                           0.61    240380\n",
      "   macro avg       0.59      0.60      0.59    240380\n",
      "weighted avg       0.60      0.61      0.59    240380\n",
      "\n"
     ]
    },
    {
     "name": "stderr",
     "output_type": "stream",
     "text": [
      "100%|██████████| 45/45 [00:00<00:00, 846.75it/s]\n"
     ]
    },
    {
     "name": "stdout",
     "output_type": "stream",
     "text": [
      "Epoch: 171   Loss: 1.0450891256332397\n",
      "              precision    recall  f1-score   support\n",
      "\n",
      "           0       0.52      0.63      0.57     31122\n",
      "           1       0.51      0.30      0.38     31464\n",
      "           2       0.55      0.61      0.58     40527\n",
      "           3       0.69      0.89      0.78     34713\n",
      "           4       0.74      0.94      0.83     35739\n",
      "           5       0.54      0.41      0.47     33516\n",
      "           6       0.60      0.44      0.51     34713\n",
      "\n",
      "    accuracy                           0.61    241794\n",
      "   macro avg       0.60      0.60      0.59    241794\n",
      "weighted avg       0.60      0.61      0.59    241794\n",
      "\n"
     ]
    },
    {
     "name": "stderr",
     "output_type": "stream",
     "text": [
      "100%|██████████| 45/45 [00:00<00:00, 875.09it/s]\n"
     ]
    },
    {
     "name": "stdout",
     "output_type": "stream",
     "text": [
      "Epoch: 172   Loss: 0.6595279574394226\n",
      "              precision    recall  f1-score   support\n",
      "\n",
      "           0       0.52      0.63      0.57     31304\n",
      "           1       0.51      0.30      0.38     31648\n",
      "           2       0.55      0.61      0.58     40764\n",
      "           3       0.70      0.89      0.78     34916\n",
      "           4       0.74      0.94      0.83     35948\n",
      "           5       0.54      0.41      0.47     33712\n",
      "           6       0.60      0.44      0.51     34916\n",
      "\n",
      "    accuracy                           0.61    243208\n",
      "   macro avg       0.60      0.60      0.59    243208\n",
      "weighted avg       0.60      0.61      0.59    243208\n",
      "\n"
     ]
    },
    {
     "name": "stderr",
     "output_type": "stream",
     "text": [
      "100%|██████████| 45/45 [00:00<00:00, 816.01it/s]\n"
     ]
    },
    {
     "name": "stdout",
     "output_type": "stream",
     "text": [
      "Epoch: 173   Loss: 0.7346125245094299\n",
      "              precision    recall  f1-score   support\n",
      "\n",
      "           0       0.52      0.63      0.57     31486\n",
      "           1       0.51      0.30      0.38     31832\n",
      "           2       0.55      0.61      0.58     41001\n",
      "           3       0.70      0.89      0.78     35119\n",
      "           4       0.74      0.94      0.83     36157\n",
      "           5       0.54      0.42      0.47     33908\n",
      "           6       0.60      0.45      0.51     35119\n",
      "\n",
      "    accuracy                           0.61    244622\n",
      "   macro avg       0.60      0.61      0.59    244622\n",
      "weighted avg       0.60      0.61      0.59    244622\n",
      "\n"
     ]
    },
    {
     "name": "stderr",
     "output_type": "stream",
     "text": [
      "100%|██████████| 45/45 [00:00<00:00, 828.67it/s]\n"
     ]
    },
    {
     "name": "stdout",
     "output_type": "stream",
     "text": [
      "Epoch: 174   Loss: 0.7720263600349426\n",
      "              precision    recall  f1-score   support\n",
      "\n",
      "           0       0.52      0.63      0.57     31668\n",
      "           1       0.51      0.30      0.38     32016\n",
      "           2       0.55      0.61      0.58     41238\n",
      "           3       0.70      0.89      0.78     35322\n",
      "           4       0.74      0.94      0.83     36366\n",
      "           5       0.55      0.42      0.47     34104\n",
      "           6       0.61      0.45      0.51     35322\n",
      "\n",
      "    accuracy                           0.61    246036\n",
      "   macro avg       0.60      0.61      0.59    246036\n",
      "weighted avg       0.60      0.61      0.59    246036\n",
      "\n"
     ]
    },
    {
     "name": "stderr",
     "output_type": "stream",
     "text": [
      "100%|██████████| 45/45 [00:00<00:00, 813.95it/s]\n"
     ]
    },
    {
     "name": "stdout",
     "output_type": "stream",
     "text": [
      "Epoch: 175   Loss: 1.4169087409973145\n",
      "              precision    recall  f1-score   support\n",
      "\n",
      "           0       0.52      0.63      0.57     31850\n",
      "           1       0.51      0.30      0.38     32200\n",
      "           2       0.55      0.61      0.58     41475\n",
      "           3       0.70      0.89      0.78     35525\n",
      "           4       0.74      0.94      0.83     36575\n",
      "           5       0.55      0.42      0.47     34300\n",
      "           6       0.61      0.45      0.51     35525\n",
      "\n",
      "    accuracy                           0.61    247450\n",
      "   macro avg       0.60      0.61      0.59    247450\n",
      "weighted avg       0.60      0.61      0.60    247450\n",
      "\n"
     ]
    },
    {
     "name": "stderr",
     "output_type": "stream",
     "text": [
      "100%|██████████| 45/45 [00:00<00:00, 788.95it/s]\n"
     ]
    },
    {
     "name": "stdout",
     "output_type": "stream",
     "text": [
      "Epoch: 176   Loss: 0.9383584856987\n",
      "              precision    recall  f1-score   support\n",
      "\n",
      "           0       0.52      0.63      0.57     32032\n",
      "           1       0.51      0.30      0.38     32384\n",
      "           2       0.55      0.61      0.58     41712\n",
      "           3       0.70      0.89      0.78     35728\n",
      "           4       0.74      0.94      0.83     36784\n",
      "           5       0.55      0.42      0.47     34496\n",
      "           6       0.61      0.45      0.52     35728\n",
      "\n",
      "    accuracy                           0.61    248864\n",
      "   macro avg       0.60      0.61      0.59    248864\n",
      "weighted avg       0.60      0.61      0.60    248864\n",
      "\n"
     ]
    },
    {
     "name": "stderr",
     "output_type": "stream",
     "text": [
      "100%|██████████| 45/45 [00:00<00:00, 851.44it/s]\n"
     ]
    },
    {
     "name": "stdout",
     "output_type": "stream",
     "text": [
      "Epoch: 177   Loss: 1.3421741724014282\n",
      "              precision    recall  f1-score   support\n",
      "\n",
      "           0       0.52      0.63      0.57     32214\n",
      "           1       0.51      0.30      0.38     32568\n",
      "           2       0.56      0.61      0.58     41949\n",
      "           3       0.70      0.89      0.78     35931\n",
      "           4       0.75      0.94      0.83     36993\n",
      "           5       0.55      0.42      0.47     34692\n",
      "           6       0.61      0.45      0.52     35931\n",
      "\n",
      "    accuracy                           0.61    250278\n",
      "   macro avg       0.60      0.61      0.59    250278\n",
      "weighted avg       0.60      0.61      0.60    250278\n",
      "\n"
     ]
    },
    {
     "name": "stderr",
     "output_type": "stream",
     "text": [
      "100%|██████████| 45/45 [00:00<00:00, 784.70it/s]\n"
     ]
    },
    {
     "name": "stdout",
     "output_type": "stream",
     "text": [
      "Epoch: 178   Loss: 0.3223820626735687\n",
      "              precision    recall  f1-score   support\n",
      "\n",
      "           0       0.52      0.63      0.57     32396\n",
      "           1       0.51      0.30      0.38     32752\n",
      "           2       0.56      0.61      0.58     42186\n",
      "           3       0.70      0.89      0.78     36134\n",
      "           4       0.75      0.94      0.83     37202\n",
      "           5       0.55      0.42      0.48     34888\n",
      "           6       0.61      0.45      0.52     36134\n",
      "\n",
      "    accuracy                           0.61    251692\n",
      "   macro avg       0.60      0.61      0.59    251692\n",
      "weighted avg       0.60      0.61      0.60    251692\n",
      "\n"
     ]
    },
    {
     "name": "stderr",
     "output_type": "stream",
     "text": [
      "100%|██████████| 45/45 [00:00<00:00, 526.20it/s]\n"
     ]
    },
    {
     "name": "stdout",
     "output_type": "stream",
     "text": [
      "Epoch: 179   Loss: 0.6491076946258545\n",
      "              precision    recall  f1-score   support\n",
      "\n",
      "           0       0.53      0.63      0.57     32578\n",
      "           1       0.51      0.30      0.38     32936\n",
      "           2       0.56      0.61      0.58     42423\n",
      "           3       0.70      0.89      0.78     36337\n",
      "           4       0.75      0.94      0.83     37411\n",
      "           5       0.55      0.42      0.48     35084\n",
      "           6       0.61      0.45      0.52     36337\n",
      "\n",
      "    accuracy                           0.61    253106\n",
      "   macro avg       0.60      0.61      0.59    253106\n",
      "weighted avg       0.60      0.61      0.60    253106\n",
      "\n"
     ]
    },
    {
     "name": "stderr",
     "output_type": "stream",
     "text": [
      "100%|██████████| 45/45 [00:00<00:00, 796.56it/s]\n"
     ]
    },
    {
     "name": "stdout",
     "output_type": "stream",
     "text": [
      "Epoch: 180   Loss: 0.30782613158226013\n",
      "              precision    recall  f1-score   support\n",
      "\n",
      "           0       0.53      0.63      0.57     32760\n",
      "           1       0.51      0.30      0.38     33120\n",
      "           2       0.56      0.61      0.58     42660\n",
      "           3       0.70      0.89      0.78     36540\n",
      "           4       0.75      0.94      0.83     37620\n",
      "           5       0.55      0.42      0.48     35280\n",
      "           6       0.61      0.45      0.52     36540\n",
      "\n",
      "    accuracy                           0.62    254520\n",
      "   macro avg       0.60      0.61      0.59    254520\n",
      "weighted avg       0.60      0.62      0.60    254520\n",
      "\n"
     ]
    },
    {
     "name": "stderr",
     "output_type": "stream",
     "text": [
      "100%|██████████| 45/45 [00:00<00:00, 838.29it/s]\n"
     ]
    },
    {
     "name": "stdout",
     "output_type": "stream",
     "text": [
      "Epoch: 181   Loss: 0.9129350781440735\n",
      "              precision    recall  f1-score   support\n",
      "\n",
      "           0       0.53      0.63      0.57     32942\n",
      "           1       0.51      0.31      0.38     33304\n",
      "           2       0.56      0.61      0.58     42897\n",
      "           3       0.70      0.89      0.78     36743\n",
      "           4       0.75      0.94      0.83     37829\n",
      "           5       0.55      0.42      0.48     35476\n",
      "           6       0.61      0.45      0.52     36743\n",
      "\n",
      "    accuracy                           0.62    255934\n",
      "   macro avg       0.60      0.61      0.59    255934\n",
      "weighted avg       0.60      0.62      0.60    255934\n",
      "\n"
     ]
    },
    {
     "name": "stderr",
     "output_type": "stream",
     "text": [
      "100%|██████████| 45/45 [00:00<00:00, 806.85it/s]\n"
     ]
    },
    {
     "name": "stdout",
     "output_type": "stream",
     "text": [
      "Epoch: 182   Loss: 1.0466452836990356\n",
      "              precision    recall  f1-score   support\n",
      "\n",
      "           0       0.53      0.63      0.58     33124\n",
      "           1       0.52      0.31      0.38     33488\n",
      "           2       0.56      0.61      0.59     43134\n",
      "           3       0.70      0.89      0.79     36946\n",
      "           4       0.75      0.94      0.83     38038\n",
      "           5       0.55      0.42      0.48     35672\n",
      "           6       0.61      0.45      0.52     36946\n",
      "\n",
      "    accuracy                           0.62    257348\n",
      "   macro avg       0.60      0.61      0.59    257348\n",
      "weighted avg       0.60      0.62      0.60    257348\n",
      "\n"
     ]
    },
    {
     "name": "stderr",
     "output_type": "stream",
     "text": [
      "100%|██████████| 45/45 [00:00<00:00, 868.08it/s]\n"
     ]
    },
    {
     "name": "stdout",
     "output_type": "stream",
     "text": [
      "Epoch: 183   Loss: 0.24131853878498077\n",
      "              precision    recall  f1-score   support\n",
      "\n",
      "           0       0.53      0.63      0.58     33306\n",
      "           1       0.52      0.31      0.38     33672\n",
      "           2       0.56      0.61      0.59     43371\n",
      "           3       0.70      0.89      0.79     37149\n",
      "           4       0.75      0.94      0.83     38247\n",
      "           5       0.55      0.42      0.48     35868\n",
      "           6       0.61      0.45      0.52     37149\n",
      "\n",
      "    accuracy                           0.62    258762\n",
      "   macro avg       0.60      0.61      0.60    258762\n",
      "weighted avg       0.60      0.62      0.60    258762\n",
      "\n"
     ]
    },
    {
     "name": "stderr",
     "output_type": "stream",
     "text": [
      "100%|██████████| 45/45 [00:00<00:00, 829.74it/s]\n"
     ]
    },
    {
     "name": "stdout",
     "output_type": "stream",
     "text": [
      "Epoch: 184   Loss: 0.7795311808586121\n",
      "              precision    recall  f1-score   support\n",
      "\n",
      "           0       0.53      0.64      0.58     33488\n",
      "           1       0.52      0.31      0.39     33856\n",
      "           2       0.56      0.62      0.59     43608\n",
      "           3       0.70      0.89      0.79     37352\n",
      "           4       0.75      0.94      0.83     38456\n",
      "           5       0.55      0.42      0.48     36064\n",
      "           6       0.61      0.46      0.52     37352\n",
      "\n",
      "    accuracy                           0.62    260176\n",
      "   macro avg       0.60      0.61      0.60    260176\n",
      "weighted avg       0.60      0.62      0.60    260176\n",
      "\n"
     ]
    },
    {
     "name": "stderr",
     "output_type": "stream",
     "text": [
      "100%|██████████| 45/45 [00:00<00:00, 939.17it/s]\n"
     ]
    },
    {
     "name": "stdout",
     "output_type": "stream",
     "text": [
      "Epoch: 185   Loss: 0.6468303799629211\n",
      "              precision    recall  f1-score   support\n",
      "\n",
      "           0       0.53      0.64      0.58     33670\n",
      "           1       0.52      0.31      0.39     34040\n",
      "           2       0.56      0.62      0.59     43845\n",
      "           3       0.70      0.89      0.79     37555\n",
      "           4       0.75      0.94      0.83     38665\n",
      "           5       0.55      0.42      0.48     36260\n",
      "           6       0.61      0.46      0.52     37555\n",
      "\n",
      "    accuracy                           0.62    261590\n",
      "   macro avg       0.60      0.61      0.60    261590\n",
      "weighted avg       0.60      0.62      0.60    261590\n",
      "\n"
     ]
    },
    {
     "name": "stderr",
     "output_type": "stream",
     "text": [
      "100%|██████████| 45/45 [00:00<00:00, 813.29it/s]\n"
     ]
    },
    {
     "name": "stdout",
     "output_type": "stream",
     "text": [
      "Epoch: 186   Loss: 0.6258481740951538\n",
      "              precision    recall  f1-score   support\n",
      "\n",
      "           0       0.53      0.64      0.58     33852\n",
      "           1       0.52      0.31      0.39     34224\n",
      "           2       0.56      0.62      0.59     44082\n",
      "           3       0.70      0.89      0.79     37758\n",
      "           4       0.75      0.94      0.84     38874\n",
      "           5       0.55      0.43      0.48     36456\n",
      "           6       0.61      0.46      0.52     37758\n",
      "\n",
      "    accuracy                           0.62    263004\n",
      "   macro avg       0.60      0.61      0.60    263004\n",
      "weighted avg       0.61      0.62      0.60    263004\n",
      "\n"
     ]
    },
    {
     "name": "stderr",
     "output_type": "stream",
     "text": [
      "100%|██████████| 45/45 [00:00<00:00, 829.25it/s]\n"
     ]
    },
    {
     "name": "stdout",
     "output_type": "stream",
     "text": [
      "Epoch: 187   Loss: 0.8565306663513184\n",
      "              precision    recall  f1-score   support\n",
      "\n",
      "           0       0.53      0.64      0.58     34034\n",
      "           1       0.52      0.31      0.39     34408\n",
      "           2       0.56      0.62      0.59     44319\n",
      "           3       0.70      0.89      0.79     37961\n",
      "           4       0.75      0.94      0.84     39083\n",
      "           5       0.55      0.43      0.48     36652\n",
      "           6       0.61      0.46      0.52     37961\n",
      "\n",
      "    accuracy                           0.62    264418\n",
      "   macro avg       0.60      0.61      0.60    264418\n",
      "weighted avg       0.61      0.62      0.60    264418\n",
      "\n"
     ]
    },
    {
     "name": "stderr",
     "output_type": "stream",
     "text": [
      "100%|██████████| 45/45 [00:00<00:00, 825.66it/s]\n"
     ]
    },
    {
     "name": "stdout",
     "output_type": "stream",
     "text": [
      "Epoch: 188   Loss: 0.822192907333374\n",
      "              precision    recall  f1-score   support\n",
      "\n",
      "           0       0.53      0.64      0.58     34216\n",
      "           1       0.52      0.31      0.39     34592\n",
      "           2       0.56      0.62      0.59     44556\n",
      "           3       0.70      0.89      0.79     38164\n",
      "           4       0.75      0.94      0.84     39292\n",
      "           5       0.55      0.43      0.48     36848\n",
      "           6       0.61      0.46      0.53     38164\n",
      "\n",
      "    accuracy                           0.62    265832\n",
      "   macro avg       0.60      0.61      0.60    265832\n",
      "weighted avg       0.61      0.62      0.60    265832\n",
      "\n"
     ]
    },
    {
     "name": "stderr",
     "output_type": "stream",
     "text": [
      "100%|██████████| 45/45 [00:00<00:00, 941.32it/s]\n"
     ]
    },
    {
     "name": "stdout",
     "output_type": "stream",
     "text": [
      "Epoch: 189   Loss: 0.32007792592048645\n",
      "              precision    recall  f1-score   support\n",
      "\n",
      "           0       0.53      0.64      0.58     34398\n",
      "           1       0.52      0.31      0.39     34776\n",
      "           2       0.56      0.62      0.59     44793\n",
      "           3       0.70      0.89      0.79     38367\n",
      "           4       0.75      0.94      0.84     39501\n",
      "           5       0.56      0.43      0.48     37044\n",
      "           6       0.61      0.46      0.53     38367\n",
      "\n",
      "    accuracy                           0.62    267246\n",
      "   macro avg       0.60      0.61      0.60    267246\n",
      "weighted avg       0.61      0.62      0.60    267246\n",
      "\n"
     ]
    },
    {
     "name": "stderr",
     "output_type": "stream",
     "text": [
      "100%|██████████| 45/45 [00:00<00:00, 871.92it/s]\n"
     ]
    },
    {
     "name": "stdout",
     "output_type": "stream",
     "text": [
      "Epoch: 190   Loss: 1.1749571561813354\n",
      "              precision    recall  f1-score   support\n",
      "\n",
      "           0       0.53      0.64      0.58     34580\n",
      "           1       0.52      0.31      0.39     34960\n",
      "           2       0.56      0.62      0.59     45030\n",
      "           3       0.70      0.89      0.79     38570\n",
      "           4       0.75      0.94      0.84     39710\n",
      "           5       0.56      0.43      0.48     37240\n",
      "           6       0.61      0.46      0.53     38570\n",
      "\n",
      "    accuracy                           0.62    268660\n",
      "   macro avg       0.61      0.61      0.60    268660\n",
      "weighted avg       0.61      0.62      0.60    268660\n",
      "\n"
     ]
    },
    {
     "name": "stderr",
     "output_type": "stream",
     "text": [
      "100%|██████████| 45/45 [00:00<00:00, 934.89it/s]\n"
     ]
    },
    {
     "name": "stdout",
     "output_type": "stream",
     "text": [
      "Epoch: 191   Loss: 0.47206154465675354\n",
      "              precision    recall  f1-score   support\n",
      "\n",
      "           0       0.53      0.64      0.58     34762\n",
      "           1       0.52      0.31      0.39     35144\n",
      "           2       0.56      0.62      0.59     45267\n",
      "           3       0.70      0.89      0.79     38773\n",
      "           4       0.75      0.94      0.84     39919\n",
      "           5       0.56      0.43      0.48     37436\n",
      "           6       0.61      0.46      0.53     38773\n",
      "\n",
      "    accuracy                           0.62    270074\n",
      "   macro avg       0.61      0.61      0.60    270074\n",
      "weighted avg       0.61      0.62      0.60    270074\n",
      "\n"
     ]
    },
    {
     "name": "stderr",
     "output_type": "stream",
     "text": [
      "100%|██████████| 45/45 [00:00<00:00, 703.92it/s]\n"
     ]
    },
    {
     "name": "stdout",
     "output_type": "stream",
     "text": [
      "Epoch: 192   Loss: 1.5718498229980469\n",
      "              precision    recall  f1-score   support\n",
      "\n",
      "           0       0.53      0.64      0.58     34944\n",
      "           1       0.52      0.31      0.39     35328\n",
      "           2       0.56      0.62      0.59     45504\n",
      "           3       0.70      0.89      0.79     38976\n",
      "           4       0.75      0.94      0.84     40128\n",
      "           5       0.56      0.43      0.49     37632\n",
      "           6       0.62      0.46      0.53     38976\n",
      "\n",
      "    accuracy                           0.62    271488\n",
      "   macro avg       0.61      0.61      0.60    271488\n",
      "weighted avg       0.61      0.62      0.60    271488\n",
      "\n"
     ]
    },
    {
     "name": "stderr",
     "output_type": "stream",
     "text": [
      "100%|██████████| 45/45 [00:00<00:00, 869.72it/s]\n"
     ]
    },
    {
     "name": "stdout",
     "output_type": "stream",
     "text": [
      "Epoch: 193   Loss: 0.7446139454841614\n",
      "              precision    recall  f1-score   support\n",
      "\n",
      "           0       0.53      0.64      0.58     35126\n",
      "           1       0.52      0.31      0.39     35512\n",
      "           2       0.56      0.62      0.59     45741\n",
      "           3       0.70      0.89      0.79     39179\n",
      "           4       0.75      0.94      0.84     40337\n",
      "           5       0.56      0.43      0.49     37828\n",
      "           6       0.62      0.46      0.53     39179\n",
      "\n",
      "    accuracy                           0.62    272902\n",
      "   macro avg       0.61      0.61      0.60    272902\n",
      "weighted avg       0.61      0.62      0.60    272902\n",
      "\n"
     ]
    },
    {
     "name": "stderr",
     "output_type": "stream",
     "text": [
      "100%|██████████| 45/45 [00:00<00:00, 881.09it/s]\n"
     ]
    },
    {
     "name": "stdout",
     "output_type": "stream",
     "text": [
      "Epoch: 194   Loss: 0.7576702237129211\n",
      "              precision    recall  f1-score   support\n",
      "\n",
      "           0       0.53      0.64      0.58     35308\n",
      "           1       0.52      0.31      0.39     35696\n",
      "           2       0.57      0.62      0.59     45978\n",
      "           3       0.71      0.89      0.79     39382\n",
      "           4       0.75      0.94      0.84     40546\n",
      "           5       0.56      0.43      0.49     38024\n",
      "           6       0.62      0.46      0.53     39382\n",
      "\n",
      "    accuracy                           0.62    274316\n",
      "   macro avg       0.61      0.62      0.60    274316\n",
      "weighted avg       0.61      0.62      0.61    274316\n",
      "\n"
     ]
    },
    {
     "name": "stderr",
     "output_type": "stream",
     "text": [
      "100%|██████████| 45/45 [00:00<00:00, 892.10it/s]\n"
     ]
    },
    {
     "name": "stdout",
     "output_type": "stream",
     "text": [
      "Epoch: 195   Loss: 0.3189834654331207\n",
      "              precision    recall  f1-score   support\n",
      "\n",
      "           0       0.53      0.64      0.58     35490\n",
      "           1       0.52      0.31      0.39     35880\n",
      "           2       0.57      0.62      0.59     46215\n",
      "           3       0.71      0.89      0.79     39585\n",
      "           4       0.75      0.94      0.84     40755\n",
      "           5       0.56      0.43      0.49     38220\n",
      "           6       0.62      0.47      0.53     39585\n",
      "\n",
      "    accuracy                           0.62    275730\n",
      "   macro avg       0.61      0.62      0.60    275730\n",
      "weighted avg       0.61      0.62      0.61    275730\n",
      "\n"
     ]
    },
    {
     "name": "stderr",
     "output_type": "stream",
     "text": [
      "100%|██████████| 45/45 [00:00<00:00, 915.29it/s]\n"
     ]
    },
    {
     "name": "stdout",
     "output_type": "stream",
     "text": [
      "Epoch: 196   Loss: 0.8971694111824036\n",
      "              precision    recall  f1-score   support\n",
      "\n",
      "           0       0.53      0.64      0.58     35672\n",
      "           1       0.52      0.32      0.39     36064\n",
      "           2       0.57      0.62      0.59     46452\n",
      "           3       0.71      0.89      0.79     39788\n",
      "           4       0.75      0.94      0.84     40964\n",
      "           5       0.56      0.43      0.49     38416\n",
      "           6       0.62      0.47      0.53     39788\n",
      "\n",
      "    accuracy                           0.62    277144\n",
      "   macro avg       0.61      0.62      0.60    277144\n",
      "weighted avg       0.61      0.62      0.61    277144\n",
      "\n"
     ]
    },
    {
     "name": "stderr",
     "output_type": "stream",
     "text": [
      "100%|██████████| 45/45 [00:00<00:00, 930.79it/s]\n"
     ]
    },
    {
     "name": "stdout",
     "output_type": "stream",
     "text": [
      "Epoch: 197   Loss: 1.6874412298202515\n",
      "              precision    recall  f1-score   support\n",
      "\n",
      "           0       0.53      0.64      0.58     35854\n",
      "           1       0.52      0.32      0.39     36248\n",
      "           2       0.57      0.62      0.59     46689\n",
      "           3       0.71      0.89      0.79     39991\n",
      "           4       0.75      0.94      0.84     41173\n",
      "           5       0.56      0.43      0.49     38612\n",
      "           6       0.62      0.47      0.53     39991\n",
      "\n",
      "    accuracy                           0.62    278558\n",
      "   macro avg       0.61      0.62      0.60    278558\n",
      "weighted avg       0.61      0.62      0.61    278558\n",
      "\n"
     ]
    },
    {
     "name": "stderr",
     "output_type": "stream",
     "text": [
      "100%|██████████| 45/45 [00:00<00:00, 955.55it/s]\n"
     ]
    },
    {
     "name": "stdout",
     "output_type": "stream",
     "text": [
      "Epoch: 198   Loss: 0.6447883248329163\n",
      "              precision    recall  f1-score   support\n",
      "\n",
      "           0       0.53      0.64      0.58     36036\n",
      "           1       0.52      0.32      0.39     36432\n",
      "           2       0.57      0.62      0.59     46926\n",
      "           3       0.71      0.89      0.79     40194\n",
      "           4       0.75      0.94      0.84     41382\n",
      "           5       0.56      0.43      0.49     38808\n",
      "           6       0.62      0.47      0.53     40194\n",
      "\n",
      "    accuracy                           0.62    279972\n",
      "   macro avg       0.61      0.62      0.60    279972\n",
      "weighted avg       0.61      0.62      0.61    279972\n",
      "\n"
     ]
    },
    {
     "name": "stderr",
     "output_type": "stream",
     "text": [
      "100%|██████████| 45/45 [00:00<00:00, 885.70it/s]\n"
     ]
    },
    {
     "name": "stdout",
     "output_type": "stream",
     "text": [
      "Epoch: 199   Loss: 0.8626670241355896\n",
      "              precision    recall  f1-score   support\n",
      "\n",
      "           0       0.53      0.64      0.58     36218\n",
      "           1       0.52      0.32      0.40     36616\n",
      "           2       0.57      0.62      0.59     47163\n",
      "           3       0.71      0.89      0.79     40397\n",
      "           4       0.75      0.94      0.84     41591\n",
      "           5       0.56      0.43      0.49     39004\n",
      "           6       0.62      0.47      0.53     40397\n",
      "\n",
      "    accuracy                           0.62    281386\n",
      "   macro avg       0.61      0.62      0.60    281386\n",
      "weighted avg       0.61      0.62      0.61    281386\n",
      "\n"
     ]
    },
    {
     "name": "stderr",
     "output_type": "stream",
     "text": [
      "100%|██████████| 45/45 [00:00<00:00, 940.76it/s]\n"
     ]
    },
    {
     "name": "stdout",
     "output_type": "stream",
     "text": [
      "Epoch: 200   Loss: 1.0198200941085815\n",
      "              precision    recall  f1-score   support\n",
      "\n",
      "           0       0.53      0.64      0.58     36400\n",
      "           1       0.53      0.32      0.40     36800\n",
      "           2       0.57      0.62      0.59     47400\n",
      "           3       0.71      0.89      0.79     40600\n",
      "           4       0.75      0.94      0.84     41800\n",
      "           5       0.56      0.44      0.49     39200\n",
      "           6       0.62      0.47      0.53     40600\n",
      "\n",
      "    accuracy                           0.62    282800\n",
      "   macro avg       0.61      0.62      0.60    282800\n",
      "weighted avg       0.61      0.62      0.61    282800\n",
      "\n"
     ]
    }
   ],
   "source": [
    "model.train()\n",
    "epochs = 200\n",
    "\n",
    "#optim = torch.optim.SGD(model.parameters(),lr = 0.1,momentum=.7)\n",
    "optim = torch.optim.AdamW(model.parameters(),lr = 0.001)\n",
    "loss_fn = torch.nn.CrossEntropyLoss()\n",
    "y_true = []\n",
    "y_pred = []\n",
    "\n",
    "for epoch in range(epochs):\n",
    "    loss_per_epoch = 0\n",
    "    for batch in tqdm(train_loader):\n",
    "        \n",
    "        inputs,labels = batch\n",
    "        optim.zero_grad()\n",
    "        \n",
    "        outputs = model(inputs.float())\n",
    "        loss    = loss_fn(outputs,labels)\n",
    "       \n",
    "        _,preds = torch.max(outputs.detach(),1)\n",
    "    \n",
    "        y_pred.extend(preds.detach().tolist())\n",
    "        y_true.extend(labels.detach().tolist())\n",
    "        loss.backward()\n",
    "        optim.step()\n",
    "        \n",
    "        loss_per_epoch = loss.item()\n",
    "    \n",
    "    print(f\"Epoch: {epoch + 1}   Loss: {loss_per_epoch}\")\n",
    "    print(classification_report(y_true,y_pred,zero_division=0))"
   ]
  },
  {
   "cell_type": "code",
   "execution_count": 46,
   "metadata": {},
   "outputs": [
    {
     "name": "stdout",
     "output_type": "stream",
     "text": [
      "Test Loss: 0.6707621216773987\n",
      "              precision    recall  f1-score   support\n",
      "\n",
      "           0       0.51      0.70      0.59        90\n",
      "           1       0.55      0.27      0.36       103\n",
      "           2       0.58      0.61      0.60       114\n",
      "           3       0.70      0.86      0.77        94\n",
      "           4       0.84      0.94      0.89       115\n",
      "           5       0.51      0.48      0.49        94\n",
      "           6       0.53      0.41      0.46        87\n",
      "\n",
      "    accuracy                           0.62       697\n",
      "   macro avg       0.60      0.61      0.59       697\n",
      "weighted avg       0.61      0.62      0.60       697\n",
      "\n"
     ]
    }
   ],
   "source": [
    "model.eval()\n",
    "y_true = []\n",
    "y_pred = []\n",
    "\n",
    "with torch.no_grad():\n",
    "    test_loss = 0\n",
    "    for batch in test_loader:\n",
    "        \n",
    "        inputs,labels = batch\n",
    "        outputs = model(inputs.float())\n",
    "        loss = loss_fn(outputs,labels)\n",
    "        test_loss = loss.item()\n",
    "        _,preds = torch.max(outputs.detach(),1)\n",
    "        y_pred.extend(preds.detach().tolist())\n",
    "        y_true.extend(labels.detach().tolist())\n",
    "\n",
    "    print(f\"Test Loss: {test_loss}\")\n",
    "    print(classification_report(y_true,y_pred,zero_division=0))\n",
    "    \n",
    "    "
   ]
  },
  {
   "cell_type": "code",
   "execution_count": 47,
   "metadata": {},
   "outputs": [],
   "source": [
    "dict = {0:0,1:0,2:0,3:0,4:0,5:0,6:0}\n",
    "\n",
    "for cls in y_train:\n",
    "\n",
    "    y = cls.item()\n",
    "\n",
    "    dict[y] += 1"
   ]
  },
  {
   "cell_type": "code",
   "execution_count": null,
   "metadata": {},
   "outputs": [],
   "source": [
    "\n",
    "\n"
   ]
  },
  {
   "cell_type": "code",
   "execution_count": null,
   "metadata": {},
   "outputs": [],
   "source": []
  },
  {
   "cell_type": "code",
   "execution_count": null,
   "metadata": {},
   "outputs": [],
   "source": []
  }
 ],
 "metadata": {
  "kernelspec": {
   "display_name": ".venv",
   "language": "python",
   "name": "python3"
  },
  "language_info": {
   "codemirror_mode": {
    "name": "ipython",
    "version": 3
   },
   "file_extension": ".py",
   "mimetype": "text/x-python",
   "name": "python",
   "nbconvert_exporter": "python",
   "pygments_lexer": "ipython3",
   "version": "3.11.11"
  }
 },
 "nbformat": 4,
 "nbformat_minor": 2
}
