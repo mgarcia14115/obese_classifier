{
 "cells": [
  {
   "cell_type": "code",
   "execution_count": 1,
   "metadata": {},
   "outputs": [],
   "source": [
    "import torch \n",
    "import pandas as pd\n",
    "from sklearn.preprocessing import OneHotEncoder as ohe\n",
    "import numpy as np\n",
    "from sklearn.preprocessing import StandardScaler\n",
    "from sklearn.model_selection import train_test_split\n",
    "from sklearn.metrics import classification_report\n",
    "from tqdm import tqdm\n"
   ]
  },
  {
   "cell_type": "code",
   "execution_count": 2,
   "metadata": {},
   "outputs": [],
   "source": [
    "df = pd.read_csv(\"../../data/raw/obesity_prediction.csv\")"
   ]
  },
  {
   "cell_type": "code",
   "execution_count": 3,
   "metadata": {},
   "outputs": [
    {
     "data": {
      "text/html": [
       "<div>\n",
       "<style scoped>\n",
       "    .dataframe tbody tr th:only-of-type {\n",
       "        vertical-align: middle;\n",
       "    }\n",
       "\n",
       "    .dataframe tbody tr th {\n",
       "        vertical-align: top;\n",
       "    }\n",
       "\n",
       "    .dataframe thead th {\n",
       "        text-align: right;\n",
       "    }\n",
       "</style>\n",
       "<table border=\"1\" class=\"dataframe\">\n",
       "  <thead>\n",
       "    <tr style=\"text-align: right;\">\n",
       "      <th></th>\n",
       "      <th>Gender</th>\n",
       "      <th>Age</th>\n",
       "      <th>Height</th>\n",
       "      <th>Weight</th>\n",
       "      <th>family_history</th>\n",
       "      <th>FAVC</th>\n",
       "      <th>FCVC</th>\n",
       "      <th>NCP</th>\n",
       "      <th>CAEC</th>\n",
       "      <th>SMOKE</th>\n",
       "      <th>CH2O</th>\n",
       "      <th>SCC</th>\n",
       "      <th>FAF</th>\n",
       "      <th>TUE</th>\n",
       "      <th>CALC</th>\n",
       "      <th>MTRANS</th>\n",
       "      <th>Obesity</th>\n",
       "    </tr>\n",
       "  </thead>\n",
       "  <tbody>\n",
       "    <tr>\n",
       "      <th>0</th>\n",
       "      <td>Female</td>\n",
       "      <td>21.0</td>\n",
       "      <td>1.62</td>\n",
       "      <td>64.0</td>\n",
       "      <td>yes</td>\n",
       "      <td>no</td>\n",
       "      <td>2.0</td>\n",
       "      <td>3.0</td>\n",
       "      <td>Sometimes</td>\n",
       "      <td>no</td>\n",
       "      <td>2.0</td>\n",
       "      <td>no</td>\n",
       "      <td>0.0</td>\n",
       "      <td>1.0</td>\n",
       "      <td>no</td>\n",
       "      <td>Public_Transportation</td>\n",
       "      <td>Normal_Weight</td>\n",
       "    </tr>\n",
       "    <tr>\n",
       "      <th>1</th>\n",
       "      <td>Female</td>\n",
       "      <td>21.0</td>\n",
       "      <td>1.52</td>\n",
       "      <td>56.0</td>\n",
       "      <td>yes</td>\n",
       "      <td>no</td>\n",
       "      <td>3.0</td>\n",
       "      <td>3.0</td>\n",
       "      <td>Sometimes</td>\n",
       "      <td>yes</td>\n",
       "      <td>3.0</td>\n",
       "      <td>yes</td>\n",
       "      <td>3.0</td>\n",
       "      <td>0.0</td>\n",
       "      <td>Sometimes</td>\n",
       "      <td>Public_Transportation</td>\n",
       "      <td>Normal_Weight</td>\n",
       "    </tr>\n",
       "    <tr>\n",
       "      <th>2</th>\n",
       "      <td>Male</td>\n",
       "      <td>23.0</td>\n",
       "      <td>1.80</td>\n",
       "      <td>77.0</td>\n",
       "      <td>yes</td>\n",
       "      <td>no</td>\n",
       "      <td>2.0</td>\n",
       "      <td>3.0</td>\n",
       "      <td>Sometimes</td>\n",
       "      <td>no</td>\n",
       "      <td>2.0</td>\n",
       "      <td>no</td>\n",
       "      <td>2.0</td>\n",
       "      <td>1.0</td>\n",
       "      <td>Frequently</td>\n",
       "      <td>Public_Transportation</td>\n",
       "      <td>Normal_Weight</td>\n",
       "    </tr>\n",
       "  </tbody>\n",
       "</table>\n",
       "</div>"
      ],
      "text/plain": [
       "   Gender   Age  Height  Weight family_history FAVC  FCVC  NCP       CAEC  \\\n",
       "0  Female  21.0    1.62    64.0            yes   no   2.0  3.0  Sometimes   \n",
       "1  Female  21.0    1.52    56.0            yes   no   3.0  3.0  Sometimes   \n",
       "2    Male  23.0    1.80    77.0            yes   no   2.0  3.0  Sometimes   \n",
       "\n",
       "  SMOKE  CH2O  SCC  FAF  TUE        CALC                 MTRANS        Obesity  \n",
       "0    no   2.0   no  0.0  1.0          no  Public_Transportation  Normal_Weight  \n",
       "1   yes   3.0  yes  3.0  0.0   Sometimes  Public_Transportation  Normal_Weight  \n",
       "2    no   2.0   no  2.0  1.0  Frequently  Public_Transportation  Normal_Weight  "
      ]
     },
     "execution_count": 3,
     "metadata": {},
     "output_type": "execute_result"
    }
   ],
   "source": [
    "df.head(3)"
   ]
  },
  {
   "cell_type": "code",
   "execution_count": 4,
   "metadata": {},
   "outputs": [],
   "source": [
    "enc = ohe(handle_unknown=\"warn\",sparse_output=False).set_output(transform=\"pandas\")"
   ]
  },
  {
   "cell_type": "code",
   "execution_count": 5,
   "metadata": {},
   "outputs": [
    {
     "data": {
      "text/html": [
       "<style>#sk-container-id-1 {\n",
       "  /* Definition of color scheme common for light and dark mode */\n",
       "  --sklearn-color-text: #000;\n",
       "  --sklearn-color-text-muted: #666;\n",
       "  --sklearn-color-line: gray;\n",
       "  /* Definition of color scheme for unfitted estimators */\n",
       "  --sklearn-color-unfitted-level-0: #fff5e6;\n",
       "  --sklearn-color-unfitted-level-1: #f6e4d2;\n",
       "  --sklearn-color-unfitted-level-2: #ffe0b3;\n",
       "  --sklearn-color-unfitted-level-3: chocolate;\n",
       "  /* Definition of color scheme for fitted estimators */\n",
       "  --sklearn-color-fitted-level-0: #f0f8ff;\n",
       "  --sklearn-color-fitted-level-1: #d4ebff;\n",
       "  --sklearn-color-fitted-level-2: #b3dbfd;\n",
       "  --sklearn-color-fitted-level-3: cornflowerblue;\n",
       "\n",
       "  /* Specific color for light theme */\n",
       "  --sklearn-color-text-on-default-background: var(--sg-text-color, var(--theme-code-foreground, var(--jp-content-font-color1, black)));\n",
       "  --sklearn-color-background: var(--sg-background-color, var(--theme-background, var(--jp-layout-color0, white)));\n",
       "  --sklearn-color-border-box: var(--sg-text-color, var(--theme-code-foreground, var(--jp-content-font-color1, black)));\n",
       "  --sklearn-color-icon: #696969;\n",
       "\n",
       "  @media (prefers-color-scheme: dark) {\n",
       "    /* Redefinition of color scheme for dark theme */\n",
       "    --sklearn-color-text-on-default-background: var(--sg-text-color, var(--theme-code-foreground, var(--jp-content-font-color1, white)));\n",
       "    --sklearn-color-background: var(--sg-background-color, var(--theme-background, var(--jp-layout-color0, #111)));\n",
       "    --sklearn-color-border-box: var(--sg-text-color, var(--theme-code-foreground, var(--jp-content-font-color1, white)));\n",
       "    --sklearn-color-icon: #878787;\n",
       "  }\n",
       "}\n",
       "\n",
       "#sk-container-id-1 {\n",
       "  color: var(--sklearn-color-text);\n",
       "}\n",
       "\n",
       "#sk-container-id-1 pre {\n",
       "  padding: 0;\n",
       "}\n",
       "\n",
       "#sk-container-id-1 input.sk-hidden--visually {\n",
       "  border: 0;\n",
       "  clip: rect(1px 1px 1px 1px);\n",
       "  clip: rect(1px, 1px, 1px, 1px);\n",
       "  height: 1px;\n",
       "  margin: -1px;\n",
       "  overflow: hidden;\n",
       "  padding: 0;\n",
       "  position: absolute;\n",
       "  width: 1px;\n",
       "}\n",
       "\n",
       "#sk-container-id-1 div.sk-dashed-wrapped {\n",
       "  border: 1px dashed var(--sklearn-color-line);\n",
       "  margin: 0 0.4em 0.5em 0.4em;\n",
       "  box-sizing: border-box;\n",
       "  padding-bottom: 0.4em;\n",
       "  background-color: var(--sklearn-color-background);\n",
       "}\n",
       "\n",
       "#sk-container-id-1 div.sk-container {\n",
       "  /* jupyter's `normalize.less` sets `[hidden] { display: none; }`\n",
       "     but bootstrap.min.css set `[hidden] { display: none !important; }`\n",
       "     so we also need the `!important` here to be able to override the\n",
       "     default hidden behavior on the sphinx rendered scikit-learn.org.\n",
       "     See: https://github.com/scikit-learn/scikit-learn/issues/21755 */\n",
       "  display: inline-block !important;\n",
       "  position: relative;\n",
       "}\n",
       "\n",
       "#sk-container-id-1 div.sk-text-repr-fallback {\n",
       "  display: none;\n",
       "}\n",
       "\n",
       "div.sk-parallel-item,\n",
       "div.sk-serial,\n",
       "div.sk-item {\n",
       "  /* draw centered vertical line to link estimators */\n",
       "  background-image: linear-gradient(var(--sklearn-color-text-on-default-background), var(--sklearn-color-text-on-default-background));\n",
       "  background-size: 2px 100%;\n",
       "  background-repeat: no-repeat;\n",
       "  background-position: center center;\n",
       "}\n",
       "\n",
       "/* Parallel-specific style estimator block */\n",
       "\n",
       "#sk-container-id-1 div.sk-parallel-item::after {\n",
       "  content: \"\";\n",
       "  width: 100%;\n",
       "  border-bottom: 2px solid var(--sklearn-color-text-on-default-background);\n",
       "  flex-grow: 1;\n",
       "}\n",
       "\n",
       "#sk-container-id-1 div.sk-parallel {\n",
       "  display: flex;\n",
       "  align-items: stretch;\n",
       "  justify-content: center;\n",
       "  background-color: var(--sklearn-color-background);\n",
       "  position: relative;\n",
       "}\n",
       "\n",
       "#sk-container-id-1 div.sk-parallel-item {\n",
       "  display: flex;\n",
       "  flex-direction: column;\n",
       "}\n",
       "\n",
       "#sk-container-id-1 div.sk-parallel-item:first-child::after {\n",
       "  align-self: flex-end;\n",
       "  width: 50%;\n",
       "}\n",
       "\n",
       "#sk-container-id-1 div.sk-parallel-item:last-child::after {\n",
       "  align-self: flex-start;\n",
       "  width: 50%;\n",
       "}\n",
       "\n",
       "#sk-container-id-1 div.sk-parallel-item:only-child::after {\n",
       "  width: 0;\n",
       "}\n",
       "\n",
       "/* Serial-specific style estimator block */\n",
       "\n",
       "#sk-container-id-1 div.sk-serial {\n",
       "  display: flex;\n",
       "  flex-direction: column;\n",
       "  align-items: center;\n",
       "  background-color: var(--sklearn-color-background);\n",
       "  padding-right: 1em;\n",
       "  padding-left: 1em;\n",
       "}\n",
       "\n",
       "\n",
       "/* Toggleable style: style used for estimator/Pipeline/ColumnTransformer box that is\n",
       "clickable and can be expanded/collapsed.\n",
       "- Pipeline and ColumnTransformer use this feature and define the default style\n",
       "- Estimators will overwrite some part of the style using the `sk-estimator` class\n",
       "*/\n",
       "\n",
       "/* Pipeline and ColumnTransformer style (default) */\n",
       "\n",
       "#sk-container-id-1 div.sk-toggleable {\n",
       "  /* Default theme specific background. It is overwritten whether we have a\n",
       "  specific estimator or a Pipeline/ColumnTransformer */\n",
       "  background-color: var(--sklearn-color-background);\n",
       "}\n",
       "\n",
       "/* Toggleable label */\n",
       "#sk-container-id-1 label.sk-toggleable__label {\n",
       "  cursor: pointer;\n",
       "  display: flex;\n",
       "  width: 100%;\n",
       "  margin-bottom: 0;\n",
       "  padding: 0.5em;\n",
       "  box-sizing: border-box;\n",
       "  text-align: center;\n",
       "  align-items: start;\n",
       "  justify-content: space-between;\n",
       "  gap: 0.5em;\n",
       "}\n",
       "\n",
       "#sk-container-id-1 label.sk-toggleable__label .caption {\n",
       "  font-size: 0.6rem;\n",
       "  font-weight: lighter;\n",
       "  color: var(--sklearn-color-text-muted);\n",
       "}\n",
       "\n",
       "#sk-container-id-1 label.sk-toggleable__label-arrow:before {\n",
       "  /* Arrow on the left of the label */\n",
       "  content: \"▸\";\n",
       "  float: left;\n",
       "  margin-right: 0.25em;\n",
       "  color: var(--sklearn-color-icon);\n",
       "}\n",
       "\n",
       "#sk-container-id-1 label.sk-toggleable__label-arrow:hover:before {\n",
       "  color: var(--sklearn-color-text);\n",
       "}\n",
       "\n",
       "/* Toggleable content - dropdown */\n",
       "\n",
       "#sk-container-id-1 div.sk-toggleable__content {\n",
       "  max-height: 0;\n",
       "  max-width: 0;\n",
       "  overflow: hidden;\n",
       "  text-align: left;\n",
       "  /* unfitted */\n",
       "  background-color: var(--sklearn-color-unfitted-level-0);\n",
       "}\n",
       "\n",
       "#sk-container-id-1 div.sk-toggleable__content.fitted {\n",
       "  /* fitted */\n",
       "  background-color: var(--sklearn-color-fitted-level-0);\n",
       "}\n",
       "\n",
       "#sk-container-id-1 div.sk-toggleable__content pre {\n",
       "  margin: 0.2em;\n",
       "  border-radius: 0.25em;\n",
       "  color: var(--sklearn-color-text);\n",
       "  /* unfitted */\n",
       "  background-color: var(--sklearn-color-unfitted-level-0);\n",
       "}\n",
       "\n",
       "#sk-container-id-1 div.sk-toggleable__content.fitted pre {\n",
       "  /* unfitted */\n",
       "  background-color: var(--sklearn-color-fitted-level-0);\n",
       "}\n",
       "\n",
       "#sk-container-id-1 input.sk-toggleable__control:checked~div.sk-toggleable__content {\n",
       "  /* Expand drop-down */\n",
       "  max-height: 200px;\n",
       "  max-width: 100%;\n",
       "  overflow: auto;\n",
       "}\n",
       "\n",
       "#sk-container-id-1 input.sk-toggleable__control:checked~label.sk-toggleable__label-arrow:before {\n",
       "  content: \"▾\";\n",
       "}\n",
       "\n",
       "/* Pipeline/ColumnTransformer-specific style */\n",
       "\n",
       "#sk-container-id-1 div.sk-label input.sk-toggleable__control:checked~label.sk-toggleable__label {\n",
       "  color: var(--sklearn-color-text);\n",
       "  background-color: var(--sklearn-color-unfitted-level-2);\n",
       "}\n",
       "\n",
       "#sk-container-id-1 div.sk-label.fitted input.sk-toggleable__control:checked~label.sk-toggleable__label {\n",
       "  background-color: var(--sklearn-color-fitted-level-2);\n",
       "}\n",
       "\n",
       "/* Estimator-specific style */\n",
       "\n",
       "/* Colorize estimator box */\n",
       "#sk-container-id-1 div.sk-estimator input.sk-toggleable__control:checked~label.sk-toggleable__label {\n",
       "  /* unfitted */\n",
       "  background-color: var(--sklearn-color-unfitted-level-2);\n",
       "}\n",
       "\n",
       "#sk-container-id-1 div.sk-estimator.fitted input.sk-toggleable__control:checked~label.sk-toggleable__label {\n",
       "  /* fitted */\n",
       "  background-color: var(--sklearn-color-fitted-level-2);\n",
       "}\n",
       "\n",
       "#sk-container-id-1 div.sk-label label.sk-toggleable__label,\n",
       "#sk-container-id-1 div.sk-label label {\n",
       "  /* The background is the default theme color */\n",
       "  color: var(--sklearn-color-text-on-default-background);\n",
       "}\n",
       "\n",
       "/* On hover, darken the color of the background */\n",
       "#sk-container-id-1 div.sk-label:hover label.sk-toggleable__label {\n",
       "  color: var(--sklearn-color-text);\n",
       "  background-color: var(--sklearn-color-unfitted-level-2);\n",
       "}\n",
       "\n",
       "/* Label box, darken color on hover, fitted */\n",
       "#sk-container-id-1 div.sk-label.fitted:hover label.sk-toggleable__label.fitted {\n",
       "  color: var(--sklearn-color-text);\n",
       "  background-color: var(--sklearn-color-fitted-level-2);\n",
       "}\n",
       "\n",
       "/* Estimator label */\n",
       "\n",
       "#sk-container-id-1 div.sk-label label {\n",
       "  font-family: monospace;\n",
       "  font-weight: bold;\n",
       "  display: inline-block;\n",
       "  line-height: 1.2em;\n",
       "}\n",
       "\n",
       "#sk-container-id-1 div.sk-label-container {\n",
       "  text-align: center;\n",
       "}\n",
       "\n",
       "/* Estimator-specific */\n",
       "#sk-container-id-1 div.sk-estimator {\n",
       "  font-family: monospace;\n",
       "  border: 1px dotted var(--sklearn-color-border-box);\n",
       "  border-radius: 0.25em;\n",
       "  box-sizing: border-box;\n",
       "  margin-bottom: 0.5em;\n",
       "  /* unfitted */\n",
       "  background-color: var(--sklearn-color-unfitted-level-0);\n",
       "}\n",
       "\n",
       "#sk-container-id-1 div.sk-estimator.fitted {\n",
       "  /* fitted */\n",
       "  background-color: var(--sklearn-color-fitted-level-0);\n",
       "}\n",
       "\n",
       "/* on hover */\n",
       "#sk-container-id-1 div.sk-estimator:hover {\n",
       "  /* unfitted */\n",
       "  background-color: var(--sklearn-color-unfitted-level-2);\n",
       "}\n",
       "\n",
       "#sk-container-id-1 div.sk-estimator.fitted:hover {\n",
       "  /* fitted */\n",
       "  background-color: var(--sklearn-color-fitted-level-2);\n",
       "}\n",
       "\n",
       "/* Specification for estimator info (e.g. \"i\" and \"?\") */\n",
       "\n",
       "/* Common style for \"i\" and \"?\" */\n",
       "\n",
       ".sk-estimator-doc-link,\n",
       "a:link.sk-estimator-doc-link,\n",
       "a:visited.sk-estimator-doc-link {\n",
       "  float: right;\n",
       "  font-size: smaller;\n",
       "  line-height: 1em;\n",
       "  font-family: monospace;\n",
       "  background-color: var(--sklearn-color-background);\n",
       "  border-radius: 1em;\n",
       "  height: 1em;\n",
       "  width: 1em;\n",
       "  text-decoration: none !important;\n",
       "  margin-left: 0.5em;\n",
       "  text-align: center;\n",
       "  /* unfitted */\n",
       "  border: var(--sklearn-color-unfitted-level-1) 1pt solid;\n",
       "  color: var(--sklearn-color-unfitted-level-1);\n",
       "}\n",
       "\n",
       ".sk-estimator-doc-link.fitted,\n",
       "a:link.sk-estimator-doc-link.fitted,\n",
       "a:visited.sk-estimator-doc-link.fitted {\n",
       "  /* fitted */\n",
       "  border: var(--sklearn-color-fitted-level-1) 1pt solid;\n",
       "  color: var(--sklearn-color-fitted-level-1);\n",
       "}\n",
       "\n",
       "/* On hover */\n",
       "div.sk-estimator:hover .sk-estimator-doc-link:hover,\n",
       ".sk-estimator-doc-link:hover,\n",
       "div.sk-label-container:hover .sk-estimator-doc-link:hover,\n",
       ".sk-estimator-doc-link:hover {\n",
       "  /* unfitted */\n",
       "  background-color: var(--sklearn-color-unfitted-level-3);\n",
       "  color: var(--sklearn-color-background);\n",
       "  text-decoration: none;\n",
       "}\n",
       "\n",
       "div.sk-estimator.fitted:hover .sk-estimator-doc-link.fitted:hover,\n",
       ".sk-estimator-doc-link.fitted:hover,\n",
       "div.sk-label-container:hover .sk-estimator-doc-link.fitted:hover,\n",
       ".sk-estimator-doc-link.fitted:hover {\n",
       "  /* fitted */\n",
       "  background-color: var(--sklearn-color-fitted-level-3);\n",
       "  color: var(--sklearn-color-background);\n",
       "  text-decoration: none;\n",
       "}\n",
       "\n",
       "/* Span, style for the box shown on hovering the info icon */\n",
       ".sk-estimator-doc-link span {\n",
       "  display: none;\n",
       "  z-index: 9999;\n",
       "  position: relative;\n",
       "  font-weight: normal;\n",
       "  right: .2ex;\n",
       "  padding: .5ex;\n",
       "  margin: .5ex;\n",
       "  width: min-content;\n",
       "  min-width: 20ex;\n",
       "  max-width: 50ex;\n",
       "  color: var(--sklearn-color-text);\n",
       "  box-shadow: 2pt 2pt 4pt #999;\n",
       "  /* unfitted */\n",
       "  background: var(--sklearn-color-unfitted-level-0);\n",
       "  border: .5pt solid var(--sklearn-color-unfitted-level-3);\n",
       "}\n",
       "\n",
       ".sk-estimator-doc-link.fitted span {\n",
       "  /* fitted */\n",
       "  background: var(--sklearn-color-fitted-level-0);\n",
       "  border: var(--sklearn-color-fitted-level-3);\n",
       "}\n",
       "\n",
       ".sk-estimator-doc-link:hover span {\n",
       "  display: block;\n",
       "}\n",
       "\n",
       "/* \"?\"-specific style due to the `<a>` HTML tag */\n",
       "\n",
       "#sk-container-id-1 a.estimator_doc_link {\n",
       "  float: right;\n",
       "  font-size: 1rem;\n",
       "  line-height: 1em;\n",
       "  font-family: monospace;\n",
       "  background-color: var(--sklearn-color-background);\n",
       "  border-radius: 1rem;\n",
       "  height: 1rem;\n",
       "  width: 1rem;\n",
       "  text-decoration: none;\n",
       "  /* unfitted */\n",
       "  color: var(--sklearn-color-unfitted-level-1);\n",
       "  border: var(--sklearn-color-unfitted-level-1) 1pt solid;\n",
       "}\n",
       "\n",
       "#sk-container-id-1 a.estimator_doc_link.fitted {\n",
       "  /* fitted */\n",
       "  border: var(--sklearn-color-fitted-level-1) 1pt solid;\n",
       "  color: var(--sklearn-color-fitted-level-1);\n",
       "}\n",
       "\n",
       "/* On hover */\n",
       "#sk-container-id-1 a.estimator_doc_link:hover {\n",
       "  /* unfitted */\n",
       "  background-color: var(--sklearn-color-unfitted-level-3);\n",
       "  color: var(--sklearn-color-background);\n",
       "  text-decoration: none;\n",
       "}\n",
       "\n",
       "#sk-container-id-1 a.estimator_doc_link.fitted:hover {\n",
       "  /* fitted */\n",
       "  background-color: var(--sklearn-color-fitted-level-3);\n",
       "}\n",
       "</style><div id=\"sk-container-id-1\" class=\"sk-top-container\"><div class=\"sk-text-repr-fallback\"><pre>OneHotEncoder(handle_unknown=&#x27;warn&#x27;, sparse_output=False)</pre><b>In a Jupyter environment, please rerun this cell to show the HTML representation or trust the notebook. <br />On GitHub, the HTML representation is unable to render, please try loading this page with nbviewer.org.</b></div><div class=\"sk-container\" hidden><div class=\"sk-item\"><div class=\"sk-estimator fitted sk-toggleable\"><input class=\"sk-toggleable__control sk-hidden--visually\" id=\"sk-estimator-id-1\" type=\"checkbox\" checked><label for=\"sk-estimator-id-1\" class=\"sk-toggleable__label fitted sk-toggleable__label-arrow\"><div><div>OneHotEncoder</div></div><div><a class=\"sk-estimator-doc-link fitted\" rel=\"noreferrer\" target=\"_blank\" href=\"https://scikit-learn.org/1.6/modules/generated/sklearn.preprocessing.OneHotEncoder.html\">?<span>Documentation for OneHotEncoder</span></a><span class=\"sk-estimator-doc-link fitted\">i<span>Fitted</span></span></div></label><div class=\"sk-toggleable__content fitted\"><pre>OneHotEncoder(handle_unknown=&#x27;warn&#x27;, sparse_output=False)</pre></div> </div></div></div></div>"
      ],
      "text/plain": [
       "OneHotEncoder(handle_unknown='warn', sparse_output=False)"
      ]
     },
     "execution_count": 5,
     "metadata": {},
     "output_type": "execute_result"
    }
   ],
   "source": [
    "enc.fit(np.asarray(df[\"Gender\"]).reshape(-1,1))"
   ]
  },
  {
   "cell_type": "code",
   "execution_count": 6,
   "metadata": {},
   "outputs": [
    {
     "data": {
      "text/plain": [
       "[array(['Female', 'Male'], dtype=object)]"
      ]
     },
     "execution_count": 6,
     "metadata": {},
     "output_type": "execute_result"
    }
   ],
   "source": [
    "enc.categories_"
   ]
  },
  {
   "cell_type": "code",
   "execution_count": 7,
   "metadata": {},
   "outputs": [],
   "source": [
    "gender_enc_df = enc.transform(np.asarray(df[\"Gender\"]).reshape(-1,1))"
   ]
  },
  {
   "cell_type": "code",
   "execution_count": 8,
   "metadata": {},
   "outputs": [
    {
     "data": {
      "text/html": [
       "<div>\n",
       "<style scoped>\n",
       "    .dataframe tbody tr th:only-of-type {\n",
       "        vertical-align: middle;\n",
       "    }\n",
       "\n",
       "    .dataframe tbody tr th {\n",
       "        vertical-align: top;\n",
       "    }\n",
       "\n",
       "    .dataframe thead th {\n",
       "        text-align: right;\n",
       "    }\n",
       "</style>\n",
       "<table border=\"1\" class=\"dataframe\">\n",
       "  <thead>\n",
       "    <tr style=\"text-align: right;\">\n",
       "      <th></th>\n",
       "      <th>x0_Female</th>\n",
       "      <th>x0_Male</th>\n",
       "    </tr>\n",
       "  </thead>\n",
       "  <tbody>\n",
       "    <tr>\n",
       "      <th>0</th>\n",
       "      <td>1.0</td>\n",
       "      <td>0.0</td>\n",
       "    </tr>\n",
       "    <tr>\n",
       "      <th>1</th>\n",
       "      <td>1.0</td>\n",
       "      <td>0.0</td>\n",
       "    </tr>\n",
       "    <tr>\n",
       "      <th>2</th>\n",
       "      <td>0.0</td>\n",
       "      <td>1.0</td>\n",
       "    </tr>\n",
       "    <tr>\n",
       "      <th>3</th>\n",
       "      <td>0.0</td>\n",
       "      <td>1.0</td>\n",
       "    </tr>\n",
       "    <tr>\n",
       "      <th>4</th>\n",
       "      <td>0.0</td>\n",
       "      <td>1.0</td>\n",
       "    </tr>\n",
       "    <tr>\n",
       "      <th>...</th>\n",
       "      <td>...</td>\n",
       "      <td>...</td>\n",
       "    </tr>\n",
       "    <tr>\n",
       "      <th>2106</th>\n",
       "      <td>1.0</td>\n",
       "      <td>0.0</td>\n",
       "    </tr>\n",
       "    <tr>\n",
       "      <th>2107</th>\n",
       "      <td>1.0</td>\n",
       "      <td>0.0</td>\n",
       "    </tr>\n",
       "    <tr>\n",
       "      <th>2108</th>\n",
       "      <td>1.0</td>\n",
       "      <td>0.0</td>\n",
       "    </tr>\n",
       "    <tr>\n",
       "      <th>2109</th>\n",
       "      <td>1.0</td>\n",
       "      <td>0.0</td>\n",
       "    </tr>\n",
       "    <tr>\n",
       "      <th>2110</th>\n",
       "      <td>1.0</td>\n",
       "      <td>0.0</td>\n",
       "    </tr>\n",
       "  </tbody>\n",
       "</table>\n",
       "<p>2111 rows × 2 columns</p>\n",
       "</div>"
      ],
      "text/plain": [
       "      x0_Female  x0_Male\n",
       "0           1.0      0.0\n",
       "1           1.0      0.0\n",
       "2           0.0      1.0\n",
       "3           0.0      1.0\n",
       "4           0.0      1.0\n",
       "...         ...      ...\n",
       "2106        1.0      0.0\n",
       "2107        1.0      0.0\n",
       "2108        1.0      0.0\n",
       "2109        1.0      0.0\n",
       "2110        1.0      0.0\n",
       "\n",
       "[2111 rows x 2 columns]"
      ]
     },
     "execution_count": 8,
     "metadata": {},
     "output_type": "execute_result"
    }
   ],
   "source": [
    "gender_enc_df"
   ]
  },
  {
   "cell_type": "code",
   "execution_count": 9,
   "metadata": {},
   "outputs": [],
   "source": [
    "gender_enc_df.columns =[\"female\",\"male\"]"
   ]
  },
  {
   "cell_type": "code",
   "execution_count": 10,
   "metadata": {},
   "outputs": [
    {
     "data": {
      "text/html": [
       "<div>\n",
       "<style scoped>\n",
       "    .dataframe tbody tr th:only-of-type {\n",
       "        vertical-align: middle;\n",
       "    }\n",
       "\n",
       "    .dataframe tbody tr th {\n",
       "        vertical-align: top;\n",
       "    }\n",
       "\n",
       "    .dataframe thead th {\n",
       "        text-align: right;\n",
       "    }\n",
       "</style>\n",
       "<table border=\"1\" class=\"dataframe\">\n",
       "  <thead>\n",
       "    <tr style=\"text-align: right;\">\n",
       "      <th></th>\n",
       "      <th>female</th>\n",
       "      <th>male</th>\n",
       "    </tr>\n",
       "  </thead>\n",
       "  <tbody>\n",
       "    <tr>\n",
       "      <th>0</th>\n",
       "      <td>1.0</td>\n",
       "      <td>0.0</td>\n",
       "    </tr>\n",
       "    <tr>\n",
       "      <th>1</th>\n",
       "      <td>1.0</td>\n",
       "      <td>0.0</td>\n",
       "    </tr>\n",
       "    <tr>\n",
       "      <th>2</th>\n",
       "      <td>0.0</td>\n",
       "      <td>1.0</td>\n",
       "    </tr>\n",
       "    <tr>\n",
       "      <th>3</th>\n",
       "      <td>0.0</td>\n",
       "      <td>1.0</td>\n",
       "    </tr>\n",
       "    <tr>\n",
       "      <th>4</th>\n",
       "      <td>0.0</td>\n",
       "      <td>1.0</td>\n",
       "    </tr>\n",
       "  </tbody>\n",
       "</table>\n",
       "</div>"
      ],
      "text/plain": [
       "   female  male\n",
       "0     1.0   0.0\n",
       "1     1.0   0.0\n",
       "2     0.0   1.0\n",
       "3     0.0   1.0\n",
       "4     0.0   1.0"
      ]
     },
     "execution_count": 10,
     "metadata": {},
     "output_type": "execute_result"
    }
   ],
   "source": [
    "gender_enc_df.head()"
   ]
  },
  {
   "cell_type": "code",
   "execution_count": 11,
   "metadata": {},
   "outputs": [],
   "source": [
    "enc2 = ohe(sparse_output=False,handle_unknown=\"ignore\").set_output(transform=\"pandas\")"
   ]
  },
  {
   "cell_type": "code",
   "execution_count": 12,
   "metadata": {},
   "outputs": [],
   "source": [
    "df_mtran = enc2.fit_transform(np.asarray(df[\"MTRANS\"]).reshape(-1,1))"
   ]
  },
  {
   "cell_type": "code",
   "execution_count": 13,
   "metadata": {},
   "outputs": [
    {
     "data": {
      "text/html": [
       "<div>\n",
       "<style scoped>\n",
       "    .dataframe tbody tr th:only-of-type {\n",
       "        vertical-align: middle;\n",
       "    }\n",
       "\n",
       "    .dataframe tbody tr th {\n",
       "        vertical-align: top;\n",
       "    }\n",
       "\n",
       "    .dataframe thead th {\n",
       "        text-align: right;\n",
       "    }\n",
       "</style>\n",
       "<table border=\"1\" class=\"dataframe\">\n",
       "  <thead>\n",
       "    <tr style=\"text-align: right;\">\n",
       "      <th></th>\n",
       "      <th>x0_Automobile</th>\n",
       "      <th>x0_Bike</th>\n",
       "      <th>x0_Motorbike</th>\n",
       "      <th>x0_Public_Transportation</th>\n",
       "      <th>x0_Walking</th>\n",
       "    </tr>\n",
       "  </thead>\n",
       "  <tbody>\n",
       "    <tr>\n",
       "      <th>0</th>\n",
       "      <td>0.0</td>\n",
       "      <td>0.0</td>\n",
       "      <td>0.0</td>\n",
       "      <td>1.0</td>\n",
       "      <td>0.0</td>\n",
       "    </tr>\n",
       "    <tr>\n",
       "      <th>1</th>\n",
       "      <td>0.0</td>\n",
       "      <td>0.0</td>\n",
       "      <td>0.0</td>\n",
       "      <td>1.0</td>\n",
       "      <td>0.0</td>\n",
       "    </tr>\n",
       "    <tr>\n",
       "      <th>2</th>\n",
       "      <td>0.0</td>\n",
       "      <td>0.0</td>\n",
       "      <td>0.0</td>\n",
       "      <td>1.0</td>\n",
       "      <td>0.0</td>\n",
       "    </tr>\n",
       "    <tr>\n",
       "      <th>3</th>\n",
       "      <td>0.0</td>\n",
       "      <td>0.0</td>\n",
       "      <td>0.0</td>\n",
       "      <td>0.0</td>\n",
       "      <td>1.0</td>\n",
       "    </tr>\n",
       "    <tr>\n",
       "      <th>4</th>\n",
       "      <td>0.0</td>\n",
       "      <td>0.0</td>\n",
       "      <td>0.0</td>\n",
       "      <td>1.0</td>\n",
       "      <td>0.0</td>\n",
       "    </tr>\n",
       "  </tbody>\n",
       "</table>\n",
       "</div>"
      ],
      "text/plain": [
       "   x0_Automobile  x0_Bike  x0_Motorbike  x0_Public_Transportation  x0_Walking\n",
       "0            0.0      0.0           0.0                       1.0         0.0\n",
       "1            0.0      0.0           0.0                       1.0         0.0\n",
       "2            0.0      0.0           0.0                       1.0         0.0\n",
       "3            0.0      0.0           0.0                       0.0         1.0\n",
       "4            0.0      0.0           0.0                       1.0         0.0"
      ]
     },
     "execution_count": 13,
     "metadata": {},
     "output_type": "execute_result"
    }
   ],
   "source": [
    "df_mtran.head()"
   ]
  },
  {
   "cell_type": "code",
   "execution_count": 14,
   "metadata": {},
   "outputs": [
    {
     "data": {
      "text/plain": [
       "[array(['Automobile', 'Bike', 'Motorbike', 'Public_Transportation',\n",
       "        'Walking'], dtype=object)]"
      ]
     },
     "execution_count": 14,
     "metadata": {},
     "output_type": "execute_result"
    }
   ],
   "source": [
    "enc2.categories_"
   ]
  },
  {
   "cell_type": "code",
   "execution_count": 15,
   "metadata": {},
   "outputs": [],
   "source": [
    "df_mtran.columns = [\"automobile\",\"bike\",\"motorbike\",\"public_transportation\",\"walking\"]"
   ]
  },
  {
   "cell_type": "code",
   "execution_count": 16,
   "metadata": {},
   "outputs": [
    {
     "data": {
      "text/html": [
       "<div>\n",
       "<style scoped>\n",
       "    .dataframe tbody tr th:only-of-type {\n",
       "        vertical-align: middle;\n",
       "    }\n",
       "\n",
       "    .dataframe tbody tr th {\n",
       "        vertical-align: top;\n",
       "    }\n",
       "\n",
       "    .dataframe thead th {\n",
       "        text-align: right;\n",
       "    }\n",
       "</style>\n",
       "<table border=\"1\" class=\"dataframe\">\n",
       "  <thead>\n",
       "    <tr style=\"text-align: right;\">\n",
       "      <th></th>\n",
       "      <th>automobile</th>\n",
       "      <th>bike</th>\n",
       "      <th>motorbike</th>\n",
       "      <th>public_transportation</th>\n",
       "      <th>walking</th>\n",
       "    </tr>\n",
       "  </thead>\n",
       "  <tbody>\n",
       "    <tr>\n",
       "      <th>0</th>\n",
       "      <td>0.0</td>\n",
       "      <td>0.0</td>\n",
       "      <td>0.0</td>\n",
       "      <td>1.0</td>\n",
       "      <td>0.0</td>\n",
       "    </tr>\n",
       "    <tr>\n",
       "      <th>1</th>\n",
       "      <td>0.0</td>\n",
       "      <td>0.0</td>\n",
       "      <td>0.0</td>\n",
       "      <td>1.0</td>\n",
       "      <td>0.0</td>\n",
       "    </tr>\n",
       "    <tr>\n",
       "      <th>2</th>\n",
       "      <td>0.0</td>\n",
       "      <td>0.0</td>\n",
       "      <td>0.0</td>\n",
       "      <td>1.0</td>\n",
       "      <td>0.0</td>\n",
       "    </tr>\n",
       "  </tbody>\n",
       "</table>\n",
       "</div>"
      ],
      "text/plain": [
       "   automobile  bike  motorbike  public_transportation  walking\n",
       "0         0.0   0.0        0.0                    1.0      0.0\n",
       "1         0.0   0.0        0.0                    1.0      0.0\n",
       "2         0.0   0.0        0.0                    1.0      0.0"
      ]
     },
     "execution_count": 16,
     "metadata": {},
     "output_type": "execute_result"
    }
   ],
   "source": [
    "df_mtran.head(3)"
   ]
  },
  {
   "cell_type": "code",
   "execution_count": 17,
   "metadata": {},
   "outputs": [
    {
     "data": {
      "text/html": [
       "<div>\n",
       "<style scoped>\n",
       "    .dataframe tbody tr th:only-of-type {\n",
       "        vertical-align: middle;\n",
       "    }\n",
       "\n",
       "    .dataframe tbody tr th {\n",
       "        vertical-align: top;\n",
       "    }\n",
       "\n",
       "    .dataframe thead th {\n",
       "        text-align: right;\n",
       "    }\n",
       "</style>\n",
       "<table border=\"1\" class=\"dataframe\">\n",
       "  <thead>\n",
       "    <tr style=\"text-align: right;\">\n",
       "      <th></th>\n",
       "      <th>automobile</th>\n",
       "      <th>bike</th>\n",
       "      <th>motorbike</th>\n",
       "      <th>public_transportation</th>\n",
       "      <th>walking</th>\n",
       "    </tr>\n",
       "  </thead>\n",
       "  <tbody>\n",
       "    <tr>\n",
       "      <th>0</th>\n",
       "      <td>0.0</td>\n",
       "      <td>0.0</td>\n",
       "      <td>0.0</td>\n",
       "      <td>1.0</td>\n",
       "      <td>0.0</td>\n",
       "    </tr>\n",
       "    <tr>\n",
       "      <th>1</th>\n",
       "      <td>0.0</td>\n",
       "      <td>0.0</td>\n",
       "      <td>0.0</td>\n",
       "      <td>1.0</td>\n",
       "      <td>0.0</td>\n",
       "    </tr>\n",
       "    <tr>\n",
       "      <th>2</th>\n",
       "      <td>0.0</td>\n",
       "      <td>0.0</td>\n",
       "      <td>0.0</td>\n",
       "      <td>1.0</td>\n",
       "      <td>0.0</td>\n",
       "    </tr>\n",
       "    <tr>\n",
       "      <th>3</th>\n",
       "      <td>0.0</td>\n",
       "      <td>0.0</td>\n",
       "      <td>0.0</td>\n",
       "      <td>0.0</td>\n",
       "      <td>1.0</td>\n",
       "    </tr>\n",
       "    <tr>\n",
       "      <th>4</th>\n",
       "      <td>0.0</td>\n",
       "      <td>0.0</td>\n",
       "      <td>0.0</td>\n",
       "      <td>1.0</td>\n",
       "      <td>0.0</td>\n",
       "    </tr>\n",
       "  </tbody>\n",
       "</table>\n",
       "</div>"
      ],
      "text/plain": [
       "   automobile  bike  motorbike  public_transportation  walking\n",
       "0         0.0   0.0        0.0                    1.0      0.0\n",
       "1         0.0   0.0        0.0                    1.0      0.0\n",
       "2         0.0   0.0        0.0                    1.0      0.0\n",
       "3         0.0   0.0        0.0                    0.0      1.0\n",
       "4         0.0   0.0        0.0                    1.0      0.0"
      ]
     },
     "execution_count": 17,
     "metadata": {},
     "output_type": "execute_result"
    }
   ],
   "source": [
    "df_mtran.head()"
   ]
  },
  {
   "cell_type": "code",
   "execution_count": 18,
   "metadata": {},
   "outputs": [
    {
     "data": {
      "text/html": [
       "<div>\n",
       "<style scoped>\n",
       "    .dataframe tbody tr th:only-of-type {\n",
       "        vertical-align: middle;\n",
       "    }\n",
       "\n",
       "    .dataframe tbody tr th {\n",
       "        vertical-align: top;\n",
       "    }\n",
       "\n",
       "    .dataframe thead th {\n",
       "        text-align: right;\n",
       "    }\n",
       "</style>\n",
       "<table border=\"1\" class=\"dataframe\">\n",
       "  <thead>\n",
       "    <tr style=\"text-align: right;\">\n",
       "      <th></th>\n",
       "      <th>female</th>\n",
       "      <th>male</th>\n",
       "    </tr>\n",
       "  </thead>\n",
       "  <tbody>\n",
       "    <tr>\n",
       "      <th>0</th>\n",
       "      <td>1.0</td>\n",
       "      <td>0.0</td>\n",
       "    </tr>\n",
       "    <tr>\n",
       "      <th>1</th>\n",
       "      <td>1.0</td>\n",
       "      <td>0.0</td>\n",
       "    </tr>\n",
       "    <tr>\n",
       "      <th>2</th>\n",
       "      <td>0.0</td>\n",
       "      <td>1.0</td>\n",
       "    </tr>\n",
       "    <tr>\n",
       "      <th>3</th>\n",
       "      <td>0.0</td>\n",
       "      <td>1.0</td>\n",
       "    </tr>\n",
       "    <tr>\n",
       "      <th>4</th>\n",
       "      <td>0.0</td>\n",
       "      <td>1.0</td>\n",
       "    </tr>\n",
       "  </tbody>\n",
       "</table>\n",
       "</div>"
      ],
      "text/plain": [
       "   female  male\n",
       "0     1.0   0.0\n",
       "1     1.0   0.0\n",
       "2     0.0   1.0\n",
       "3     0.0   1.0\n",
       "4     0.0   1.0"
      ]
     },
     "execution_count": 18,
     "metadata": {},
     "output_type": "execute_result"
    }
   ],
   "source": [
    "gender_enc_df.head()"
   ]
  },
  {
   "cell_type": "code",
   "execution_count": 19,
   "metadata": {},
   "outputs": [],
   "source": [
    "df_x = pd.concat(objs=[gender_enc_df,df_mtran,df[\"Age\"],df[\"Height\"]],axis=1)"
   ]
  },
  {
   "cell_type": "code",
   "execution_count": 20,
   "metadata": {},
   "outputs": [
    {
     "data": {
      "text/html": [
       "<div>\n",
       "<style scoped>\n",
       "    .dataframe tbody tr th:only-of-type {\n",
       "        vertical-align: middle;\n",
       "    }\n",
       "\n",
       "    .dataframe tbody tr th {\n",
       "        vertical-align: top;\n",
       "    }\n",
       "\n",
       "    .dataframe thead th {\n",
       "        text-align: right;\n",
       "    }\n",
       "</style>\n",
       "<table border=\"1\" class=\"dataframe\">\n",
       "  <thead>\n",
       "    <tr style=\"text-align: right;\">\n",
       "      <th></th>\n",
       "      <th>female</th>\n",
       "      <th>male</th>\n",
       "      <th>automobile</th>\n",
       "      <th>bike</th>\n",
       "      <th>motorbike</th>\n",
       "      <th>public_transportation</th>\n",
       "      <th>walking</th>\n",
       "      <th>Age</th>\n",
       "      <th>Height</th>\n",
       "    </tr>\n",
       "  </thead>\n",
       "  <tbody>\n",
       "    <tr>\n",
       "      <th>0</th>\n",
       "      <td>1.0</td>\n",
       "      <td>0.0</td>\n",
       "      <td>0.0</td>\n",
       "      <td>0.0</td>\n",
       "      <td>0.0</td>\n",
       "      <td>1.0</td>\n",
       "      <td>0.0</td>\n",
       "      <td>21.000000</td>\n",
       "      <td>1.620000</td>\n",
       "    </tr>\n",
       "    <tr>\n",
       "      <th>1</th>\n",
       "      <td>1.0</td>\n",
       "      <td>0.0</td>\n",
       "      <td>0.0</td>\n",
       "      <td>0.0</td>\n",
       "      <td>0.0</td>\n",
       "      <td>1.0</td>\n",
       "      <td>0.0</td>\n",
       "      <td>21.000000</td>\n",
       "      <td>1.520000</td>\n",
       "    </tr>\n",
       "    <tr>\n",
       "      <th>2</th>\n",
       "      <td>0.0</td>\n",
       "      <td>1.0</td>\n",
       "      <td>0.0</td>\n",
       "      <td>0.0</td>\n",
       "      <td>0.0</td>\n",
       "      <td>1.0</td>\n",
       "      <td>0.0</td>\n",
       "      <td>23.000000</td>\n",
       "      <td>1.800000</td>\n",
       "    </tr>\n",
       "    <tr>\n",
       "      <th>3</th>\n",
       "      <td>0.0</td>\n",
       "      <td>1.0</td>\n",
       "      <td>0.0</td>\n",
       "      <td>0.0</td>\n",
       "      <td>0.0</td>\n",
       "      <td>0.0</td>\n",
       "      <td>1.0</td>\n",
       "      <td>27.000000</td>\n",
       "      <td>1.800000</td>\n",
       "    </tr>\n",
       "    <tr>\n",
       "      <th>4</th>\n",
       "      <td>0.0</td>\n",
       "      <td>1.0</td>\n",
       "      <td>0.0</td>\n",
       "      <td>0.0</td>\n",
       "      <td>0.0</td>\n",
       "      <td>1.0</td>\n",
       "      <td>0.0</td>\n",
       "      <td>22.000000</td>\n",
       "      <td>1.780000</td>\n",
       "    </tr>\n",
       "    <tr>\n",
       "      <th>...</th>\n",
       "      <td>...</td>\n",
       "      <td>...</td>\n",
       "      <td>...</td>\n",
       "      <td>...</td>\n",
       "      <td>...</td>\n",
       "      <td>...</td>\n",
       "      <td>...</td>\n",
       "      <td>...</td>\n",
       "      <td>...</td>\n",
       "    </tr>\n",
       "    <tr>\n",
       "      <th>2106</th>\n",
       "      <td>1.0</td>\n",
       "      <td>0.0</td>\n",
       "      <td>0.0</td>\n",
       "      <td>0.0</td>\n",
       "      <td>0.0</td>\n",
       "      <td>1.0</td>\n",
       "      <td>0.0</td>\n",
       "      <td>20.976842</td>\n",
       "      <td>1.710730</td>\n",
       "    </tr>\n",
       "    <tr>\n",
       "      <th>2107</th>\n",
       "      <td>1.0</td>\n",
       "      <td>0.0</td>\n",
       "      <td>0.0</td>\n",
       "      <td>0.0</td>\n",
       "      <td>0.0</td>\n",
       "      <td>1.0</td>\n",
       "      <td>0.0</td>\n",
       "      <td>21.982942</td>\n",
       "      <td>1.748584</td>\n",
       "    </tr>\n",
       "    <tr>\n",
       "      <th>2108</th>\n",
       "      <td>1.0</td>\n",
       "      <td>0.0</td>\n",
       "      <td>0.0</td>\n",
       "      <td>0.0</td>\n",
       "      <td>0.0</td>\n",
       "      <td>1.0</td>\n",
       "      <td>0.0</td>\n",
       "      <td>22.524036</td>\n",
       "      <td>1.752206</td>\n",
       "    </tr>\n",
       "    <tr>\n",
       "      <th>2109</th>\n",
       "      <td>1.0</td>\n",
       "      <td>0.0</td>\n",
       "      <td>0.0</td>\n",
       "      <td>0.0</td>\n",
       "      <td>0.0</td>\n",
       "      <td>1.0</td>\n",
       "      <td>0.0</td>\n",
       "      <td>24.361936</td>\n",
       "      <td>1.739450</td>\n",
       "    </tr>\n",
       "    <tr>\n",
       "      <th>2110</th>\n",
       "      <td>1.0</td>\n",
       "      <td>0.0</td>\n",
       "      <td>0.0</td>\n",
       "      <td>0.0</td>\n",
       "      <td>0.0</td>\n",
       "      <td>1.0</td>\n",
       "      <td>0.0</td>\n",
       "      <td>23.664709</td>\n",
       "      <td>1.738836</td>\n",
       "    </tr>\n",
       "  </tbody>\n",
       "</table>\n",
       "<p>2111 rows × 9 columns</p>\n",
       "</div>"
      ],
      "text/plain": [
       "      female  male  automobile  bike  motorbike  public_transportation  \\\n",
       "0        1.0   0.0         0.0   0.0        0.0                    1.0   \n",
       "1        1.0   0.0         0.0   0.0        0.0                    1.0   \n",
       "2        0.0   1.0         0.0   0.0        0.0                    1.0   \n",
       "3        0.0   1.0         0.0   0.0        0.0                    0.0   \n",
       "4        0.0   1.0         0.0   0.0        0.0                    1.0   \n",
       "...      ...   ...         ...   ...        ...                    ...   \n",
       "2106     1.0   0.0         0.0   0.0        0.0                    1.0   \n",
       "2107     1.0   0.0         0.0   0.0        0.0                    1.0   \n",
       "2108     1.0   0.0         0.0   0.0        0.0                    1.0   \n",
       "2109     1.0   0.0         0.0   0.0        0.0                    1.0   \n",
       "2110     1.0   0.0         0.0   0.0        0.0                    1.0   \n",
       "\n",
       "      walking        Age    Height  \n",
       "0         0.0  21.000000  1.620000  \n",
       "1         0.0  21.000000  1.520000  \n",
       "2         0.0  23.000000  1.800000  \n",
       "3         1.0  27.000000  1.800000  \n",
       "4         0.0  22.000000  1.780000  \n",
       "...       ...        ...       ...  \n",
       "2106      0.0  20.976842  1.710730  \n",
       "2107      0.0  21.982942  1.748584  \n",
       "2108      0.0  22.524036  1.752206  \n",
       "2109      0.0  24.361936  1.739450  \n",
       "2110      0.0  23.664709  1.738836  \n",
       "\n",
       "[2111 rows x 9 columns]"
      ]
     },
     "execution_count": 20,
     "metadata": {},
     "output_type": "execute_result"
    }
   ],
   "source": [
    "df_x"
   ]
  },
  {
   "cell_type": "code",
   "execution_count": 21,
   "metadata": {},
   "outputs": [],
   "source": [
    "from sklearn.preprocessing import LabelEncoder"
   ]
  },
  {
   "cell_type": "code",
   "execution_count": 22,
   "metadata": {},
   "outputs": [],
   "source": [
    "le = LabelEncoder()"
   ]
  },
  {
   "cell_type": "code",
   "execution_count": 23,
   "metadata": {},
   "outputs": [],
   "source": [
    "y_enc = le.fit_transform(df[\"Obesity\"])"
   ]
  },
  {
   "cell_type": "code",
   "execution_count": 24,
   "metadata": {},
   "outputs": [
    {
     "data": {
      "text/plain": [
       "array([1, 1, 1, ..., 4, 4, 4], shape=(2111,))"
      ]
     },
     "execution_count": 24,
     "metadata": {},
     "output_type": "execute_result"
    }
   ],
   "source": [
    "y_enc"
   ]
  },
  {
   "cell_type": "code",
   "execution_count": 25,
   "metadata": {},
   "outputs": [
    {
     "data": {
      "text/plain": [
       "array(['Insufficient_Weight', 'Normal_Weight', 'Obesity_Type_I',\n",
       "       'Obesity_Type_II', 'Obesity_Type_III', 'Overweight_Level_I',\n",
       "       'Overweight_Level_II'], dtype=object)"
      ]
     },
     "execution_count": 25,
     "metadata": {},
     "output_type": "execute_result"
    }
   ],
   "source": [
    "le.classes_"
   ]
  },
  {
   "cell_type": "code",
   "execution_count": 26,
   "metadata": {},
   "outputs": [],
   "source": [
    "Y = torch.tensor(y_enc)"
   ]
  },
  {
   "cell_type": "code",
   "execution_count": 27,
   "metadata": {},
   "outputs": [
    {
     "data": {
      "text/plain": [
       "torch.Size([2111])"
      ]
     },
     "execution_count": 27,
     "metadata": {},
     "output_type": "execute_result"
    }
   ],
   "source": [
    "Y.shape"
   ]
  },
  {
   "cell_type": "code",
   "execution_count": 28,
   "metadata": {},
   "outputs": [],
   "source": [
    "scaler = StandardScaler().set_output(transform=\"pandas\")"
   ]
  },
  {
   "cell_type": "code",
   "execution_count": 29,
   "metadata": {},
   "outputs": [],
   "source": [
    "df_age_scaled = scaler.fit_transform(np.asarray(df[\"Age\"]).reshape(-1,1))\n",
    "df_height_scaled = scaler.fit_transform(np.asarray(df[\"Height\"]).reshape(-1,1))"
   ]
  },
  {
   "cell_type": "code",
   "execution_count": 30,
   "metadata": {},
   "outputs": [],
   "source": [
    "df_height_scaled.columns =[\"height\"]\n",
    "df_age_scaled.columns = [\"age\"]"
   ]
  },
  {
   "cell_type": "code",
   "execution_count": 31,
   "metadata": {},
   "outputs": [
    {
     "data": {
      "text/html": [
       "<div>\n",
       "<style scoped>\n",
       "    .dataframe tbody tr th:only-of-type {\n",
       "        vertical-align: middle;\n",
       "    }\n",
       "\n",
       "    .dataframe tbody tr th {\n",
       "        vertical-align: top;\n",
       "    }\n",
       "\n",
       "    .dataframe thead th {\n",
       "        text-align: right;\n",
       "    }\n",
       "</style>\n",
       "<table border=\"1\" class=\"dataframe\">\n",
       "  <thead>\n",
       "    <tr style=\"text-align: right;\">\n",
       "      <th></th>\n",
       "      <th>height</th>\n",
       "    </tr>\n",
       "  </thead>\n",
       "  <tbody>\n",
       "    <tr>\n",
       "      <th>0</th>\n",
       "      <td>-0.875589</td>\n",
       "    </tr>\n",
       "    <tr>\n",
       "      <th>1</th>\n",
       "      <td>-1.947599</td>\n",
       "    </tr>\n",
       "    <tr>\n",
       "      <th>2</th>\n",
       "      <td>1.054029</td>\n",
       "    </tr>\n",
       "    <tr>\n",
       "      <th>3</th>\n",
       "      <td>1.054029</td>\n",
       "    </tr>\n",
       "    <tr>\n",
       "      <th>4</th>\n",
       "      <td>0.839627</td>\n",
       "    </tr>\n",
       "    <tr>\n",
       "      <th>...</th>\n",
       "      <td>...</td>\n",
       "    </tr>\n",
       "    <tr>\n",
       "      <th>2106</th>\n",
       "      <td>0.097045</td>\n",
       "    </tr>\n",
       "    <tr>\n",
       "      <th>2107</th>\n",
       "      <td>0.502844</td>\n",
       "    </tr>\n",
       "    <tr>\n",
       "      <th>2108</th>\n",
       "      <td>0.541672</td>\n",
       "    </tr>\n",
       "    <tr>\n",
       "      <th>2109</th>\n",
       "      <td>0.404927</td>\n",
       "    </tr>\n",
       "    <tr>\n",
       "      <th>2110</th>\n",
       "      <td>0.398344</td>\n",
       "    </tr>\n",
       "  </tbody>\n",
       "</table>\n",
       "<p>2111 rows × 1 columns</p>\n",
       "</div>"
      ],
      "text/plain": [
       "        height\n",
       "0    -0.875589\n",
       "1    -1.947599\n",
       "2     1.054029\n",
       "3     1.054029\n",
       "4     0.839627\n",
       "...        ...\n",
       "2106  0.097045\n",
       "2107  0.502844\n",
       "2108  0.541672\n",
       "2109  0.404927\n",
       "2110  0.398344\n",
       "\n",
       "[2111 rows x 1 columns]"
      ]
     },
     "execution_count": 31,
     "metadata": {},
     "output_type": "execute_result"
    }
   ],
   "source": [
    "df_height_scaled"
   ]
  },
  {
   "cell_type": "code",
   "execution_count": 32,
   "metadata": {},
   "outputs": [
    {
     "data": {
      "text/html": [
       "<div>\n",
       "<style scoped>\n",
       "    .dataframe tbody tr th:only-of-type {\n",
       "        vertical-align: middle;\n",
       "    }\n",
       "\n",
       "    .dataframe tbody tr th {\n",
       "        vertical-align: top;\n",
       "    }\n",
       "\n",
       "    .dataframe thead th {\n",
       "        text-align: right;\n",
       "    }\n",
       "</style>\n",
       "<table border=\"1\" class=\"dataframe\">\n",
       "  <thead>\n",
       "    <tr style=\"text-align: right;\">\n",
       "      <th></th>\n",
       "      <th>female</th>\n",
       "      <th>male</th>\n",
       "      <th>automobile</th>\n",
       "      <th>bike</th>\n",
       "      <th>motorbike</th>\n",
       "      <th>public_transportation</th>\n",
       "      <th>walking</th>\n",
       "    </tr>\n",
       "  </thead>\n",
       "  <tbody>\n",
       "    <tr>\n",
       "      <th>0</th>\n",
       "      <td>1.0</td>\n",
       "      <td>0.0</td>\n",
       "      <td>0.0</td>\n",
       "      <td>0.0</td>\n",
       "      <td>0.0</td>\n",
       "      <td>1.0</td>\n",
       "      <td>0.0</td>\n",
       "    </tr>\n",
       "    <tr>\n",
       "      <th>1</th>\n",
       "      <td>1.0</td>\n",
       "      <td>0.0</td>\n",
       "      <td>0.0</td>\n",
       "      <td>0.0</td>\n",
       "      <td>0.0</td>\n",
       "      <td>1.0</td>\n",
       "      <td>0.0</td>\n",
       "    </tr>\n",
       "    <tr>\n",
       "      <th>2</th>\n",
       "      <td>0.0</td>\n",
       "      <td>1.0</td>\n",
       "      <td>0.0</td>\n",
       "      <td>0.0</td>\n",
       "      <td>0.0</td>\n",
       "      <td>1.0</td>\n",
       "      <td>0.0</td>\n",
       "    </tr>\n",
       "    <tr>\n",
       "      <th>3</th>\n",
       "      <td>0.0</td>\n",
       "      <td>1.0</td>\n",
       "      <td>0.0</td>\n",
       "      <td>0.0</td>\n",
       "      <td>0.0</td>\n",
       "      <td>0.0</td>\n",
       "      <td>1.0</td>\n",
       "    </tr>\n",
       "    <tr>\n",
       "      <th>4</th>\n",
       "      <td>0.0</td>\n",
       "      <td>1.0</td>\n",
       "      <td>0.0</td>\n",
       "      <td>0.0</td>\n",
       "      <td>0.0</td>\n",
       "      <td>1.0</td>\n",
       "      <td>0.0</td>\n",
       "    </tr>\n",
       "  </tbody>\n",
       "</table>\n",
       "</div>"
      ],
      "text/plain": [
       "   female  male  automobile  bike  motorbike  public_transportation  walking\n",
       "0     1.0   0.0         0.0   0.0        0.0                    1.0      0.0\n",
       "1     1.0   0.0         0.0   0.0        0.0                    1.0      0.0\n",
       "2     0.0   1.0         0.0   0.0        0.0                    1.0      0.0\n",
       "3     0.0   1.0         0.0   0.0        0.0                    0.0      1.0\n",
       "4     0.0   1.0         0.0   0.0        0.0                    1.0      0.0"
      ]
     },
     "execution_count": 32,
     "metadata": {},
     "output_type": "execute_result"
    }
   ],
   "source": [
    "df_x = df_x.drop(labels=[\"Age\",\"Height\"],axis=1)\n",
    "df_x.head()"
   ]
  },
  {
   "cell_type": "code",
   "execution_count": 33,
   "metadata": {},
   "outputs": [],
   "source": [
    "df_x = pd.concat(axis=1,objs=[df_x,df_age_scaled,df_height_scaled])"
   ]
  },
  {
   "cell_type": "code",
   "execution_count": 34,
   "metadata": {},
   "outputs": [
    {
     "data": {
      "text/html": [
       "<div>\n",
       "<style scoped>\n",
       "    .dataframe tbody tr th:only-of-type {\n",
       "        vertical-align: middle;\n",
       "    }\n",
       "\n",
       "    .dataframe tbody tr th {\n",
       "        vertical-align: top;\n",
       "    }\n",
       "\n",
       "    .dataframe thead th {\n",
       "        text-align: right;\n",
       "    }\n",
       "</style>\n",
       "<table border=\"1\" class=\"dataframe\">\n",
       "  <thead>\n",
       "    <tr style=\"text-align: right;\">\n",
       "      <th></th>\n",
       "      <th>female</th>\n",
       "      <th>male</th>\n",
       "      <th>automobile</th>\n",
       "      <th>bike</th>\n",
       "      <th>motorbike</th>\n",
       "      <th>public_transportation</th>\n",
       "      <th>walking</th>\n",
       "      <th>age</th>\n",
       "      <th>height</th>\n",
       "    </tr>\n",
       "  </thead>\n",
       "  <tbody>\n",
       "    <tr>\n",
       "      <th>0</th>\n",
       "      <td>1.0</td>\n",
       "      <td>0.0</td>\n",
       "      <td>0.0</td>\n",
       "      <td>0.0</td>\n",
       "      <td>0.0</td>\n",
       "      <td>1.0</td>\n",
       "      <td>0.0</td>\n",
       "      <td>-0.522124</td>\n",
       "      <td>-0.875589</td>\n",
       "    </tr>\n",
       "    <tr>\n",
       "      <th>1</th>\n",
       "      <td>1.0</td>\n",
       "      <td>0.0</td>\n",
       "      <td>0.0</td>\n",
       "      <td>0.0</td>\n",
       "      <td>0.0</td>\n",
       "      <td>1.0</td>\n",
       "      <td>0.0</td>\n",
       "      <td>-0.522124</td>\n",
       "      <td>-1.947599</td>\n",
       "    </tr>\n",
       "    <tr>\n",
       "      <th>2</th>\n",
       "      <td>0.0</td>\n",
       "      <td>1.0</td>\n",
       "      <td>0.0</td>\n",
       "      <td>0.0</td>\n",
       "      <td>0.0</td>\n",
       "      <td>1.0</td>\n",
       "      <td>0.0</td>\n",
       "      <td>-0.206889</td>\n",
       "      <td>1.054029</td>\n",
       "    </tr>\n",
       "    <tr>\n",
       "      <th>3</th>\n",
       "      <td>0.0</td>\n",
       "      <td>1.0</td>\n",
       "      <td>0.0</td>\n",
       "      <td>0.0</td>\n",
       "      <td>0.0</td>\n",
       "      <td>0.0</td>\n",
       "      <td>1.0</td>\n",
       "      <td>0.423582</td>\n",
       "      <td>1.054029</td>\n",
       "    </tr>\n",
       "    <tr>\n",
       "      <th>4</th>\n",
       "      <td>0.0</td>\n",
       "      <td>1.0</td>\n",
       "      <td>0.0</td>\n",
       "      <td>0.0</td>\n",
       "      <td>0.0</td>\n",
       "      <td>1.0</td>\n",
       "      <td>0.0</td>\n",
       "      <td>-0.364507</td>\n",
       "      <td>0.839627</td>\n",
       "    </tr>\n",
       "  </tbody>\n",
       "</table>\n",
       "</div>"
      ],
      "text/plain": [
       "   female  male  automobile  bike  motorbike  public_transportation  walking  \\\n",
       "0     1.0   0.0         0.0   0.0        0.0                    1.0      0.0   \n",
       "1     1.0   0.0         0.0   0.0        0.0                    1.0      0.0   \n",
       "2     0.0   1.0         0.0   0.0        0.0                    1.0      0.0   \n",
       "3     0.0   1.0         0.0   0.0        0.0                    0.0      1.0   \n",
       "4     0.0   1.0         0.0   0.0        0.0                    1.0      0.0   \n",
       "\n",
       "        age    height  \n",
       "0 -0.522124 -0.875589  \n",
       "1 -0.522124 -1.947599  \n",
       "2 -0.206889  1.054029  \n",
       "3  0.423582  1.054029  \n",
       "4 -0.364507  0.839627  "
      ]
     },
     "execution_count": 34,
     "metadata": {},
     "output_type": "execute_result"
    }
   ],
   "source": [
    "df_x.head()"
   ]
  },
  {
   "cell_type": "code",
   "execution_count": null,
   "metadata": {},
   "outputs": [],
   "source": []
  },
  {
   "cell_type": "code",
   "execution_count": 35,
   "metadata": {},
   "outputs": [],
   "source": [
    "class ffn(torch.nn.Module):\n",
    "    \n",
    "    def __init__(self,input_dims):\n",
    "        super(ffn,self).__init__()    \n",
    "        \n",
    "        self.relu    = torch.nn.ReLU()\n",
    "        self.sigmoid = torch.nn.Sigmoid()\n",
    "        self.tanh    = torch.nn.Tanh()\n",
    "        self.layer1  = torch.nn.Linear(input_dims,70)\n",
    "        self.layer2  = torch.nn.Linear(70,70)\n",
    "        self.layer3  = torch.nn.Linear(70,30)\n",
    "        self.layer4  = torch.nn.Linear(30,7)\n",
    "    def forward(self,input):\n",
    "        \n",
    "        out = self.tanh(self.layer1(input))\n",
    "        out = self.tanh(self.layer2(out))\n",
    "        out = self.tanh(self.layer3(out))\n",
    "        out = self.layer4(out)\n",
    "        return out"
   ]
  },
  {
   "cell_type": "code",
   "execution_count": 36,
   "metadata": {},
   "outputs": [
    {
     "data": {
      "text/plain": [
       "tensor([1, 1, 1,  ..., 4, 4, 4])"
      ]
     },
     "execution_count": 36,
     "metadata": {},
     "output_type": "execute_result"
    }
   ],
   "source": [
    "Y"
   ]
  },
  {
   "cell_type": "code",
   "execution_count": 37,
   "metadata": {},
   "outputs": [],
   "source": [
    "X = torch.tensor(np.asarray(df_x))"
   ]
  },
  {
   "cell_type": "code",
   "execution_count": 38,
   "metadata": {},
   "outputs": [
    {
     "data": {
      "text/plain": [
       "torch.Size([2111, 9])"
      ]
     },
     "execution_count": 38,
     "metadata": {},
     "output_type": "execute_result"
    }
   ],
   "source": [
    "X.shape"
   ]
  },
  {
   "cell_type": "code",
   "execution_count": 39,
   "metadata": {},
   "outputs": [
    {
     "data": {
      "text/html": [
       "<div>\n",
       "<style scoped>\n",
       "    .dataframe tbody tr th:only-of-type {\n",
       "        vertical-align: middle;\n",
       "    }\n",
       "\n",
       "    .dataframe tbody tr th {\n",
       "        vertical-align: top;\n",
       "    }\n",
       "\n",
       "    .dataframe thead th {\n",
       "        text-align: right;\n",
       "    }\n",
       "</style>\n",
       "<table border=\"1\" class=\"dataframe\">\n",
       "  <thead>\n",
       "    <tr style=\"text-align: right;\">\n",
       "      <th></th>\n",
       "      <th>female</th>\n",
       "      <th>male</th>\n",
       "      <th>automobile</th>\n",
       "      <th>bike</th>\n",
       "      <th>motorbike</th>\n",
       "      <th>public_transportation</th>\n",
       "      <th>walking</th>\n",
       "      <th>age</th>\n",
       "      <th>height</th>\n",
       "    </tr>\n",
       "  </thead>\n",
       "  <tbody>\n",
       "    <tr>\n",
       "      <th>0</th>\n",
       "      <td>1.0</td>\n",
       "      <td>0.0</td>\n",
       "      <td>0.0</td>\n",
       "      <td>0.0</td>\n",
       "      <td>0.0</td>\n",
       "      <td>1.0</td>\n",
       "      <td>0.0</td>\n",
       "      <td>-0.522124</td>\n",
       "      <td>-0.875589</td>\n",
       "    </tr>\n",
       "    <tr>\n",
       "      <th>1</th>\n",
       "      <td>1.0</td>\n",
       "      <td>0.0</td>\n",
       "      <td>0.0</td>\n",
       "      <td>0.0</td>\n",
       "      <td>0.0</td>\n",
       "      <td>1.0</td>\n",
       "      <td>0.0</td>\n",
       "      <td>-0.522124</td>\n",
       "      <td>-1.947599</td>\n",
       "    </tr>\n",
       "    <tr>\n",
       "      <th>2</th>\n",
       "      <td>0.0</td>\n",
       "      <td>1.0</td>\n",
       "      <td>0.0</td>\n",
       "      <td>0.0</td>\n",
       "      <td>0.0</td>\n",
       "      <td>1.0</td>\n",
       "      <td>0.0</td>\n",
       "      <td>-0.206889</td>\n",
       "      <td>1.054029</td>\n",
       "    </tr>\n",
       "    <tr>\n",
       "      <th>3</th>\n",
       "      <td>0.0</td>\n",
       "      <td>1.0</td>\n",
       "      <td>0.0</td>\n",
       "      <td>0.0</td>\n",
       "      <td>0.0</td>\n",
       "      <td>0.0</td>\n",
       "      <td>1.0</td>\n",
       "      <td>0.423582</td>\n",
       "      <td>1.054029</td>\n",
       "    </tr>\n",
       "    <tr>\n",
       "      <th>4</th>\n",
       "      <td>0.0</td>\n",
       "      <td>1.0</td>\n",
       "      <td>0.0</td>\n",
       "      <td>0.0</td>\n",
       "      <td>0.0</td>\n",
       "      <td>1.0</td>\n",
       "      <td>0.0</td>\n",
       "      <td>-0.364507</td>\n",
       "      <td>0.839627</td>\n",
       "    </tr>\n",
       "  </tbody>\n",
       "</table>\n",
       "</div>"
      ],
      "text/plain": [
       "   female  male  automobile  bike  motorbike  public_transportation  walking  \\\n",
       "0     1.0   0.0         0.0   0.0        0.0                    1.0      0.0   \n",
       "1     1.0   0.0         0.0   0.0        0.0                    1.0      0.0   \n",
       "2     0.0   1.0         0.0   0.0        0.0                    1.0      0.0   \n",
       "3     0.0   1.0         0.0   0.0        0.0                    0.0      1.0   \n",
       "4     0.0   1.0         0.0   0.0        0.0                    1.0      0.0   \n",
       "\n",
       "        age    height  \n",
       "0 -0.522124 -0.875589  \n",
       "1 -0.522124 -1.947599  \n",
       "2 -0.206889  1.054029  \n",
       "3  0.423582  1.054029  \n",
       "4 -0.364507  0.839627  "
      ]
     },
     "execution_count": 39,
     "metadata": {},
     "output_type": "execute_result"
    }
   ],
   "source": [
    "df_x.head()"
   ]
  },
  {
   "cell_type": "code",
   "execution_count": 40,
   "metadata": {},
   "outputs": [],
   "source": [
    "X_train, X_test, y_train, y_test = train_test_split(X, Y, test_size=0.33, random_state=42)"
   ]
  },
  {
   "cell_type": "code",
   "execution_count": 41,
   "metadata": {},
   "outputs": [],
   "source": [
    "class data(torch.utils.data.Dataset):\n",
    "\n",
    "    def __init__(self, X,y):\n",
    "        self.x = X\n",
    "        self.y = y\n",
    "    def __len__(self):\n",
    "        return len(self.x)\n",
    "    \n",
    "    def __getitem__(self, index):\n",
    "        record = self.x[index]\n",
    "        label = self.y[index]\n",
    "        return record,label"
   ]
  },
  {
   "cell_type": "code",
   "execution_count": 42,
   "metadata": {},
   "outputs": [
    {
     "data": {
      "text/plain": [
       "9"
      ]
     },
     "execution_count": 42,
     "metadata": {},
     "output_type": "execute_result"
    }
   ],
   "source": [
    "len(X_train[0])"
   ]
  },
  {
   "cell_type": "code",
   "execution_count": 43,
   "metadata": {},
   "outputs": [],
   "source": [
    "model = ffn(9)"
   ]
  },
  {
   "cell_type": "code",
   "execution_count": null,
   "metadata": {},
   "outputs": [],
   "source": []
  },
  {
   "cell_type": "code",
   "execution_count": 44,
   "metadata": {},
   "outputs": [],
   "source": [
    "train_dataset = data(X_train,y_train)\n",
    "test_dataset = data(X_test,y_test)\n",
    "\n",
    "train_loader = torch.utils.data.DataLoader(train_dataset,batch_size=32,shuffle=True)\n",
    "test_loader = torch.utils.data.DataLoader(test_dataset,batch_size=32,shuffle=True)"
   ]
  },
  {
   "cell_type": "code",
   "execution_count": null,
   "metadata": {},
   "outputs": [
    {
     "name": "stderr",
     "output_type": "stream",
     "text": [
      "100%|██████████| 45/45 [00:00<00:00, 843.55it/s]\n"
     ]
    },
    {
     "name": "stdout",
     "output_type": "stream",
     "text": [
      "Epoch: 1   Loss: 1.7921299934387207\n",
      "              precision    recall  f1-score   support\n",
      "\n",
      "           0       0.26      0.07      0.11       182\n",
      "           1       0.18      0.02      0.04       184\n",
      "           2       0.18      0.55      0.27       237\n",
      "           3       0.39      0.50      0.44       203\n",
      "           4       0.37      0.57      0.45       209\n",
      "           5       0.00      0.00      0.00       196\n",
      "           6       0.22      0.05      0.09       203\n",
      "\n",
      "    accuracy                           0.27      1414\n",
      "   macro avg       0.23      0.25      0.20      1414\n",
      "weighted avg       0.23      0.27      0.21      1414\n",
      "\n"
     ]
    },
    {
     "name": "stderr",
     "output_type": "stream",
     "text": [
      "100%|██████████| 45/45 [00:00<00:00, 761.79it/s]\n"
     ]
    },
    {
     "name": "stdout",
     "output_type": "stream",
     "text": [
      "Epoch: 2   Loss: 1.547091007232666\n",
      "              precision    recall  f1-score   support\n",
      "\n",
      "           0       0.30      0.30      0.30       364\n",
      "           1       0.26      0.06      0.10       368\n",
      "           2       0.19      0.31      0.24       474\n",
      "           3       0.38      0.70      0.50       406\n",
      "           4       0.44      0.78      0.56       418\n",
      "           5       0.00      0.00      0.00       392\n",
      "           6       0.28      0.08      0.12       406\n",
      "\n",
      "    accuracy                           0.33      2828\n",
      "   macro avg       0.26      0.32      0.26      2828\n",
      "weighted avg       0.26      0.33      0.26      2828\n",
      "\n"
     ]
    },
    {
     "name": "stderr",
     "output_type": "stream",
     "text": [
      "100%|██████████| 45/45 [00:00<00:00, 860.36it/s]\n"
     ]
    },
    {
     "name": "stdout",
     "output_type": "stream",
     "text": [
      "Epoch: 3   Loss: 1.7162879705429077\n",
      "              precision    recall  f1-score   support\n",
      "\n",
      "           0       0.32      0.39      0.35       546\n",
      "           1       0.25      0.12      0.16       552\n",
      "           2       0.22      0.28      0.25       711\n",
      "           3       0.40      0.77      0.52       609\n",
      "           4       0.48      0.85      0.61       627\n",
      "           5       0.00      0.00      0.00       588\n",
      "           6       0.30      0.06      0.11       609\n",
      "\n",
      "    accuracy                           0.36      4242\n",
      "   macro avg       0.28      0.35      0.29      4242\n",
      "weighted avg       0.28      0.36      0.29      4242\n",
      "\n"
     ]
    },
    {
     "name": "stderr",
     "output_type": "stream",
     "text": [
      "100%|██████████| 45/45 [00:00<00:00, 883.56it/s]\n"
     ]
    },
    {
     "name": "stdout",
     "output_type": "stream",
     "text": [
      "Epoch: 4   Loss: 1.228978157043457\n",
      "              precision    recall  f1-score   support\n",
      "\n",
      "           0       0.33      0.44      0.38       728\n",
      "           1       0.26      0.14      0.18       736\n",
      "           2       0.24      0.27      0.25       948\n",
      "           3       0.41      0.80      0.55       812\n",
      "           4       0.51      0.88      0.64       836\n",
      "           5       0.57      0.02      0.03       784\n",
      "           6       0.34      0.08      0.12       812\n",
      "\n",
      "    accuracy                           0.38      5656\n",
      "   macro avg       0.38      0.37      0.31      5656\n",
      "weighted avg       0.38      0.38      0.31      5656\n",
      "\n"
     ]
    },
    {
     "name": "stderr",
     "output_type": "stream",
     "text": [
      "100%|██████████| 45/45 [00:00<00:00, 798.75it/s]\n"
     ]
    },
    {
     "name": "stdout",
     "output_type": "stream",
     "text": [
      "Epoch: 5   Loss: 1.3233040571212769\n",
      "              precision    recall  f1-score   support\n",
      "\n",
      "           0       0.34      0.46      0.39       910\n",
      "           1       0.25      0.17      0.20       920\n",
      "           2       0.26      0.28      0.26      1185\n",
      "           3       0.43      0.82      0.56      1015\n",
      "           4       0.53      0.89      0.66      1045\n",
      "           5       0.64      0.02      0.03       980\n",
      "           6       0.35      0.07      0.12      1015\n",
      "\n",
      "    accuracy                           0.39      7070\n",
      "   macro avg       0.40      0.39      0.32      7070\n",
      "weighted avg       0.40      0.39      0.32      7070\n",
      "\n"
     ]
    },
    {
     "name": "stderr",
     "output_type": "stream",
     "text": [
      "100%|██████████| 45/45 [00:00<00:00, 875.08it/s]\n"
     ]
    },
    {
     "name": "stdout",
     "output_type": "stream",
     "text": [
      "Epoch: 6   Loss: 1.7430888414382935\n",
      "              precision    recall  f1-score   support\n",
      "\n",
      "           0       0.34      0.49      0.40      1092\n",
      "           1       0.25      0.16      0.20      1104\n",
      "           2       0.27      0.27      0.27      1422\n",
      "           3       0.44      0.83      0.57      1218\n",
      "           4       0.54      0.90      0.67      1254\n",
      "           5       0.44      0.05      0.09      1176\n",
      "           6       0.36      0.07      0.12      1218\n",
      "\n",
      "    accuracy                           0.40      8484\n",
      "   macro avg       0.38      0.40      0.33      8484\n",
      "weighted avg       0.38      0.40      0.33      8484\n",
      "\n"
     ]
    },
    {
     "name": "stderr",
     "output_type": "stream",
     "text": [
      "100%|██████████| 45/45 [00:00<00:00, 861.31it/s]\n"
     ]
    },
    {
     "name": "stdout",
     "output_type": "stream",
     "text": [
      "Epoch: 7   Loss: 1.1820218563079834\n",
      "              precision    recall  f1-score   support\n",
      "\n",
      "           0       0.34      0.51      0.41      1274\n",
      "           1       0.25      0.17      0.20      1288\n",
      "           2       0.28      0.28      0.28      1659\n",
      "           3       0.45      0.84      0.58      1421\n",
      "           4       0.55      0.91      0.69      1463\n",
      "           5       0.42      0.04      0.08      1372\n",
      "           6       0.36      0.06      0.11      1421\n",
      "\n",
      "    accuracy                           0.40      9898\n",
      "   macro avg       0.38      0.40      0.34      9898\n",
      "weighted avg       0.38      0.40      0.34      9898\n",
      "\n"
     ]
    },
    {
     "name": "stderr",
     "output_type": "stream",
     "text": [
      "100%|██████████| 45/45 [00:00<00:00, 859.05it/s]\n"
     ]
    },
    {
     "name": "stdout",
     "output_type": "stream",
     "text": [
      "Epoch: 8   Loss: 2.1233856678009033\n",
      "              precision    recall  f1-score   support\n",
      "\n",
      "           0       0.34      0.52      0.41      1456\n",
      "           1       0.25      0.17      0.20      1472\n",
      "           2       0.29      0.30      0.29      1896\n",
      "           3       0.45      0.85      0.59      1624\n",
      "           4       0.56      0.91      0.70      1672\n",
      "           5       0.40      0.04      0.07      1568\n",
      "           6       0.37      0.06      0.11      1624\n",
      "\n",
      "    accuracy                           0.41     11312\n",
      "   macro avg       0.38      0.41      0.34     11312\n",
      "weighted avg       0.38      0.41      0.34     11312\n",
      "\n"
     ]
    },
    {
     "name": "stderr",
     "output_type": "stream",
     "text": [
      "100%|██████████| 45/45 [00:00<00:00, 853.26it/s]\n"
     ]
    },
    {
     "name": "stdout",
     "output_type": "stream",
     "text": [
      "Epoch: 9   Loss: 1.4296711683273315\n",
      "              precision    recall  f1-score   support\n",
      "\n",
      "           0       0.34      0.54      0.42      1638\n",
      "           1       0.25      0.18      0.21      1656\n",
      "           2       0.30      0.29      0.29      2133\n",
      "           3       0.46      0.85      0.60      1827\n",
      "           4       0.57      0.91      0.70      1881\n",
      "           5       0.38      0.04      0.08      1764\n",
      "           6       0.34      0.08      0.12      1827\n",
      "\n",
      "    accuracy                           0.41     12726\n",
      "   macro avg       0.38      0.41      0.35     12726\n",
      "weighted avg       0.38      0.41      0.35     12726\n",
      "\n"
     ]
    },
    {
     "name": "stderr",
     "output_type": "stream",
     "text": [
      "100%|██████████| 45/45 [00:00<00:00, 862.93it/s]\n"
     ]
    },
    {
     "name": "stdout",
     "output_type": "stream",
     "text": [
      "Epoch: 10   Loss: 1.7333002090454102\n",
      "              precision    recall  f1-score   support\n",
      "\n",
      "           0       0.34      0.55      0.42      1820\n",
      "           1       0.26      0.17      0.20      1840\n",
      "           2       0.30      0.29      0.30      2370\n",
      "           3       0.47      0.86      0.61      2030\n",
      "           4       0.58      0.92      0.71      2090\n",
      "           5       0.38      0.05      0.09      1960\n",
      "           6       0.35      0.08      0.13      2030\n",
      "\n",
      "    accuracy                           0.42     14140\n",
      "   macro avg       0.38      0.42      0.35     14140\n",
      "weighted avg       0.38      0.42      0.35     14140\n",
      "\n"
     ]
    },
    {
     "name": "stderr",
     "output_type": "stream",
     "text": [
      "100%|██████████| 45/45 [00:00<00:00, 942.30it/s]\n"
     ]
    },
    {
     "name": "stdout",
     "output_type": "stream",
     "text": [
      "Epoch: 11   Loss: 1.4771780967712402\n",
      "              precision    recall  f1-score   support\n",
      "\n",
      "           0       0.34      0.54      0.42      2002\n",
      "           1       0.27      0.19      0.22      2024\n",
      "           2       0.31      0.29      0.30      2607\n",
      "           3       0.47      0.86      0.61      2233\n",
      "           4       0.59      0.92      0.72      2299\n",
      "           5       0.39      0.06      0.10      2156\n",
      "           6       0.36      0.09      0.14      2233\n",
      "\n",
      "    accuracy                           0.42     15554\n",
      "   macro avg       0.39      0.42      0.36     15554\n",
      "weighted avg       0.39      0.42      0.36     15554\n",
      "\n"
     ]
    },
    {
     "name": "stderr",
     "output_type": "stream",
     "text": [
      "100%|██████████| 45/45 [00:00<00:00, 937.92it/s]\n"
     ]
    },
    {
     "name": "stdout",
     "output_type": "stream",
     "text": [
      "Epoch: 12   Loss: 1.7447861433029175\n",
      "              precision    recall  f1-score   support\n",
      "\n",
      "           0       0.34      0.54      0.42      2184\n",
      "           1       0.28      0.20      0.23      2208\n",
      "           2       0.32      0.30      0.31      2844\n",
      "           3       0.48      0.87      0.62      2436\n",
      "           4       0.59      0.92      0.72      2508\n",
      "           5       0.40      0.06      0.11      2352\n",
      "           6       0.37      0.09      0.15      2436\n",
      "\n",
      "    accuracy                           0.43     16968\n",
      "   macro avg       0.40      0.43      0.36     16968\n",
      "weighted avg       0.40      0.43      0.37     16968\n",
      "\n"
     ]
    },
    {
     "name": "stderr",
     "output_type": "stream",
     "text": [
      "100%|██████████| 45/45 [00:00<00:00, 831.65it/s]\n"
     ]
    },
    {
     "name": "stdout",
     "output_type": "stream",
     "text": [
      "Epoch: 13   Loss: 1.4690700769424438\n",
      "              precision    recall  f1-score   support\n",
      "\n",
      "           0       0.34      0.54      0.42      2366\n",
      "           1       0.28      0.20      0.23      2392\n",
      "           2       0.33      0.31      0.32      3081\n",
      "           3       0.48      0.87      0.62      2639\n",
      "           4       0.60      0.92      0.73      2717\n",
      "           5       0.40      0.07      0.12      2548\n",
      "           6       0.38      0.10      0.16      2639\n",
      "\n",
      "    accuracy                           0.43     18382\n",
      "   macro avg       0.40      0.43      0.37     18382\n",
      "weighted avg       0.40      0.43      0.37     18382\n",
      "\n"
     ]
    },
    {
     "name": "stderr",
     "output_type": "stream",
     "text": [
      "100%|██████████| 45/45 [00:00<00:00, 856.71it/s]\n"
     ]
    },
    {
     "name": "stdout",
     "output_type": "stream",
     "text": [
      "Epoch: 14   Loss: 1.6539500951766968\n",
      "              precision    recall  f1-score   support\n",
      "\n",
      "           0       0.34      0.54      0.42      2548\n",
      "           1       0.28      0.21      0.24      2576\n",
      "           2       0.33      0.31      0.32      3318\n",
      "           3       0.48      0.87      0.62      2842\n",
      "           4       0.61      0.92      0.73      2926\n",
      "           5       0.41      0.08      0.13      2744\n",
      "           6       0.38      0.10      0.16      2842\n",
      "\n",
      "    accuracy                           0.43     19796\n",
      "   macro avg       0.41      0.43      0.37     19796\n",
      "weighted avg       0.41      0.43      0.38     19796\n",
      "\n"
     ]
    },
    {
     "name": "stderr",
     "output_type": "stream",
     "text": [
      "100%|██████████| 45/45 [00:00<00:00, 902.27it/s]\n"
     ]
    },
    {
     "name": "stdout",
     "output_type": "stream",
     "text": [
      "Epoch: 15   Loss: 1.6407874822616577\n",
      "              precision    recall  f1-score   support\n",
      "\n",
      "           0       0.34      0.54      0.42      2730\n",
      "           1       0.29      0.20      0.24      2760\n",
      "           2       0.34      0.31      0.32      3555\n",
      "           3       0.49      0.87      0.63      3045\n",
      "           4       0.61      0.92      0.74      3135\n",
      "           5       0.41      0.08      0.14      2940\n",
      "           6       0.39      0.11      0.17      3045\n",
      "\n",
      "    accuracy                           0.44     21210\n",
      "   macro avg       0.41      0.43      0.38     21210\n",
      "weighted avg       0.41      0.44      0.38     21210\n",
      "\n"
     ]
    },
    {
     "name": "stderr",
     "output_type": "stream",
     "text": [
      "100%|██████████| 45/45 [00:00<00:00, 805.98it/s]\n"
     ]
    },
    {
     "name": "stdout",
     "output_type": "stream",
     "text": [
      "Epoch: 16   Loss: 2.009864091873169\n",
      "              precision    recall  f1-score   support\n",
      "\n",
      "           0       0.34      0.54      0.42      2912\n",
      "           1       0.29      0.21      0.25      2944\n",
      "           2       0.34      0.32      0.33      3792\n",
      "           3       0.49      0.87      0.63      3248\n",
      "           4       0.62      0.92      0.74      3344\n",
      "           5       0.41      0.09      0.14      3136\n",
      "           6       0.39      0.11      0.17      3248\n",
      "\n",
      "    accuracy                           0.44     22624\n",
      "   macro avg       0.41      0.44      0.38     22624\n",
      "weighted avg       0.41      0.44      0.39     22624\n",
      "\n"
     ]
    },
    {
     "name": "stderr",
     "output_type": "stream",
     "text": [
      "100%|██████████| 45/45 [00:00<00:00, 784.48it/s]\n"
     ]
    },
    {
     "name": "stdout",
     "output_type": "stream",
     "text": [
      "Epoch: 17   Loss: 1.6086393594741821\n",
      "              precision    recall  f1-score   support\n",
      "\n",
      "           0       0.34      0.53      0.42      3094\n",
      "           1       0.29      0.22      0.25      3128\n",
      "           2       0.35      0.33      0.34      4029\n",
      "           3       0.49      0.88      0.63      3451\n",
      "           4       0.62      0.93      0.74      3553\n",
      "           5       0.41      0.09      0.15      3332\n",
      "           6       0.40      0.12      0.18      3451\n",
      "\n",
      "    accuracy                           0.44     24038\n",
      "   macro avg       0.42      0.44      0.39     24038\n",
      "weighted avg       0.42      0.44      0.39     24038\n",
      "\n"
     ]
    },
    {
     "name": "stderr",
     "output_type": "stream",
     "text": [
      "100%|██████████| 45/45 [00:00<00:00, 765.42it/s]\n"
     ]
    },
    {
     "name": "stdout",
     "output_type": "stream",
     "text": [
      "Epoch: 18   Loss: 0.7082288861274719\n",
      "              precision    recall  f1-score   support\n",
      "\n",
      "           0       0.34      0.53      0.42      3276\n",
      "           1       0.29      0.22      0.25      3312\n",
      "           2       0.36      0.34      0.35      4266\n",
      "           3       0.50      0.88      0.64      3654\n",
      "           4       0.62      0.93      0.75      3762\n",
      "           5       0.41      0.09      0.15      3528\n",
      "           6       0.41      0.12      0.18      3654\n",
      "\n",
      "    accuracy                           0.45     25452\n",
      "   macro avg       0.42      0.44      0.39     25452\n",
      "weighted avg       0.42      0.45      0.39     25452\n",
      "\n"
     ]
    },
    {
     "name": "stderr",
     "output_type": "stream",
     "text": [
      "100%|██████████| 45/45 [00:00<00:00, 804.58it/s]\n"
     ]
    },
    {
     "name": "stdout",
     "output_type": "stream",
     "text": [
      "Epoch: 19   Loss: 0.9173657298088074\n",
      "              precision    recall  f1-score   support\n",
      "\n",
      "           0       0.35      0.53      0.42      3458\n",
      "           1       0.30      0.22      0.25      3496\n",
      "           2       0.36      0.34      0.35      4503\n",
      "           3       0.50      0.88      0.64      3857\n",
      "           4       0.63      0.93      0.75      3971\n",
      "           5       0.40      0.10      0.16      3724\n",
      "           6       0.41      0.12      0.19      3857\n",
      "\n",
      "    accuracy                           0.45     26866\n",
      "   macro avg       0.42      0.45      0.39     26866\n",
      "weighted avg       0.42      0.45      0.40     26866\n",
      "\n"
     ]
    },
    {
     "name": "stderr",
     "output_type": "stream",
     "text": [
      "100%|██████████| 45/45 [00:00<00:00, 780.12it/s]\n"
     ]
    },
    {
     "name": "stdout",
     "output_type": "stream",
     "text": [
      "Epoch: 20   Loss: 1.372613787651062\n",
      "              precision    recall  f1-score   support\n",
      "\n",
      "           0       0.35      0.52      0.42      3640\n",
      "           1       0.30      0.23      0.26      3680\n",
      "           2       0.37      0.35      0.36      4740\n",
      "           3       0.50      0.88      0.64      4060\n",
      "           4       0.63      0.93      0.75      4180\n",
      "           5       0.41      0.10      0.16      3920\n",
      "           6       0.42      0.13      0.20      4060\n",
      "\n",
      "    accuracy                           0.45     28280\n",
      "   macro avg       0.42      0.45      0.40     28280\n",
      "weighted avg       0.43      0.45      0.40     28280\n",
      "\n"
     ]
    },
    {
     "name": "stderr",
     "output_type": "stream",
     "text": [
      "100%|██████████| 45/45 [00:00<00:00, 840.19it/s]\n"
     ]
    },
    {
     "name": "stdout",
     "output_type": "stream",
     "text": [
      "Epoch: 21   Loss: 1.0997945070266724\n",
      "              precision    recall  f1-score   support\n",
      "\n",
      "           0       0.35      0.53      0.42      3822\n",
      "           1       0.30      0.23      0.26      3864\n",
      "           2       0.37      0.35      0.36      4977\n",
      "           3       0.51      0.88      0.64      4263\n",
      "           4       0.64      0.93      0.75      4389\n",
      "           5       0.41      0.10      0.16      4116\n",
      "           6       0.42      0.13      0.20      4263\n",
      "\n",
      "    accuracy                           0.45     29694\n",
      "   macro avg       0.43      0.45      0.40     29694\n",
      "weighted avg       0.43      0.45      0.40     29694\n",
      "\n"
     ]
    },
    {
     "name": "stderr",
     "output_type": "stream",
     "text": [
      "100%|██████████| 45/45 [00:00<00:00, 838.26it/s]\n"
     ]
    },
    {
     "name": "stdout",
     "output_type": "stream",
     "text": [
      "Epoch: 22   Loss: 1.4946584701538086\n",
      "              precision    recall  f1-score   support\n",
      "\n",
      "           0       0.35      0.53      0.42      4004\n",
      "           1       0.30      0.23      0.26      4048\n",
      "           2       0.37      0.36      0.37      5214\n",
      "           3       0.51      0.88      0.64      4466\n",
      "           4       0.64      0.93      0.76      4598\n",
      "           5       0.41      0.11      0.17      4312\n",
      "           6       0.43      0.14      0.21      4466\n",
      "\n",
      "    accuracy                           0.46     31108\n",
      "   macro avg       0.43      0.45      0.40     31108\n",
      "weighted avg       0.43      0.46      0.41     31108\n",
      "\n"
     ]
    },
    {
     "name": "stderr",
     "output_type": "stream",
     "text": [
      "100%|██████████| 45/45 [00:00<00:00, 836.70it/s]\n"
     ]
    },
    {
     "name": "stdout",
     "output_type": "stream",
     "text": [
      "Epoch: 23   Loss: 1.3694897890090942\n",
      "              precision    recall  f1-score   support\n",
      "\n",
      "           0       0.35      0.52      0.42      4186\n",
      "           1       0.31      0.23      0.26      4232\n",
      "           2       0.37      0.37      0.37      5451\n",
      "           3       0.51      0.88      0.65      4669\n",
      "           4       0.64      0.93      0.76      4807\n",
      "           5       0.41      0.11      0.18      4508\n",
      "           6       0.44      0.14      0.21      4669\n",
      "\n",
      "    accuracy                           0.46     32522\n",
      "   macro avg       0.43      0.46      0.41     32522\n",
      "weighted avg       0.44      0.46      0.41     32522\n",
      "\n"
     ]
    },
    {
     "name": "stderr",
     "output_type": "stream",
     "text": [
      "100%|██████████| 45/45 [00:00<00:00, 825.01it/s]\n"
     ]
    },
    {
     "name": "stdout",
     "output_type": "stream",
     "text": [
      "Epoch: 24   Loss: 0.7367244362831116\n",
      "              precision    recall  f1-score   support\n",
      "\n",
      "           0       0.36      0.53      0.43      4368\n",
      "           1       0.31      0.23      0.27      4416\n",
      "           2       0.38      0.37      0.38      5688\n",
      "           3       0.51      0.88      0.65      4872\n",
      "           4       0.64      0.93      0.76      5016\n",
      "           5       0.41      0.11      0.18      4704\n",
      "           6       0.44      0.14      0.22      4872\n",
      "\n",
      "    accuracy                           0.46     33936\n",
      "   macro avg       0.44      0.46      0.41     33936\n",
      "weighted avg       0.44      0.46      0.41     33936\n",
      "\n"
     ]
    },
    {
     "name": "stderr",
     "output_type": "stream",
     "text": [
      "100%|██████████| 45/45 [00:00<00:00, 812.63it/s]\n"
     ]
    },
    {
     "name": "stdout",
     "output_type": "stream",
     "text": [
      "Epoch: 25   Loss: 0.9210405349731445\n",
      "              precision    recall  f1-score   support\n",
      "\n",
      "           0       0.36      0.53      0.43      4550\n",
      "           1       0.31      0.24      0.27      4600\n",
      "           2       0.38      0.38      0.38      5925\n",
      "           3       0.52      0.88      0.65      5075\n",
      "           4       0.65      0.93      0.76      5225\n",
      "           5       0.41      0.12      0.18      4900\n",
      "           6       0.45      0.15      0.22      5075\n",
      "\n",
      "    accuracy                           0.46     35350\n",
      "   macro avg       0.44      0.46      0.41     35350\n",
      "weighted avg       0.44      0.46      0.42     35350\n",
      "\n"
     ]
    },
    {
     "name": "stderr",
     "output_type": "stream",
     "text": [
      "100%|██████████| 45/45 [00:00<00:00, 788.13it/s]\n"
     ]
    },
    {
     "name": "stdout",
     "output_type": "stream",
     "text": [
      "Epoch: 26   Loss: 1.2130681276321411\n",
      "              precision    recall  f1-score   support\n",
      "\n",
      "           0       0.36      0.53      0.43      4732\n",
      "           1       0.31      0.24      0.27      4784\n",
      "           2       0.38      0.38      0.38      6162\n",
      "           3       0.52      0.88      0.65      5278\n",
      "           4       0.65      0.93      0.76      5434\n",
      "           5       0.42      0.12      0.19      5096\n",
      "           6       0.45      0.15      0.23      5278\n",
      "\n",
      "    accuracy                           0.47     36764\n",
      "   macro avg       0.44      0.46      0.42     36764\n",
      "weighted avg       0.44      0.47      0.42     36764\n",
      "\n"
     ]
    },
    {
     "name": "stderr",
     "output_type": "stream",
     "text": [
      "100%|██████████| 45/45 [00:00<00:00, 750.86it/s]\n"
     ]
    },
    {
     "name": "stdout",
     "output_type": "stream",
     "text": [
      "Epoch: 27   Loss: 1.3373578786849976\n",
      "              precision    recall  f1-score   support\n",
      "\n",
      "           0       0.37      0.53      0.43      4914\n",
      "           1       0.32      0.24      0.27      4968\n",
      "           2       0.38      0.39      0.39      6399\n",
      "           3       0.52      0.88      0.65      5481\n",
      "           4       0.65      0.93      0.77      5643\n",
      "           5       0.41      0.12      0.19      5292\n",
      "           6       0.46      0.16      0.23      5481\n",
      "\n",
      "    accuracy                           0.47     38178\n",
      "   macro avg       0.44      0.46      0.42     38178\n",
      "weighted avg       0.45      0.47      0.42     38178\n",
      "\n"
     ]
    },
    {
     "name": "stderr",
     "output_type": "stream",
     "text": [
      "100%|██████████| 45/45 [00:00<00:00, 798.93it/s]\n"
     ]
    },
    {
     "name": "stdout",
     "output_type": "stream",
     "text": [
      "Epoch: 28   Loss: 1.5774598121643066\n",
      "              precision    recall  f1-score   support\n",
      "\n",
      "           0       0.37      0.53      0.44      5096\n",
      "           1       0.32      0.24      0.27      5152\n",
      "           2       0.39      0.39      0.39      6636\n",
      "           3       0.52      0.88      0.66      5684\n",
      "           4       0.65      0.93      0.77      5852\n",
      "           5       0.42      0.13      0.20      5488\n",
      "           6       0.46      0.16      0.24      5684\n",
      "\n",
      "    accuracy                           0.47     39592\n",
      "   macro avg       0.45      0.47      0.42     39592\n",
      "weighted avg       0.45      0.47      0.43     39592\n",
      "\n"
     ]
    },
    {
     "name": "stderr",
     "output_type": "stream",
     "text": [
      "100%|██████████| 45/45 [00:00<00:00, 833.06it/s]\n"
     ]
    },
    {
     "name": "stdout",
     "output_type": "stream",
     "text": [
      "Epoch: 29   Loss: 1.456465721130371\n",
      "              precision    recall  f1-score   support\n",
      "\n",
      "           0       0.37      0.54      0.44      5278\n",
      "           1       0.32      0.24      0.27      5336\n",
      "           2       0.39      0.40      0.39      6873\n",
      "           3       0.52      0.88      0.66      5887\n",
      "           4       0.65      0.93      0.77      6061\n",
      "           5       0.42      0.13      0.20      5684\n",
      "           6       0.46      0.17      0.24      5887\n",
      "\n",
      "    accuracy                           0.47     41006\n",
      "   macro avg       0.45      0.47      0.43     41006\n",
      "weighted avg       0.45      0.47      0.43     41006\n",
      "\n"
     ]
    },
    {
     "name": "stderr",
     "output_type": "stream",
     "text": [
      "100%|██████████| 45/45 [00:00<00:00, 904.89it/s]\n"
     ]
    },
    {
     "name": "stdout",
     "output_type": "stream",
     "text": [
      "Epoch: 30   Loss: 0.7693997025489807\n",
      "              precision    recall  f1-score   support\n",
      "\n",
      "           0       0.38      0.54      0.44      5460\n",
      "           1       0.32      0.24      0.28      5520\n",
      "           2       0.39      0.40      0.40      7110\n",
      "           3       0.53      0.88      0.66      6090\n",
      "           4       0.66      0.94      0.77      6270\n",
      "           5       0.42      0.13      0.20      5880\n",
      "           6       0.47      0.17      0.25      6090\n",
      "\n",
      "    accuracy                           0.48     42420\n",
      "   macro avg       0.45      0.47      0.43     42420\n",
      "weighted avg       0.45      0.48      0.43     42420\n",
      "\n"
     ]
    },
    {
     "name": "stderr",
     "output_type": "stream",
     "text": [
      "100%|██████████| 45/45 [00:00<00:00, 821.93it/s]\n"
     ]
    },
    {
     "name": "stdout",
     "output_type": "stream",
     "text": [
      "Epoch: 31   Loss: 1.0414044857025146\n",
      "              precision    recall  f1-score   support\n",
      "\n",
      "           0       0.38      0.54      0.45      5642\n",
      "           1       0.33      0.24      0.28      5704\n",
      "           2       0.39      0.41      0.40      7347\n",
      "           3       0.53      0.88      0.66      6293\n",
      "           4       0.66      0.94      0.77      6479\n",
      "           5       0.42      0.14      0.21      6076\n",
      "           6       0.47      0.18      0.26      6293\n",
      "\n",
      "    accuracy                           0.48     43834\n",
      "   macro avg       0.45      0.47      0.43     43834\n",
      "weighted avg       0.46      0.48      0.44     43834\n",
      "\n"
     ]
    },
    {
     "name": "stderr",
     "output_type": "stream",
     "text": [
      "100%|██████████| 45/45 [00:00<00:00, 913.96it/s]\n"
     ]
    },
    {
     "name": "stdout",
     "output_type": "stream",
     "text": [
      "Epoch: 32   Loss: 0.6369779706001282\n",
      "              precision    recall  f1-score   support\n",
      "\n",
      "           0       0.38      0.54      0.45      5824\n",
      "           1       0.33      0.24      0.28      5888\n",
      "           2       0.40      0.41      0.40      7584\n",
      "           3       0.53      0.88      0.66      6496\n",
      "           4       0.66      0.94      0.77      6688\n",
      "           5       0.42      0.14      0.21      6272\n",
      "           6       0.47      0.18      0.26      6496\n",
      "\n",
      "    accuracy                           0.48     45248\n",
      "   macro avg       0.46      0.48      0.43     45248\n",
      "weighted avg       0.46      0.48      0.44     45248\n",
      "\n"
     ]
    },
    {
     "name": "stderr",
     "output_type": "stream",
     "text": [
      "100%|██████████| 45/45 [00:00<00:00, 916.81it/s]\n"
     ]
    },
    {
     "name": "stdout",
     "output_type": "stream",
     "text": [
      "Epoch: 33   Loss: 1.3639694452285767\n",
      "              precision    recall  f1-score   support\n",
      "\n",
      "           0       0.39      0.54      0.45      6006\n",
      "           1       0.33      0.24      0.28      6072\n",
      "           2       0.40      0.42      0.41      7821\n",
      "           3       0.53      0.88      0.67      6699\n",
      "           4       0.66      0.94      0.78      6897\n",
      "           5       0.42      0.14      0.21      6468\n",
      "           6       0.47      0.18      0.26      6699\n",
      "\n",
      "    accuracy                           0.48     46662\n",
      "   macro avg       0.46      0.48      0.44     46662\n",
      "weighted avg       0.46      0.48      0.44     46662\n",
      "\n"
     ]
    },
    {
     "name": "stderr",
     "output_type": "stream",
     "text": [
      "100%|██████████| 45/45 [00:00<00:00, 825.35it/s]\n"
     ]
    },
    {
     "name": "stdout",
     "output_type": "stream",
     "text": [
      "Epoch: 34   Loss: 1.1776708364486694\n",
      "              precision    recall  f1-score   support\n",
      "\n",
      "           0       0.39      0.55      0.45      6188\n",
      "           1       0.34      0.24      0.28      6256\n",
      "           2       0.40      0.42      0.41      8058\n",
      "           3       0.54      0.88      0.67      6902\n",
      "           4       0.66      0.94      0.78      7106\n",
      "           5       0.42      0.14      0.22      6664\n",
      "           6       0.47      0.19      0.27      6902\n",
      "\n",
      "    accuracy                           0.48     48076\n",
      "   macro avg       0.46      0.48      0.44     48076\n",
      "weighted avg       0.46      0.48      0.44     48076\n",
      "\n"
     ]
    },
    {
     "name": "stderr",
     "output_type": "stream",
     "text": [
      "100%|██████████| 45/45 [00:00<00:00, 756.36it/s]\n"
     ]
    },
    {
     "name": "stdout",
     "output_type": "stream",
     "text": [
      "Epoch: 35   Loss: 0.9886901378631592\n",
      "              precision    recall  f1-score   support\n",
      "\n",
      "           0       0.39      0.55      0.46      6370\n",
      "           1       0.34      0.24      0.28      6440\n",
      "           2       0.40      0.43      0.41      8295\n",
      "           3       0.54      0.89      0.67      7105\n",
      "           4       0.67      0.94      0.78      7315\n",
      "           5       0.43      0.15      0.22      6860\n",
      "           6       0.48      0.19      0.28      7105\n",
      "\n",
      "    accuracy                           0.49     49490\n",
      "   macro avg       0.46      0.48      0.44     49490\n",
      "weighted avg       0.46      0.49      0.45     49490\n",
      "\n"
     ]
    },
    {
     "name": "stderr",
     "output_type": "stream",
     "text": [
      "100%|██████████| 45/45 [00:00<00:00, 738.58it/s]\n"
     ]
    },
    {
     "name": "stdout",
     "output_type": "stream",
     "text": [
      "Epoch: 36   Loss: 1.1076596975326538\n",
      "              precision    recall  f1-score   support\n",
      "\n",
      "           0       0.39      0.55      0.46      6552\n",
      "           1       0.34      0.24      0.28      6624\n",
      "           2       0.40      0.43      0.42      8532\n",
      "           3       0.54      0.89      0.67      7308\n",
      "           4       0.67      0.94      0.78      7524\n",
      "           5       0.43      0.15      0.22      7056\n",
      "           6       0.48      0.20      0.28      7308\n",
      "\n",
      "    accuracy                           0.49     50904\n",
      "   macro avg       0.46      0.48      0.44     50904\n",
      "weighted avg       0.47      0.49      0.45     50904\n",
      "\n"
     ]
    },
    {
     "name": "stderr",
     "output_type": "stream",
     "text": [
      "100%|██████████| 45/45 [00:00<00:00, 886.53it/s]\n"
     ]
    },
    {
     "name": "stdout",
     "output_type": "stream",
     "text": [
      "Epoch: 37   Loss: 1.5235334634780884\n",
      "              precision    recall  f1-score   support\n",
      "\n",
      "           0       0.40      0.55      0.46      6734\n",
      "           1       0.35      0.24      0.28      6808\n",
      "           2       0.40      0.44      0.42      8769\n",
      "           3       0.54      0.89      0.67      7511\n",
      "           4       0.67      0.94      0.78      7733\n",
      "           5       0.43      0.15      0.22      7252\n",
      "           6       0.48      0.20      0.29      7511\n",
      "\n",
      "    accuracy                           0.49     52318\n",
      "   macro avg       0.47      0.49      0.45     52318\n",
      "weighted avg       0.47      0.49      0.45     52318\n",
      "\n"
     ]
    },
    {
     "name": "stderr",
     "output_type": "stream",
     "text": [
      "100%|██████████| 45/45 [00:00<00:00, 820.67it/s]\n"
     ]
    },
    {
     "name": "stdout",
     "output_type": "stream",
     "text": [
      "Epoch: 38   Loss: 1.1264549493789673\n",
      "              precision    recall  f1-score   support\n",
      "\n",
      "           0       0.40      0.56      0.47      6916\n",
      "           1       0.35      0.24      0.28      6992\n",
      "           2       0.41      0.44      0.42      9006\n",
      "           3       0.55      0.89      0.67      7714\n",
      "           4       0.67      0.94      0.78      7942\n",
      "           5       0.43      0.15      0.23      7448\n",
      "           6       0.48      0.21      0.29      7714\n",
      "\n",
      "    accuracy                           0.49     53732\n",
      "   macro avg       0.47      0.49      0.45     53732\n",
      "weighted avg       0.47      0.49      0.45     53732\n",
      "\n"
     ]
    },
    {
     "name": "stderr",
     "output_type": "stream",
     "text": [
      "100%|██████████| 45/45 [00:00<00:00, 768.85it/s]\n"
     ]
    },
    {
     "name": "stdout",
     "output_type": "stream",
     "text": [
      "Epoch: 39   Loss: 1.563306212425232\n",
      "              precision    recall  f1-score   support\n",
      "\n",
      "           0       0.40      0.56      0.47      7098\n",
      "           1       0.35      0.24      0.28      7176\n",
      "           2       0.41      0.44      0.42      9243\n",
      "           3       0.55      0.89      0.68      7917\n",
      "           4       0.67      0.94      0.78      8151\n",
      "           5       0.43      0.16      0.23      7644\n",
      "           6       0.49      0.21      0.29      7917\n",
      "\n",
      "    accuracy                           0.49     55146\n",
      "   macro avg       0.47      0.49      0.45     55146\n",
      "weighted avg       0.47      0.49      0.46     55146\n",
      "\n"
     ]
    },
    {
     "name": "stderr",
     "output_type": "stream",
     "text": [
      "100%|██████████| 45/45 [00:00<00:00, 867.35it/s]\n"
     ]
    },
    {
     "name": "stdout",
     "output_type": "stream",
     "text": [
      "Epoch: 40   Loss: 1.2082549333572388\n",
      "              precision    recall  f1-score   support\n",
      "\n",
      "           0       0.41      0.56      0.47      7280\n",
      "           1       0.35      0.24      0.28      7360\n",
      "           2       0.41      0.45      0.43      9480\n",
      "           3       0.55      0.89      0.68      8120\n",
      "           4       0.67      0.94      0.78      8360\n",
      "           5       0.43      0.16      0.23      7840\n",
      "           6       0.49      0.22      0.30      8120\n",
      "\n",
      "    accuracy                           0.50     56560\n",
      "   macro avg       0.47      0.49      0.45     56560\n",
      "weighted avg       0.48      0.50      0.46     56560\n",
      "\n"
     ]
    },
    {
     "name": "stderr",
     "output_type": "stream",
     "text": [
      "100%|██████████| 45/45 [00:00<00:00, 874.69it/s]\n"
     ]
    },
    {
     "name": "stdout",
     "output_type": "stream",
     "text": [
      "Epoch: 41   Loss: 0.6900086998939514\n",
      "              precision    recall  f1-score   support\n",
      "\n",
      "           0       0.41      0.56      0.47      7462\n",
      "           1       0.36      0.24      0.28      7544\n",
      "           2       0.41      0.45      0.43      9717\n",
      "           3       0.55      0.89      0.68      8323\n",
      "           4       0.67      0.94      0.78      8569\n",
      "           5       0.43      0.16      0.24      8036\n",
      "           6       0.49      0.22      0.30      8323\n",
      "\n",
      "    accuracy                           0.50     57974\n",
      "   macro avg       0.47      0.49      0.46     57974\n",
      "weighted avg       0.48      0.50      0.46     57974\n",
      "\n"
     ]
    },
    {
     "name": "stderr",
     "output_type": "stream",
     "text": [
      "100%|██████████| 45/45 [00:00<00:00, 850.30it/s]\n"
     ]
    },
    {
     "name": "stdout",
     "output_type": "stream",
     "text": [
      "Epoch: 42   Loss: 1.280624270439148\n",
      "              precision    recall  f1-score   support\n",
      "\n",
      "           0       0.41      0.56      0.47      7644\n",
      "           1       0.36      0.24      0.29      7728\n",
      "           2       0.41      0.45      0.43      9954\n",
      "           3       0.55      0.89      0.68      8526\n",
      "           4       0.67      0.94      0.79      8778\n",
      "           5       0.44      0.16      0.24      8232\n",
      "           6       0.49      0.22      0.31      8526\n",
      "\n",
      "    accuracy                           0.50     59388\n",
      "   macro avg       0.48      0.50      0.46     59388\n",
      "weighted avg       0.48      0.50      0.46     59388\n",
      "\n"
     ]
    },
    {
     "name": "stderr",
     "output_type": "stream",
     "text": [
      "100%|██████████| 45/45 [00:00<00:00, 841.43it/s]\n"
     ]
    },
    {
     "name": "stdout",
     "output_type": "stream",
     "text": [
      "Epoch: 43   Loss: 1.7016085386276245\n",
      "              precision    recall  f1-score   support\n",
      "\n",
      "           0       0.41      0.56      0.48      7826\n",
      "           1       0.36      0.24      0.29      7912\n",
      "           2       0.41      0.46      0.43     10191\n",
      "           3       0.56      0.89      0.68      8729\n",
      "           4       0.68      0.94      0.79      8987\n",
      "           5       0.44      0.17      0.24      8428\n",
      "           6       0.50      0.23      0.31      8729\n",
      "\n",
      "    accuracy                           0.50     60802\n",
      "   macro avg       0.48      0.50      0.46     60802\n",
      "weighted avg       0.48      0.50      0.46     60802\n",
      "\n"
     ]
    },
    {
     "name": "stderr",
     "output_type": "stream",
     "text": [
      "100%|██████████| 45/45 [00:00<00:00, 831.55it/s]\n"
     ]
    },
    {
     "name": "stdout",
     "output_type": "stream",
     "text": [
      "Epoch: 44   Loss: 1.1759917736053467\n",
      "              precision    recall  f1-score   support\n",
      "\n",
      "           0       0.41      0.57      0.48      8008\n",
      "           1       0.36      0.24      0.29      8096\n",
      "           2       0.42      0.46      0.44     10428\n",
      "           3       0.56      0.89      0.68      8932\n",
      "           4       0.68      0.94      0.79      9196\n",
      "           5       0.44      0.17      0.24      8624\n",
      "           6       0.50      0.23      0.31      8932\n",
      "\n",
      "    accuracy                           0.50     62216\n",
      "   macro avg       0.48      0.50      0.46     62216\n",
      "weighted avg       0.48      0.50      0.47     62216\n",
      "\n"
     ]
    },
    {
     "name": "stderr",
     "output_type": "stream",
     "text": [
      "100%|██████████| 45/45 [00:00<00:00, 800.51it/s]\n"
     ]
    },
    {
     "name": "stdout",
     "output_type": "stream",
     "text": [
      "Epoch: 45   Loss: 1.1172555685043335\n",
      "              precision    recall  f1-score   support\n",
      "\n",
      "           0       0.42      0.57      0.48      8190\n",
      "           1       0.36      0.24      0.29      8280\n",
      "           2       0.42      0.46      0.44     10665\n",
      "           3       0.56      0.89      0.69      9135\n",
      "           4       0.68      0.94      0.79      9405\n",
      "           5       0.44      0.17      0.25      8820\n",
      "           6       0.50      0.23      0.32      9135\n",
      "\n",
      "    accuracy                           0.51     63630\n",
      "   macro avg       0.48      0.50      0.46     63630\n",
      "weighted avg       0.48      0.51      0.47     63630\n",
      "\n"
     ]
    },
    {
     "name": "stderr",
     "output_type": "stream",
     "text": [
      "100%|██████████| 45/45 [00:00<00:00, 913.84it/s]\n"
     ]
    },
    {
     "name": "stdout",
     "output_type": "stream",
     "text": [
      "Epoch: 46   Loss: 0.8503816723823547\n",
      "              precision    recall  f1-score   support\n",
      "\n",
      "           0       0.42      0.57      0.48      8372\n",
      "           1       0.37      0.24      0.29      8464\n",
      "           2       0.42      0.47      0.44     10902\n",
      "           3       0.56      0.89      0.69      9338\n",
      "           4       0.68      0.94      0.79      9614\n",
      "           5       0.44      0.17      0.25      9016\n",
      "           6       0.50      0.24      0.32      9338\n",
      "\n",
      "    accuracy                           0.51     65044\n",
      "   macro avg       0.48      0.50      0.47     65044\n",
      "weighted avg       0.49      0.51      0.47     65044\n",
      "\n"
     ]
    },
    {
     "name": "stderr",
     "output_type": "stream",
     "text": [
      "100%|██████████| 45/45 [00:00<00:00, 892.35it/s]\n"
     ]
    },
    {
     "name": "stdout",
     "output_type": "stream",
     "text": [
      "Epoch: 47   Loss: 0.5599455237388611\n",
      "              precision    recall  f1-score   support\n",
      "\n",
      "           0       0.42      0.57      0.48      8554\n",
      "           1       0.37      0.24      0.29      8648\n",
      "           2       0.42      0.47      0.44     11139\n",
      "           3       0.56      0.89      0.69      9541\n",
      "           4       0.68      0.94      0.79      9823\n",
      "           5       0.44      0.18      0.25      9212\n",
      "           6       0.50      0.24      0.32      9541\n",
      "\n",
      "    accuracy                           0.51     66458\n",
      "   macro avg       0.49      0.50      0.47     66458\n",
      "weighted avg       0.49      0.51      0.47     66458\n",
      "\n"
     ]
    },
    {
     "name": "stderr",
     "output_type": "stream",
     "text": [
      "100%|██████████| 45/45 [00:00<00:00, 831.32it/s]\n"
     ]
    },
    {
     "name": "stdout",
     "output_type": "stream",
     "text": [
      "Epoch: 48   Loss: 1.1521207094192505\n",
      "              precision    recall  f1-score   support\n",
      "\n",
      "           0       0.42      0.57      0.49      8736\n",
      "           1       0.37      0.24      0.29      8832\n",
      "           2       0.42      0.47      0.45     11376\n",
      "           3       0.57      0.89      0.69      9744\n",
      "           4       0.68      0.94      0.79     10032\n",
      "           5       0.45      0.18      0.26      9408\n",
      "           6       0.50      0.24      0.33      9744\n",
      "\n",
      "    accuracy                           0.51     67872\n",
      "   macro avg       0.49      0.50      0.47     67872\n",
      "weighted avg       0.49      0.51      0.47     67872\n",
      "\n"
     ]
    },
    {
     "name": "stderr",
     "output_type": "stream",
     "text": [
      "100%|██████████| 45/45 [00:00<00:00, 744.75it/s]\n"
     ]
    },
    {
     "name": "stdout",
     "output_type": "stream",
     "text": [
      "Epoch: 49   Loss: 1.0869053602218628\n",
      "              precision    recall  f1-score   support\n",
      "\n",
      "           0       0.43      0.57      0.49      8918\n",
      "           1       0.37      0.24      0.29      9016\n",
      "           2       0.42      0.48      0.45     11613\n",
      "           3       0.57      0.89      0.69      9947\n",
      "           4       0.68      0.94      0.79     10241\n",
      "           5       0.45      0.18      0.26      9604\n",
      "           6       0.50      0.25      0.33      9947\n",
      "\n",
      "    accuracy                           0.51     69286\n",
      "   macro avg       0.49      0.51      0.47     69286\n",
      "weighted avg       0.49      0.51      0.48     69286\n",
      "\n"
     ]
    },
    {
     "name": "stderr",
     "output_type": "stream",
     "text": [
      "100%|██████████| 45/45 [00:00<00:00, 631.21it/s]"
     ]
    },
    {
     "name": "stdout",
     "output_type": "stream",
     "text": [
      "Epoch: 50   Loss: 0.8258490562438965\n"
     ]
    },
    {
     "name": "stderr",
     "output_type": "stream",
     "text": [
      "\n"
     ]
    },
    {
     "name": "stdout",
     "output_type": "stream",
     "text": [
      "              precision    recall  f1-score   support\n",
      "\n",
      "           0       0.43      0.57      0.49      9100\n",
      "           1       0.38      0.24      0.29      9200\n",
      "           2       0.43      0.48      0.45     11850\n",
      "           3       0.57      0.89      0.69     10150\n",
      "           4       0.68      0.94      0.79     10450\n",
      "           5       0.45      0.18      0.26      9800\n",
      "           6       0.50      0.25      0.33     10150\n",
      "\n",
      "    accuracy                           0.51     70700\n",
      "   macro avg       0.49      0.51      0.47     70700\n",
      "weighted avg       0.49      0.51      0.48     70700\n",
      "\n"
     ]
    },
    {
     "name": "stderr",
     "output_type": "stream",
     "text": [
      "100%|██████████| 45/45 [00:00<00:00, 717.88it/s]"
     ]
    },
    {
     "name": "stdout",
     "output_type": "stream",
     "text": [
      "Epoch: 51   Loss: 1.3808094263076782\n"
     ]
    },
    {
     "name": "stderr",
     "output_type": "stream",
     "text": [
      "\n"
     ]
    },
    {
     "name": "stdout",
     "output_type": "stream",
     "text": [
      "              precision    recall  f1-score   support\n",
      "\n",
      "           0       0.43      0.57      0.49      9282\n",
      "           1       0.38      0.24      0.30      9384\n",
      "           2       0.43      0.48      0.45     12087\n",
      "           3       0.57      0.89      0.69     10353\n",
      "           4       0.68      0.94      0.79     10659\n",
      "           5       0.45      0.19      0.26      9996\n",
      "           6       0.50      0.25      0.33     10353\n",
      "\n",
      "    accuracy                           0.51     72114\n",
      "   macro avg       0.49      0.51      0.47     72114\n",
      "weighted avg       0.49      0.51      0.48     72114\n",
      "\n"
     ]
    },
    {
     "name": "stderr",
     "output_type": "stream",
     "text": [
      "100%|██████████| 45/45 [00:00<00:00, 701.09it/s]\n"
     ]
    },
    {
     "name": "stdout",
     "output_type": "stream",
     "text": [
      "Epoch: 52   Loss: 0.450152724981308\n",
      "              precision    recall  f1-score   support\n",
      "\n",
      "           0       0.43      0.58      0.49      9464\n",
      "           1       0.38      0.24      0.30      9568\n",
      "           2       0.43      0.48      0.45     12324\n",
      "           3       0.57      0.89      0.70     10556\n",
      "           4       0.68      0.94      0.79     10868\n",
      "           5       0.45      0.19      0.27     10192\n",
      "           6       0.51      0.25      0.34     10556\n",
      "\n",
      "    accuracy                           0.52     73528\n",
      "   macro avg       0.49      0.51      0.48     73528\n",
      "weighted avg       0.50      0.52      0.48     73528\n",
      "\n"
     ]
    },
    {
     "name": "stderr",
     "output_type": "stream",
     "text": [
      "100%|██████████| 45/45 [00:00<00:00, 764.59it/s]\n"
     ]
    },
    {
     "name": "stdout",
     "output_type": "stream",
     "text": [
      "Epoch: 53   Loss: 0.9801778793334961\n",
      "              precision    recall  f1-score   support\n",
      "\n",
      "           0       0.43      0.58      0.49      9646\n",
      "           1       0.38      0.24      0.30      9752\n",
      "           2       0.43      0.49      0.46     12561\n",
      "           3       0.57      0.89      0.70     10759\n",
      "           4       0.68      0.94      0.79     11077\n",
      "           5       0.45      0.19      0.27     10388\n",
      "           6       0.51      0.26      0.34     10759\n",
      "\n",
      "    accuracy                           0.52     74942\n",
      "   macro avg       0.49      0.51      0.48     74942\n",
      "weighted avg       0.50      0.52      0.48     74942\n",
      "\n"
     ]
    },
    {
     "name": "stderr",
     "output_type": "stream",
     "text": [
      "100%|██████████| 45/45 [00:00<00:00, 810.10it/s]\n"
     ]
    },
    {
     "name": "stdout",
     "output_type": "stream",
     "text": [
      "Epoch: 54   Loss: 0.8475027084350586\n",
      "              precision    recall  f1-score   support\n",
      "\n",
      "           0       0.44      0.58      0.50      9828\n",
      "           1       0.38      0.24      0.30      9936\n",
      "           2       0.43      0.49      0.46     12798\n",
      "           3       0.58      0.89      0.70     10962\n",
      "           4       0.69      0.94      0.79     11286\n",
      "           5       0.45      0.20      0.27     10584\n",
      "           6       0.51      0.26      0.34     10962\n",
      "\n",
      "    accuracy                           0.52     76356\n",
      "   macro avg       0.50      0.51      0.48     76356\n",
      "weighted avg       0.50      0.52      0.48     76356\n",
      "\n"
     ]
    },
    {
     "name": "stderr",
     "output_type": "stream",
     "text": [
      "100%|██████████| 45/45 [00:00<00:00, 753.42it/s]\n"
     ]
    },
    {
     "name": "stdout",
     "output_type": "stream",
     "text": [
      "Epoch: 55   Loss: 0.714534342288971\n",
      "              precision    recall  f1-score   support\n",
      "\n",
      "           0       0.44      0.58      0.50     10010\n",
      "           1       0.38      0.24      0.30     10120\n",
      "           2       0.43      0.49      0.46     13035\n",
      "           3       0.58      0.89      0.70     11165\n",
      "           4       0.69      0.94      0.79     11495\n",
      "           5       0.46      0.20      0.28     10780\n",
      "           6       0.51      0.26      0.35     11165\n",
      "\n",
      "    accuracy                           0.52     77770\n",
      "   macro avg       0.50      0.51      0.48     77770\n",
      "weighted avg       0.50      0.52      0.49     77770\n",
      "\n"
     ]
    },
    {
     "name": "stderr",
     "output_type": "stream",
     "text": [
      "100%|██████████| 45/45 [00:00<00:00, 747.40it/s]"
     ]
    },
    {
     "name": "stdout",
     "output_type": "stream",
     "text": [
      "Epoch: 56   Loss: 1.3095866441726685\n"
     ]
    },
    {
     "name": "stderr",
     "output_type": "stream",
     "text": [
      "\n"
     ]
    },
    {
     "name": "stdout",
     "output_type": "stream",
     "text": [
      "              precision    recall  f1-score   support\n",
      "\n",
      "           0       0.44      0.58      0.50     10192\n",
      "           1       0.39      0.24      0.30     10304\n",
      "           2       0.44      0.49      0.46     13272\n",
      "           3       0.58      0.89      0.70     11368\n",
      "           4       0.69      0.94      0.79     11704\n",
      "           5       0.46      0.20      0.28     10976\n",
      "           6       0.51      0.26      0.35     11368\n",
      "\n",
      "    accuracy                           0.52     79184\n",
      "   macro avg       0.50      0.52      0.48     79184\n",
      "weighted avg       0.50      0.52      0.49     79184\n",
      "\n"
     ]
    },
    {
     "name": "stderr",
     "output_type": "stream",
     "text": [
      "100%|██████████| 45/45 [00:00<00:00, 837.99it/s]\n"
     ]
    },
    {
     "name": "stdout",
     "output_type": "stream",
     "text": [
      "Epoch: 57   Loss: 1.1329506635665894\n",
      "              precision    recall  f1-score   support\n",
      "\n",
      "           0       0.44      0.58      0.50     10374\n",
      "           1       0.39      0.24      0.30     10488\n",
      "           2       0.44      0.50      0.46     13509\n",
      "           3       0.58      0.89      0.70     11571\n",
      "           4       0.69      0.94      0.79     11913\n",
      "           5       0.46      0.20      0.28     11172\n",
      "           6       0.51      0.27      0.35     11571\n",
      "\n",
      "    accuracy                           0.52     80598\n",
      "   macro avg       0.50      0.52      0.49     80598\n",
      "weighted avg       0.50      0.52      0.49     80598\n",
      "\n"
     ]
    },
    {
     "name": "stderr",
     "output_type": "stream",
     "text": [
      "100%|██████████| 45/45 [00:00<00:00, 771.53it/s]\n"
     ]
    },
    {
     "name": "stdout",
     "output_type": "stream",
     "text": [
      "Epoch: 58   Loss: 0.6770512461662292\n",
      "              precision    recall  f1-score   support\n",
      "\n",
      "           0       0.44      0.58      0.50     10556\n",
      "           1       0.39      0.24      0.30     10672\n",
      "           2       0.44      0.50      0.47     13746\n",
      "           3       0.58      0.89      0.70     11774\n",
      "           4       0.69      0.94      0.80     12122\n",
      "           5       0.46      0.21      0.28     11368\n",
      "           6       0.51      0.27      0.35     11774\n",
      "\n",
      "    accuracy                           0.52     82012\n",
      "   macro avg       0.50      0.52      0.49     82012\n",
      "weighted avg       0.50      0.52      0.49     82012\n",
      "\n"
     ]
    },
    {
     "name": "stderr",
     "output_type": "stream",
     "text": [
      "100%|██████████| 45/45 [00:00<00:00, 786.70it/s]\n"
     ]
    },
    {
     "name": "stdout",
     "output_type": "stream",
     "text": [
      "Epoch: 59   Loss: 0.9462472796440125\n",
      "              precision    recall  f1-score   support\n",
      "\n",
      "           0       0.44      0.58      0.50     10738\n",
      "           1       0.39      0.25      0.30     10856\n",
      "           2       0.44      0.50      0.47     13983\n",
      "           3       0.58      0.89      0.71     11977\n",
      "           4       0.69      0.94      0.80     12331\n",
      "           5       0.46      0.21      0.29     11564\n",
      "           6       0.51      0.27      0.36     11977\n",
      "\n",
      "    accuracy                           0.53     83426\n",
      "   macro avg       0.50      0.52      0.49     83426\n",
      "weighted avg       0.50      0.53      0.49     83426\n",
      "\n"
     ]
    },
    {
     "name": "stderr",
     "output_type": "stream",
     "text": [
      "100%|██████████| 45/45 [00:00<00:00, 715.94it/s]\n"
     ]
    },
    {
     "name": "stdout",
     "output_type": "stream",
     "text": [
      "Epoch: 60   Loss: 0.8703082203865051\n",
      "              precision    recall  f1-score   support\n",
      "\n",
      "           0       0.45      0.58      0.50     10920\n",
      "           1       0.39      0.24      0.30     11040\n",
      "           2       0.44      0.50      0.47     14220\n",
      "           3       0.59      0.89      0.71     12180\n",
      "           4       0.69      0.94      0.80     12540\n",
      "           5       0.46      0.21      0.29     11760\n",
      "           6       0.51      0.27      0.36     12180\n",
      "\n",
      "    accuracy                           0.53     84840\n",
      "   macro avg       0.50      0.52      0.49     84840\n",
      "weighted avg       0.51      0.53      0.49     84840\n",
      "\n"
     ]
    },
    {
     "name": "stderr",
     "output_type": "stream",
     "text": [
      "100%|██████████| 45/45 [00:00<00:00, 885.19it/s]\n"
     ]
    },
    {
     "name": "stdout",
     "output_type": "stream",
     "text": [
      "Epoch: 61   Loss: 0.9565331935882568\n",
      "              precision    recall  f1-score   support\n",
      "\n",
      "           0       0.45      0.58      0.51     11102\n",
      "           1       0.40      0.25      0.30     11224\n",
      "           2       0.44      0.50      0.47     14457\n",
      "           3       0.59      0.89      0.71     12383\n",
      "           4       0.69      0.94      0.80     12749\n",
      "           5       0.46      0.21      0.29     11956\n",
      "           6       0.51      0.28      0.36     12383\n",
      "\n",
      "    accuracy                           0.53     86254\n",
      "   macro avg       0.51      0.52      0.49     86254\n",
      "weighted avg       0.51      0.53      0.50     86254\n",
      "\n"
     ]
    },
    {
     "name": "stderr",
     "output_type": "stream",
     "text": [
      "100%|██████████| 45/45 [00:00<00:00, 754.23it/s]\n"
     ]
    },
    {
     "name": "stdout",
     "output_type": "stream",
     "text": [
      "Epoch: 62   Loss: 0.742243230342865\n",
      "              precision    recall  f1-score   support\n",
      "\n",
      "           0       0.45      0.58      0.51     11284\n",
      "           1       0.40      0.25      0.30     11408\n",
      "           2       0.45      0.51      0.47     14694\n",
      "           3       0.59      0.89      0.71     12586\n",
      "           4       0.69      0.94      0.80     12958\n",
      "           5       0.46      0.22      0.30     12152\n",
      "           6       0.52      0.28      0.36     12586\n",
      "\n",
      "    accuracy                           0.53     87668\n",
      "   macro avg       0.51      0.52      0.49     87668\n",
      "weighted avg       0.51      0.53      0.50     87668\n",
      "\n"
     ]
    },
    {
     "name": "stderr",
     "output_type": "stream",
     "text": [
      "100%|██████████| 45/45 [00:00<00:00, 781.55it/s]"
     ]
    },
    {
     "name": "stdout",
     "output_type": "stream",
     "text": [
      "Epoch: 63   Loss: 1.3679274320602417\n"
     ]
    },
    {
     "name": "stderr",
     "output_type": "stream",
     "text": [
      "\n"
     ]
    },
    {
     "name": "stdout",
     "output_type": "stream",
     "text": [
      "              precision    recall  f1-score   support\n",
      "\n",
      "           0       0.45      0.58      0.51     11466\n",
      "           1       0.40      0.25      0.30     11592\n",
      "           2       0.45      0.51      0.48     14931\n",
      "           3       0.59      0.89      0.71     12789\n",
      "           4       0.69      0.94      0.80     13167\n",
      "           5       0.46      0.22      0.30     12348\n",
      "           6       0.52      0.28      0.37     12789\n",
      "\n",
      "    accuracy                           0.53     89082\n",
      "   macro avg       0.51      0.52      0.49     89082\n",
      "weighted avg       0.51      0.53      0.50     89082\n",
      "\n"
     ]
    },
    {
     "name": "stderr",
     "output_type": "stream",
     "text": [
      "100%|██████████| 45/45 [00:00<00:00, 800.84it/s]\n"
     ]
    },
    {
     "name": "stdout",
     "output_type": "stream",
     "text": [
      "Epoch: 64   Loss: 0.9830570816993713\n",
      "              precision    recall  f1-score   support\n",
      "\n",
      "           0       0.45      0.58      0.51     11648\n",
      "           1       0.40      0.25      0.30     11776\n",
      "           2       0.45      0.51      0.48     15168\n",
      "           3       0.59      0.89      0.71     12992\n",
      "           4       0.69      0.94      0.80     13376\n",
      "           5       0.46      0.22      0.30     12544\n",
      "           6       0.52      0.29      0.37     12992\n",
      "\n",
      "    accuracy                           0.53     90496\n",
      "   macro avg       0.51      0.53      0.50     90496\n",
      "weighted avg       0.51      0.53      0.50     90496\n",
      "\n"
     ]
    },
    {
     "name": "stderr",
     "output_type": "stream",
     "text": [
      "100%|██████████| 45/45 [00:00<00:00, 827.19it/s]\n"
     ]
    },
    {
     "name": "stdout",
     "output_type": "stream",
     "text": [
      "Epoch: 65   Loss: 0.6284579038619995\n",
      "              precision    recall  f1-score   support\n",
      "\n",
      "           0       0.45      0.58      0.51     11830\n",
      "           1       0.40      0.25      0.30     11960\n",
      "           2       0.45      0.51      0.48     15405\n",
      "           3       0.59      0.89      0.71     13195\n",
      "           4       0.69      0.94      0.80     13585\n",
      "           5       0.47      0.22      0.30     12740\n",
      "           6       0.52      0.29      0.37     13195\n",
      "\n",
      "    accuracy                           0.53     91910\n",
      "   macro avg       0.51      0.53      0.50     91910\n",
      "weighted avg       0.51      0.53      0.50     91910\n",
      "\n"
     ]
    },
    {
     "name": "stderr",
     "output_type": "stream",
     "text": [
      "100%|██████████| 45/45 [00:00<00:00, 774.99it/s]"
     ]
    },
    {
     "name": "stdout",
     "output_type": "stream",
     "text": [
      "Epoch: 66   Loss: 0.8715934157371521\n"
     ]
    },
    {
     "name": "stderr",
     "output_type": "stream",
     "text": [
      "\n"
     ]
    },
    {
     "name": "stdout",
     "output_type": "stream",
     "text": [
      "              precision    recall  f1-score   support\n",
      "\n",
      "           0       0.45      0.58      0.51     12012\n",
      "           1       0.40      0.25      0.31     12144\n",
      "           2       0.45      0.51      0.48     15642\n",
      "           3       0.60      0.89      0.71     13398\n",
      "           4       0.69      0.94      0.80     13794\n",
      "           5       0.47      0.23      0.31     12936\n",
      "           6       0.52      0.29      0.37     13398\n",
      "\n",
      "    accuracy                           0.53     93324\n",
      "   macro avg       0.51      0.53      0.50     93324\n",
      "weighted avg       0.51      0.53      0.50     93324\n",
      "\n"
     ]
    },
    {
     "name": "stderr",
     "output_type": "stream",
     "text": [
      "100%|██████████| 45/45 [00:00<00:00, 710.61it/s]"
     ]
    },
    {
     "name": "stdout",
     "output_type": "stream",
     "text": [
      "Epoch: 67   Loss: 0.7671539187431335\n"
     ]
    },
    {
     "name": "stderr",
     "output_type": "stream",
     "text": [
      "\n"
     ]
    },
    {
     "name": "stdout",
     "output_type": "stream",
     "text": [
      "              precision    recall  f1-score   support\n",
      "\n",
      "           0       0.45      0.58      0.51     12194\n",
      "           1       0.40      0.25      0.31     12328\n",
      "           2       0.45      0.52      0.48     15879\n",
      "           3       0.60      0.89      0.71     13601\n",
      "           4       0.69      0.94      0.80     14003\n",
      "           5       0.47      0.23      0.31     13132\n",
      "           6       0.52      0.29      0.37     13601\n",
      "\n",
      "    accuracy                           0.53     94738\n",
      "   macro avg       0.51      0.53      0.50     94738\n",
      "weighted avg       0.51      0.53      0.50     94738\n",
      "\n"
     ]
    },
    {
     "name": "stderr",
     "output_type": "stream",
     "text": [
      "100%|██████████| 45/45 [00:00<00:00, 787.27it/s]"
     ]
    },
    {
     "name": "stdout",
     "output_type": "stream",
     "text": [
      "Epoch: 68   Loss: 1.350922703742981\n"
     ]
    },
    {
     "name": "stderr",
     "output_type": "stream",
     "text": [
      "\n"
     ]
    },
    {
     "name": "stdout",
     "output_type": "stream",
     "text": [
      "              precision    recall  f1-score   support\n",
      "\n",
      "           0       0.46      0.59      0.51     12376\n",
      "           1       0.41      0.25      0.31     12512\n",
      "           2       0.45      0.52      0.48     16116\n",
      "           3       0.60      0.89      0.72     13804\n",
      "           4       0.69      0.94      0.80     14212\n",
      "           5       0.47      0.23      0.31     13328\n",
      "           6       0.52      0.29      0.38     13804\n",
      "\n",
      "    accuracy                           0.54     96152\n",
      "   macro avg       0.51      0.53      0.50     96152\n",
      "weighted avg       0.52      0.54      0.50     96152\n",
      "\n"
     ]
    },
    {
     "name": "stderr",
     "output_type": "stream",
     "text": [
      "100%|██████████| 45/45 [00:00<00:00, 731.41it/s]"
     ]
    },
    {
     "name": "stdout",
     "output_type": "stream",
     "text": [
      "Epoch: 69   Loss: 1.5978132486343384\n"
     ]
    },
    {
     "name": "stderr",
     "output_type": "stream",
     "text": [
      "\n"
     ]
    },
    {
     "name": "stdout",
     "output_type": "stream",
     "text": [
      "              precision    recall  f1-score   support\n",
      "\n",
      "           0       0.46      0.59      0.51     12558\n",
      "           1       0.41      0.25      0.31     12696\n",
      "           2       0.45      0.52      0.48     16353\n",
      "           3       0.60      0.89      0.72     14007\n",
      "           4       0.69      0.94      0.80     14421\n",
      "           5       0.47      0.23      0.31     13524\n",
      "           6       0.52      0.30      0.38     14007\n",
      "\n",
      "    accuracy                           0.54     97566\n",
      "   macro avg       0.51      0.53      0.50     97566\n",
      "weighted avg       0.52      0.54      0.51     97566\n",
      "\n"
     ]
    },
    {
     "name": "stderr",
     "output_type": "stream",
     "text": [
      "100%|██████████| 45/45 [00:00<00:00, 804.09it/s]"
     ]
    },
    {
     "name": "stdout",
     "output_type": "stream",
     "text": [
      "Epoch: 70   Loss: 1.2269281148910522\n"
     ]
    },
    {
     "name": "stderr",
     "output_type": "stream",
     "text": [
      "\n"
     ]
    },
    {
     "name": "stdout",
     "output_type": "stream",
     "text": [
      "              precision    recall  f1-score   support\n",
      "\n",
      "           0       0.46      0.59      0.51     12740\n",
      "           1       0.41      0.25      0.31     12880\n",
      "           2       0.46      0.52      0.49     16590\n",
      "           3       0.60      0.89      0.72     14210\n",
      "           4       0.69      0.94      0.80     14630\n",
      "           5       0.47      0.24      0.31     13720\n",
      "           6       0.52      0.30      0.38     14210\n",
      "\n",
      "    accuracy                           0.54     98980\n",
      "   macro avg       0.52      0.53      0.50     98980\n",
      "weighted avg       0.52      0.54      0.51     98980\n",
      "\n"
     ]
    },
    {
     "name": "stderr",
     "output_type": "stream",
     "text": [
      "100%|██████████| 45/45 [00:00<00:00, 793.53it/s]"
     ]
    },
    {
     "name": "stdout",
     "output_type": "stream",
     "text": [
      "Epoch: 71   Loss: 1.0200905799865723\n"
     ]
    },
    {
     "name": "stderr",
     "output_type": "stream",
     "text": [
      "\n"
     ]
    },
    {
     "name": "stdout",
     "output_type": "stream",
     "text": [
      "              precision    recall  f1-score   support\n",
      "\n",
      "           0       0.46      0.59      0.52     12922\n",
      "           1       0.41      0.25      0.31     13064\n",
      "           2       0.46      0.52      0.49     16827\n",
      "           3       0.60      0.89      0.72     14413\n",
      "           4       0.70      0.94      0.80     14839\n",
      "           5       0.47      0.24      0.32     13916\n",
      "           6       0.52      0.30      0.38     14413\n",
      "\n",
      "    accuracy                           0.54    100394\n",
      "   macro avg       0.52      0.53      0.50    100394\n",
      "weighted avg       0.52      0.54      0.51    100394\n",
      "\n"
     ]
    },
    {
     "name": "stderr",
     "output_type": "stream",
     "text": [
      "100%|██████████| 45/45 [00:00<00:00, 764.97it/s]"
     ]
    },
    {
     "name": "stdout",
     "output_type": "stream",
     "text": [
      "Epoch: 72   Loss: 1.900173306465149\n"
     ]
    },
    {
     "name": "stderr",
     "output_type": "stream",
     "text": [
      "\n"
     ]
    },
    {
     "name": "stdout",
     "output_type": "stream",
     "text": [
      "              precision    recall  f1-score   support\n",
      "\n",
      "           0       0.46      0.59      0.52     13104\n",
      "           1       0.41      0.25      0.31     13248\n",
      "           2       0.46      0.53      0.49     17064\n",
      "           3       0.60      0.89      0.72     14616\n",
      "           4       0.70      0.94      0.80     15048\n",
      "           5       0.47      0.24      0.32     14112\n",
      "           6       0.53      0.30      0.38     14616\n",
      "\n",
      "    accuracy                           0.54    101808\n",
      "   macro avg       0.52      0.53      0.51    101808\n",
      "weighted avg       0.52      0.54      0.51    101808\n",
      "\n"
     ]
    },
    {
     "name": "stderr",
     "output_type": "stream",
     "text": [
      "100%|██████████| 45/45 [00:00<00:00, 741.04it/s]"
     ]
    },
    {
     "name": "stdout",
     "output_type": "stream",
     "text": [
      "Epoch: 73   Loss: 1.4785585403442383\n"
     ]
    },
    {
     "name": "stderr",
     "output_type": "stream",
     "text": [
      "\n"
     ]
    },
    {
     "name": "stdout",
     "output_type": "stream",
     "text": [
      "              precision    recall  f1-score   support\n",
      "\n",
      "           0       0.46      0.59      0.52     13286\n",
      "           1       0.41      0.25      0.31     13432\n",
      "           2       0.46      0.53      0.49     17301\n",
      "           3       0.61      0.89      0.72     14819\n",
      "           4       0.70      0.94      0.80     15257\n",
      "           5       0.47      0.24      0.32     14308\n",
      "           6       0.53      0.30      0.39     14819\n",
      "\n",
      "    accuracy                           0.54    103222\n",
      "   macro avg       0.52      0.53      0.51    103222\n",
      "weighted avg       0.52      0.54      0.51    103222\n",
      "\n"
     ]
    },
    {
     "name": "stderr",
     "output_type": "stream",
     "text": [
      "100%|██████████| 45/45 [00:00<00:00, 636.22it/s]"
     ]
    },
    {
     "name": "stdout",
     "output_type": "stream",
     "text": [
      "Epoch: 74   Loss: 1.370998740196228\n"
     ]
    },
    {
     "name": "stderr",
     "output_type": "stream",
     "text": [
      "\n"
     ]
    },
    {
     "name": "stdout",
     "output_type": "stream",
     "text": [
      "              precision    recall  f1-score   support\n",
      "\n",
      "           0       0.46      0.59      0.52     13468\n",
      "           1       0.41      0.25      0.31     13616\n",
      "           2       0.46      0.53      0.49     17538\n",
      "           3       0.61      0.89      0.72     15022\n",
      "           4       0.70      0.94      0.80     15466\n",
      "           5       0.47      0.25      0.32     14504\n",
      "           6       0.53      0.31      0.39     15022\n",
      "\n",
      "    accuracy                           0.54    104636\n",
      "   macro avg       0.52      0.54      0.51    104636\n",
      "weighted avg       0.52      0.54      0.51    104636\n",
      "\n"
     ]
    },
    {
     "name": "stderr",
     "output_type": "stream",
     "text": [
      "100%|██████████| 45/45 [00:00<00:00, 611.91it/s]"
     ]
    },
    {
     "name": "stdout",
     "output_type": "stream",
     "text": [
      "Epoch: 75   Loss: 1.2299424409866333\n"
     ]
    },
    {
     "name": "stderr",
     "output_type": "stream",
     "text": [
      "\n"
     ]
    },
    {
     "name": "stdout",
     "output_type": "stream",
     "text": [
      "              precision    recall  f1-score   support\n",
      "\n",
      "           0       0.46      0.59      0.52     13650\n",
      "           1       0.42      0.25      0.31     13800\n",
      "           2       0.46      0.53      0.49     17775\n",
      "           3       0.61      0.89      0.72     15225\n",
      "           4       0.70      0.94      0.80     15675\n",
      "           5       0.48      0.25      0.33     14700\n",
      "           6       0.53      0.31      0.39     15225\n",
      "\n",
      "    accuracy                           0.54    106050\n",
      "   macro avg       0.52      0.54      0.51    106050\n",
      "weighted avg       0.52      0.54      0.51    106050\n",
      "\n"
     ]
    },
    {
     "name": "stderr",
     "output_type": "stream",
     "text": [
      "100%|██████████| 45/45 [00:00<00:00, 833.65it/s]"
     ]
    },
    {
     "name": "stdout",
     "output_type": "stream",
     "text": [
      "Epoch: 76   Loss: 1.02455735206604\n"
     ]
    },
    {
     "name": "stderr",
     "output_type": "stream",
     "text": [
      "\n"
     ]
    },
    {
     "name": "stdout",
     "output_type": "stream",
     "text": [
      "              precision    recall  f1-score   support\n",
      "\n",
      "           0       0.46      0.59      0.52     13832\n",
      "           1       0.42      0.25      0.31     13984\n",
      "           2       0.46      0.53      0.50     18012\n",
      "           3       0.61      0.89      0.72     15428\n",
      "           4       0.70      0.94      0.80     15884\n",
      "           5       0.48      0.25      0.33     14896\n",
      "           6       0.53      0.31      0.39     15428\n",
      "\n",
      "    accuracy                           0.54    107464\n",
      "   macro avg       0.52      0.54      0.51    107464\n",
      "weighted avg       0.52      0.54      0.51    107464\n",
      "\n"
     ]
    },
    {
     "name": "stderr",
     "output_type": "stream",
     "text": [
      "100%|██████████| 45/45 [00:00<00:00, 931.59it/s]"
     ]
    },
    {
     "name": "stdout",
     "output_type": "stream",
     "text": [
      "Epoch: 77   Loss: 0.9527154564857483\n"
     ]
    },
    {
     "name": "stderr",
     "output_type": "stream",
     "text": [
      "\n"
     ]
    },
    {
     "name": "stdout",
     "output_type": "stream",
     "text": [
      "              precision    recall  f1-score   support\n",
      "\n",
      "           0       0.47      0.59      0.52     14014\n",
      "           1       0.42      0.25      0.31     14168\n",
      "           2       0.47      0.53      0.50     18249\n",
      "           3       0.61      0.89      0.72     15631\n",
      "           4       0.70      0.94      0.80     16093\n",
      "           5       0.48      0.25      0.33     15092\n",
      "           6       0.53      0.31      0.39     15631\n",
      "\n",
      "    accuracy                           0.55    108878\n",
      "   macro avg       0.52      0.54      0.51    108878\n",
      "weighted avg       0.53      0.55      0.52    108878\n",
      "\n"
     ]
    },
    {
     "name": "stderr",
     "output_type": "stream",
     "text": [
      "100%|██████████| 45/45 [00:00<00:00, 883.20it/s]\n"
     ]
    },
    {
     "name": "stdout",
     "output_type": "stream",
     "text": [
      "Epoch: 78   Loss: 0.7220662236213684\n",
      "              precision    recall  f1-score   support\n",
      "\n",
      "           0       0.47      0.59      0.52     14196\n",
      "           1       0.42      0.25      0.31     14352\n",
      "           2       0.47      0.54      0.50     18486\n",
      "           3       0.61      0.89      0.73     15834\n",
      "           4       0.70      0.94      0.80     16302\n",
      "           5       0.48      0.26      0.33     15288\n",
      "           6       0.53      0.31      0.40     15834\n",
      "\n",
      "    accuracy                           0.55    110292\n",
      "   macro avg       0.52      0.54      0.51    110292\n",
      "weighted avg       0.53      0.55      0.52    110292\n",
      "\n"
     ]
    },
    {
     "name": "stderr",
     "output_type": "stream",
     "text": [
      "100%|██████████| 45/45 [00:00<00:00, 843.42it/s]\n"
     ]
    },
    {
     "name": "stdout",
     "output_type": "stream",
     "text": [
      "Epoch: 79   Loss: 0.8548268675804138\n",
      "              precision    recall  f1-score   support\n",
      "\n",
      "           0       0.47      0.59      0.52     14378\n",
      "           1       0.42      0.25      0.31     14536\n",
      "           2       0.47      0.54      0.50     18723\n",
      "           3       0.61      0.89      0.73     16037\n",
      "           4       0.70      0.94      0.80     16511\n",
      "           5       0.48      0.26      0.34     15484\n",
      "           6       0.53      0.32      0.40     16037\n",
      "\n",
      "    accuracy                           0.55    111706\n",
      "   macro avg       0.53      0.54      0.51    111706\n",
      "weighted avg       0.53      0.55      0.52    111706\n",
      "\n"
     ]
    },
    {
     "name": "stderr",
     "output_type": "stream",
     "text": [
      "100%|██████████| 45/45 [00:00<00:00, 764.01it/s]"
     ]
    },
    {
     "name": "stdout",
     "output_type": "stream",
     "text": [
      "Epoch: 80   Loss: 1.1384140253067017\n"
     ]
    },
    {
     "name": "stderr",
     "output_type": "stream",
     "text": [
      "\n"
     ]
    },
    {
     "name": "stdout",
     "output_type": "stream",
     "text": [
      "              precision    recall  f1-score   support\n",
      "\n",
      "           0       0.47      0.59      0.52     14560\n",
      "           1       0.42      0.25      0.31     14720\n",
      "           2       0.47      0.54      0.50     18960\n",
      "           3       0.61      0.89      0.73     16240\n",
      "           4       0.70      0.94      0.80     16720\n",
      "           5       0.48      0.26      0.34     15680\n",
      "           6       0.53      0.32      0.40     16240\n",
      "\n",
      "    accuracy                           0.55    113120\n",
      "   macro avg       0.53      0.54      0.52    113120\n",
      "weighted avg       0.53      0.55      0.52    113120\n",
      "\n"
     ]
    },
    {
     "name": "stderr",
     "output_type": "stream",
     "text": [
      "100%|██████████| 45/45 [00:00<00:00, 927.82it/s]"
     ]
    },
    {
     "name": "stdout",
     "output_type": "stream",
     "text": [
      "Epoch: 81   Loss: 0.962358295917511\n"
     ]
    },
    {
     "name": "stderr",
     "output_type": "stream",
     "text": [
      "\n"
     ]
    },
    {
     "name": "stdout",
     "output_type": "stream",
     "text": [
      "              precision    recall  f1-score   support\n",
      "\n",
      "           0       0.47      0.59      0.52     14742\n",
      "           1       0.42      0.25      0.31     14904\n",
      "           2       0.47      0.54      0.50     19197\n",
      "           3       0.62      0.89      0.73     16443\n",
      "           4       0.70      0.94      0.80     16929\n",
      "           5       0.48      0.26      0.34     15876\n",
      "           6       0.54      0.32      0.40     16443\n",
      "\n",
      "    accuracy                           0.55    114534\n",
      "   macro avg       0.53      0.54      0.52    114534\n",
      "weighted avg       0.53      0.55      0.52    114534\n",
      "\n"
     ]
    },
    {
     "name": "stderr",
     "output_type": "stream",
     "text": [
      "100%|██████████| 45/45 [00:00<00:00, 851.63it/s]"
     ]
    },
    {
     "name": "stdout",
     "output_type": "stream",
     "text": [
      "Epoch: 82   Loss: 1.2144888639450073\n"
     ]
    },
    {
     "name": "stderr",
     "output_type": "stream",
     "text": [
      "\n"
     ]
    },
    {
     "name": "stdout",
     "output_type": "stream",
     "text": [
      "              precision    recall  f1-score   support\n",
      "\n",
      "           0       0.47      0.59      0.52     14924\n",
      "           1       0.43      0.25      0.31     15088\n",
      "           2       0.47      0.54      0.50     19434\n",
      "           3       0.62      0.89      0.73     16646\n",
      "           4       0.70      0.94      0.80     17138\n",
      "           5       0.48      0.27      0.34     16072\n",
      "           6       0.54      0.32      0.40     16646\n",
      "\n",
      "    accuracy                           0.55    115948\n",
      "   macro avg       0.53      0.54      0.52    115948\n",
      "weighted avg       0.53      0.55      0.52    115948\n",
      "\n"
     ]
    },
    {
     "name": "stderr",
     "output_type": "stream",
     "text": [
      "100%|██████████| 45/45 [00:00<00:00, 854.02it/s]\n"
     ]
    },
    {
     "name": "stdout",
     "output_type": "stream",
     "text": [
      "Epoch: 83   Loss: 2.010932207107544\n",
      "              precision    recall  f1-score   support\n",
      "\n",
      "           0       0.47      0.59      0.53     15106\n",
      "           1       0.43      0.25      0.31     15272\n",
      "           2       0.47      0.54      0.51     19671\n",
      "           3       0.62      0.89      0.73     16849\n",
      "           4       0.70      0.94      0.80     17347\n",
      "           5       0.49      0.27      0.35     16268\n",
      "           6       0.54      0.32      0.40     16849\n",
      "\n",
      "    accuracy                           0.55    117362\n",
      "   macro avg       0.53      0.54      0.52    117362\n",
      "weighted avg       0.53      0.55      0.52    117362\n",
      "\n"
     ]
    },
    {
     "name": "stderr",
     "output_type": "stream",
     "text": [
      "100%|██████████| 45/45 [00:00<00:00, 859.09it/s]"
     ]
    },
    {
     "name": "stdout",
     "output_type": "stream",
     "text": [
      "Epoch: 84   Loss: 1.0247727632522583\n"
     ]
    },
    {
     "name": "stderr",
     "output_type": "stream",
     "text": [
      "\n"
     ]
    },
    {
     "name": "stdout",
     "output_type": "stream",
     "text": [
      "              precision    recall  f1-score   support\n",
      "\n",
      "           0       0.47      0.59      0.53     15288\n",
      "           1       0.43      0.25      0.31     15456\n",
      "           2       0.47      0.54      0.51     19908\n",
      "           3       0.62      0.89      0.73     17052\n",
      "           4       0.70      0.94      0.80     17556\n",
      "           5       0.49      0.27      0.35     16464\n",
      "           6       0.54      0.33      0.41     17052\n",
      "\n",
      "    accuracy                           0.55    118776\n",
      "   macro avg       0.53      0.55      0.52    118776\n",
      "weighted avg       0.53      0.55      0.52    118776\n",
      "\n"
     ]
    },
    {
     "name": "stderr",
     "output_type": "stream",
     "text": [
      "100%|██████████| 45/45 [00:00<00:00, 854.27it/s]"
     ]
    },
    {
     "name": "stdout",
     "output_type": "stream",
     "text": [
      "Epoch: 85   Loss: 1.5205587148666382\n"
     ]
    },
    {
     "name": "stderr",
     "output_type": "stream",
     "text": [
      "\n"
     ]
    },
    {
     "name": "stdout",
     "output_type": "stream",
     "text": [
      "              precision    recall  f1-score   support\n",
      "\n",
      "           0       0.47      0.59      0.53     15470\n",
      "           1       0.43      0.25      0.31     15640\n",
      "           2       0.48      0.54      0.51     20145\n",
      "           3       0.62      0.89      0.73     17255\n",
      "           4       0.70      0.94      0.80     17765\n",
      "           5       0.49      0.27      0.35     16660\n",
      "           6       0.54      0.33      0.41     17255\n",
      "\n",
      "    accuracy                           0.55    120190\n",
      "   macro avg       0.53      0.55      0.52    120190\n",
      "weighted avg       0.53      0.55      0.52    120190\n",
      "\n"
     ]
    },
    {
     "name": "stderr",
     "output_type": "stream",
     "text": [
      "100%|██████████| 45/45 [00:00<00:00, 860.30it/s]"
     ]
    },
    {
     "name": "stdout",
     "output_type": "stream",
     "text": [
      "Epoch: 86   Loss: 0.9430174231529236\n"
     ]
    },
    {
     "name": "stderr",
     "output_type": "stream",
     "text": [
      "\n"
     ]
    },
    {
     "name": "stdout",
     "output_type": "stream",
     "text": [
      "              precision    recall  f1-score   support\n",
      "\n",
      "           0       0.47      0.60      0.53     15652\n",
      "           1       0.43      0.25      0.32     15824\n",
      "           2       0.48      0.55      0.51     20382\n",
      "           3       0.62      0.89      0.73     17458\n",
      "           4       0.70      0.94      0.80     17974\n",
      "           5       0.49      0.28      0.35     16856\n",
      "           6       0.54      0.33      0.41     17458\n",
      "\n",
      "    accuracy                           0.55    121604\n",
      "   macro avg       0.53      0.55      0.52    121604\n",
      "weighted avg       0.54      0.55      0.53    121604\n",
      "\n"
     ]
    },
    {
     "name": "stderr",
     "output_type": "stream",
     "text": [
      "100%|██████████| 45/45 [00:00<00:00, 847.33it/s]"
     ]
    },
    {
     "name": "stdout",
     "output_type": "stream",
     "text": [
      "Epoch: 87   Loss: 0.9781984686851501\n"
     ]
    },
    {
     "name": "stderr",
     "output_type": "stream",
     "text": [
      "\n"
     ]
    },
    {
     "name": "stdout",
     "output_type": "stream",
     "text": [
      "              precision    recall  f1-score   support\n",
      "\n",
      "           0       0.48      0.60      0.53     15834\n",
      "           1       0.43      0.25      0.32     16008\n",
      "           2       0.48      0.55      0.51     20619\n",
      "           3       0.62      0.89      0.73     17661\n",
      "           4       0.70      0.94      0.81     18183\n",
      "           5       0.49      0.28      0.35     17052\n",
      "           6       0.54      0.33      0.41     17661\n",
      "\n",
      "    accuracy                           0.55    123018\n",
      "   macro avg       0.53      0.55      0.52    123018\n",
      "weighted avg       0.54      0.55      0.53    123018\n",
      "\n"
     ]
    },
    {
     "name": "stderr",
     "output_type": "stream",
     "text": [
      "100%|██████████| 45/45 [00:00<00:00, 900.25it/s]\n"
     ]
    },
    {
     "name": "stdout",
     "output_type": "stream",
     "text": [
      "Epoch: 88   Loss: 0.5624479651451111\n",
      "              precision    recall  f1-score   support\n",
      "\n",
      "           0       0.48      0.60      0.53     16016\n",
      "           1       0.43      0.25      0.32     16192\n",
      "           2       0.48      0.55      0.51     20856\n",
      "           3       0.62      0.89      0.73     17864\n",
      "           4       0.70      0.94      0.81     18392\n",
      "           5       0.49      0.28      0.36     17248\n",
      "           6       0.54      0.33      0.41     17864\n",
      "\n",
      "    accuracy                           0.56    124432\n",
      "   macro avg       0.54      0.55      0.52    124432\n",
      "weighted avg       0.54      0.56      0.53    124432\n",
      "\n"
     ]
    },
    {
     "name": "stderr",
     "output_type": "stream",
     "text": [
      "100%|██████████| 45/45 [00:00<00:00, 740.14it/s]"
     ]
    },
    {
     "name": "stdout",
     "output_type": "stream",
     "text": [
      "Epoch: 89   Loss: 1.2875174283981323\n"
     ]
    },
    {
     "name": "stderr",
     "output_type": "stream",
     "text": [
      "\n"
     ]
    },
    {
     "name": "stdout",
     "output_type": "stream",
     "text": [
      "              precision    recall  f1-score   support\n",
      "\n",
      "           0       0.48      0.60      0.53     16198\n",
      "           1       0.43      0.25      0.32     16376\n",
      "           2       0.48      0.55      0.51     21093\n",
      "           3       0.62      0.89      0.74     18067\n",
      "           4       0.70      0.94      0.81     18601\n",
      "           5       0.49      0.28      0.36     17444\n",
      "           6       0.54      0.33      0.41     18067\n",
      "\n",
      "    accuracy                           0.56    125846\n",
      "   macro avg       0.54      0.55      0.52    125846\n",
      "weighted avg       0.54      0.56      0.53    125846\n",
      "\n"
     ]
    },
    {
     "name": "stderr",
     "output_type": "stream",
     "text": [
      "100%|██████████| 45/45 [00:00<00:00, 902.95it/s]"
     ]
    },
    {
     "name": "stdout",
     "output_type": "stream",
     "text": [
      "Epoch: 90   Loss: 0.6120255589485168\n"
     ]
    },
    {
     "name": "stderr",
     "output_type": "stream",
     "text": [
      "\n"
     ]
    },
    {
     "name": "stdout",
     "output_type": "stream",
     "text": [
      "              precision    recall  f1-score   support\n",
      "\n",
      "           0       0.48      0.60      0.53     16380\n",
      "           1       0.44      0.25      0.32     16560\n",
      "           2       0.48      0.55      0.51     21330\n",
      "           3       0.63      0.89      0.74     18270\n",
      "           4       0.70      0.94      0.81     18810\n",
      "           5       0.49      0.28      0.36     17640\n",
      "           6       0.54      0.34      0.42     18270\n",
      "\n",
      "    accuracy                           0.56    127260\n",
      "   macro avg       0.54      0.55      0.53    127260\n",
      "weighted avg       0.54      0.56      0.53    127260\n",
      "\n"
     ]
    },
    {
     "name": "stderr",
     "output_type": "stream",
     "text": [
      "100%|██████████| 45/45 [00:00<00:00, 821.27it/s]"
     ]
    },
    {
     "name": "stdout",
     "output_type": "stream",
     "text": [
      "Epoch: 91   Loss: 1.6691080331802368\n"
     ]
    },
    {
     "name": "stderr",
     "output_type": "stream",
     "text": [
      "\n"
     ]
    },
    {
     "name": "stdout",
     "output_type": "stream",
     "text": [
      "              precision    recall  f1-score   support\n",
      "\n",
      "           0       0.48      0.60      0.53     16562\n",
      "           1       0.44      0.25      0.32     16744\n",
      "           2       0.48      0.55      0.52     21567\n",
      "           3       0.63      0.89      0.74     18473\n",
      "           4       0.70      0.94      0.81     19019\n",
      "           5       0.49      0.29      0.36     17836\n",
      "           6       0.54      0.34      0.42     18473\n",
      "\n",
      "    accuracy                           0.56    128674\n",
      "   macro avg       0.54      0.55      0.53    128674\n",
      "weighted avg       0.54      0.56      0.53    128674\n",
      "\n"
     ]
    },
    {
     "name": "stderr",
     "output_type": "stream",
     "text": [
      "100%|██████████| 45/45 [00:00<00:00, 825.65it/s]"
     ]
    },
    {
     "name": "stdout",
     "output_type": "stream",
     "text": [
      "Epoch: 92   Loss: 0.8051326870918274\n"
     ]
    },
    {
     "name": "stderr",
     "output_type": "stream",
     "text": [
      "\n"
     ]
    },
    {
     "name": "stdout",
     "output_type": "stream",
     "text": [
      "              precision    recall  f1-score   support\n",
      "\n",
      "           0       0.48      0.60      0.53     16744\n",
      "           1       0.44      0.25      0.32     16928\n",
      "           2       0.48      0.55      0.52     21804\n",
      "           3       0.63      0.89      0.74     18676\n",
      "           4       0.70      0.94      0.81     19228\n",
      "           5       0.49      0.29      0.36     18032\n",
      "           6       0.54      0.34      0.42     18676\n",
      "\n",
      "    accuracy                           0.56    130088\n",
      "   macro avg       0.54      0.55      0.53    130088\n",
      "weighted avg       0.54      0.56      0.53    130088\n",
      "\n"
     ]
    },
    {
     "name": "stderr",
     "output_type": "stream",
     "text": [
      "100%|██████████| 45/45 [00:00<00:00, 867.28it/s]"
     ]
    },
    {
     "name": "stdout",
     "output_type": "stream",
     "text": [
      "Epoch: 93   Loss: 0.8703226447105408\n"
     ]
    },
    {
     "name": "stderr",
     "output_type": "stream",
     "text": [
      "\n"
     ]
    },
    {
     "name": "stdout",
     "output_type": "stream",
     "text": [
      "              precision    recall  f1-score   support\n",
      "\n",
      "           0       0.48      0.60      0.53     16926\n",
      "           1       0.44      0.25      0.32     17112\n",
      "           2       0.49      0.55      0.52     22041\n",
      "           3       0.63      0.89      0.74     18879\n",
      "           4       0.70      0.94      0.81     19437\n",
      "           5       0.50      0.29      0.37     18228\n",
      "           6       0.55      0.34      0.42     18879\n",
      "\n",
      "    accuracy                           0.56    131502\n",
      "   macro avg       0.54      0.55      0.53    131502\n",
      "weighted avg       0.54      0.56      0.53    131502\n",
      "\n"
     ]
    },
    {
     "name": "stderr",
     "output_type": "stream",
     "text": [
      "100%|██████████| 45/45 [00:00<00:00, 887.56it/s]"
     ]
    },
    {
     "name": "stdout",
     "output_type": "stream",
     "text": [
      "Epoch: 94   Loss: 1.229024887084961\n"
     ]
    },
    {
     "name": "stderr",
     "output_type": "stream",
     "text": [
      "\n"
     ]
    },
    {
     "name": "stdout",
     "output_type": "stream",
     "text": [
      "              precision    recall  f1-score   support\n",
      "\n",
      "           0       0.48      0.60      0.53     17108\n",
      "           1       0.44      0.25      0.32     17296\n",
      "           2       0.49      0.56      0.52     22278\n",
      "           3       0.63      0.90      0.74     19082\n",
      "           4       0.71      0.94      0.81     19646\n",
      "           5       0.50      0.29      0.37     18424\n",
      "           6       0.55      0.34      0.42     19082\n",
      "\n",
      "    accuracy                           0.56    132916\n",
      "   macro avg       0.54      0.55      0.53    132916\n",
      "weighted avg       0.54      0.56      0.53    132916\n",
      "\n"
     ]
    },
    {
     "name": "stderr",
     "output_type": "stream",
     "text": [
      "100%|██████████| 45/45 [00:00<00:00, 894.49it/s]"
     ]
    },
    {
     "name": "stdout",
     "output_type": "stream",
     "text": [
      "Epoch: 95   Loss: 1.7846101522445679\n"
     ]
    },
    {
     "name": "stderr",
     "output_type": "stream",
     "text": [
      "\n"
     ]
    },
    {
     "name": "stdout",
     "output_type": "stream",
     "text": [
      "              precision    recall  f1-score   support\n",
      "\n",
      "           0       0.48      0.60      0.53     17290\n",
      "           1       0.44      0.25      0.32     17480\n",
      "           2       0.49      0.56      0.52     22515\n",
      "           3       0.63      0.90      0.74     19285\n",
      "           4       0.71      0.94      0.81     19855\n",
      "           5       0.50      0.30      0.37     18620\n",
      "           6       0.55      0.34      0.42     19285\n",
      "\n",
      "    accuracy                           0.56    134330\n",
      "   macro avg       0.54      0.56      0.53    134330\n",
      "weighted avg       0.54      0.56      0.54    134330\n",
      "\n"
     ]
    },
    {
     "name": "stderr",
     "output_type": "stream",
     "text": [
      "100%|██████████| 45/45 [00:00<00:00, 795.78it/s]"
     ]
    },
    {
     "name": "stdout",
     "output_type": "stream",
     "text": [
      "Epoch: 96   Loss: 1.2927156686782837\n"
     ]
    },
    {
     "name": "stderr",
     "output_type": "stream",
     "text": [
      "\n"
     ]
    },
    {
     "name": "stdout",
     "output_type": "stream",
     "text": [
      "              precision    recall  f1-score   support\n",
      "\n",
      "           0       0.48      0.60      0.54     17472\n",
      "           1       0.44      0.25      0.32     17664\n",
      "           2       0.49      0.56      0.52     22752\n",
      "           3       0.63      0.90      0.74     19488\n",
      "           4       0.71      0.94      0.81     20064\n",
      "           5       0.50      0.30      0.37     18816\n",
      "           6       0.55      0.35      0.42     19488\n",
      "\n",
      "    accuracy                           0.56    135744\n",
      "   macro avg       0.54      0.56      0.53    135744\n",
      "weighted avg       0.54      0.56      0.54    135744\n",
      "\n"
     ]
    },
    {
     "name": "stderr",
     "output_type": "stream",
     "text": [
      "100%|██████████| 45/45 [00:00<00:00, 838.24it/s]"
     ]
    },
    {
     "name": "stdout",
     "output_type": "stream",
     "text": [
      "Epoch: 97   Loss: 0.47949811816215515\n"
     ]
    },
    {
     "name": "stderr",
     "output_type": "stream",
     "text": [
      "\n"
     ]
    },
    {
     "name": "stdout",
     "output_type": "stream",
     "text": [
      "              precision    recall  f1-score   support\n",
      "\n",
      "           0       0.48      0.60      0.54     17654\n",
      "           1       0.44      0.25      0.32     17848\n",
      "           2       0.49      0.56      0.52     22989\n",
      "           3       0.63      0.90      0.74     19691\n",
      "           4       0.71      0.94      0.81     20273\n",
      "           5       0.50      0.30      0.37     19012\n",
      "           6       0.55      0.35      0.43     19691\n",
      "\n",
      "    accuracy                           0.56    137158\n",
      "   macro avg       0.54      0.56      0.53    137158\n",
      "weighted avg       0.55      0.56      0.54    137158\n",
      "\n"
     ]
    },
    {
     "name": "stderr",
     "output_type": "stream",
     "text": [
      "100%|██████████| 45/45 [00:00<00:00, 879.65it/s]"
     ]
    },
    {
     "name": "stdout",
     "output_type": "stream",
     "text": [
      "Epoch: 98   Loss: 1.5873838663101196\n"
     ]
    },
    {
     "name": "stderr",
     "output_type": "stream",
     "text": [
      "\n"
     ]
    },
    {
     "name": "stdout",
     "output_type": "stream",
     "text": [
      "              precision    recall  f1-score   support\n",
      "\n",
      "           0       0.48      0.60      0.54     17836\n",
      "           1       0.44      0.25      0.32     18032\n",
      "           2       0.49      0.56      0.52     23226\n",
      "           3       0.63      0.90      0.74     19894\n",
      "           4       0.71      0.94      0.81     20482\n",
      "           5       0.50      0.30      0.38     19208\n",
      "           6       0.55      0.35      0.43     19894\n",
      "\n",
      "    accuracy                           0.56    138572\n",
      "   macro avg       0.54      0.56      0.53    138572\n",
      "weighted avg       0.55      0.56      0.54    138572\n",
      "\n"
     ]
    },
    {
     "name": "stderr",
     "output_type": "stream",
     "text": [
      "100%|██████████| 45/45 [00:00<00:00, 726.77it/s]"
     ]
    },
    {
     "name": "stdout",
     "output_type": "stream",
     "text": [
      "Epoch: 99   Loss: 0.9526664614677429\n"
     ]
    },
    {
     "name": "stderr",
     "output_type": "stream",
     "text": [
      "\n"
     ]
    },
    {
     "name": "stdout",
     "output_type": "stream",
     "text": [
      "              precision    recall  f1-score   support\n",
      "\n",
      "           0       0.49      0.60      0.54     18018\n",
      "           1       0.44      0.25      0.32     18216\n",
      "           2       0.49      0.56      0.52     23463\n",
      "           3       0.63      0.90      0.74     20097\n",
      "           4       0.71      0.94      0.81     20691\n",
      "           5       0.50      0.30      0.38     19404\n",
      "           6       0.55      0.35      0.43     20097\n",
      "\n",
      "    accuracy                           0.56    139986\n",
      "   macro avg       0.55      0.56      0.53    139986\n",
      "weighted avg       0.55      0.56      0.54    139986\n",
      "\n"
     ]
    },
    {
     "name": "stderr",
     "output_type": "stream",
     "text": [
      "100%|██████████| 45/45 [00:00<00:00, 712.43it/s]"
     ]
    },
    {
     "name": "stdout",
     "output_type": "stream",
     "text": [
      "Epoch: 100   Loss: 1.0298677682876587\n"
     ]
    },
    {
     "name": "stderr",
     "output_type": "stream",
     "text": [
      "\n"
     ]
    },
    {
     "name": "stdout",
     "output_type": "stream",
     "text": [
      "              precision    recall  f1-score   support\n",
      "\n",
      "           0       0.49      0.60      0.54     18200\n",
      "           1       0.45      0.25      0.32     18400\n",
      "           2       0.49      0.56      0.52     23700\n",
      "           3       0.64      0.90      0.74     20300\n",
      "           4       0.71      0.94      0.81     20900\n",
      "           5       0.50      0.30      0.38     19600\n",
      "           6       0.55      0.35      0.43     20300\n",
      "\n",
      "    accuracy                           0.57    141400\n",
      "   macro avg       0.55      0.56      0.54    141400\n",
      "weighted avg       0.55      0.57      0.54    141400\n",
      "\n"
     ]
    },
    {
     "name": "stderr",
     "output_type": "stream",
     "text": [
      "100%|██████████| 45/45 [00:00<00:00, 877.86it/s]"
     ]
    },
    {
     "name": "stdout",
     "output_type": "stream",
     "text": [
      "Epoch: 101   Loss: 1.3664990663528442\n"
     ]
    },
    {
     "name": "stderr",
     "output_type": "stream",
     "text": [
      "\n"
     ]
    },
    {
     "name": "stdout",
     "output_type": "stream",
     "text": [
      "              precision    recall  f1-score   support\n",
      "\n",
      "           0       0.49      0.60      0.54     18382\n",
      "           1       0.45      0.25      0.32     18584\n",
      "           2       0.49      0.56      0.53     23937\n",
      "           3       0.64      0.90      0.74     20503\n",
      "           4       0.71      0.94      0.81     21109\n",
      "           5       0.50      0.31      0.38     19796\n",
      "           6       0.55      0.35      0.43     20503\n",
      "\n",
      "    accuracy                           0.57    142814\n",
      "   macro avg       0.55      0.56      0.54    142814\n",
      "weighted avg       0.55      0.57      0.54    142814\n",
      "\n"
     ]
    },
    {
     "name": "stderr",
     "output_type": "stream",
     "text": [
      "100%|██████████| 45/45 [00:00<00:00, 883.92it/s]"
     ]
    },
    {
     "name": "stdout",
     "output_type": "stream",
     "text": [
      "Epoch: 102   Loss: 0.7601168155670166\n"
     ]
    },
    {
     "name": "stderr",
     "output_type": "stream",
     "text": [
      "\n"
     ]
    },
    {
     "name": "stdout",
     "output_type": "stream",
     "text": [
      "              precision    recall  f1-score   support\n",
      "\n",
      "           0       0.49      0.60      0.54     18564\n",
      "           1       0.45      0.25      0.32     18768\n",
      "           2       0.50      0.56      0.53     24174\n",
      "           3       0.64      0.90      0.74     20706\n",
      "           4       0.71      0.95      0.81     21318\n",
      "           5       0.50      0.31      0.38     19992\n",
      "           6       0.55      0.36      0.43     20706\n",
      "\n",
      "    accuracy                           0.57    144228\n",
      "   macro avg       0.55      0.56      0.54    144228\n",
      "weighted avg       0.55      0.57      0.54    144228\n",
      "\n"
     ]
    },
    {
     "name": "stderr",
     "output_type": "stream",
     "text": [
      "100%|██████████| 45/45 [00:00<00:00, 893.18it/s]"
     ]
    },
    {
     "name": "stdout",
     "output_type": "stream",
     "text": [
      "Epoch: 103   Loss: 0.6625126600265503\n"
     ]
    },
    {
     "name": "stderr",
     "output_type": "stream",
     "text": [
      "\n"
     ]
    },
    {
     "name": "stdout",
     "output_type": "stream",
     "text": [
      "              precision    recall  f1-score   support\n",
      "\n",
      "           0       0.49      0.60      0.54     18746\n",
      "           1       0.45      0.26      0.33     18952\n",
      "           2       0.50      0.56      0.53     24411\n",
      "           3       0.64      0.90      0.75     20909\n",
      "           4       0.71      0.94      0.81     21527\n",
      "           5       0.51      0.31      0.38     20188\n",
      "           6       0.55      0.36      0.43     20909\n",
      "\n",
      "    accuracy                           0.57    145642\n",
      "   macro avg       0.55      0.56      0.54    145642\n",
      "weighted avg       0.55      0.57      0.54    145642\n",
      "\n"
     ]
    },
    {
     "name": "stderr",
     "output_type": "stream",
     "text": [
      "100%|██████████| 45/45 [00:00<00:00, 895.40it/s]"
     ]
    },
    {
     "name": "stdout",
     "output_type": "stream",
     "text": [
      "Epoch: 104   Loss: 1.2075046300888062\n"
     ]
    },
    {
     "name": "stderr",
     "output_type": "stream",
     "text": [
      "\n"
     ]
    },
    {
     "name": "stdout",
     "output_type": "stream",
     "text": [
      "              precision    recall  f1-score   support\n",
      "\n",
      "           0       0.49      0.60      0.54     18928\n",
      "           1       0.45      0.26      0.33     19136\n",
      "           2       0.50      0.57      0.53     24648\n",
      "           3       0.64      0.90      0.75     21112\n",
      "           4       0.71      0.95      0.81     21736\n",
      "           5       0.51      0.31      0.39     20384\n",
      "           6       0.56      0.36      0.44     21112\n",
      "\n",
      "    accuracy                           0.57    147056\n",
      "   macro avg       0.55      0.56      0.54    147056\n",
      "weighted avg       0.55      0.57      0.54    147056\n",
      "\n"
     ]
    },
    {
     "name": "stderr",
     "output_type": "stream",
     "text": [
      "100%|██████████| 45/45 [00:00<00:00, 863.90it/s]"
     ]
    },
    {
     "name": "stdout",
     "output_type": "stream",
     "text": [
      "Epoch: 105   Loss: 1.0960501432418823\n"
     ]
    },
    {
     "name": "stderr",
     "output_type": "stream",
     "text": [
      "\n"
     ]
    },
    {
     "name": "stdout",
     "output_type": "stream",
     "text": [
      "              precision    recall  f1-score   support\n",
      "\n",
      "           0       0.49      0.60      0.54     19110\n",
      "           1       0.45      0.26      0.33     19320\n",
      "           2       0.50      0.57      0.53     24885\n",
      "           3       0.64      0.90      0.75     21315\n",
      "           4       0.71      0.95      0.81     21945\n",
      "           5       0.51      0.31      0.39     20580\n",
      "           6       0.56      0.36      0.44     21315\n",
      "\n",
      "    accuracy                           0.57    148470\n",
      "   macro avg       0.55      0.56      0.54    148470\n",
      "weighted avg       0.55      0.57      0.54    148470\n",
      "\n"
     ]
    },
    {
     "name": "stderr",
     "output_type": "stream",
     "text": [
      "100%|██████████| 45/45 [00:00<00:00, 947.57it/s]"
     ]
    },
    {
     "name": "stdout",
     "output_type": "stream",
     "text": [
      "Epoch: 106   Loss: 0.994075357913971\n"
     ]
    },
    {
     "name": "stderr",
     "output_type": "stream",
     "text": [
      "\n"
     ]
    },
    {
     "name": "stdout",
     "output_type": "stream",
     "text": [
      "              precision    recall  f1-score   support\n",
      "\n",
      "           0       0.49      0.61      0.54     19292\n",
      "           1       0.45      0.26      0.33     19504\n",
      "           2       0.50      0.57      0.53     25122\n",
      "           3       0.64      0.90      0.75     21518\n",
      "           4       0.71      0.95      0.81     22154\n",
      "           5       0.51      0.31      0.39     20776\n",
      "           6       0.56      0.36      0.44     21518\n",
      "\n",
      "    accuracy                           0.57    149884\n",
      "   macro avg       0.55      0.56      0.54    149884\n",
      "weighted avg       0.55      0.57      0.55    149884\n",
      "\n"
     ]
    },
    {
     "name": "stderr",
     "output_type": "stream",
     "text": [
      "100%|██████████| 45/45 [00:00<00:00, 816.65it/s]"
     ]
    },
    {
     "name": "stdout",
     "output_type": "stream",
     "text": [
      "Epoch: 107   Loss: 0.6463714241981506\n"
     ]
    },
    {
     "name": "stderr",
     "output_type": "stream",
     "text": [
      "\n"
     ]
    },
    {
     "name": "stdout",
     "output_type": "stream",
     "text": [
      "              precision    recall  f1-score   support\n",
      "\n",
      "           0       0.49      0.61      0.54     19474\n",
      "           1       0.45      0.26      0.33     19688\n",
      "           2       0.50      0.57      0.53     25359\n",
      "           3       0.64      0.90      0.75     21721\n",
      "           4       0.71      0.95      0.81     22363\n",
      "           5       0.51      0.32      0.39     20972\n",
      "           6       0.56      0.36      0.44     21721\n",
      "\n",
      "    accuracy                           0.57    151298\n",
      "   macro avg       0.55      0.56      0.54    151298\n",
      "weighted avg       0.55      0.57      0.55    151298\n",
      "\n"
     ]
    },
    {
     "name": "stderr",
     "output_type": "stream",
     "text": [
      "100%|██████████| 45/45 [00:00<00:00, 918.08it/s]"
     ]
    },
    {
     "name": "stdout",
     "output_type": "stream",
     "text": [
      "Epoch: 108   Loss: 0.8052709698677063\n"
     ]
    },
    {
     "name": "stderr",
     "output_type": "stream",
     "text": [
      "\n"
     ]
    },
    {
     "name": "stdout",
     "output_type": "stream",
     "text": [
      "              precision    recall  f1-score   support\n",
      "\n",
      "           0       0.49      0.61      0.54     19656\n",
      "           1       0.45      0.26      0.33     19872\n",
      "           2       0.50      0.57      0.53     25596\n",
      "           3       0.64      0.90      0.75     21924\n",
      "           4       0.71      0.95      0.81     22572\n",
      "           5       0.51      0.32      0.39     21168\n",
      "           6       0.56      0.37      0.44     21924\n",
      "\n",
      "    accuracy                           0.57    152712\n",
      "   macro avg       0.55      0.57      0.54    152712\n",
      "weighted avg       0.55      0.57      0.55    152712\n",
      "\n"
     ]
    },
    {
     "name": "stderr",
     "output_type": "stream",
     "text": [
      "100%|██████████| 45/45 [00:00<00:00, 863.29it/s]"
     ]
    },
    {
     "name": "stdout",
     "output_type": "stream",
     "text": [
      "Epoch: 109   Loss: 0.9163625836372375\n"
     ]
    },
    {
     "name": "stderr",
     "output_type": "stream",
     "text": [
      "\n"
     ]
    },
    {
     "name": "stdout",
     "output_type": "stream",
     "text": [
      "              precision    recall  f1-score   support\n",
      "\n",
      "           0       0.49      0.61      0.54     19838\n",
      "           1       0.45      0.26      0.33     20056\n",
      "           2       0.50      0.57      0.53     25833\n",
      "           3       0.64      0.90      0.75     22127\n",
      "           4       0.71      0.95      0.81     22781\n",
      "           5       0.51      0.32      0.39     21364\n",
      "           6       0.56      0.37      0.44     22127\n",
      "\n",
      "    accuracy                           0.57    154126\n",
      "   macro avg       0.55      0.57      0.54    154126\n",
      "weighted avg       0.56      0.57      0.55    154126\n",
      "\n"
     ]
    },
    {
     "name": "stderr",
     "output_type": "stream",
     "text": [
      "100%|██████████| 45/45 [00:00<00:00, 838.36it/s]"
     ]
    },
    {
     "name": "stdout",
     "output_type": "stream",
     "text": [
      "Epoch: 110   Loss: 0.7114292979240417\n"
     ]
    },
    {
     "name": "stderr",
     "output_type": "stream",
     "text": [
      "\n"
     ]
    },
    {
     "name": "stdout",
     "output_type": "stream",
     "text": [
      "              precision    recall  f1-score   support\n",
      "\n",
      "           0       0.49      0.61      0.55     20020\n",
      "           1       0.45      0.26      0.33     20240\n",
      "           2       0.50      0.57      0.53     26070\n",
      "           3       0.64      0.90      0.75     22330\n",
      "           4       0.71      0.95      0.81     22990\n",
      "           5       0.51      0.32      0.39     21560\n",
      "           6       0.56      0.37      0.44     22330\n",
      "\n",
      "    accuracy                           0.57    155540\n",
      "   macro avg       0.55      0.57      0.54    155540\n",
      "weighted avg       0.56      0.57      0.55    155540\n",
      "\n"
     ]
    },
    {
     "name": "stderr",
     "output_type": "stream",
     "text": [
      "100%|██████████| 45/45 [00:00<00:00, 929.57it/s]"
     ]
    },
    {
     "name": "stdout",
     "output_type": "stream",
     "text": [
      "Epoch: 111   Loss: 0.9922246932983398\n"
     ]
    },
    {
     "name": "stderr",
     "output_type": "stream",
     "text": [
      "\n"
     ]
    },
    {
     "name": "stdout",
     "output_type": "stream",
     "text": [
      "              precision    recall  f1-score   support\n",
      "\n",
      "           0       0.50      0.61      0.55     20202\n",
      "           1       0.45      0.26      0.33     20424\n",
      "           2       0.50      0.57      0.54     26307\n",
      "           3       0.65      0.90      0.75     22533\n",
      "           4       0.71      0.95      0.81     23199\n",
      "           5       0.51      0.32      0.40     21756\n",
      "           6       0.56      0.37      0.45     22533\n",
      "\n",
      "    accuracy                           0.57    156954\n",
      "   macro avg       0.56      0.57      0.55    156954\n",
      "weighted avg       0.56      0.57      0.55    156954\n",
      "\n"
     ]
    },
    {
     "name": "stderr",
     "output_type": "stream",
     "text": [
      "100%|██████████| 45/45 [00:00<00:00, 849.53it/s]"
     ]
    },
    {
     "name": "stdout",
     "output_type": "stream",
     "text": [
      "Epoch: 112   Loss: 1.3434290885925293\n"
     ]
    },
    {
     "name": "stderr",
     "output_type": "stream",
     "text": [
      "\n"
     ]
    },
    {
     "name": "stdout",
     "output_type": "stream",
     "text": [
      "              precision    recall  f1-score   support\n",
      "\n",
      "           0       0.50      0.61      0.55     20384\n",
      "           1       0.46      0.26      0.33     20608\n",
      "           2       0.51      0.57      0.54     26544\n",
      "           3       0.65      0.90      0.75     22736\n",
      "           4       0.71      0.95      0.81     23408\n",
      "           5       0.51      0.33      0.40     21952\n",
      "           6       0.56      0.37      0.45     22736\n",
      "\n",
      "    accuracy                           0.57    158368\n",
      "   macro avg       0.56      0.57      0.55    158368\n",
      "weighted avg       0.56      0.57      0.55    158368\n",
      "\n"
     ]
    },
    {
     "name": "stderr",
     "output_type": "stream",
     "text": [
      "100%|██████████| 45/45 [00:00<00:00, 881.94it/s]"
     ]
    },
    {
     "name": "stdout",
     "output_type": "stream",
     "text": [
      "Epoch: 113   Loss: 1.312097430229187\n"
     ]
    },
    {
     "name": "stderr",
     "output_type": "stream",
     "text": [
      "\n"
     ]
    },
    {
     "name": "stdout",
     "output_type": "stream",
     "text": [
      "              precision    recall  f1-score   support\n",
      "\n",
      "           0       0.50      0.61      0.55     20566\n",
      "           1       0.46      0.26      0.33     20792\n",
      "           2       0.51      0.57      0.54     26781\n",
      "           3       0.65      0.90      0.75     22939\n",
      "           4       0.71      0.95      0.81     23617\n",
      "           5       0.51      0.33      0.40     22148\n",
      "           6       0.56      0.37      0.45     22939\n",
      "\n",
      "    accuracy                           0.58    159782\n",
      "   macro avg       0.56      0.57      0.55    159782\n",
      "weighted avg       0.56      0.58      0.55    159782\n",
      "\n"
     ]
    },
    {
     "name": "stderr",
     "output_type": "stream",
     "text": [
      "100%|██████████| 45/45 [00:00<00:00, 840.16it/s]"
     ]
    },
    {
     "name": "stdout",
     "output_type": "stream",
     "text": [
      "Epoch: 114   Loss: 0.9743819236755371\n"
     ]
    },
    {
     "name": "stderr",
     "output_type": "stream",
     "text": [
      "\n"
     ]
    },
    {
     "name": "stdout",
     "output_type": "stream",
     "text": [
      "              precision    recall  f1-score   support\n",
      "\n",
      "           0       0.50      0.61      0.55     20748\n",
      "           1       0.46      0.26      0.33     20976\n",
      "           2       0.51      0.57      0.54     27018\n",
      "           3       0.65      0.90      0.75     23142\n",
      "           4       0.71      0.95      0.81     23826\n",
      "           5       0.52      0.33      0.40     22344\n",
      "           6       0.56      0.37      0.45     23142\n",
      "\n",
      "    accuracy                           0.58    161196\n",
      "   macro avg       0.56      0.57      0.55    161196\n",
      "weighted avg       0.56      0.58      0.55    161196\n",
      "\n"
     ]
    },
    {
     "name": "stderr",
     "output_type": "stream",
     "text": [
      "100%|██████████| 45/45 [00:00<00:00, 847.48it/s]"
     ]
    },
    {
     "name": "stdout",
     "output_type": "stream",
     "text": [
      "Epoch: 115   Loss: 1.1048468351364136\n"
     ]
    },
    {
     "name": "stderr",
     "output_type": "stream",
     "text": [
      "\n"
     ]
    },
    {
     "name": "stdout",
     "output_type": "stream",
     "text": [
      "              precision    recall  f1-score   support\n",
      "\n",
      "           0       0.50      0.61      0.55     20930\n",
      "           1       0.46      0.26      0.33     21160\n",
      "           2       0.51      0.57      0.54     27255\n",
      "           3       0.65      0.90      0.75     23345\n",
      "           4       0.71      0.95      0.81     24035\n",
      "           5       0.52      0.33      0.40     22540\n",
      "           6       0.56      0.38      0.45     23345\n",
      "\n",
      "    accuracy                           0.58    162610\n",
      "   macro avg       0.56      0.57      0.55    162610\n",
      "weighted avg       0.56      0.58      0.55    162610\n",
      "\n"
     ]
    },
    {
     "name": "stderr",
     "output_type": "stream",
     "text": [
      "100%|██████████| 45/45 [00:00<00:00, 761.18it/s]"
     ]
    },
    {
     "name": "stdout",
     "output_type": "stream",
     "text": [
      "Epoch: 116   Loss: 1.62381112575531\n"
     ]
    },
    {
     "name": "stderr",
     "output_type": "stream",
     "text": [
      "\n"
     ]
    },
    {
     "name": "stdout",
     "output_type": "stream",
     "text": [
      "              precision    recall  f1-score   support\n",
      "\n",
      "           0       0.50      0.61      0.55     21112\n",
      "           1       0.46      0.26      0.33     21344\n",
      "           2       0.51      0.57      0.54     27492\n",
      "           3       0.65      0.90      0.75     23548\n",
      "           4       0.71      0.95      0.81     24244\n",
      "           5       0.52      0.33      0.40     22736\n",
      "           6       0.56      0.38      0.45     23548\n",
      "\n",
      "    accuracy                           0.58    164024\n",
      "   macro avg       0.56      0.57      0.55    164024\n",
      "weighted avg       0.56      0.58      0.55    164024\n",
      "\n"
     ]
    },
    {
     "name": "stderr",
     "output_type": "stream",
     "text": [
      "100%|██████████| 45/45 [00:00<00:00, 811.48it/s]"
     ]
    },
    {
     "name": "stdout",
     "output_type": "stream",
     "text": [
      "Epoch: 117   Loss: 0.8491494655609131\n"
     ]
    },
    {
     "name": "stderr",
     "output_type": "stream",
     "text": [
      "\n"
     ]
    },
    {
     "name": "stdout",
     "output_type": "stream",
     "text": [
      "              precision    recall  f1-score   support\n",
      "\n",
      "           0       0.50      0.61      0.55     21294\n",
      "           1       0.46      0.26      0.33     21528\n",
      "           2       0.51      0.58      0.54     27729\n",
      "           3       0.65      0.90      0.75     23751\n",
      "           4       0.71      0.95      0.81     24453\n",
      "           5       0.52      0.33      0.41     22932\n",
      "           6       0.57      0.38      0.45     23751\n",
      "\n",
      "    accuracy                           0.58    165438\n",
      "   macro avg       0.56      0.57      0.55    165438\n",
      "weighted avg       0.56      0.58      0.55    165438\n",
      "\n"
     ]
    },
    {
     "name": "stderr",
     "output_type": "stream",
     "text": [
      "100%|██████████| 45/45 [00:00<00:00, 768.85it/s]"
     ]
    },
    {
     "name": "stdout",
     "output_type": "stream",
     "text": [
      "Epoch: 118   Loss: 1.9026848077774048\n"
     ]
    },
    {
     "name": "stderr",
     "output_type": "stream",
     "text": [
      "\n"
     ]
    },
    {
     "name": "stdout",
     "output_type": "stream",
     "text": [
      "              precision    recall  f1-score   support\n",
      "\n",
      "           0       0.50      0.61      0.55     21476\n",
      "           1       0.46      0.26      0.33     21712\n",
      "           2       0.51      0.58      0.54     27966\n",
      "           3       0.65      0.90      0.75     23954\n",
      "           4       0.71      0.95      0.81     24662\n",
      "           5       0.52      0.34      0.41     23128\n",
      "           6       0.57      0.38      0.45     23954\n",
      "\n",
      "    accuracy                           0.58    166852\n",
      "   macro avg       0.56      0.57      0.55    166852\n",
      "weighted avg       0.56      0.58      0.56    166852\n",
      "\n"
     ]
    },
    {
     "name": "stderr",
     "output_type": "stream",
     "text": [
      "100%|██████████| 45/45 [00:00<00:00, 854.52it/s]"
     ]
    },
    {
     "name": "stdout",
     "output_type": "stream",
     "text": [
      "Epoch: 119   Loss: 0.5776472687721252\n"
     ]
    },
    {
     "name": "stderr",
     "output_type": "stream",
     "text": [
      "\n"
     ]
    },
    {
     "name": "stdout",
     "output_type": "stream",
     "text": [
      "              precision    recall  f1-score   support\n",
      "\n",
      "           0       0.50      0.61      0.55     21658\n",
      "           1       0.46      0.26      0.33     21896\n",
      "           2       0.51      0.58      0.54     28203\n",
      "           3       0.65      0.90      0.75     24157\n",
      "           4       0.72      0.95      0.81     24871\n",
      "           5       0.52      0.34      0.41     23324\n",
      "           6       0.57      0.38      0.46     24157\n",
      "\n",
      "    accuracy                           0.58    168266\n",
      "   macro avg       0.56      0.57      0.55    168266\n",
      "weighted avg       0.56      0.58      0.56    168266\n",
      "\n"
     ]
    },
    {
     "name": "stderr",
     "output_type": "stream",
     "text": [
      "100%|██████████| 45/45 [00:00<00:00, 851.81it/s]"
     ]
    },
    {
     "name": "stdout",
     "output_type": "stream",
     "text": [
      "Epoch: 120   Loss: 0.5377509593963623\n"
     ]
    },
    {
     "name": "stderr",
     "output_type": "stream",
     "text": [
      "\n"
     ]
    },
    {
     "name": "stdout",
     "output_type": "stream",
     "text": [
      "              precision    recall  f1-score   support\n",
      "\n",
      "           0       0.50      0.61      0.55     21840\n",
      "           1       0.46      0.26      0.34     22080\n",
      "           2       0.51      0.58      0.54     28440\n",
      "           3       0.65      0.90      0.76     24360\n",
      "           4       0.72      0.95      0.81     25080\n",
      "           5       0.52      0.34      0.41     23520\n",
      "           6       0.57      0.38      0.46     24360\n",
      "\n",
      "    accuracy                           0.58    169680\n",
      "   macro avg       0.56      0.57      0.55    169680\n",
      "weighted avg       0.56      0.58      0.56    169680\n",
      "\n"
     ]
    },
    {
     "name": "stderr",
     "output_type": "stream",
     "text": [
      "100%|██████████| 45/45 [00:00<00:00, 845.68it/s]"
     ]
    },
    {
     "name": "stdout",
     "output_type": "stream",
     "text": [
      "Epoch: 121   Loss: 1.1803523302078247\n"
     ]
    },
    {
     "name": "stderr",
     "output_type": "stream",
     "text": [
      "\n"
     ]
    },
    {
     "name": "stdout",
     "output_type": "stream",
     "text": [
      "              precision    recall  f1-score   support\n",
      "\n",
      "           0       0.50      0.61      0.55     22022\n",
      "           1       0.46      0.26      0.34     22264\n",
      "           2       0.51      0.58      0.54     28677\n",
      "           3       0.65      0.90      0.76     24563\n",
      "           4       0.72      0.95      0.82     25289\n",
      "           5       0.52      0.34      0.41     23716\n",
      "           6       0.57      0.38      0.46     24563\n",
      "\n",
      "    accuracy                           0.58    171094\n",
      "   macro avg       0.56      0.57      0.55    171094\n",
      "weighted avg       0.56      0.58      0.56    171094\n",
      "\n"
     ]
    },
    {
     "name": "stderr",
     "output_type": "stream",
     "text": [
      "100%|██████████| 45/45 [00:00<00:00, 850.57it/s]"
     ]
    },
    {
     "name": "stdout",
     "output_type": "stream",
     "text": [
      "Epoch: 122   Loss: 0.4488663673400879\n"
     ]
    },
    {
     "name": "stderr",
     "output_type": "stream",
     "text": [
      "\n"
     ]
    },
    {
     "name": "stdout",
     "output_type": "stream",
     "text": [
      "              precision    recall  f1-score   support\n",
      "\n",
      "           0       0.50      0.61      0.55     22204\n",
      "           1       0.46      0.26      0.34     22448\n",
      "           2       0.52      0.58      0.55     28914\n",
      "           3       0.65      0.90      0.76     24766\n",
      "           4       0.72      0.95      0.82     25498\n",
      "           5       0.52      0.34      0.41     23912\n",
      "           6       0.57      0.39      0.46     24766\n",
      "\n",
      "    accuracy                           0.58    172508\n",
      "   macro avg       0.56      0.58      0.55    172508\n",
      "weighted avg       0.56      0.58      0.56    172508\n",
      "\n"
     ]
    },
    {
     "name": "stderr",
     "output_type": "stream",
     "text": [
      "100%|██████████| 45/45 [00:00<00:00, 782.69it/s]\n"
     ]
    },
    {
     "name": "stdout",
     "output_type": "stream",
     "text": [
      "Epoch: 123   Loss: 0.903174877166748\n",
      "              precision    recall  f1-score   support\n",
      "\n",
      "           0       0.50      0.62      0.55     22386\n",
      "           1       0.46      0.26      0.34     22632\n",
      "           2       0.52      0.58      0.55     29151\n",
      "           3       0.65      0.90      0.76     24969\n",
      "           4       0.72      0.95      0.82     25707\n",
      "           5       0.52      0.34      0.41     24108\n",
      "           6       0.57      0.39      0.46     24969\n",
      "\n",
      "    accuracy                           0.58    173922\n",
      "   macro avg       0.56      0.58      0.55    173922\n",
      "weighted avg       0.57      0.58      0.56    173922\n",
      "\n"
     ]
    },
    {
     "name": "stderr",
     "output_type": "stream",
     "text": [
      "100%|██████████| 45/45 [00:00<00:00, 785.34it/s]"
     ]
    },
    {
     "name": "stdout",
     "output_type": "stream",
     "text": [
      "Epoch: 124   Loss: 0.662298858165741\n"
     ]
    },
    {
     "name": "stderr",
     "output_type": "stream",
     "text": [
      "\n"
     ]
    },
    {
     "name": "stdout",
     "output_type": "stream",
     "text": [
      "              precision    recall  f1-score   support\n",
      "\n",
      "           0       0.50      0.62      0.55     22568\n",
      "           1       0.46      0.27      0.34     22816\n",
      "           2       0.52      0.58      0.55     29388\n",
      "           3       0.66      0.90      0.76     25172\n",
      "           4       0.72      0.95      0.82     25916\n",
      "           5       0.52      0.34      0.41     24304\n",
      "           6       0.57      0.39      0.46     25172\n",
      "\n",
      "    accuracy                           0.58    175336\n",
      "   macro avg       0.56      0.58      0.56    175336\n",
      "weighted avg       0.57      0.58      0.56    175336\n",
      "\n"
     ]
    },
    {
     "name": "stderr",
     "output_type": "stream",
     "text": [
      "100%|██████████| 45/45 [00:00<00:00, 778.39it/s]"
     ]
    },
    {
     "name": "stdout",
     "output_type": "stream",
     "text": [
      "Epoch: 125   Loss: 0.38117340207099915\n"
     ]
    },
    {
     "name": "stderr",
     "output_type": "stream",
     "text": [
      "\n"
     ]
    },
    {
     "name": "stdout",
     "output_type": "stream",
     "text": [
      "              precision    recall  f1-score   support\n",
      "\n",
      "           0       0.51      0.62      0.56     22750\n",
      "           1       0.47      0.27      0.34     23000\n",
      "           2       0.52      0.58      0.55     29625\n",
      "           3       0.66      0.90      0.76     25375\n",
      "           4       0.72      0.95      0.82     26125\n",
      "           5       0.52      0.35      0.42     24500\n",
      "           6       0.57      0.39      0.46     25375\n",
      "\n",
      "    accuracy                           0.58    176750\n",
      "   macro avg       0.57      0.58      0.56    176750\n",
      "weighted avg       0.57      0.58      0.56    176750\n",
      "\n"
     ]
    },
    {
     "name": "stderr",
     "output_type": "stream",
     "text": [
      "100%|██████████| 45/45 [00:00<00:00, 886.22it/s]"
     ]
    },
    {
     "name": "stdout",
     "output_type": "stream",
     "text": [
      "Epoch: 126   Loss: 1.0473741292953491\n"
     ]
    },
    {
     "name": "stderr",
     "output_type": "stream",
     "text": [
      "\n"
     ]
    },
    {
     "name": "stdout",
     "output_type": "stream",
     "text": [
      "              precision    recall  f1-score   support\n",
      "\n",
      "           0       0.51      0.62      0.56     22932\n",
      "           1       0.47      0.27      0.34     23184\n",
      "           2       0.52      0.58      0.55     29862\n",
      "           3       0.66      0.90      0.76     25578\n",
      "           4       0.72      0.95      0.82     26334\n",
      "           5       0.52      0.35      0.42     24696\n",
      "           6       0.57      0.39      0.46     25578\n",
      "\n",
      "    accuracy                           0.58    178164\n",
      "   macro avg       0.57      0.58      0.56    178164\n",
      "weighted avg       0.57      0.58      0.56    178164\n",
      "\n"
     ]
    },
    {
     "name": "stderr",
     "output_type": "stream",
     "text": [
      "100%|██████████| 45/45 [00:00<00:00, 826.74it/s]"
     ]
    },
    {
     "name": "stdout",
     "output_type": "stream",
     "text": [
      "Epoch: 127   Loss: 0.414956659078598\n"
     ]
    },
    {
     "name": "stderr",
     "output_type": "stream",
     "text": [
      "\n"
     ]
    },
    {
     "name": "stdout",
     "output_type": "stream",
     "text": [
      "              precision    recall  f1-score   support\n",
      "\n",
      "           0       0.51      0.62      0.56     23114\n",
      "           1       0.47      0.27      0.34     23368\n",
      "           2       0.52      0.58      0.55     30099\n",
      "           3       0.66      0.90      0.76     25781\n",
      "           4       0.72      0.95      0.82     26543\n",
      "           5       0.52      0.35      0.42     24892\n",
      "           6       0.57      0.39      0.47     25781\n",
      "\n",
      "    accuracy                           0.59    179578\n",
      "   macro avg       0.57      0.58      0.56    179578\n",
      "weighted avg       0.57      0.59      0.56    179578\n",
      "\n"
     ]
    },
    {
     "name": "stderr",
     "output_type": "stream",
     "text": [
      "100%|██████████| 45/45 [00:00<00:00, 756.05it/s]"
     ]
    },
    {
     "name": "stdout",
     "output_type": "stream",
     "text": [
      "Epoch: 128   Loss: 0.7838334441184998\n"
     ]
    },
    {
     "name": "stderr",
     "output_type": "stream",
     "text": [
      "\n"
     ]
    },
    {
     "name": "stdout",
     "output_type": "stream",
     "text": [
      "              precision    recall  f1-score   support\n",
      "\n",
      "           0       0.51      0.62      0.56     23296\n",
      "           1       0.47      0.27      0.34     23552\n",
      "           2       0.52      0.58      0.55     30336\n",
      "           3       0.66      0.90      0.76     25984\n",
      "           4       0.72      0.95      0.82     26752\n",
      "           5       0.53      0.35      0.42     25088\n",
      "           6       0.57      0.39      0.47     25984\n",
      "\n",
      "    accuracy                           0.59    180992\n",
      "   macro avg       0.57      0.58      0.56    180992\n",
      "weighted avg       0.57      0.59      0.56    180992\n",
      "\n"
     ]
    },
    {
     "name": "stderr",
     "output_type": "stream",
     "text": [
      "100%|██████████| 45/45 [00:00<00:00, 796.20it/s]\n"
     ]
    },
    {
     "name": "stdout",
     "output_type": "stream",
     "text": [
      "Epoch: 129   Loss: 0.6270526051521301\n",
      "              precision    recall  f1-score   support\n",
      "\n",
      "           0       0.51      0.62      0.56     23478\n",
      "           1       0.47      0.27      0.34     23736\n",
      "           2       0.52      0.58      0.55     30573\n",
      "           3       0.66      0.90      0.76     26187\n",
      "           4       0.72      0.95      0.82     26961\n",
      "           5       0.53      0.35      0.42     25284\n",
      "           6       0.57      0.39      0.47     26187\n",
      "\n",
      "    accuracy                           0.59    182406\n",
      "   macro avg       0.57      0.58      0.56    182406\n",
      "weighted avg       0.57      0.59      0.56    182406\n",
      "\n"
     ]
    },
    {
     "name": "stderr",
     "output_type": "stream",
     "text": [
      "100%|██████████| 45/45 [00:00<00:00, 843.68it/s]"
     ]
    },
    {
     "name": "stdout",
     "output_type": "stream",
     "text": [
      "Epoch: 130   Loss: 0.6009644269943237\n"
     ]
    },
    {
     "name": "stderr",
     "output_type": "stream",
     "text": [
      "\n"
     ]
    },
    {
     "name": "stdout",
     "output_type": "stream",
     "text": [
      "              precision    recall  f1-score   support\n",
      "\n",
      "           0       0.51      0.62      0.56     23660\n",
      "           1       0.47      0.27      0.34     23920\n",
      "           2       0.52      0.58      0.55     30810\n",
      "           3       0.66      0.90      0.76     26390\n",
      "           4       0.72      0.95      0.82     27170\n",
      "           5       0.53      0.35      0.42     25480\n",
      "           6       0.58      0.40      0.47     26390\n",
      "\n",
      "    accuracy                           0.59    183820\n",
      "   macro avg       0.57      0.58      0.56    183820\n",
      "weighted avg       0.57      0.59      0.56    183820\n",
      "\n"
     ]
    },
    {
     "name": "stderr",
     "output_type": "stream",
     "text": [
      "100%|██████████| 45/45 [00:00<00:00, 823.29it/s]"
     ]
    },
    {
     "name": "stdout",
     "output_type": "stream",
     "text": [
      "Epoch: 131   Loss: 0.3881204426288605\n"
     ]
    },
    {
     "name": "stderr",
     "output_type": "stream",
     "text": [
      "\n"
     ]
    },
    {
     "name": "stdout",
     "output_type": "stream",
     "text": [
      "              precision    recall  f1-score   support\n",
      "\n",
      "           0       0.51      0.62      0.56     23842\n",
      "           1       0.47      0.27      0.34     24104\n",
      "           2       0.52      0.58      0.55     31047\n",
      "           3       0.66      0.90      0.76     26593\n",
      "           4       0.72      0.95      0.82     27379\n",
      "           5       0.53      0.35      0.42     25676\n",
      "           6       0.58      0.40      0.47     26593\n",
      "\n",
      "    accuracy                           0.59    185234\n",
      "   macro avg       0.57      0.58      0.56    185234\n",
      "weighted avg       0.57      0.59      0.57    185234\n",
      "\n"
     ]
    },
    {
     "name": "stderr",
     "output_type": "stream",
     "text": [
      "100%|██████████| 45/45 [00:00<00:00, 871.73it/s]"
     ]
    },
    {
     "name": "stdout",
     "output_type": "stream",
     "text": [
      "Epoch: 132   Loss: 0.5624322295188904\n"
     ]
    },
    {
     "name": "stderr",
     "output_type": "stream",
     "text": [
      "\n"
     ]
    },
    {
     "name": "stdout",
     "output_type": "stream",
     "text": [
      "              precision    recall  f1-score   support\n",
      "\n",
      "           0       0.51      0.62      0.56     24024\n",
      "           1       0.47      0.27      0.34     24288\n",
      "           2       0.52      0.58      0.55     31284\n",
      "           3       0.66      0.90      0.76     26796\n",
      "           4       0.72      0.95      0.82     27588\n",
      "           5       0.53      0.36      0.43     25872\n",
      "           6       0.58      0.40      0.47     26796\n",
      "\n",
      "    accuracy                           0.59    186648\n",
      "   macro avg       0.57      0.58      0.56    186648\n",
      "weighted avg       0.57      0.59      0.57    186648\n",
      "\n"
     ]
    },
    {
     "name": "stderr",
     "output_type": "stream",
     "text": [
      "100%|██████████| 45/45 [00:00<00:00, 853.08it/s]"
     ]
    },
    {
     "name": "stdout",
     "output_type": "stream",
     "text": [
      "Epoch: 133   Loss: 0.894967257976532\n"
     ]
    },
    {
     "name": "stderr",
     "output_type": "stream",
     "text": [
      "\n"
     ]
    },
    {
     "name": "stdout",
     "output_type": "stream",
     "text": [
      "              precision    recall  f1-score   support\n",
      "\n",
      "           0       0.51      0.62      0.56     24206\n",
      "           1       0.47      0.27      0.34     24472\n",
      "           2       0.52      0.59      0.55     31521\n",
      "           3       0.66      0.90      0.76     26999\n",
      "           4       0.72      0.95      0.82     27797\n",
      "           5       0.53      0.36      0.43     26068\n",
      "           6       0.58      0.40      0.47     26999\n",
      "\n",
      "    accuracy                           0.59    188062\n",
      "   macro avg       0.57      0.58      0.56    188062\n",
      "weighted avg       0.57      0.59      0.57    188062\n",
      "\n"
     ]
    },
    {
     "name": "stderr",
     "output_type": "stream",
     "text": [
      "100%|██████████| 45/45 [00:00<00:00, 804.62it/s]"
     ]
    },
    {
     "name": "stdout",
     "output_type": "stream",
     "text": [
      "Epoch: 134   Loss: 0.797641932964325\n"
     ]
    },
    {
     "name": "stderr",
     "output_type": "stream",
     "text": [
      "\n"
     ]
    },
    {
     "name": "stdout",
     "output_type": "stream",
     "text": [
      "              precision    recall  f1-score   support\n",
      "\n",
      "           0       0.51      0.62      0.56     24388\n",
      "           1       0.47      0.27      0.34     24656\n",
      "           2       0.53      0.59      0.55     31758\n",
      "           3       0.66      0.90      0.76     27202\n",
      "           4       0.72      0.95      0.82     28006\n",
      "           5       0.53      0.36      0.43     26264\n",
      "           6       0.58      0.40      0.47     27202\n",
      "\n",
      "    accuracy                           0.59    189476\n",
      "   macro avg       0.57      0.58      0.56    189476\n",
      "weighted avg       0.57      0.59      0.57    189476\n",
      "\n"
     ]
    },
    {
     "name": "stderr",
     "output_type": "stream",
     "text": [
      "100%|██████████| 45/45 [00:00<00:00, 984.51it/s]"
     ]
    },
    {
     "name": "stdout",
     "output_type": "stream",
     "text": [
      "Epoch: 135   Loss: 1.6290364265441895\n"
     ]
    },
    {
     "name": "stderr",
     "output_type": "stream",
     "text": [
      "\n"
     ]
    },
    {
     "name": "stdout",
     "output_type": "stream",
     "text": [
      "              precision    recall  f1-score   support\n",
      "\n",
      "           0       0.51      0.62      0.56     24570\n",
      "           1       0.47      0.27      0.35     24840\n",
      "           2       0.53      0.59      0.55     31995\n",
      "           3       0.66      0.90      0.76     27405\n",
      "           4       0.72      0.95      0.82     28215\n",
      "           5       0.53      0.36      0.43     26460\n",
      "           6       0.58      0.40      0.47     27405\n",
      "\n",
      "    accuracy                           0.59    190890\n",
      "   macro avg       0.57      0.58      0.56    190890\n",
      "weighted avg       0.57      0.59      0.57    190890\n",
      "\n"
     ]
    },
    {
     "name": "stderr",
     "output_type": "stream",
     "text": [
      "100%|██████████| 45/45 [00:00<00:00, 963.44it/s]"
     ]
    },
    {
     "name": "stdout",
     "output_type": "stream",
     "text": [
      "Epoch: 136   Loss: 0.3388451635837555\n"
     ]
    },
    {
     "name": "stderr",
     "output_type": "stream",
     "text": [
      "\n"
     ]
    },
    {
     "name": "stdout",
     "output_type": "stream",
     "text": [
      "              precision    recall  f1-score   support\n",
      "\n",
      "           0       0.51      0.62      0.56     24752\n",
      "           1       0.47      0.27      0.35     25024\n",
      "           2       0.53      0.59      0.56     32232\n",
      "           3       0.66      0.90      0.76     27608\n",
      "           4       0.72      0.95      0.82     28424\n",
      "           5       0.53      0.36      0.43     26656\n",
      "           6       0.58      0.40      0.48     27608\n",
      "\n",
      "    accuracy                           0.59    192304\n",
      "   macro avg       0.57      0.58      0.56    192304\n",
      "weighted avg       0.58      0.59      0.57    192304\n",
      "\n"
     ]
    },
    {
     "name": "stderr",
     "output_type": "stream",
     "text": [
      "100%|██████████| 45/45 [00:00<00:00, 964.18it/s]"
     ]
    },
    {
     "name": "stdout",
     "output_type": "stream",
     "text": [
      "Epoch: 137   Loss: 0.5094591379165649\n"
     ]
    },
    {
     "name": "stderr",
     "output_type": "stream",
     "text": [
      "\n"
     ]
    },
    {
     "name": "stdout",
     "output_type": "stream",
     "text": [
      "              precision    recall  f1-score   support\n",
      "\n",
      "           0       0.51      0.63      0.56     24934\n",
      "           1       0.47      0.27      0.35     25208\n",
      "           2       0.53      0.59      0.56     32469\n",
      "           3       0.67      0.90      0.76     27811\n",
      "           4       0.72      0.95      0.82     28633\n",
      "           5       0.53      0.36      0.43     26852\n",
      "           6       0.58      0.40      0.48     27811\n",
      "\n",
      "    accuracy                           0.59    193718\n",
      "   macro avg       0.57      0.59      0.57    193718\n",
      "weighted avg       0.58      0.59      0.57    193718\n",
      "\n"
     ]
    },
    {
     "name": "stderr",
     "output_type": "stream",
     "text": [
      "100%|██████████| 45/45 [00:00<00:00, 893.83it/s]"
     ]
    },
    {
     "name": "stdout",
     "output_type": "stream",
     "text": [
      "Epoch: 138   Loss: 0.966219425201416\n"
     ]
    },
    {
     "name": "stderr",
     "output_type": "stream",
     "text": [
      "\n"
     ]
    },
    {
     "name": "stdout",
     "output_type": "stream",
     "text": [
      "              precision    recall  f1-score   support\n",
      "\n",
      "           0       0.51      0.63      0.56     25116\n",
      "           1       0.47      0.27      0.35     25392\n",
      "           2       0.53      0.59      0.56     32706\n",
      "           3       0.67      0.90      0.76     28014\n",
      "           4       0.72      0.95      0.82     28842\n",
      "           5       0.53      0.36      0.43     27048\n",
      "           6       0.58      0.41      0.48     28014\n",
      "\n",
      "    accuracy                           0.59    195132\n",
      "   macro avg       0.57      0.59      0.57    195132\n",
      "weighted avg       0.58      0.59      0.57    195132\n",
      "\n"
     ]
    },
    {
     "name": "stderr",
     "output_type": "stream",
     "text": [
      "100%|██████████| 45/45 [00:00<00:00, 882.06it/s]"
     ]
    },
    {
     "name": "stdout",
     "output_type": "stream",
     "text": [
      "Epoch: 139   Loss: 1.2870992422103882\n"
     ]
    },
    {
     "name": "stderr",
     "output_type": "stream",
     "text": [
      "\n"
     ]
    },
    {
     "name": "stdout",
     "output_type": "stream",
     "text": [
      "              precision    recall  f1-score   support\n",
      "\n",
      "           0       0.51      0.63      0.56     25298\n",
      "           1       0.47      0.27      0.35     25576\n",
      "           2       0.53      0.59      0.56     32943\n",
      "           3       0.67      0.90      0.77     28217\n",
      "           4       0.72      0.95      0.82     29051\n",
      "           5       0.53      0.36      0.43     27244\n",
      "           6       0.58      0.41      0.48     28217\n",
      "\n",
      "    accuracy                           0.59    196546\n",
      "   macro avg       0.58      0.59      0.57    196546\n",
      "weighted avg       0.58      0.59      0.57    196546\n",
      "\n"
     ]
    },
    {
     "name": "stderr",
     "output_type": "stream",
     "text": [
      "100%|██████████| 45/45 [00:00<00:00, 915.77it/s]"
     ]
    },
    {
     "name": "stdout",
     "output_type": "stream",
     "text": [
      "Epoch: 140   Loss: 0.3044890761375427\n"
     ]
    },
    {
     "name": "stderr",
     "output_type": "stream",
     "text": [
      "\n"
     ]
    },
    {
     "name": "stdout",
     "output_type": "stream",
     "text": [
      "              precision    recall  f1-score   support\n",
      "\n",
      "           0       0.51      0.63      0.57     25480\n",
      "           1       0.47      0.28      0.35     25760\n",
      "           2       0.53      0.59      0.56     33180\n",
      "           3       0.67      0.90      0.77     28420\n",
      "           4       0.72      0.95      0.82     29260\n",
      "           5       0.54      0.37      0.43     27440\n",
      "           6       0.58      0.41      0.48     28420\n",
      "\n",
      "    accuracy                           0.59    197960\n",
      "   macro avg       0.58      0.59      0.57    197960\n",
      "weighted avg       0.58      0.59      0.57    197960\n",
      "\n"
     ]
    },
    {
     "name": "stderr",
     "output_type": "stream",
     "text": [
      "100%|██████████| 45/45 [00:00<00:00, 859.05it/s]"
     ]
    },
    {
     "name": "stdout",
     "output_type": "stream",
     "text": [
      "Epoch: 141   Loss: 0.58994060754776\n"
     ]
    },
    {
     "name": "stderr",
     "output_type": "stream",
     "text": [
      "\n"
     ]
    },
    {
     "name": "stdout",
     "output_type": "stream",
     "text": [
      "              precision    recall  f1-score   support\n",
      "\n",
      "           0       0.52      0.63      0.57     25662\n",
      "           1       0.48      0.28      0.35     25944\n",
      "           2       0.53      0.59      0.56     33417\n",
      "           3       0.67      0.90      0.77     28623\n",
      "           4       0.72      0.95      0.82     29469\n",
      "           5       0.54      0.37      0.44     27636\n",
      "           6       0.58      0.41      0.48     28623\n",
      "\n",
      "    accuracy                           0.59    199374\n",
      "   macro avg       0.58      0.59      0.57    199374\n",
      "weighted avg       0.58      0.59      0.57    199374\n",
      "\n"
     ]
    },
    {
     "name": "stderr",
     "output_type": "stream",
     "text": [
      "100%|██████████| 45/45 [00:00<00:00, 846.35it/s]"
     ]
    },
    {
     "name": "stdout",
     "output_type": "stream",
     "text": [
      "Epoch: 142   Loss: 1.0014506578445435\n"
     ]
    },
    {
     "name": "stderr",
     "output_type": "stream",
     "text": [
      "\n"
     ]
    },
    {
     "name": "stdout",
     "output_type": "stream",
     "text": [
      "              precision    recall  f1-score   support\n",
      "\n",
      "           0       0.52      0.63      0.57     25844\n",
      "           1       0.48      0.28      0.35     26128\n",
      "           2       0.53      0.59      0.56     33654\n",
      "           3       0.67      0.90      0.77     28826\n",
      "           4       0.73      0.95      0.82     29678\n",
      "           5       0.54      0.37      0.44     27832\n",
      "           6       0.58      0.41      0.48     28826\n",
      "\n",
      "    accuracy                           0.59    200788\n",
      "   macro avg       0.58      0.59      0.57    200788\n",
      "weighted avg       0.58      0.59      0.57    200788\n",
      "\n"
     ]
    },
    {
     "name": "stderr",
     "output_type": "stream",
     "text": [
      "100%|██████████| 45/45 [00:00<00:00, 823.59it/s]"
     ]
    },
    {
     "name": "stdout",
     "output_type": "stream",
     "text": [
      "Epoch: 143   Loss: 1.2859610319137573\n"
     ]
    },
    {
     "name": "stderr",
     "output_type": "stream",
     "text": [
      "\n"
     ]
    },
    {
     "name": "stdout",
     "output_type": "stream",
     "text": [
      "              precision    recall  f1-score   support\n",
      "\n",
      "           0       0.52      0.63      0.57     26026\n",
      "           1       0.48      0.28      0.35     26312\n",
      "           2       0.53      0.59      0.56     33891\n",
      "           3       0.67      0.90      0.77     29029\n",
      "           4       0.73      0.95      0.82     29887\n",
      "           5       0.54      0.37      0.44     28028\n",
      "           6       0.59      0.41      0.48     29029\n",
      "\n",
      "    accuracy                           0.60    202202\n",
      "   macro avg       0.58      0.59      0.57    202202\n",
      "weighted avg       0.58      0.60      0.57    202202\n",
      "\n"
     ]
    },
    {
     "name": "stderr",
     "output_type": "stream",
     "text": [
      "100%|██████████| 45/45 [00:00<00:00, 821.24it/s]\n"
     ]
    },
    {
     "name": "stdout",
     "output_type": "stream",
     "text": [
      "Epoch: 144   Loss: 0.4311814606189728\n",
      "              precision    recall  f1-score   support\n",
      "\n",
      "           0       0.52      0.63      0.57     26208\n",
      "           1       0.48      0.28      0.35     26496\n",
      "           2       0.53      0.59      0.56     34128\n",
      "           3       0.67      0.90      0.77     29232\n",
      "           4       0.73      0.95      0.82     30096\n",
      "           5       0.54      0.37      0.44     28224\n",
      "           6       0.59      0.41      0.48     29232\n",
      "\n",
      "    accuracy                           0.60    203616\n",
      "   macro avg       0.58      0.59      0.57    203616\n",
      "weighted avg       0.58      0.60      0.58    203616\n",
      "\n"
     ]
    },
    {
     "name": "stderr",
     "output_type": "stream",
     "text": [
      "100%|██████████| 45/45 [00:00<00:00, 714.28it/s]\n"
     ]
    },
    {
     "name": "stdout",
     "output_type": "stream",
     "text": [
      "Epoch: 145   Loss: 0.6792583465576172\n",
      "              precision    recall  f1-score   support\n",
      "\n",
      "           0       0.52      0.63      0.57     26390\n",
      "           1       0.48      0.28      0.35     26680\n",
      "           2       0.53      0.59      0.56     34365\n",
      "           3       0.67      0.90      0.77     29435\n",
      "           4       0.73      0.95      0.82     30305\n",
      "           5       0.54      0.37      0.44     28420\n",
      "           6       0.59      0.41      0.49     29435\n",
      "\n",
      "    accuracy                           0.60    205030\n",
      "   macro avg       0.58      0.59      0.57    205030\n",
      "weighted avg       0.58      0.60      0.58    205030\n",
      "\n"
     ]
    },
    {
     "name": "stderr",
     "output_type": "stream",
     "text": [
      "100%|██████████| 45/45 [00:00<00:00, 719.85it/s]\n"
     ]
    },
    {
     "name": "stdout",
     "output_type": "stream",
     "text": [
      "Epoch: 146   Loss: 0.9090814590454102\n",
      "              precision    recall  f1-score   support\n",
      "\n",
      "           0       0.52      0.63      0.57     26572\n",
      "           1       0.48      0.28      0.35     26864\n",
      "           2       0.54      0.59      0.56     34602\n",
      "           3       0.67      0.90      0.77     29638\n",
      "           4       0.73      0.95      0.82     30514\n",
      "           5       0.54      0.37      0.44     28616\n",
      "           6       0.59      0.42      0.49     29638\n",
      "\n",
      "    accuracy                           0.60    206444\n",
      "   macro avg       0.58      0.59      0.57    206444\n",
      "weighted avg       0.58      0.60      0.58    206444\n",
      "\n"
     ]
    },
    {
     "name": "stderr",
     "output_type": "stream",
     "text": [
      "100%|██████████| 45/45 [00:00<00:00, 765.33it/s]\n"
     ]
    },
    {
     "name": "stdout",
     "output_type": "stream",
     "text": [
      "Epoch: 147   Loss: 0.7087534070014954\n",
      "              precision    recall  f1-score   support\n",
      "\n",
      "           0       0.52      0.63      0.57     26754\n",
      "           1       0.48      0.28      0.35     27048\n",
      "           2       0.54      0.59      0.56     34839\n",
      "           3       0.67      0.90      0.77     29841\n",
      "           4       0.73      0.95      0.82     30723\n",
      "           5       0.54      0.37      0.44     28812\n",
      "           6       0.59      0.42      0.49     29841\n",
      "\n",
      "    accuracy                           0.60    207858\n",
      "   macro avg       0.58      0.59      0.57    207858\n",
      "weighted avg       0.58      0.60      0.58    207858\n",
      "\n"
     ]
    },
    {
     "name": "stderr",
     "output_type": "stream",
     "text": [
      "100%|██████████| 45/45 [00:00<00:00, 899.10it/s]\n"
     ]
    },
    {
     "name": "stdout",
     "output_type": "stream",
     "text": [
      "Epoch: 148   Loss: 0.6876642107963562\n",
      "              precision    recall  f1-score   support\n",
      "\n",
      "           0       0.52      0.63      0.57     26936\n",
      "           1       0.48      0.28      0.35     27232\n",
      "           2       0.54      0.59      0.56     35076\n",
      "           3       0.67      0.90      0.77     30044\n",
      "           4       0.73      0.95      0.82     30932\n",
      "           5       0.54      0.38      0.44     29008\n",
      "           6       0.59      0.42      0.49     30044\n",
      "\n",
      "    accuracy                           0.60    209272\n",
      "   macro avg       0.58      0.59      0.57    209272\n",
      "weighted avg       0.58      0.60      0.58    209272\n",
      "\n"
     ]
    },
    {
     "name": "stderr",
     "output_type": "stream",
     "text": [
      "100%|██████████| 45/45 [00:00<00:00, 902.95it/s]"
     ]
    },
    {
     "name": "stdout",
     "output_type": "stream",
     "text": [
      "Epoch: 149   Loss: 1.0077452659606934\n"
     ]
    },
    {
     "name": "stderr",
     "output_type": "stream",
     "text": [
      "\n"
     ]
    },
    {
     "name": "stdout",
     "output_type": "stream",
     "text": [
      "              precision    recall  f1-score   support\n",
      "\n",
      "           0       0.52      0.63      0.57     27118\n",
      "           1       0.48      0.28      0.36     27416\n",
      "           2       0.54      0.59      0.56     35313\n",
      "           3       0.67      0.90      0.77     30247\n",
      "           4       0.73      0.95      0.82     31141\n",
      "           5       0.54      0.38      0.44     29204\n",
      "           6       0.59      0.42      0.49     30247\n",
      "\n",
      "    accuracy                           0.60    210686\n",
      "   macro avg       0.58      0.59      0.57    210686\n",
      "weighted avg       0.58      0.60      0.58    210686\n",
      "\n"
     ]
    },
    {
     "name": "stderr",
     "output_type": "stream",
     "text": [
      "100%|██████████| 45/45 [00:00<00:00, 901.78it/s]\n"
     ]
    },
    {
     "name": "stdout",
     "output_type": "stream",
     "text": [
      "Epoch: 150   Loss: 0.346850723028183\n",
      "              precision    recall  f1-score   support\n",
      "\n",
      "           0       0.52      0.63      0.57     27300\n",
      "           1       0.48      0.28      0.36     27600\n",
      "           2       0.54      0.59      0.57     35550\n",
      "           3       0.67      0.90      0.77     30450\n",
      "           4       0.73      0.95      0.82     31350\n",
      "           5       0.54      0.38      0.45     29400\n",
      "           6       0.59      0.42      0.49     30450\n",
      "\n",
      "    accuracy                           0.60    212100\n",
      "   macro avg       0.58      0.59      0.57    212100\n",
      "weighted avg       0.58      0.60      0.58    212100\n",
      "\n"
     ]
    }
   ],
   "source": [
    "model.train()\n",
    "epochs = 200\n",
    "\n",
    "#optim = torch.optim.SGD(model.parameters(),lr = 0.1,momentum=.7)\n",
    "optim = torch.optim.AdamW(model.parameters(),lr = 0.001)\n",
    "loss_fn = torch.nn.CrossEntropyLoss()\n",
    "y_true = []\n",
    "y_pred = []\n",
    "\n",
    "for epoch in range(epochs):\n",
    "    loss_per_epoch = 0\n",
    "    for batch in tqdm(train_loader):\n",
    "        \n",
    "        inputs,labels = batch\n",
    "        optim.zero_grad()\n",
    "        \n",
    "        outputs = model(inputs.float())\n",
    "        loss    = loss_fn(outputs,labels)\n",
    "       \n",
    "        _,preds = torch.max(outputs.detach(),1)\n",
    "    \n",
    "        y_pred.extend(preds.detach().tolist())\n",
    "        y_true.extend(labels.detach().tolist())\n",
    "        loss.backward()\n",
    "        optim.step()\n",
    "        \n",
    "        loss_per_epoch = loss.item()\n",
    "    \n",
    "    print(f\"Epoch: {epoch + 1}   Loss: {loss_per_epoch}\")\n",
    "    print(classification_report(y_true,y_pred,zero_division=0))"
   ]
  },
  {
   "cell_type": "code",
   "execution_count": 46,
   "metadata": {},
   "outputs": [
    {
     "name": "stdout",
     "output_type": "stream",
     "text": [
      "Test Loss: 0.6612717509269714\n",
      "              precision    recall  f1-score   support\n",
      "\n",
      "           0       0.48      0.64      0.55        90\n",
      "           1       0.52      0.22      0.31       103\n",
      "           2       0.53      0.56      0.54       114\n",
      "           3       0.72      0.84      0.77        94\n",
      "           4       0.78      0.96      0.86       115\n",
      "           5       0.48      0.43      0.45        94\n",
      "           6       0.40      0.36      0.38        87\n",
      "\n",
      "    accuracy                           0.58       697\n",
      "   macro avg       0.56      0.57      0.55       697\n",
      "weighted avg       0.57      0.58      0.56       697\n",
      "\n"
     ]
    }
   ],
   "source": [
    "model.eval()\n",
    "y_true = []\n",
    "y_pred = []\n",
    "\n",
    "with torch.no_grad():\n",
    "    test_loss = 0\n",
    "    for batch in test_loader:\n",
    "        \n",
    "        inputs,labels = batch\n",
    "        outputs = model(inputs.float())\n",
    "        loss = loss_fn(outputs,labels)\n",
    "        test_loss = loss.item()\n",
    "        _,preds = torch.max(outputs.detach(),1)\n",
    "        y_pred.extend(preds.detach().tolist())\n",
    "        y_true.extend(labels.detach().tolist())\n",
    "\n",
    "    print(f\"Test Loss: {test_loss}\")\n",
    "    print(classification_report(y_true,y_pred,zero_division=0))\n",
    "    \n",
    "    "
   ]
  },
  {
   "cell_type": "code",
   "execution_count": 47,
   "metadata": {},
   "outputs": [],
   "source": [
    "dict = {0:0,1:0,2:0,3:0,4:0,5:0,6:0}\n",
    "\n",
    "for cls in y_train:\n",
    "\n",
    "    y = cls.item()\n",
    "\n",
    "    dict[y] += 1"
   ]
  },
  {
   "cell_type": "code",
   "execution_count": null,
   "metadata": {},
   "outputs": [],
   "source": [
    "\n",
    "\n"
   ]
  },
  {
   "cell_type": "code",
   "execution_count": null,
   "metadata": {},
   "outputs": [],
   "source": []
  },
  {
   "cell_type": "code",
   "execution_count": null,
   "metadata": {},
   "outputs": [],
   "source": []
  }
 ],
 "metadata": {
  "kernelspec": {
   "display_name": ".venv",
   "language": "python",
   "name": "python3"
  },
  "language_info": {
   "codemirror_mode": {
    "name": "ipython",
    "version": 3
   },
   "file_extension": ".py",
   "mimetype": "text/x-python",
   "name": "python",
   "nbconvert_exporter": "python",
   "pygments_lexer": "ipython3",
   "version": "3.11.11"
  }
 },
 "nbformat": 4,
 "nbformat_minor": 2
}
